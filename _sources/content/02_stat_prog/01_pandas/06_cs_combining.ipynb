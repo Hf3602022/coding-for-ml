{
 "cells": [
  {
   "cell_type": "markdown",
   "id": "fbc52b17-a149-4a8f-b81c-2ccb3dd411f2",
   "metadata": {},
   "source": [
    "# Case study: Combining multiple sources\n",
    "\n",
    "This case study will work with data taken from [NHS England's open diagnostic imaging dataset from 2019/20.](https://www.england.nhs.uk/statistics/statistical-work-areas/diagnostic-imaging-dataset/) \n",
    "\n",
    "**We will use three datasets**\n",
    "\n",
    "* Diagnostic imaging referrals by provider\n",
    "* Diagnostic imaging waiting times by provider\n",
    "* Diagnostic imaging report times by provider.\n",
    "\n",
    "We are only interested in the annual figures and will combine these into a single dataset.  The formatting in the datasets also has a few minor (and annoying) issues, including how missing data is stored, that we will need to sort out before we can combine.  The good news is that `pandas` makes this relatively painless.\n",
    "\n",
    "After the preprocessing we will create a subset of the data for the South West of England and save it to file.\n",
    "\n",
    "We will use method chaining to create and preprocess the various `DataFrames` we will use.\n",
    "\n",
    "> One area we can exploit here is that the datasets are ordered the same.  So the same provider and diagnostic imaging type appears in the same row across the datasets.  So the task is one of preprocessing and then **concatenation** by row. "
   ]
  },
  {
   "cell_type": "markdown",
   "id": "9870f290-95c8-4844-985e-82245a0b8ad3",
   "metadata": {},
   "source": [
    "## Imports"
   ]
  },
  {
   "cell_type": "code",
   "execution_count": 1,
   "id": "635b8441-39a5-43b4-ba6a-b21df7a671a7",
   "metadata": {},
   "outputs": [],
   "source": [
    "import pandas as pd\n",
    "import numpy as np"
   ]
  },
  {
   "cell_type": "markdown",
   "id": "d2135f4a-fd25-4aec-b59d-049fca4c2c70",
   "metadata": {},
   "source": [
    "## Helper functions\n",
    "\n",
    "As method chaining will be used and also that we need to limit the data extracted from each dataframe two helper functions will be created.  These accept a `DataFrame` as a parameter and returns a subset of columns.\n",
    "\n",
    "> In method chaining we will use these with the method `.pipe()`.  Don't worry all should become clear when you see the code."
   ]
  },
  {
   "cell_type": "code",
   "execution_count": 6,
   "id": "dc31cad9-77d7-4bee-b73e-3e2ba0da64bf",
   "metadata": {},
   "outputs": [],
   "source": [
    "def extract_index_plus_annual_column(df):\n",
    "    return df[['region', 'org_code', 'provider', 'imaging_type', 'n_referrals']]\n",
    "\n",
    "def extract_annual_column(df):\n",
    "    return df[[' Year ']]"
   ]
  },
  {
   "cell_type": "markdown",
   "id": "c8a641a3-e8c7-4937-a0c6-905e34333d54",
   "metadata": {},
   "source": [
    "## Data URLS"
   ]
  },
  {
   "cell_type": "code",
   "execution_count": 4,
   "id": "dfc90bc2-8e6f-4278-83c8-65e26e85e1a2",
   "metadata": {},
   "outputs": [],
   "source": [
    "NREFS_URL = 'https://raw.githubusercontent.com/health-data-science-OR' \\\n",
    "            + '/hpdm139-datasets/main/di_counts.csv'\n",
    "TEST_WAIT_URL = 'https://raw.githubusercontent.com/health-data-science-OR' \\\n",
    "                + '/hpdm139-datasets/main/di_rq_to_test.csv'\n",
    "REPT_WAIT_URL = 'https://raw.githubusercontent.com/health-data-science-OR' \\\n",
    "                + '/hpdm139-datasets/main/di_test_to_report.csv'\n"
   ]
  },
  {
   "cell_type": "markdown",
   "id": "aa243e85-8da4-4e32-bb9d-3ad7457df929",
   "metadata": {},
   "source": [
    "## A look at the individual datasets"
   ]
  },
  {
   "cell_type": "code",
   "execution_count": 24,
   "id": "bea3c40c-9e23-4503-a038-4cc8c8997988",
   "metadata": {},
   "outputs": [
    {
     "data": {
      "text/html": [
       "<div>\n",
       "<style scoped>\n",
       "    .dataframe tbody tr th:only-of-type {\n",
       "        vertical-align: middle;\n",
       "    }\n",
       "\n",
       "    .dataframe tbody tr th {\n",
       "        vertical-align: top;\n",
       "    }\n",
       "\n",
       "    .dataframe thead th {\n",
       "        text-align: right;\n",
       "    }\n",
       "</style>\n",
       "<table border=\"1\" class=\"dataframe\">\n",
       "  <thead>\n",
       "    <tr style=\"text-align: right;\">\n",
       "      <th></th>\n",
       "      <th>Region</th>\n",
       "      <th>Org Code</th>\n",
       "      <th>Provider name</th>\n",
       "      <th>Modality</th>\n",
       "      <th>Apr</th>\n",
       "      <th>May</th>\n",
       "      <th>Jun</th>\n",
       "      <th>Jul</th>\n",
       "      <th>Aug</th>\n",
       "      <th>Sep</th>\n",
       "      <th>Oct</th>\n",
       "      <th>Nov</th>\n",
       "      <th>Dec</th>\n",
       "      <th>Jan</th>\n",
       "      <th>Feb</th>\n",
       "      <th>Mar</th>\n",
       "      <th>Year</th>\n",
       "    </tr>\n",
       "  </thead>\n",
       "  <tbody>\n",
       "    <tr>\n",
       "      <th>0</th>\n",
       "      <td>Y56</td>\n",
       "      <td>NT9</td>\n",
       "      <td>Alliance Medical</td>\n",
       "      <td>Computerized Axial Tomography</td>\n",
       "      <td>495</td>\n",
       "      <td>440</td>\n",
       "      <td>495</td>\n",
       "      <td>445</td>\n",
       "      <td>400</td>\n",
       "      <td>400</td>\n",
       "      <td>475</td>\n",
       "      <td>425</td>\n",
       "      <td>390</td>\n",
       "      <td>450</td>\n",
       "      <td>420</td>\n",
       "      <td>310</td>\n",
       "      <td>5,145</td>\n",
       "    </tr>\n",
       "    <tr>\n",
       "      <th>1</th>\n",
       "      <td>Y56</td>\n",
       "      <td>NT9</td>\n",
       "      <td>Alliance Medical</td>\n",
       "      <td>Diagnostic Ultrasonography</td>\n",
       "      <td>155</td>\n",
       "      <td>170</td>\n",
       "      <td>120</td>\n",
       "      <td>225</td>\n",
       "      <td>265</td>\n",
       "      <td>220</td>\n",
       "      <td>215</td>\n",
       "      <td>255</td>\n",
       "      <td>230</td>\n",
       "      <td>260</td>\n",
       "      <td>240</td>\n",
       "      <td>135</td>\n",
       "      <td>2,495</td>\n",
       "    </tr>\n",
       "    <tr>\n",
       "      <th>2</th>\n",
       "      <td>Y56</td>\n",
       "      <td>NT9</td>\n",
       "      <td>Alliance Medical</td>\n",
       "      <td>Magnetic Resonance Imaging</td>\n",
       "      <td>1,480</td>\n",
       "      <td>1,480</td>\n",
       "      <td>1,365</td>\n",
       "      <td>1,520</td>\n",
       "      <td>1,530</td>\n",
       "      <td>1,485</td>\n",
       "      <td>1,645</td>\n",
       "      <td>1,575</td>\n",
       "      <td>1,515</td>\n",
       "      <td>1,870</td>\n",
       "      <td>1,755</td>\n",
       "      <td>1,515</td>\n",
       "      <td>18,740</td>\n",
       "    </tr>\n",
       "    <tr>\n",
       "      <th>3</th>\n",
       "      <td>Y56</td>\n",
       "      <td>NT9</td>\n",
       "      <td>Alliance Medical</td>\n",
       "      <td>Nuclear Medicine Procedure</td>\n",
       "      <td>.</td>\n",
       "      <td>.</td>\n",
       "      <td>.</td>\n",
       "      <td>.</td>\n",
       "      <td>.</td>\n",
       "      <td>.</td>\n",
       "      <td>.</td>\n",
       "      <td>.</td>\n",
       "      <td>.</td>\n",
       "      <td>*</td>\n",
       "      <td>.</td>\n",
       "      <td>.</td>\n",
       "      <td>*</td>\n",
       "    </tr>\n",
       "    <tr>\n",
       "      <th>4</th>\n",
       "      <td>Y56</td>\n",
       "      <td>NT9</td>\n",
       "      <td>Alliance Medical</td>\n",
       "      <td>Plain Radiography</td>\n",
       "      <td>65</td>\n",
       "      <td>105</td>\n",
       "      <td>60</td>\n",
       "      <td>75</td>\n",
       "      <td>85</td>\n",
       "      <td>135</td>\n",
       "      <td>105</td>\n",
       "      <td>65</td>\n",
       "      <td>75</td>\n",
       "      <td>100</td>\n",
       "      <td>85</td>\n",
       "      <td>45</td>\n",
       "      <td>990</td>\n",
       "    </tr>\n",
       "  </tbody>\n",
       "</table>\n",
       "</div>"
      ],
      "text/plain": [
       "  Region Org Code       Provider name                         Modality  \\\n",
       "0   Y56      NT9    Alliance Medical    Computerized Axial Tomography    \n",
       "1   Y56      NT9    Alliance Medical       Diagnostic Ultrasonography    \n",
       "2   Y56      NT9    Alliance Medical       Magnetic Resonance Imaging    \n",
       "3   Y56      NT9    Alliance Medical       Nuclear Medicine Procedure    \n",
       "4   Y56      NT9    Alliance Medical                Plain Radiography    \n",
       "\n",
       "      Apr      May      Jun      Jul      Aug      Sep      Oct      Nov   \\\n",
       "0     495      440      495      445      400      400      475      425    \n",
       "1     155      170      120      225      265      220      215      255    \n",
       "2   1,480    1,480    1,365    1,520    1,530    1,485    1,645    1,575    \n",
       "3       .        .        .        .        .        .        .        .    \n",
       "4      65      105       60       75       85      135      105       65    \n",
       "\n",
       "      Dec      Jan      Feb      Mar      Year   \n",
       "0     390      450      420      310     5,145   \n",
       "1     230      260      240      135     2,495   \n",
       "2   1,515    1,870    1,755    1,515    18,740   \n",
       "3       .        *        .        .         *   \n",
       "4      75      100       85       45       990   "
      ]
     },
     "execution_count": 24,
     "metadata": {},
     "output_type": "execute_result"
    }
   ],
   "source": [
    "n_refs = pd.read_csv(NREFS_URL)\n",
    "n_refs.head()"
   ]
  },
  {
   "cell_type": "markdown",
   "id": "24796eaf-1e4a-4497-b3f8-3ecac2323621",
   "metadata": {},
   "source": [
    "## Download and pre-processing code.\n",
    "\n",
    "### Number of referrals."
   ]
  },
  {
   "cell_type": "code",
   "execution_count": 10,
   "id": "222dbd7d-0eb2-4b12-aa46-91fbf8f5a9ea",
   "metadata": {},
   "outputs": [],
   "source": [
    "# organisation info and num referrals\n",
    "n_refs = (pd.read_csv(NREFS_URL)\n",
    "            .rename(columns={' Year ': 'n_referrals',\n",
    "                             'Region': 'region',\n",
    "                             'Org Code': 'org_code',\n",
    "                             'Provider name': 'provider',\n",
    "                             'Modality': 'imaging_type'})\n",
    "            # strip out white space\n",
    "            .assign(org_code=lambda x: x['org_code'].str.strip(),\n",
    "                    imaging_type=lambda x: x['imaging_type'].str.strip(),\n",
    "                    provider=lambda x: x['provider'].str.strip(),\n",
    "                    region=lambda x: x['region'].str.strip())\n",
    "            .pipe(extract_index_plus_annual_column)\n",
    "            .rename(columns={' Year ': 'n_referrals'})\n",
    "            .replace(['*', ' * '], np.nan)\n",
    "            .assign(n_referrals=lambda x: x['n_referrals'].str.strip())\n",
    "            .assign(n_referrals=lambda x: x['n_referrals'].str.replace(',', ''))\n",
    "            # deal with NaN -> to float and then nullable int (or keep float)\n",
    "            # NaN is a float.  Nullable int use pd.Int64Dtype()\n",
    "            .astype({'n_referrals': np.float})\n",
    "            .astype({'n_referrals': pd.Int32Dtype()})\n",
    "         )"
   ]
  },
  {
   "cell_type": "code",
   "execution_count": 13,
   "id": "6301ba5b-73e2-4468-8153-f4520f9df794",
   "metadata": {},
   "outputs": [
    {
     "data": {
      "text/html": [
       "<div>\n",
       "<style scoped>\n",
       "    .dataframe tbody tr th:only-of-type {\n",
       "        vertical-align: middle;\n",
       "    }\n",
       "\n",
       "    .dataframe tbody tr th {\n",
       "        vertical-align: top;\n",
       "    }\n",
       "\n",
       "    .dataframe thead th {\n",
       "        text-align: right;\n",
       "    }\n",
       "</style>\n",
       "<table border=\"1\" class=\"dataframe\">\n",
       "  <thead>\n",
       "    <tr style=\"text-align: right;\">\n",
       "      <th></th>\n",
       "      <th>region</th>\n",
       "      <th>org_code</th>\n",
       "      <th>provider</th>\n",
       "      <th>imaging_type</th>\n",
       "      <th>n_referrals</th>\n",
       "    </tr>\n",
       "  </thead>\n",
       "  <tbody>\n",
       "    <tr>\n",
       "      <th>0</th>\n",
       "      <td>Y56</td>\n",
       "      <td>NT9</td>\n",
       "      <td>Alliance Medical</td>\n",
       "      <td>Computerized Axial Tomography</td>\n",
       "      <td>5145</td>\n",
       "    </tr>\n",
       "    <tr>\n",
       "      <th>1</th>\n",
       "      <td>Y56</td>\n",
       "      <td>NT9</td>\n",
       "      <td>Alliance Medical</td>\n",
       "      <td>Diagnostic Ultrasonography</td>\n",
       "      <td>2495</td>\n",
       "    </tr>\n",
       "  </tbody>\n",
       "</table>\n",
       "</div>"
      ],
      "text/plain": [
       "  region org_code          provider                   imaging_type  \\\n",
       "0    Y56      NT9  Alliance Medical  Computerized Axial Tomography   \n",
       "1    Y56      NT9  Alliance Medical     Diagnostic Ultrasonography   \n",
       "\n",
       "   n_referrals  \n",
       "0         5145  \n",
       "1         2495  "
      ]
     },
     "execution_count": 13,
     "metadata": {},
     "output_type": "execute_result"
    }
   ],
   "source": [
    "n_refs.head(2)"
   ]
  },
  {
   "cell_type": "markdown",
   "id": "9c00fd72-c22f-427d-8bac-f1793efa70cc",
   "metadata": {},
   "source": [
    "### Request to diagnostic imaging."
   ]
  },
  {
   "cell_type": "code",
   "execution_count": 14,
   "id": "941298d3-3b20-48b9-9849-5800bb06aadd",
   "metadata": {},
   "outputs": [],
   "source": [
    "# days from request to imaging\n",
    "rtt = (pd.read_csv(TEST_WAIT_URL)\n",
    "         .pipe(extract_annual_column)\n",
    "         .rename(columns={' Year ': 'mdn_days_rtt'})\n",
    "         .replace(['*', ' * ', '.'], np.nan)\n",
    "         .astype({'mdn_days_rtt': np.float})\n",
    "        )"
   ]
  },
  {
   "cell_type": "code",
   "execution_count": 19,
   "id": "9d9d3252-52d0-4ae0-9486-c639de5f27a5",
   "metadata": {},
   "outputs": [
    {
     "data": {
      "text/html": [
       "<div>\n",
       "<style scoped>\n",
       "    .dataframe tbody tr th:only-of-type {\n",
       "        vertical-align: middle;\n",
       "    }\n",
       "\n",
       "    .dataframe tbody tr th {\n",
       "        vertical-align: top;\n",
       "    }\n",
       "\n",
       "    .dataframe thead th {\n",
       "        text-align: right;\n",
       "    }\n",
       "</style>\n",
       "<table border=\"1\" class=\"dataframe\">\n",
       "  <thead>\n",
       "    <tr style=\"text-align: right;\">\n",
       "      <th></th>\n",
       "      <th>mdn_days_rtt</th>\n",
       "    </tr>\n",
       "  </thead>\n",
       "  <tbody>\n",
       "    <tr>\n",
       "      <th>0</th>\n",
       "      <td>1.0</td>\n",
       "    </tr>\n",
       "    <tr>\n",
       "      <th>1</th>\n",
       "      <td>10.0</td>\n",
       "    </tr>\n",
       "  </tbody>\n",
       "</table>\n",
       "</div>"
      ],
      "text/plain": [
       "   mdn_days_rtt\n",
       "0           1.0\n",
       "1          10.0"
      ]
     },
     "execution_count": 19,
     "metadata": {},
     "output_type": "execute_result"
    }
   ],
   "source": [
    "rtt.head(2)"
   ]
  },
  {
   "cell_type": "markdown",
   "id": "403f88d5-8ef2-4ca4-bfd5-392a288a4cd5",
   "metadata": {},
   "source": [
    "### Imaging to reporting of results"
   ]
  },
  {
   "cell_type": "code",
   "execution_count": 16,
   "id": "bc519068-ea1d-4d6e-9b51-bafe160d2666",
   "metadata": {},
   "outputs": [],
   "source": [
    "# days from imaging to report\n",
    "ttr = (pd.read_csv(REPT_WAIT_URL)\n",
    "         .pipe(extract_annual_column)\n",
    "         .rename(columns={' Year ': 'mdn_days_ttr'})\n",
    "         .replace(['*', ' * ', '.'], np.nan)\n",
    "         .astype({'mdn_days_ttr': 'float'})\n",
    "      )"
   ]
  },
  {
   "cell_type": "code",
   "execution_count": 20,
   "id": "170369b7-9b6c-472f-a800-70de81438185",
   "metadata": {},
   "outputs": [
    {
     "data": {
      "text/html": [
       "<div>\n",
       "<style scoped>\n",
       "    .dataframe tbody tr th:only-of-type {\n",
       "        vertical-align: middle;\n",
       "    }\n",
       "\n",
       "    .dataframe tbody tr th {\n",
       "        vertical-align: top;\n",
       "    }\n",
       "\n",
       "    .dataframe thead th {\n",
       "        text-align: right;\n",
       "    }\n",
       "</style>\n",
       "<table border=\"1\" class=\"dataframe\">\n",
       "  <thead>\n",
       "    <tr style=\"text-align: right;\">\n",
       "      <th></th>\n",
       "      <th>mdn_days_ttr</th>\n",
       "    </tr>\n",
       "  </thead>\n",
       "  <tbody>\n",
       "    <tr>\n",
       "      <th>0</th>\n",
       "      <td>5.0</td>\n",
       "    </tr>\n",
       "    <tr>\n",
       "      <th>1</th>\n",
       "      <td>0.0</td>\n",
       "    </tr>\n",
       "  </tbody>\n",
       "</table>\n",
       "</div>"
      ],
      "text/plain": [
       "   mdn_days_ttr\n",
       "0           5.0\n",
       "1           0.0"
      ]
     },
     "execution_count": 20,
     "metadata": {},
     "output_type": "execute_result"
    }
   ],
   "source": [
    "ttr.head(2)"
   ]
  },
  {
   "cell_type": "markdown",
   "id": "f431fae5-ef4b-4815-9ffc-982172a82e34",
   "metadata": {},
   "source": [
    "## Combine the three sources"
   ]
  },
  {
   "cell_type": "code",
   "execution_count": 18,
   "id": "30101927-e1b9-43c6-aece-a140945f71e4",
   "metadata": {},
   "outputs": [
    {
     "data": {
      "text/html": [
       "<div>\n",
       "<style scoped>\n",
       "    .dataframe tbody tr th:only-of-type {\n",
       "        vertical-align: middle;\n",
       "    }\n",
       "\n",
       "    .dataframe tbody tr th {\n",
       "        vertical-align: top;\n",
       "    }\n",
       "\n",
       "    .dataframe thead th {\n",
       "        text-align: right;\n",
       "    }\n",
       "</style>\n",
       "<table border=\"1\" class=\"dataframe\">\n",
       "  <thead>\n",
       "    <tr style=\"text-align: right;\">\n",
       "      <th></th>\n",
       "      <th>region</th>\n",
       "      <th>org_code</th>\n",
       "      <th>provider</th>\n",
       "      <th>imaging_type</th>\n",
       "      <th>n_referrals</th>\n",
       "      <th>mdn_days_rtt</th>\n",
       "      <th>mdn_days_ttr</th>\n",
       "    </tr>\n",
       "  </thead>\n",
       "  <tbody>\n",
       "    <tr>\n",
       "      <th>0</th>\n",
       "      <td>Y56</td>\n",
       "      <td>NT9</td>\n",
       "      <td>Alliance Medical</td>\n",
       "      <td>Computerized Axial Tomography</td>\n",
       "      <td>5145</td>\n",
       "      <td>1.0</td>\n",
       "      <td>5.0</td>\n",
       "    </tr>\n",
       "    <tr>\n",
       "      <th>1</th>\n",
       "      <td>Y56</td>\n",
       "      <td>NT9</td>\n",
       "      <td>Alliance Medical</td>\n",
       "      <td>Diagnostic Ultrasonography</td>\n",
       "      <td>2495</td>\n",
       "      <td>10.0</td>\n",
       "      <td>0.0</td>\n",
       "    </tr>\n",
       "    <tr>\n",
       "      <th>2</th>\n",
       "      <td>Y56</td>\n",
       "      <td>NT9</td>\n",
       "      <td>Alliance Medical</td>\n",
       "      <td>Magnetic Resonance Imaging</td>\n",
       "      <td>18740</td>\n",
       "      <td>6.0</td>\n",
       "      <td>3.0</td>\n",
       "    </tr>\n",
       "    <tr>\n",
       "      <th>3</th>\n",
       "      <td>Y56</td>\n",
       "      <td>NT9</td>\n",
       "      <td>Alliance Medical</td>\n",
       "      <td>Nuclear Medicine Procedure</td>\n",
       "      <td>&lt;NA&gt;</td>\n",
       "      <td>NaN</td>\n",
       "      <td>NaN</td>\n",
       "    </tr>\n",
       "    <tr>\n",
       "      <th>4</th>\n",
       "      <td>Y56</td>\n",
       "      <td>NT9</td>\n",
       "      <td>Alliance Medical</td>\n",
       "      <td>Plain Radiography</td>\n",
       "      <td>990</td>\n",
       "      <td>50.0</td>\n",
       "      <td>NaN</td>\n",
       "    </tr>\n",
       "  </tbody>\n",
       "</table>\n",
       "</div>"
      ],
      "text/plain": [
       "  region org_code          provider                   imaging_type  \\\n",
       "0    Y56      NT9  Alliance Medical  Computerized Axial Tomography   \n",
       "1    Y56      NT9  Alliance Medical     Diagnostic Ultrasonography   \n",
       "2    Y56      NT9  Alliance Medical     Magnetic Resonance Imaging   \n",
       "3    Y56      NT9  Alliance Medical     Nuclear Medicine Procedure   \n",
       "4    Y56      NT9  Alliance Medical              Plain Radiography   \n",
       "\n",
       "   n_referrals  mdn_days_rtt  mdn_days_ttr  \n",
       "0         5145           1.0           5.0  \n",
       "1         2495          10.0           0.0  \n",
       "2        18740           6.0           3.0  \n",
       "3         <NA>           NaN           NaN  \n",
       "4          990          50.0           NaN  "
      ]
     },
     "execution_count": 18,
     "metadata": {},
     "output_type": "execute_result"
    }
   ],
   "source": [
    "# combined dataset\n",
    "imaging_df = pd.concat([counts, rtt, ttr], axis=1)\n",
    "imaging_df.head()"
   ]
  },
  {
   "cell_type": "code",
   "execution_count": 21,
   "id": "0cb392df-8e0b-49cf-b4b3-bbf46a1b63e0",
   "metadata": {},
   "outputs": [
    {
     "name": "stdout",
     "output_type": "stream",
     "text": [
      "<class 'pandas.core.frame.DataFrame'>\n",
      "RangeIndex: 1325 entries, 0 to 1324\n",
      "Data columns (total 7 columns):\n",
      " #   Column        Non-Null Count  Dtype  \n",
      "---  ------        --------------  -----  \n",
      " 0   region        1325 non-null   object \n",
      " 1   org_code      1325 non-null   object \n",
      " 2   provider      1325 non-null   object \n",
      " 3   imaging_type  1325 non-null   object \n",
      " 4   n_referrals   1303 non-null   Int32  \n",
      " 5   mdn_days_rtt  1273 non-null   float64\n",
      " 6   mdn_days_ttr  1281 non-null   float64\n",
      "dtypes: Int32(1), float64(2), object(4)\n",
      "memory usage: 68.7+ KB\n"
     ]
    }
   ],
   "source": [
    "imaging_df.info()"
   ]
  },
  {
   "cell_type": "code",
   "execution_count": 23,
   "id": "608dbe5e-380d-4a1b-b351-2d17ec3fe260",
   "metadata": {},
   "outputs": [
    {
     "data": {
      "text/plain": [
       "(1325, 7)"
      ]
     },
     "execution_count": 23,
     "metadata": {},
     "output_type": "execute_result"
    }
   ],
   "source": [
    "imaging_df.shape"
   ]
  },
  {
   "cell_type": "markdown",
   "id": "9171d199-e757-4850-a83c-ba712cc29471",
   "metadata": {},
   "source": [
    "## Create South West dataset"
   ]
  },
  {
   "cell_type": "code",
   "execution_count": 26,
   "id": "2961f3e5-48a3-4f0e-a0c7-c98f353e1ef1",
   "metadata": {},
   "outputs": [
    {
     "data": {
      "text/html": [
       "<div>\n",
       "<style scoped>\n",
       "    .dataframe tbody tr th:only-of-type {\n",
       "        vertical-align: middle;\n",
       "    }\n",
       "\n",
       "    .dataframe tbody tr th {\n",
       "        vertical-align: top;\n",
       "    }\n",
       "\n",
       "    .dataframe thead th {\n",
       "        text-align: right;\n",
       "    }\n",
       "</style>\n",
       "<table border=\"1\" class=\"dataframe\">\n",
       "  <thead>\n",
       "    <tr style=\"text-align: right;\">\n",
       "      <th></th>\n",
       "      <th>region</th>\n",
       "      <th>org_code</th>\n",
       "      <th>provider</th>\n",
       "      <th>imaging_type</th>\n",
       "      <th>n_referrals</th>\n",
       "      <th>mdn_days_rtt</th>\n",
       "      <th>mdn_days_ttr</th>\n",
       "    </tr>\n",
       "  </thead>\n",
       "  <tbody>\n",
       "    <tr>\n",
       "      <th>275</th>\n",
       "      <td>Y58</td>\n",
       "      <td>REF</td>\n",
       "      <td>Royal Cornwall Hospitals NHS Trust</td>\n",
       "      <td>Computerized Axial Tomography</td>\n",
       "      <td>46160</td>\n",
       "      <td>3.0</td>\n",
       "      <td>0.0</td>\n",
       "    </tr>\n",
       "    <tr>\n",
       "      <th>276</th>\n",
       "      <td>Y58</td>\n",
       "      <td>REF</td>\n",
       "      <td>Royal Cornwall Hospitals NHS Trust</td>\n",
       "      <td>Diagnostic Ultrasonography</td>\n",
       "      <td>72985</td>\n",
       "      <td>14.0</td>\n",
       "      <td>0.0</td>\n",
       "    </tr>\n",
       "    <tr>\n",
       "      <th>277</th>\n",
       "      <td>Y58</td>\n",
       "      <td>REF</td>\n",
       "      <td>Royal Cornwall Hospitals NHS Trust</td>\n",
       "      <td>Fluoroscopy</td>\n",
       "      <td>12320</td>\n",
       "      <td>0.0</td>\n",
       "      <td>0.0</td>\n",
       "    </tr>\n",
       "  </tbody>\n",
       "</table>\n",
       "</div>"
      ],
      "text/plain": [
       "    region org_code                            provider  \\\n",
       "275    Y58      REF  Royal Cornwall Hospitals NHS Trust   \n",
       "276    Y58      REF  Royal Cornwall Hospitals NHS Trust   \n",
       "277    Y58      REF  Royal Cornwall Hospitals NHS Trust   \n",
       "\n",
       "                      imaging_type  n_referrals  mdn_days_rtt  mdn_days_ttr  \n",
       "275  Computerized Axial Tomography        46160           3.0           0.0  \n",
       "276     Diagnostic Ultrasonography        72985          14.0           0.0  \n",
       "277                    Fluoroscopy        12320           0.0           0.0  "
      ]
     },
     "execution_count": 26,
     "metadata": {},
     "output_type": "execute_result"
    }
   ],
   "source": [
    "south_west = ['RB2', 'RK9', 'RA9', 'REF', 'RH8']\n",
    "sw_imaging = imaging_df[imaging_df['org_code'].isin(south_west)]\n",
    "sw_imaging.head(3)"
   ]
  },
  {
   "cell_type": "code",
   "execution_count": 27,
   "id": "03ddc59d-4e90-464d-acd7-43f8451b27f5",
   "metadata": {},
   "outputs": [
    {
     "data": {
      "text/plain": [
       "(31, 7)"
      ]
     },
     "execution_count": 27,
     "metadata": {},
     "output_type": "execute_result"
    }
   ],
   "source": [
    "sw_imaging.shape"
   ]
  },
  {
   "cell_type": "code",
   "execution_count": 28,
   "id": "2c725b6d-c381-43b5-9db6-72ea87697406",
   "metadata": {},
   "outputs": [],
   "source": [
    "sw_imaging.to_csv('sw_imaging.csv', index=False)"
   ]
  }
 ],
 "metadata": {
  "kernelspec": {
   "display_name": "Python 3 (ipykernel)",
   "language": "python",
   "name": "python3"
  },
  "language_info": {
   "codemirror_mode": {
    "name": "ipython",
    "version": 3
   },
   "file_extension": ".py",
   "mimetype": "text/x-python",
   "name": "python",
   "nbconvert_exporter": "python",
   "pygments_lexer": "ipython3",
   "version": "3.8.8"
  }
 },
 "nbformat": 4,
 "nbformat_minor": 5
}
