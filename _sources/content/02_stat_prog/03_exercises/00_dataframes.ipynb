{
 "cells": [
  {
   "cell_type": "markdown",
   "id": "12a9df87-a4c5-4a3f-ad43-c869f6f3cd85",
   "metadata": {},
   "source": [
    "# Working with a `pandas.Dataframe`\n",
    "\n",
    "These exercises and drills aim to build your experience of using an `pandas.DataFrame`.    Try to work through them all without looking at the answers first.\n",
    "\n",
    "<div class=\"alert alert-block alert-info\"><b>Tip:</b> Undoutedly in practice you will work with more complex examples and data than those found here.  These exercises are a very gentle introduction to the syntax of `pandas`.  But don't worry we have some more complicated data wrangling examples coming up!</div>\n",
    "\n",
    "---\n",
    "\n",
    "**Remember for any code where you wish to use `pandas` you need to import it.  We will also import `numpy` to help us generate some synthetic data to use.**"
   ]
  },
  {
   "cell_type": "code",
   "execution_count": 1,
   "id": "dc8a6987-14c5-45f0-b130-af6a3a4e86f6",
   "metadata": {},
   "outputs": [],
   "source": [
    "import pandas as pd\n",
    "import numpy as np"
   ]
  },
  {
   "cell_type": "markdown",
   "id": "9326af92-65d9-47fd-8f18-df6f757aa1b6",
   "metadata": {},
   "source": [
    "## Exercise 1\n",
    "\n",
    "**Task:**\n",
    "* Create a `pandas.Series` named \"number\" with numbers from 1 to 10,000 inclusive.  \n",
    "* The datatype of the series should be `np.uint32`     \n",
    "* Check the length of the `Series`\n",
    "* View the head and tail of the series to quickly validate your code has worked. \n",
    "    "
   ]
  },
  {
   "cell_type": "code",
   "execution_count": 2,
   "id": "ada5fda8-5b4d-4796-993a-79bb4738cd40",
   "metadata": {},
   "outputs": [],
   "source": [
    "# your code here ..."
   ]
  },
  {
   "cell_type": "markdown",
   "id": "0e2ecd4a-b3a4-4005-afa9-a1e0f6dd8ac9",
   "metadata": {},
   "source": [
    "## Exercise 2"
   ]
  },
  {
   "cell_type": "markdown",
   "id": "add621ce-92e9-41cf-9e95-22e2c687c8e1",
   "metadata": {},
   "source": [
    "**Task**:\n",
    "* Create a `pandas.DataFrame` with 5 rows and 5 columns.  \n",
    "* The data contained in each columns should all be of type int64.\n",
    "* Columns should be titled \"col_1\", \"col_2\" ... \"col_5\"\n",
    "* Check the datatype, shape and column names using `.info()`\n",
    "* View the `DataFrame`\n",
    "* View only the first 2 rows in the `DataFrame`\n",
    "* Create a new variable `col_4` of type `pandas.Series` that only the data in `col_4`\n",
    "\n",
    "**Hints**:\n",
    "* Data and can take any valid int64 value.\n",
    "* One option is to generate a random matrix using a `numpy.random.Generator`"
   ]
  },
  {
   "cell_type": "code",
   "execution_count": 3,
   "id": "ee5da19b-0d95-4ab7-9c20-a3a5f10624b2",
   "metadata": {},
   "outputs": [],
   "source": [
    "# your code here..."
   ]
  },
  {
   "cell_type": "markdown",
   "id": "2bf531d7-2962-4f50-ad5d-24f0bc97fe70",
   "metadata": {},
   "source": [
    "## Exercise 3:\n",
    "\n",
    "The data below represents outpatient bookings for a hospital.\n",
    "\n",
    "| unique_id   | surname   |   age | female   | first_appoint   |\n",
    "|:------------|:----------|------:|:---------|:----------------|\n",
    "| het1m       | Hetfield  |    50 | False    | False           |\n",
    "| ulr33f      | Ulrich    |    89 | True     | True            |\n",
    "| ham1f       | Hammett   |    32 | True     | True            |\n",
    "| tru4m       | Trujillo  |    65 | False    | True            |\n",
    "\n",
    "\n",
    "**Task:**\n",
    "\n",
    "* Using a method of your choice create a `pandas.DataFrame` that represents the patient bookings.\n",
    "* You should set the `DataFrame` index to be `unique_id` (assume it is unique)\n",
    "* Filter the dataset for just the `ham1f` booking\n",
    "* Filer the dataset for the 'tru4m' and 'ulr33f' bookings.\n"
   ]
  },
  {
   "cell_type": "code",
   "execution_count": 4,
   "id": "fc980c50-40f1-4c24-9318-8b9853519665",
   "metadata": {},
   "outputs": [],
   "source": [
    "# your code here ..."
   ]
  },
  {
   "cell_type": "markdown",
   "id": "61c5dd47-850f-4000-9678-7f88c1cc3437",
   "metadata": {},
   "source": [
    "## Exercise 4:\n",
    "\n",
    "The data contained in `sw_imaging.csv` is based on data taken from [NHS England's open diagnostic imaging dataset from 2019/20.](https://www.england.nhs.uk/statistics/statistical-work-areas/diagnostic-imaging-dataset/).  \n",
    "\n",
    "This subset contains information on the number of patients referred for imaging, the median waiting time for the imaging and the median waiting time between the imaging and the report.  Results are broken down by provider and imaging type. \n",
    "\n",
    "**Task:**\n",
    "\n",
    "* Read the CSV data into an appropriately named `DataFrame`(data URL provided below)\n",
    "* View the **information** about the `DataFrame`\n",
    "* View the **shape** of the `DataFrame`\n",
    "* View the first two rows in the `DataFrame`"
   ]
  },
  {
   "cell_type": "code",
   "execution_count": 5,
   "id": "8482e488-de5d-4c46-aa7e-998557a2a1aa",
   "metadata": {},
   "outputs": [],
   "source": [
    "# your code here...\n",
    "\n",
    "DATA_URL = 'https://raw.githubusercontent.com/health-data-science-OR/' \\\n",
    "            + 'hpdm139-datasets/main/sw_imaging.csv'"
   ]
  },
  {
   "cell_type": "markdown",
   "id": "142bfce1-2562-4146-be1e-bc20d9a4d73b",
   "metadata": {},
   "source": [
    "## Exercise 5:\n",
    "\n",
    "Continue to work with the South West imaging dataset from **exercise 4.**\n",
    "\n",
    "**Task:**\n",
    "\n",
    "* Filter the `DataFrame` to only show results for \"Magnetic Resonance Imaging\"\n",
    "* Filter the `DataFrame` to only show results for  \"Computerized Axial Tomography\"\n",
    "* Filter the `DataFrame` to only show results for the \"Royal Devon and Exeter NHS Foundation Trust\"\n",
    "* Filer the `DataFrame` to only show results for \"Magnetic Resonance Imaging\" at the \"Royal Devon and Exeter NHS Foundation Trust\"\n",
    "\n",
    "**Hints:**\n",
    "* The type of imaging is a `str` held in the column `imaging_type`\n",
    "* The provider of the imaging is a `str` held in the column `provider`\n",
    "* The final filter is a bit more tricky to get right first time.   Let's assume you need to find \"Diagnostic Ultrasonography\" figures for `org_code` \"RK9\".  This would be solved as follows:\n",
    "\n",
    "```python\n",
    "# assume your `DataFrame` is called sw_imaging\n",
    "sw_imaging[(sw_imaging['org_code'] == 'RK9') &\n",
    "           (sw_imaging['imaging_type'] == 'Diagnostic Ultrasonography')]\n",
    "```"
   ]
  },
  {
   "cell_type": "code",
   "execution_count": 6,
   "id": "4d8dd3e3-99c6-4029-a2db-96360defa120",
   "metadata": {},
   "outputs": [],
   "source": [
    "# your code here ..."
   ]
  },
  {
   "cell_type": "markdown",
   "id": "ec747b54-ddcf-4f9e-aa03-e698f2a17fac",
   "metadata": {},
   "source": [
    "## Exercise 6:\n",
    "\n",
    "Continue to work with the South West imaging dataset from **exercise 4.**\n",
    "\n",
    "We will now look at combining both a logical **and** with a logical **or** when selecting rows from a `DataFrame`.\n",
    "\n",
    "**Task:**\n",
    "* Filter the `DataFrame` to return both Magnetic Resonance Imaging and Computerized Axial Tomography undertaken at `org_code`='REF' (cornwall)\n",
    "\n",
    "**Hints**:\n",
    "* Think carefully about how to express the above task logically.\n",
    "    * You need results when the `(org_code == <code>) AND ((imaging_type == <type_1>) OR (imaging_type == <type_2>))`\n",
    "* In `pandas` logical AND is represented by `&` and OR by `|`"
   ]
  },
  {
   "cell_type": "code",
   "execution_count": 7,
   "id": "51e6be51-e942-4887-947d-26e3cae45404",
   "metadata": {},
   "outputs": [],
   "source": [
    "# your code here ..."
   ]
  },
  {
   "cell_type": "markdown",
   "id": "6656ab79-33aa-4b95-9d1d-abeb1d26c448",
   "metadata": {},
   "source": [
    "## Exercise 7\n",
    "\n",
    "Continue to work with the South West imaging dataset from **exercise 4.**\n",
    "\n",
    "**Task**:\n",
    "\n",
    "* Filter the data set for all records where `n_referrals` is greater than 100,000\n",
    "* Filter the results for all records where `mdn_days_rtt` is greater than 30"
   ]
  },
  {
   "cell_type": "code",
   "execution_count": 8,
   "id": "517d8c46-17d8-4134-8554-df57c58b03a7",
   "metadata": {},
   "outputs": [],
   "source": [
    "# your code here ..."
   ]
  },
  {
   "cell_type": "markdown",
   "id": "90060400-7fc2-4c72-aeb2-2229d537fbe3",
   "metadata": {},
   "source": [
    "## Exercise 8\n",
    "\n",
    "Continue to work with the South West imaging dataset from **exercise 4.**\n",
    "\n",
    "**Task**:\n",
    "* What is the total number of imaging referrals made to each trust?\n",
    "* Save the total number of referrals to a file called `total_referrals.csv`\n",
    "* Write code to return the `provider` with the highest number of referrals.\n",
    "\n",
    "**Hints:**\n",
    "\n",
    "To solve the first part of this exercise you can make use of a `DataFrame` method called `groupby()`.  This will allow you to group results by `provider`.  For example: \n",
    "\n",
    "```python\n",
    "sw_imaging.groupby(by='provider')\n",
    "```\n",
    "\n",
    "This code returns  `DataFrameGroupby` object.  You can then **limit it** to a specific column like so.\n",
    "\n",
    "```python\n",
    "# This is a `SeriesGroupBy` object\n",
    "sw_imaging.groupby(by='provider')['n_referrals']\n",
    "```\n",
    "\n",
    "You can then use on of the standard `pandas` statistical operations on group by object to return a `Series`. For example, `.sum()`, or `.mean()`\n",
    "\n",
    "```python\n",
    "# returns a `Series` containing your group by results summed.\n",
    "sw_imaging.groupby(by='provider')['n_referrals'].sum()\n",
    "```\n",
    "\n",
    "> Groupby is a very powerful feature of `pandas`. Full documentation is [here](https://pandas.pydata.org/pandas-docs/stable/reference/api/pandas.DataFrame.groupby.html) "
   ]
  },
  {
   "cell_type": "code",
   "execution_count": 9,
   "id": "ee3af977-ff08-4f4f-80b0-346d3893773a",
   "metadata": {},
   "outputs": [],
   "source": [
    "# your code here ..."
   ]
  }
 ],
 "metadata": {
  "kernelspec": {
   "display_name": "Python 3 (ipykernel)",
   "language": "python",
   "name": "python3"
  },
  "language_info": {
   "codemirror_mode": {
    "name": "ipython",
    "version": 3
   },
   "file_extension": ".py",
   "mimetype": "text/x-python",
   "name": "python",
   "nbconvert_exporter": "python",
   "pygments_lexer": "ipython3",
   "version": "3.8.8"
  }
 },
 "nbformat": 4,
 "nbformat_minor": 5
}
