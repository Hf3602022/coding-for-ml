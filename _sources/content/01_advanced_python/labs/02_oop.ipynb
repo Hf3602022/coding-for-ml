{
 "cells": [
  {
   "cell_type": "markdown",
   "id": "olympic-doubt",
   "metadata": {},
   "source": [
    "# OOP: A computer simulation example\n",
    "\n",
    "As you have learned, Python is an **Object Orientated Progamming (OOP) language**.  We can follow the standard paradigm of OOP in python by creating **classes** and then instantiating an instance of the class called an **object**.  A class offers a higher level of abstraction for your code than functions alone.  One of the key benefits for data science is that you can design your algorithms to be resuable and composed from multiple classes. \n",
    "\n",
    "**In this section you will learn:**\n",
    "* How to do define a class in Python\n",
    "* Apply basic object orientated techniques to build an agent based simulation.\n",
    "\n",
    "> To help visualise our problem we are going to use a package called **MatPlotLib**.  We will cover this in detail later, but for now you just need to know that it allows us to create charts from our data.  The code is provided.\n",
    "---"
   ]
  },
  {
   "cell_type": "markdown",
   "id": "laughing-machinery",
   "metadata": {},
   "source": [
    "## Coding Problem: 'Oh data scientists - can't you all just get along!'\n",
    "\n",
    "To learn the basics of OOP you will create an **Agent Based Simulation** (ABS).  ABS is a popular methodology in data science for modelling emergent behaviour when a group of simple **agents** interact with each other within an **environment**.  Agents can be thought of an object with state and behaviour.  That lends itself nicely to the concept of a class from OOP. The concept of emergence is important in ABS as we are not coding the outcome of the modelling.  We are instead coding some behavioural interaction rules between the agents and exploring what happens when we run the model and set the agents loose.\n",
    "\n",
    "> A full treatment ABS is out of scope for this course, but it is used a lot in health data science. You may have seen a number of ABS models used to model the epidemiology of COVID-19.\n",
    "\n",
    "**Here's a description of our problem:**\n",
    "\n",
    "* Data scientists live in a 2 dimensional gridword. That is a (n X m) grid of cells.  Each cell can only be inhabited by a single data scientist.\n",
    "* In grid world data scientists either favour Python or R. \n",
    "* A Data Scientist has a similarity threshold where they desire a % of their neighbours to code in their favourite language too!  \n",
    "* If the agents neighbours are not similar enough the data scientist becomes unhappy and moves to a random empty location in the world!\n",
    "* The simulation will run for a maximum number of iterations.  If all agents are happy in any iteration then the simulation terminates early.\n",
    "* Agents make decisions about moving based on the state of the environment in the current iteration.  That is they have no knowledge if other data scientists are happy or unhappy.\n",
    "\n",
    "> This problem is actually a classic ABS modelling study by Schelling that studied the dynamics of segregation in populations."
   ]
  },
  {
   "cell_type": "markdown",
   "id": "bound-architecture",
   "metadata": {},
   "source": [
    "## Designing your code\n",
    "\n",
    "Before you write any code take a momemt to think about what the basic class structure of your code might look like.\n",
    "\n",
    "### Agents\n",
    "\n",
    "The most obvious class we could include represents an **Agent**.  In some applications, you may want multiple types of agent class, but here their general behaviour is the same i.e. they become unhappy when they are not surrounded by enough of their fellow coding peers.  So here we you can simply define a single agent class and give it the attribute `language` of type `str` that determines the agents preference for Python or R.\n",
    "\n",
    "Remember that in the simulation we will be creating multiple objects of type `DataScientist`.  This is your **population**.  The skeleton code for `DataScientist`.  \n",
    "\n",
    "> Reminder: we have overloaded the `__init__()` method when creating an instance of `DataScientist`.  This is used to **parameterise** the agent.  Here we pass in a unique id, the coordinates in gridworld, the prefered coding language, the environment and the similarity threshold.\n",
    "\n",
    "The method `is_unsatisified_with_neighbours` returns `True` when an agent is unhappy with similarity of its neighbours in a grid."
   ]
  },
  {
   "cell_type": "code",
   "execution_count": 9,
   "id": "automated-meaning",
   "metadata": {},
   "outputs": [],
   "source": [
    "class DataScientist:\n",
    "    def __init__(self, unqiue_id, row, col, language, env, threshold):\n",
    "        pass\n",
    "    \n",
    "    def is_unsatisified_with_neighbours(self):\n",
    "        pass"
   ]
  },
  {
   "cell_type": "markdown",
   "id": "limited-network",
   "metadata": {},
   "source": [
    "### Environment \n",
    "\n",
    "After agents the decision making about what classes to include becomes a bit more fuzzy.  You could code the whole simulation to work with a single agent class and complete the rest using functions.  However, an environment object is a useful level of abstraction when creating a framework for running your model.  The code will also be much more readable.  Another benefit is that in a more complicated problem you might need to include multiple environments type classes (e.g. hospitals containing agents).\n",
    "\n",
    "Here you will define a class called `GridWorld` that contains a population of `DataScientist` objects.  We will take a look how these agents are stored internally shortly.\n",
    "\n"
   ]
  },
  {
   "cell_type": "code",
   "execution_count": 5,
   "id": "single-burst",
   "metadata": {},
   "outputs": [],
   "source": [
    "class GridWorld:\n",
    "    def __init__(self, n_rows, n_cols, n_empty, random_seed=None):\n",
    "        pass\n",
    "    \n",
    "    def get_neighbours(self, row, col):\n",
    "        pass\n",
    "    \n",
    "    def relocate(self, agent):\n",
    "        pass"
   ]
  },
  {
   "cell_type": "markdown",
   "id": "circular-registrar",
   "metadata": {},
   "source": [
    "### The main loop\n",
    "\n",
    "The simulation consists of a main loop that either runs for a maximum number of iterations or terminates early if all agents are happy.  Again you could just implement this as a function.  However, you may want to explore multiple **scenarios** with the model.  A scenario for example might explore a different similarity thresholds or ration of 'Python' coders to 'R' coders (for example what happens in a world where all all coders use Python and none use R!?).  For this reason you will create a simple `Model` class.  This will include a `run()` method that will start the main loop and the simulation. \n"
   ]
  },
  {
   "cell_type": "code",
   "execution_count": 7,
   "id": "exclusive-might",
   "metadata": {},
   "outputs": [],
   "source": [
    "class Model:\n",
    "    def __init__(self, environment, max_iter):\n",
    "        pass\n",
    "    \n",
    "    def run(self):\n",
    "        pass"
   ]
  },
  {
   "cell_type": "markdown",
   "id": "worse-reviewer",
   "metadata": {},
   "source": [
    "## Coding the ABS using OOP techniques"
   ]
  },
  {
   "cell_type": "markdown",
   "id": "minute-mailman",
   "metadata": {},
   "source": [
    "### Imports\n",
    "\n",
    "You will mostly be using standard python in this example, but you will also make use of the following classes:\n",
    "\n",
    "* `itertools`: we will use the `product` function to help use quickly generate a large number of coordinate pairs.\n",
    "* `random`: the movement of agents in gridworld is stochastic.  We use the the `choice` function to select a random location for movement of unhappy agents.\n",
    "* `time`: for fun we will time our code to see how long it take to execute a model (using the imaginitiviely titled `time.time()` function.)\n",
    "* `matplolib.pyplot`: used to plot a gridworld.  We will use circles of different colours to represent agents."
   ]
  },
  {
   "cell_type": "code",
   "execution_count": null,
   "id": "unlike-corps",
   "metadata": {},
   "outputs": [],
   "source": [
    "import itertools\n",
    "import random\n",
    "import time\n",
    "import matplotlib.pyplot as plt"
   ]
  },
  {
   "cell_type": "markdown",
   "id": "sunset-shade",
   "metadata": {},
   "source": [
    "### Constants and default parameter values"
   ]
  },
  {
   "cell_type": "code",
   "execution_count": 2,
   "id": "durable-england",
   "metadata": {},
   "outputs": [],
   "source": [
    "# grid defaults\n",
    "N_ROWS = 32\n",
    "N_COLS = 32\n",
    "N_CELLS = N_ROWS * N_COLS\n",
    "\n",
    "# coder language constants\n",
    "LANG_PYTHON = 'PYTHON'\n",
    "LANG_R = 'R'\n",
    "\n",
    "# default simulation parameters\n",
    "RATIO_R_TO_PYTHON = 0.3\n",
    "PERCENT_EMPTY = 0.2\n",
    "SIMILARITY_THRESHOLD = 0.3\n",
    "MAX_ITER = 500"
   ]
  },
  {
   "cell_type": "markdown",
   "id": "chief-penalty",
   "metadata": {},
   "source": [
    "## The `DataScientist` class\n",
    "\n",
    "When creating a new `DataScientist` we will use the following syntax\n",
    "\n",
    "```python\n",
    "# create an new data scientist agent that prefers python\n",
    "agent = DataScientist(unique_id=1, row=0, col=0, language=LANG_PYTHON, \n",
    "                      env=grid_env, threshold=SIMILARITY_THRESHOLD)\n",
    "```\n",
    "\n",
    "> In the above code snippet `grid_env` is an instance of the `GridWorld` class that an agent lives and interacts with other agents.\n",
    "\n",
    "As you have already learned `agent` is an instance of the class `DataScientist`.  At this stage all the code has done is parameterise the agent and position it in the grid environment.  The code below demonstrates how you would store these parameters as class attributes using `self`.  \n",
    "\n",
    "```python\n",
    "class DataScientist:\n",
    "    def __init__(self, unqiue_id, row, col, language, env,\n",
    "                 threshold=SIMILARITY_THRESHOLD):\n",
    "        # store the class attributes\n",
    "        self.unique_id = unique_id\n",
    "        self.row = row\n",
    "        self.col = col\n",
    "        self.language = language\n",
    "        self.env = env\n",
    "        self.threshold = threshold\n",
    "        \n",
    "        \n",
    "    def is_unsatisified_with_neighbours(self):\n",
    "        pass\n",
    "```\n",
    "\n",
    "The only public method that `DataScientist` makes available is `is_unsatisified_with_neighbours()`.  For the agent to makes its decision it must first gather its neighbours.  This can be done by calling `GridWorld.get_neighbours(row, col)`.  A `DataScientist` agent contains the attribute `self.env` which is a reference to the grid world.  You can therefore access the agent's neighbours like so:\n",
    "\n",
    "```python\n",
    "neighbours = self.env.get_neighbours(self.row, self.col)\n",
    "```\n",
    "\n",
    "We haven't implemented the `GridWorld` class yet, but for now you can note that `get_neighbours` returns a `list` of `DataScientist` objects that live in the neighbouring cells to the agent. Note this list is of variable length and depending on the number of empty cells next to an agent. From here is straightforward to calculate the percentage of neighbours that use the same coding language.  As an example code could:\n",
    "\n",
    "* Calculate the number of neighbours by taking the `len` of the returned list.\n",
    "* Calculate the number of similar neighbours using a loop or list comprehension.\n",
    "* Check for the special case where the number of neighbours is zero and return False.\n",
    "* Calculate the proportion of similar neighbours and check if this is less than the agent's similarity threshold.\n",
    "\n"
   ]
  },
  {
   "cell_type": "code",
   "execution_count": null,
   "id": "german-accident",
   "metadata": {},
   "outputs": [],
   "source": [
    "class DataScientist:\n",
    "    def __init__(self, unqiue_id, row, col, language, env,\n",
    "                 threshold=SIMILARITY_THRESHOLD):\n",
    "        self.unique_id = unique_id\n",
    "        self.row = row\n",
    "        self.col = col\n",
    "        self.language = language\n",
    "        self.env = env\n",
    "        self.threshold = threshold\n",
    "        \n",
    "        \n",
    "    def is_unsatisified_with_neighbours(self):\n",
    "        pass"
   ]
  },
  {
   "cell_type": "code",
   "execution_count": null,
   "id": "optimum-reserve",
   "metadata": {},
   "outputs": [],
   "source": [
    "class DataScientist:\n",
    "    def __init__(self, unqiue_id, row, col, language, env,\n",
    "                 threshold):\n",
    "        pass\n",
    "    \n",
    "    def is_unsatisified_with_neighbours(self):\n",
    "        pass"
   ]
  }
 ],
 "metadata": {
  "kernelspec": {
   "display_name": "Python 3",
   "language": "python",
   "name": "python3"
  },
  "language_info": {
   "codemirror_mode": {
    "name": "ipython",
    "version": 3
   },
   "file_extension": ".py",
   "mimetype": "text/x-python",
   "name": "python",
   "nbconvert_exporter": "python",
   "pygments_lexer": "ipython3",
   "version": "3.8.8"
  }
 },
 "nbformat": 4,
 "nbformat_minor": 5
}
