{
 "cells": [
  {
   "cell_type": "markdown",
   "id": "8e3691f5-4acc-4d17-b4aa-f1e90a72c461",
   "metadata": {},
   "source": [
    "# Case study 3: online statistics\n",
    "## A cautionary tale.\n",
    "\n",
    "In many computational modelling procedures you will need an updated estimate of statistics as the code executes. For example, you may need to track a mean or a standard deviation of a performance measure in a multi-stage algorithm or as a simulation model of a healthcare system executes. \n",
    "\n",
    "As we have seen `numpy` provides highly efficient functions for calculating a mean or standard deviation based on data held in an array.  I'm always tempted to make use of these built in procedures. They are indeed fast and incredibly easy to use.  The downside is that you waste computation via repeated iteration over an array.  The other option, that requires more careful thought (due to floating point issues), is a running estimate of your statistics.  In general, I've implemented such procedures  in standard python.  Let's look at an example where we compare recalculation using a `numpy` function with a running (sometimes called an 'online') calculation of the mean and standard deviation in standard python.\n",
    "\n",
    "We will first refactor `AttendanceSummary` from {doc}`./05_statistics` to an `OnlineSummary` class to include an `update()` function.  It will accept a `np.ndarray` that recalculates the **sample** mean and standard deviation using a `numpy` on the full data set.  The function `test_complete_recalculation` iteratively calls `update` using more data each time.  For simplicities sake we will reuse the data contained within `ed_data`.\n",
    "\n",
    "```{admonition} Wait a minute!\n",
    "This chapter is about scientific coding in `numpy`, but this case study is demonstrating that standard python is more efficient!  Well not quite.  The overall theme of this part of the book is that code is a first class citizen in health data science. You should always think about the design of your code in any algorithms or models you implement.  This case study is demonstrating that there may be instances where a `numpy` solution is not the most efficient.\n",
    "```\n"
   ]
  },
  {
   "cell_type": "markdown",
   "id": "ef0392d7-ceff-4203-9d70-798682141934",
   "metadata": {},
   "source": [
    "## Imports"
   ]
  },
  {
   "cell_type": "code",
   "execution_count": 1,
   "id": "90ce4826-6837-44dd-8028-0fa7be062f6a",
   "metadata": {},
   "outputs": [],
   "source": [
    "import numpy as np"
   ]
  },
  {
   "cell_type": "markdown",
   "id": "95a8dab9-72b9-417b-868a-9495da45fe67",
   "metadata": {},
   "source": [
    "## Data"
   ]
  },
  {
   "cell_type": "code",
   "execution_count": 2,
   "id": "eefc5674-ff4e-4276-b37d-01ff7059ffe8",
   "metadata": {},
   "outputs": [
    {
     "name": "stdout",
     "output_type": "stream",
     "text": [
      "(74,)\n"
     ]
    }
   ],
   "source": [
    "file_name = 'data/minor_illness_ed_attends.csv'\n",
    "ed_data = np.loadtxt(file_name, skiprows=1, delimiter=',')\n",
    "print(ed_data.shape)"
   ]
  },
  {
   "cell_type": "markdown",
   "id": "84369922-083e-4823-bc9c-68844211baae",
   "metadata": {},
   "source": [
    "## `numpy` solution"
   ]
  },
  {
   "cell_type": "code",
   "execution_count": 3,
   "id": "7c75e48a-2175-478a-abc4-4d1edb7a7857",
   "metadata": {},
   "outputs": [],
   "source": [
    "class OnlineSummary:\n",
    "    \n",
    "    def __init__(self, data=None, decimal_places=2):\n",
    "        \"\"\"\n",
    "        Track online statistics of mean and standard deviation.\n",
    "\n",
    "        Params:\n",
    "        -------\n",
    "        data: np.ndarray, optional (default = None) \n",
    "            Contains an initial data sample.\n",
    "            \n",
    "        decimal_places: int, optional (default=2)\n",
    "            Summary decimal places.\n",
    "        \"\"\"\n",
    "        if isinstance(data, np.ndarray):\n",
    "            self.n = len(data)\n",
    "            self.mean = data.mean()\n",
    "            self.std = data.std(ddof=1)\n",
    "        else:\n",
    "            self.n = 0\n",
    "            self.mean = None\n",
    "            self.std = None\n",
    "            \n",
    "        self.dp = decimal_places\n",
    "        \n",
    "    def update(self, data):\n",
    "        '''\n",
    "        Update the mean and standard deviation using complete recalculation.\n",
    "        \n",
    "        Params:\n",
    "        ------\n",
    "        data: np.ndarray\n",
    "            Vector of data\n",
    "        '''\n",
    "        self.n = len(data)\n",
    "        \n",
    "        # update the mean and std. Easy!\n",
    "        self.mean = data.mean()\n",
    "        self.std = data.std(ddof=1)\n",
    "        \n",
    "    \n",
    "    def __str__(self):\n",
    "        to_print = f'Mean:\\t{self.mean:.{self.dp}f}' \\\n",
    "             + f'\\nStdev:\\t{self.std:.{self.dp}f}' \\\n",
    "             + f'\\nn:\\t{self.n}' \\\n",
    "        \n",
    "        return to_print"
   ]
  },
  {
   "cell_type": "code",
   "execution_count": 4,
   "id": "d6b1dd70-d220-48cb-8e78-014a065a95f1",
   "metadata": {},
   "outputs": [],
   "source": [
    "def test_complete_recalculation(data, start=2):\n",
    "    summary = OnlineSummary(data[:start])\n",
    "\n",
    "    for i in range(start, len(data)+1):\n",
    "        summary.update(data[:i])\n",
    "    return summary"
   ]
  },
  {
   "cell_type": "code",
   "execution_count": 5,
   "id": "be89890e-e59c-460b-8473-8145045ee25b",
   "metadata": {},
   "outputs": [
    {
     "name": "stdout",
     "output_type": "stream",
     "text": [
      "Mean:\t2.92\n",
      "Stdev:\t0.71\n",
      "n:\t74\n"
     ]
    }
   ],
   "source": [
    "summary = test_complete_recalculation(ed_data)\n",
    "print(summary)"
   ]
  },
  {
   "cell_type": "code",
   "execution_count": 6,
   "id": "c9897edb-7f65-4044-b268-3ce9a7e6b7c7",
   "metadata": {},
   "outputs": [
    {
     "name": "stdout",
     "output_type": "stream",
     "text": [
      "1.17 ms ± 10.9 µs per loop (mean ± std. dev. of 7 runs, 1000 loops each)\n"
     ]
    }
   ],
   "source": [
    "%timeit summary = test_complete_recalculation(ed_data)"
   ]
  },
  {
   "cell_type": "markdown",
   "id": "8716017b-ba2c-4284-809c-230385f4567e",
   "metadata": {},
   "source": [
    "You should find the `numpy` implementation fairly efficient clocking in at around 1.5ms on average. But can we do better in standard python by computing an online mean and standard deviation?\n",
    "\n",
    "## Online sample mean and variance\n",
    "\n",
    "To do this we will use **Welford's algorithm** for computing a running sample mean and standard deviation.  This is a robust, accurate and old(ish) approach (1960s) that I first read about in Donald Knuth's *art of computer programming vol 2.* (just to be clear I learnt how to do this in 2008 not 1960!).  To implement it we need to refactor `update`.  Note that we will need a fair bit more code than our simple `numpy` solution.\n",
    "\n",
    "The algorithm is given in a recursive format.  For our purposes here, you can just think of that as tracking the mean and standard deviation as attributes of a class that we iteratively update with a new $x$. \n",
    "\n",
    "The first thing you need to do is handle the first observation encountered. \n",
    "\n",
    "$$M_1 = x_1$$\n",
    "$$S_1 = 0$$\n",
    "\n",
    "Then on each subsequent call you update $M$ and $S$ making use of the previous values.  Note that $M$ has a relatively simple interpretation: its the sample mean. However, $S$ is not the standard deviation.  Its actually the sum of squares of differences from the current mean.  We will look at how to update that first and then I'll show you the equation for converting to the standard deviation.\n",
    "\n",
    "$$M_n = M_{n-1} + \\dfrac{x_n - M_{n-1}}{n}$$\n",
    "\n",
    "\n",
    "$$S_n = S_{n-1} + \\left[(x_n - M_{n-1}) \\times (x_n - M_n)\\right]$$\n",
    "\n",
    "If the equations are confusing you can think of $M_n$ as the `updated_mean` and $M_{n-1}$ as the `previous_mean`.\n",
    "\n",
    "Once the update is complete it is then relatively trivial to calculate the standard deviation $\\sigma_n$.  Note that we don't necessarily need to track the standard deviation just $S_n$.  We can inexpensively calculate $\\sigma_n$ when it is needed.  \n",
    "\n",
    "$$\\sigma_n = \\sqrt{\\dfrac{S_n}{n-1}}$$\n",
    "\n",
    "The code listing below modifies `OnlineSummary` to make use of Welford's algorithm. Note that `std` is now a property that calculates the standard deviation on the fly using $S_n$"
   ]
  },
  {
   "cell_type": "code",
   "execution_count": 7,
   "id": "8b5cb287-5c47-4270-a01c-8af7afc754e7",
   "metadata": {},
   "outputs": [],
   "source": [
    "class OnlineSummary:\n",
    "    \n",
    "    def __init__(self, data=None, decimal_places=2):\n",
    "        \"\"\"\n",
    "        Returns mean, stdev and 5/95 percentiles of ed data\n",
    "\n",
    "        Params:\n",
    "        -------\n",
    "        data: np.ndarray, optional (default = None) \n",
    "            Contains an initial data sample.\n",
    "            \n",
    "        decimal_places: int, optional (default=2)\n",
    "            Summary decimal places.\n",
    "        \"\"\"\n",
    "        \n",
    "        self.n = 0\n",
    "        self.mean = None\n",
    "        self._sq = None\n",
    "        \n",
    "        if isinstance(data, np.ndarray):\n",
    "            for x in data:\n",
    "                self.update(x)\n",
    "            \n",
    "        self.dp = decimal_places\n",
    "    \n",
    "    @property\n",
    "    def variance(self):\n",
    "        return self._sq / (self.n - 1)\n",
    "    \n",
    "    @property\n",
    "    def std(self):\n",
    "        return np.sqrt(self.variance)\n",
    "    \n",
    "    def update(self, x):\n",
    "        '''\n",
    "        Running update of mean and variance implemented using Welford's \n",
    "        algorithm (1962).\n",
    "        \n",
    "        See Knuth. D `The Art of Computer Programming` Vol 2. 2nd ed. Page 216.\n",
    "        \n",
    "        Params:\n",
    "        ------\n",
    "        x: float\n",
    "            A new observation\n",
    "        '''\n",
    "        self.n += 1\n",
    "        \n",
    "        # we need to do more work ourselves for online stats!\n",
    "        \n",
    "        # init values\n",
    "        if self.n == 1:\n",
    "            self.mean = x\n",
    "            self._sq = 0\n",
    "        else:\n",
    "            # compute the updated mean\n",
    "            updated_mean = self.mean + ((x - self.mean) / self.n)\n",
    "        \n",
    "            # update the sum of squares \n",
    "            self._sq += (x - self.mean) * (x - updated_mean)\n",
    "            \n",
    "            # update the tracked mean\n",
    "            self.mean = updated_mean\n",
    "    \n",
    "    def __str__(self):\n",
    "        to_print = f'Mean:\\t{self.mean:.{self.dp}f}' \\\n",
    "             + f'\\nStdev:\\t{self.std:.{self.dp}f}' \\\n",
    "             + f'\\nn:\\t{self.n}' \\\n",
    "        \n",
    "        return to_print"
   ]
  },
  {
   "cell_type": "code",
   "execution_count": 8,
   "id": "73140eb2-39fe-44f4-8493-cd9d83ebec6b",
   "metadata": {},
   "outputs": [],
   "source": [
    "def test_online_calculation(data, start=1):\n",
    "    summary = OnlineSummary()\n",
    "\n",
    "    for observation in data:\n",
    "        summary.update(observation)\n",
    "    return summary"
   ]
  },
  {
   "cell_type": "code",
   "execution_count": 9,
   "id": "8f988d5d-8e37-44e8-b739-fa3aaaf9d9c3",
   "metadata": {},
   "outputs": [
    {
     "name": "stdout",
     "output_type": "stream",
     "text": [
      "Mean:\t2.92\n",
      "Stdev:\t0.71\n",
      "n:\t74\n"
     ]
    }
   ],
   "source": [
    "summary = test_online_calculation(ed_data)\n",
    "print(summary)"
   ]
  },
  {
   "cell_type": "code",
   "execution_count": 10,
   "id": "b1223032-e9eb-421c-bd2e-9b91dc30ec2f",
   "metadata": {},
   "outputs": [
    {
     "name": "stdout",
     "output_type": "stream",
     "text": [
      "66.1 µs ± 586 ns per loop (mean ± std. dev. of 7 runs, 10000 loops each)\n"
     ]
    }
   ],
   "source": [
    "%timeit summary = test_online_calculation(ed_data)"
   ]
  },
  {
   "cell_type": "markdown",
   "id": "24ab6bc9-cd37-4c27-8a5c-8b5e029247b9",
   "metadata": {},
   "source": [
    "## Summing up\n",
    "\n",
    "Crickey nothing beats a good algorithm! You should find that you are now working in microseconds (µs) as opposed to milliseconds. 1µs = 1000ms. On my machine the `test_online_calculation` executes in ~45 µs on average while `test_complete_recalculation` takes ~1500 µs. So we are finding a speed up of ~97%. That gap will continue to grow as the number of samples $n$ increases.  The result is explained because our second implementation has a constant time for execution (and constant number of computational steps) while the time complexity of the `numpy` call depends on the size of the array. That's a lesson well worth remembering when developing code for scientific applications requiring performant code."
   ]
  }
 ],
 "metadata": {
  "kernelspec": {
   "display_name": "Python 3",
   "language": "python",
   "name": "python3"
  },
  "language_info": {
   "codemirror_mode": {
    "name": "ipython",
    "version": 3
   },
   "file_extension": ".py",
   "mimetype": "text/x-python",
   "name": "python",
   "nbconvert_exporter": "python",
   "pygments_lexer": "ipython3",
   "version": "3.8.8"
  }
 },
 "nbformat": 4,
 "nbformat_minor": 5
}
