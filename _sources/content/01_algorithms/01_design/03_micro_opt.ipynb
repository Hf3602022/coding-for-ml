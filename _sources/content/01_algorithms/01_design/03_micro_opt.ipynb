{
 "cells": [
  {
   "cell_type": "markdown",
   "id": "7dbd4f78",
   "metadata": {},
   "source": [
    "# Do micro-optimisations matter?\n",
    "\n",
    "In short micro-optimisations of your python code matter less than an efficient design.  I.e. 'trial and error' versus a 'prime sieve' or multiple versus single data structures (at least in this example) is more important than a for loop versus a list slice.  The difference is that the former gave us an order of magnitude speed up while the latter helped, but to a much smaller extent.\n",
    "\n",
    "Another example of a **micro-optimisation** (at least in standard python) relates to the type of data structure used.  `prime_sieve2` made use of a list of boolean values.  Let's have a look at its size in memory in bytes."
   ]
  },
  {
   "cell_type": "code",
   "execution_count": 1,
   "id": "c8564a95",
   "metadata": {
    "tags": [
     "hide-input"
    ]
   },
   "outputs": [],
   "source": [
    "import math"
   ]
  },
  {
   "cell_type": "code",
   "execution_count": 2,
   "id": "ca7daa3e",
   "metadata": {},
   "outputs": [
    {
     "data": {
      "text/plain": [
       "136"
      ]
     },
     "execution_count": 2,
     "metadata": {},
     "output_type": "execute_result"
    }
   ],
   "source": [
    "import sys\n",
    "candidates_bool = [True] * (10)\n",
    "sys.getsizeof(candidates_bool)"
   ]
  },
  {
   "cell_type": "markdown",
   "id": "699ee028",
   "metadata": {},
   "source": [
    "As we only effectively track 0's (False) and 1's (True) there is an option to shrink the memory requirement substantially by using a python `bytearray`."
   ]
  },
  {
   "cell_type": "code",
   "execution_count": 3,
   "id": "33038978",
   "metadata": {},
   "outputs": [
    {
     "name": "stdout",
     "output_type": "stream",
     "text": [
      "bytearray(b'\\x01\\x01\\x01\\x01\\x01\\x01\\x01\\x01\\x01\\x01')\n",
      "67\n"
     ]
    }
   ],
   "source": [
    "candidates_bytes =  bytearray(b\"\\x01\") * 10\n",
    "print(candidates_bytes)\n",
    "print(sys.getsizeof(candidates_bytes))"
   ]
  },
  {
   "cell_type": "markdown",
   "id": "1c8ada7b",
   "metadata": {},
   "source": [
    "That approximately halves memory usage.  That's a nice feature.  `prime_sieve3` updates our sieve to use a `byte_array`.  We will also compare its performance to `prime_sieve2`"
   ]
  },
  {
   "cell_type": "code",
   "execution_count": 4,
   "id": "2321835c",
   "metadata": {},
   "outputs": [],
   "source": [
    "def prime_sieve3(n):\n",
    "    # bytearray here instead of bools to reduce memory overhead.\n",
    "    candidates = bytearray(b\"\\x01\") * (n + 1)\n",
    "    # 0 and 1's instead of False and True\n",
    "    candidates[0] = 0\n",
    "    candidates[1] = 0\n",
    "    limit = int(math.sqrt(n)) + 1    \n",
    "    \n",
    "    for i in range(2, limit): \n",
    "        if candidates[i]:\n",
    "            candidates[i+i::i] = [0] * ((n - i) // i)\n",
    "            \n",
    "    return [i for i in range(n+1) if candidates[i]]      "
   ]
  },
  {
   "cell_type": "code",
   "execution_count": 5,
   "id": "967cb3db",
   "metadata": {},
   "outputs": [
    {
     "name": "stdout",
     "output_type": "stream",
     "text": [
      "731 µs ± 25.5 µs per loop (mean ± std. dev. of 7 runs, 1000 loops each)\n"
     ]
    }
   ],
   "source": [
    "TEN_THOUSAND = 10_000\n",
    "%timeit prime_sieve3(TEN_THOUSAND)"
   ]
  },
  {
   "cell_type": "markdown",
   "id": "cacb52fb",
   "metadata": {},
   "source": [
    "Well that's a bit of a surprise.  Our memory efficient `prime_sieve3` is **slightly** slower on average than `prime_sieve2`.  But, and its a big BUT, that's only for the first 10,000 natural numbers.  When we compute larger primes the pattern reverses. For example, `prime_sieve3` is faster to compute the primes up to 10 million.  This performance gap widens as we compute larger and larger primes.  So for very small primes this 'optimisation' doesn't help, but it may help for larger primes (large is of course relative).   "
   ]
  },
  {
   "cell_type": "code",
   "execution_count": 6,
   "id": "2b83ae60",
   "metadata": {
    "tags": [
     "hide-input"
    ]
   },
   "outputs": [],
   "source": [
    "def prime_sieve2(n):\n",
    "    # We will use boolean's here instead of ints\n",
    "    candidates = [True] * (n + 1)\n",
    "    candidates[0] = candidates[1] = False\n",
    "    limit = int(math.sqrt(n)) + 1    \n",
    "    \n",
    "    for i in range(2, limit): \n",
    "        if candidates[i]:\n",
    "            candidates[i+i::i] = [False] * ((n - i) // i)\n",
    "            \n",
    "    return [i for i in range(n+1) if candidates[i]]        "
   ]
  },
  {
   "cell_type": "code",
   "execution_count": 7,
   "id": "83d242a0",
   "metadata": {},
   "outputs": [
    {
     "name": "stdout",
     "output_type": "stream",
     "text": [
      "1.06 s ± 6.56 ms per loop (mean ± std. dev. of 7 runs, 1 loop each)\n",
      "801 ms ± 5.39 ms per loop (mean ± std. dev. of 7 runs, 1 loop each)\n"
     ]
    }
   ],
   "source": [
    "TEN_MILLION = 10_000_000\n",
    "%timeit prime_sieve2(TEN_MILLION)\n",
    "%timeit prime_sieve3(TEN_MILLION)"
   ]
  }
 ],
 "metadata": {
  "kernelspec": {
   "display_name": "Python 3",
   "language": "python",
   "name": "python3"
  },
  "language_info": {
   "codemirror_mode": {
    "name": "ipython",
    "version": 3
   },
   "file_extension": ".py",
   "mimetype": "text/x-python",
   "name": "python",
   "nbconvert_exporter": "python",
   "pygments_lexer": "ipython3",
   "version": "3.7.3"
  }
 },
 "nbformat": 4,
 "nbformat_minor": 5
}
