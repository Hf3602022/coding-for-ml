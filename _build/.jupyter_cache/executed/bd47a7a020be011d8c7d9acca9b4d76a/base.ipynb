{
 "cells": [
  {
   "cell_type": "code",
   "execution_count": 1,
   "metadata": {
    "slideshow": {
     "slide_type": "subslide"
    }
   },
   "outputs": [],
   "source": [
    "import numpy as np"
   ]
  },
  {
   "cell_type": "code",
   "execution_count": 2,
   "metadata": {
    "slideshow": {
     "slide_type": "fragment"
    }
   },
   "outputs": [
    {
     "name": "stdout",
     "output_type": "stream",
     "text": [
      "5\n"
     ]
    }
   ],
   "source": [
    "random_number = np.random.randint(0, 10)\n",
    "print(random_number)"
   ]
  },
  {
   "cell_type": "code",
   "execution_count": 3,
   "metadata": {
    "slideshow": {
     "slide_type": "fragment"
    }
   },
   "outputs": [
    {
     "name": "stdout",
     "output_type": "stream",
     "text": [
      "[999, 3, 9.5, 'eggs', ['sub list', 3], <class 'int'>, 'foo']\n"
     ]
    }
   ],
   "source": [
    "my_list = ['spam', 3, 9.5, 'eggs', ['sub list', 3], int]\n",
    "my_list.append('foo')\n",
    "my_list[0] = 999\n",
    "print(my_list)"
   ]
  },
  {
   "cell_type": "code",
   "execution_count": 4,
   "metadata": {
    "slideshow": {
     "slide_type": "fragment"
    }
   },
   "outputs": [
    {
     "name": "stdout",
     "output_type": "stream",
     "text": [
      "[1 2 3 4 5 6]\n",
      "4\n"
     ]
    }
   ],
   "source": [
    "my_arr = np.array([1, 2, 3, 4, 5, 6])\n",
    "print(my_arr)\n",
    "print(my_arr[3])  "
   ]
  },
  {
   "cell_type": "code",
   "execution_count": 5,
   "metadata": {
    "slideshow": {
     "slide_type": "fragment"
    }
   },
   "outputs": [
    {
     "name": "stdout",
     "output_type": "stream",
     "text": [
      "[[1 0]\n",
      " [0 1]]\n"
     ]
    }
   ],
   "source": [
    "matrix_2x2 = np.array([[1, 0], [0, 1]])\n",
    "print(matrix_2x2) "
   ]
  },
  {
   "cell_type": "code",
   "execution_count": 6,
   "metadata": {
    "slideshow": {
     "slide_type": "fragment"
    }
   },
   "outputs": [
    {
     "name": "stdout",
     "output_type": "stream",
     "text": [
      "[1.5  1.67 8.99]\n"
     ]
    }
   ],
   "source": [
    "my_arr = np.array([1, 2, 3, 4, 5, 6])\n",
    "my_arr2 = np.array([1.5, 1.67, 8.99])\n",
    "my_arr3 = np.array(['spam', 'eggs', 'foo', 'bar'])\n",
    "print(my_arr2) "
   ]
  },
  {
   "cell_type": "code",
   "execution_count": 7,
   "metadata": {
    "slideshow": {
     "slide_type": "fragment"
    }
   },
   "outputs": [
    {
     "name": "stdout",
     "output_type": "stream",
     "text": [
      "[0 1 2 3 4 5 6 7 8 9]\n"
     ]
    }
   ],
   "source": [
    "my_arr = np.arange(10)\n",
    "print(my_arr)"
   ]
  },
  {
   "cell_type": "code",
   "execution_count": 8,
   "metadata": {
    "slideshow": {
     "slide_type": "fragment"
    }
   },
   "outputs": [
    {
     "name": "stdout",
     "output_type": "stream",
     "text": [
      "[     94198377364365                   0                   0\n",
      " 7005683683222185060 7365134955177981241 7161961665417786165\n",
      " 3487527945845749303 3546079365856047415 7147838455017583923\n",
      " 3486975119126966838]\n",
      "int64\n"
     ]
    }
   ],
   "source": [
    "my_arr = np.empty(10, dtype=np.int64)\n",
    "print(my_arr)\n",
    "print(my_arr.dtype)"
   ]
  },
  {
   "cell_type": "code",
   "execution_count": 9,
   "metadata": {
    "slideshow": {
     "slide_type": "fragment"
    }
   },
   "outputs": [
    {
     "name": "stdout",
     "output_type": "stream",
     "text": [
      "[0 0 0 0 0 0 0 0 0 0]\n",
      "int64\n"
     ]
    }
   ],
   "source": [
    "my_arr = np.zeros(10, dtype=np.int64)\n",
    "print(my_arr)\n",
    "print(my_arr.dtype)"
   ]
  },
  {
   "cell_type": "code",
   "execution_count": 10,
   "metadata": {
    "slideshow": {
     "slide_type": "fragment"
    }
   },
   "outputs": [
    {
     "data": {
      "text/plain": [
       "(5000,)"
      ]
     },
     "execution_count": 10,
     "metadata": {},
     "output_type": "execute_result"
    }
   ],
   "source": [
    "my_arr = np.arange(5000)\n",
    "my_arr.shape"
   ]
  },
  {
   "cell_type": "code",
   "execution_count": 11,
   "metadata": {
    "slideshow": {
     "slide_type": "subslide"
    }
   },
   "outputs": [],
   "source": [
    "python_list = list(range(1000000))\n",
    "numpy_array = np.arange(1000000)"
   ]
  },
  {
   "cell_type": "code",
   "execution_count": 12,
   "metadata": {
    "slideshow": {
     "slide_type": "fragment"
    }
   },
   "outputs": [
    {
     "name": "stdout",
     "output_type": "stream",
     "text": [
      "4.62 ms ± 18.9 µs per loop (mean ± std. dev. of 7 runs, 100 loops each)\n"
     ]
    }
   ],
   "source": [
    "%timeit sum(python_list)"
   ]
  },
  {
   "cell_type": "code",
   "execution_count": 13,
   "metadata": {
    "slideshow": {
     "slide_type": "fragment"
    }
   },
   "outputs": [
    {
     "name": "stdout",
     "output_type": "stream",
     "text": [
      "403 µs ± 938 ns per loop (mean ± std. dev. of 7 runs, 1000 loops each)\n"
     ]
    }
   ],
   "source": [
    "%timeit np.sum(numpy_array)"
   ]
  },
  {
   "cell_type": "code",
   "execution_count": 14,
   "metadata": {
    "slideshow": {
     "slide_type": "subslide"
    }
   },
   "outputs": [
    {
     "name": "stdout",
     "output_type": "stream",
     "text": [
      "[ 0 10 20 30]\n"
     ]
    }
   ],
   "source": [
    "x = np.array([10, 20, 30, 40])\n",
    "y = np.array([10, 10, 10, 10])\n",
    "\n",
    "z = x - y \n",
    "\n",
    "print(z)"
   ]
  },
  {
   "cell_type": "code",
   "execution_count": 15,
   "metadata": {
    "slideshow": {
     "slide_type": "subslide"
    }
   },
   "outputs": [
    {
     "name": "stdout",
     "output_type": "stream",
     "text": [
      "[ 225  625 1225 2025]\n"
     ]
    }
   ],
   "source": [
    "x = np.array([10, 20, 30, 40], dtype=np.int64)\n",
    "y = x + 5\n",
    "z = y ** 2\n",
    "\n",
    "print(z)"
   ]
  },
  {
   "cell_type": "code",
   "execution_count": 16,
   "metadata": {
    "slideshow": {
     "slide_type": "fragment"
    }
   },
   "outputs": [
    {
     "name": "stdout",
     "output_type": "stream",
     "text": [
      "[0 1 2 3 4 5 6 7 8 9]\n",
      "[  0   1   2   3 444   5   6   7   8   9]\n"
     ]
    }
   ],
   "source": [
    "short_sequence = np.arange(10, dtype=np.int16)\n",
    "print(short_sequence)\n",
    "short_sequence[4] = 444\n",
    "print(short_sequence)"
   ]
  },
  {
   "cell_type": "code",
   "execution_count": 17,
   "metadata": {
    "slideshow": {
     "slide_type": "fragment"
    }
   },
   "outputs": [
    {
     "name": "stdout",
     "output_type": "stream",
     "text": [
      "[22  1  2  3  4]\n"
     ]
    }
   ],
   "source": [
    "integer_matrix = np.arange(5, dtype=np.int64)\n",
    "floating_point_number = 22.667\n",
    "integer_matrix[0] = floating_point_number\n",
    "\n",
    "print(integer_matrix)"
   ]
  },
  {
   "cell_type": "code",
   "execution_count": 18,
   "metadata": {
    "slideshow": {
     "slide_type": "fragment"
    }
   },
   "outputs": [],
   "source": [
    "complete_matrix = np.array([10, 11, 12, 13, 14, 15])"
   ]
  },
  {
   "cell_type": "code",
   "execution_count": 19,
   "metadata": {
    "slideshow": {
     "slide_type": "fragment"
    }
   },
   "outputs": [
    {
     "name": "stdout",
     "output_type": "stream",
     "text": [
      "complete matrix: [10 11 12 13 14 15]\n",
      "slice of matrix: [13 14]\n"
     ]
    }
   ],
   "source": [
    "slice_matrix = complete_matrix[3:5]\n",
    "\n",
    "print('complete matrix: {0}'.format(complete_matrix))\n",
    "print('slice of matrix: {0}'.format(slice_matrix))"
   ]
  },
  {
   "cell_type": "code",
   "execution_count": 20,
   "metadata": {
    "slideshow": {
     "slide_type": "fragment"
    }
   },
   "outputs": [
    {
     "name": "stdout",
     "output_type": "stream",
     "text": [
      "[0 1 2 3 4 5 6 7 8 9]\n"
     ]
    }
   ],
   "source": [
    "complete_matrix = np.arange(10)\n",
    "print(complete_matrix)"
   ]
  },
  {
   "cell_type": "code",
   "execution_count": 21,
   "metadata": {
    "slideshow": {
     "slide_type": "fragment"
    }
   },
   "outputs": [
    {
     "name": "stdout",
     "output_type": "stream",
     "text": [
      "original matrix: [0 1 2 3 4 5 6 7 8 9]\n",
      "slice of matrix: [6 7 8 9]\n"
     ]
    }
   ],
   "source": [
    "slice_matrix = complete_matrix[6:]\n",
    "\n",
    "print('original matrix: {0}'.format(complete_matrix))\n",
    "print('slice of matrix: {0}'.format(slice_matrix)) "
   ]
  },
  {
   "cell_type": "code",
   "execution_count": 22,
   "metadata": {
    "slideshow": {
     "slide_type": "fragment"
    }
   },
   "outputs": [
    {
     "name": "stdout",
     "output_type": "stream",
     "text": [
      "complete matrix: [0 1 2 3 4 5 6 7 8 9]\n",
      "slice of matrix: [6 7 8 9]\n"
     ]
    }
   ],
   "source": [
    "slice_matrix = complete_matrix[-4:]\n",
    "\n",
    "print('complete matrix: {0}'.format(complete_matrix))\n",
    "print('slice of matrix: {0}'.format(slice_matrix))"
   ]
  },
  {
   "cell_type": "code",
   "execution_count": 23,
   "metadata": {
    "slideshow": {
     "slide_type": "fragment"
    }
   },
   "outputs": [
    {
     "name": "stdout",
     "output_type": "stream",
     "text": [
      "original matrix: [10 11 12 13 14 15 16 17 18 19]\n",
      "slice of matrix: [10 11 12]\n"
     ]
    }
   ],
   "source": [
    "complete_matrix = np.arange(10, 20)\n",
    "\n",
    "slice_matrix = complete_matrix[0:3]  #could also omit the start of 0\n",
    "\n",
    "print('original matrix: {0}'.format(complete_matrix))\n",
    "print('slice of matrix: {0}'.format(slice_matrix))"
   ]
  },
  {
   "cell_type": "code",
   "execution_count": 24,
   "metadata": {
    "slideshow": {
     "slide_type": "fragment"
    }
   },
   "outputs": [
    {
     "name": "stdout",
     "output_type": "stream",
     "text": [
      "original matrix: [10 11 12 13 14 15 16 17 18 19]\n",
      "slice of matrix: [10 11 12]\n"
     ]
    }
   ],
   "source": [
    "slice_matrix = complete_matrix[0:-7]\n",
    " \n",
    "print('original matrix: {0}'.format(complete_matrix))\n",
    "print('slice of matrix: {0}'.format(slice_matrix))"
   ]
  },
  {
   "cell_type": "code",
   "execution_count": 25,
   "metadata": {
    "slideshow": {
     "slide_type": "fragment"
    }
   },
   "outputs": [
    {
     "name": "stdout",
     "output_type": "stream",
     "text": [
      "original matrix: [10 11 12 13 14 15 16 17 18 19]\n",
      "sub matrix: [12 14 16]\n"
     ]
    }
   ],
   "source": [
    "indexes = [2, 4, 6]\n",
    "sub_matrix = complete_matrix[indexes]\n",
    "\n",
    "print('original matrix: {0}'.format(complete_matrix))\n",
    "print('sub matrix: {0}'.format(sub_matrix))\n"
   ]
  },
  {
   "cell_type": "code",
   "execution_count": 26,
   "metadata": {
    "slideshow": {
     "slide_type": "fragment"
    }
   },
   "outputs": [
    {
     "name": "stdout",
     "output_type": "stream",
     "text": [
      "[10 11 12]\n",
      "[999  11  12]\n"
     ]
    }
   ],
   "source": [
    "complete_matrix = np.arange(10, 20)\n",
    "slice_matrix = complete_matrix[0:3] \n",
    "\n",
    "print(slice_matrix)\n",
    "slice_matrix[0] = 999\n",
    "print(slice_matrix)"
   ]
  },
  {
   "cell_type": "code",
   "execution_count": 27,
   "metadata": {
    "slideshow": {
     "slide_type": "fragment"
    }
   },
   "outputs": [
    {
     "name": "stdout",
     "output_type": "stream",
     "text": [
      "[999  11  12  13  14  15  16  17  18  19]\n"
     ]
    }
   ],
   "source": [
    "print(complete_matrix)"
   ]
  },
  {
   "cell_type": "code",
   "execution_count": 28,
   "metadata": {
    "slideshow": {
     "slide_type": "fragment"
    }
   },
   "outputs": [],
   "source": [
    "file_name = 'data/minor_illness_ed_attends.csv'\n",
    "ed_data = np.genfromtxt(file_name, skip_header=1, delimiter=',')"
   ]
  },
  {
   "cell_type": "code",
   "execution_count": 29,
   "metadata": {
    "slideshow": {
     "slide_type": "fragment"
    }
   },
   "outputs": [
    {
     "name": "stdout",
     "output_type": "stream",
     "text": [
      "(74,)\n",
      "float64\n"
     ]
    }
   ],
   "source": [
    "print(ed_data.shape)\n",
    "print(ed_data.dtype)"
   ]
  },
  {
   "cell_type": "code",
   "execution_count": 30,
   "metadata": {
    "slideshow": {
     "slide_type": "subslide"
    }
   },
   "outputs": [],
   "source": [
    "def ed_summary_statistics(data):\n",
    "    \"\"\"\n",
    "    Returns mean, stdev and 5/95 percentiles of ed data\n",
    "    \n",
    "    Keyword arguments:\n",
    "    data -- 1d numpy.ndarray containing data to analyse\n",
    "    \"\"\"\n",
    "    mean = data.mean()\n",
    "    std = data.std()\n",
    "    min_attends = data.min()\n",
    "    max_attends = data.max() \n",
    "    per_95 = np.percentile(data, 95)\n",
    "    \n",
    "    return mean, std, min_attends, max_attends, per_95"
   ]
  },
  {
   "cell_type": "code",
   "execution_count": 31,
   "metadata": {
    "slideshow": {
     "slide_type": "subslide"
    }
   },
   "outputs": [],
   "source": [
    "def print_summary_stats(mean, std, minimum, maximum, per_95):\n",
    "    \"\"\"\n",
    "    Prints summary statistics in formatted text.\n",
    "    \n",
    "    Keyword arguments:\n",
    "    mean -- mean average\n",
    "    std -- standard deviation \n",
    "    minimum -- min value\n",
    "    maximum -- max value\n",
    "    \"\"\"\n",
    "    print('Mean:\\t{0:0.2f}'.format(mean))\n",
    "    print('Stdev:\\t{0:0.2f}'.format(std))\n",
    "    print('Min:\\t{0:0.2f}'.format(minimum))\n",
    "    print('Max:\\t{0:0.2f}'.format(maximum))\n",
    "    print('95th:\\t{0:0.2f}'.format(per_95))\n",
    "    "
   ]
  },
  {
   "cell_type": "code",
   "execution_count": 32,
   "metadata": {
    "slideshow": {
     "slide_type": "subslide"
    }
   },
   "outputs": [
    {
     "name": "stdout",
     "output_type": "stream",
     "text": [
      "Mean:\t2.92\n",
      "Stdev:\t0.71\n",
      "Min:\t1.62\n",
      "Max:\t5.11\n",
      "95th:\t3.99\n"
     ]
    }
   ],
   "source": [
    "mean, std, min_attends, max_attends, per_95 = ed_summary_statistics(ed_data)\n",
    "\n",
    "print_summary_stats(mean, std, min_attends, max_attends, per_95)"
   ]
  },
  {
   "cell_type": "code",
   "execution_count": 33,
   "metadata": {
    "slideshow": {
     "slide_type": "subslide"
    }
   },
   "outputs": [
    {
     "data": {
      "text/plain": [
       "tuple"
      ]
     },
     "execution_count": 33,
     "metadata": {},
     "output_type": "execute_result"
    }
   ],
   "source": [
    "stats = ed_summary_statistics(ed_data)\n",
    "type(stats)"
   ]
  },
  {
   "cell_type": "code",
   "execution_count": 34,
   "metadata": {
    "slideshow": {
     "slide_type": "fragment"
    }
   },
   "outputs": [
    {
     "name": "stdout",
     "output_type": "stream",
     "text": [
      "[1.5 2.  2.5 3.  3.5 4.  4.5 5.  5.5]\n",
      "[ 7 19 18 13 14  2  0  1]\n"
     ]
    }
   ],
   "source": [
    "mybins = np.linspace(start=1.5, stop = 5.5, num=9)\n",
    "freq, bins = np.histogram(ed_data, bins=mybins, density=False)\n",
    "print(bins)\n",
    "print(freq)"
   ]
  },
  {
   "cell_type": "code",
   "execution_count": 35,
   "metadata": {
    "slideshow": {
     "slide_type": "fragment"
    }
   },
   "outputs": [
    {
     "name": "stdout",
     "output_type": "stream",
     "text": [
      "***before\n",
      "Mean:\t3.12\n",
      "Stdev:\t0.56\n",
      "Min:\t2.12\n",
      "Max:\t3.99\n",
      "95th:\t3.82\n",
      "***after\n",
      "Mean:\t2.89\n",
      "Stdev:\t0.72\n",
      "Min:\t1.62\n",
      "Max:\t5.11\n",
      "95th:\t3.97\n"
     ]
    }
   ],
   "source": [
    "def sub_group_analysis(data, group_name):\n",
    "    mean, std, min_attends, max_attends, per_95 = ed_summary_statistics(data)\n",
    "    print('***{0}'.format(group_name))\n",
    "    print_summary_stats(mean, std, min_attends, max_attends, per_95)\n",
    "\n",
    "week = 10  # the week the intervention begins\n",
    "sub_group_analysis(ed_data[0:week], 'before')\n",
    "sub_group_analysis(ed_data[week:], 'after')"
   ]
  },
  {
   "cell_type": "code",
   "execution_count": 36,
   "metadata": {
    "slideshow": {
     "slide_type": "fragment"
    }
   },
   "outputs": [
    {
     "name": "stdout",
     "output_type": "stream",
     "text": [
      "(array([10, 41, 65]),)\n"
     ]
    }
   ],
   "source": [
    "stats = ed_summary_statistics(ed_data)\n",
    "\n",
    "#95th percentile is contained in index 4\n",
    "per_95 = stats[4]\n",
    "\n",
    "extreme_week = np.where(ed_data >= per_95)\n",
    "\n",
    "print(extreme_week)"
   ]
  }
 ],
 "metadata": {
  "celltoolbar": "Slideshow",
  "kernelspec": {
   "display_name": "Python 3",
   "language": "python",
   "name": "python3"
  },
  "language_info": {
   "codemirror_mode": {
    "name": "ipython",
    "version": 3
   },
   "file_extension": ".py",
   "mimetype": "text/x-python",
   "name": "python",
   "nbconvert_exporter": "python",
   "pygments_lexer": "ipython3",
   "version": "3.8.8"
  }
 },
 "nbformat": 4,
 "nbformat_minor": 4
}