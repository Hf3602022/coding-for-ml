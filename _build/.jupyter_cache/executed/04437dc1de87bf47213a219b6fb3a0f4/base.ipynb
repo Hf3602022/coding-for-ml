{
 "cells": [
  {
   "cell_type": "code",
   "execution_count": 1,
   "metadata": {},
   "outputs": [],
   "source": [
    "import numpy as np"
   ]
  },
  {
   "cell_type": "code",
   "execution_count": 2,
   "metadata": {},
   "outputs": [
    {
     "name": "stdout",
     "output_type": "stream",
     "text": [
      "the array contains [4 3 1 5 6]\n",
      "a numpy array has has type [4 3 1 5 6]\n",
      "the array has a shape of (5,)\n",
      "The item at index 0 in the array is 4\n",
      "The item at index 2 in the array is 1\n",
      "If we slice the array between item 0 and 2 we get [4 3]\n",
      "If we slice the array between item 3 and 5 we get [5 6]\n"
     ]
    }
   ],
   "source": [
    "arr = np.array([4, 3, 1, 5, 6])\n",
    "print(f'the array contains {arr}')\n",
    "print(f'a numpy array has has type {arr}')\n",
    "print(f'the array has a shape of {arr.shape}')\n",
    "print(f'The item at index 0 in the array is {arr[0]}')\n",
    "print(f'The item at index 2 in the array is {arr[2]}')\n",
    "print(f'If we slice the array between item 0 and 2 we get {arr[:2]}')\n",
    "print(f'If we slice the array between item 3 and 5 we get {arr[3:5]}')"
   ]
  },
  {
   "cell_type": "code",
   "execution_count": 3,
   "metadata": {},
   "outputs": [
    {
     "name": "stdout",
     "output_type": "stream",
     "text": [
      "[6.93462497e-310 6.93462497e-310 6.93460180e-310 6.93462387e-310\n",
      " 6.93462398e-310 6.93462338e-310 6.93462401e-310 6.93462400e-310\n",
      " 6.93462398e-310 6.93462396e-310]\n",
      "<class 'numpy.ndarray'>\n",
      "(10,)\n"
     ]
    }
   ],
   "source": [
    "empty_arr = np.empty(10)\n",
    "print(empty_arr)\n",
    "print(type(empty_arr))\n",
    "print(empty_arr.shape)"
   ]
  },
  {
   "cell_type": "code",
   "execution_count": 4,
   "metadata": {},
   "outputs": [
    {
     "name": "stdout",
     "output_type": "stream",
     "text": [
      "[0. 0. 0. 0. 0. 0. 0. 0. 0. 0.]\n",
      "<class 'numpy.ndarray'>\n",
      "(10,)\n"
     ]
    }
   ],
   "source": [
    "zeros_arr = np.zeros(10)\n",
    "print(zeros_arr)\n",
    "print(type(zeros_arr))\n",
    "print(zeros_arr.shape)"
   ]
  },
  {
   "cell_type": "code",
   "execution_count": 5,
   "metadata": {},
   "outputs": [
    {
     "name": "stdout",
     "output_type": "stream",
     "text": [
      "original data [0. 0. 0. 0. 0. 0. 0. 0. 0. 0.]\n",
      "updated data [  0.   0.   0.   0.   0. 111.   0.   0.   0. 222.]\n"
     ]
    }
   ],
   "source": [
    "data = np.zeros(10)\n",
    "print(f'original data {data}')\n",
    "\n",
    "data[5] = 111\n",
    "data[9] = 222\n",
    "print(f'updated data {data}')"
   ]
  },
  {
   "cell_type": "code",
   "execution_count": 6,
   "metadata": {},
   "outputs": [
    {
     "name": "stdout",
     "output_type": "stream",
     "text": [
      "original data [0. 0. 0. 0. 0. 0. 0. 0. 0. 0.]\n",
      "slice of data [  0.   0.   0. 999. 999. 999.   0.   0.   0.   0.]\n",
      "the original data is also updated [  0.   0.   0. 999. 999. 999.   0.   0.   0.   0.]\n"
     ]
    }
   ],
   "source": [
    "data = np.zeros(10)\n",
    "print(f'original data {data}')\n",
    "\n",
    "# slice from index 3 to index 5\n",
    "slice_of_data = data[3:6] \n",
    "#incremement each value in the slice by 999\n",
    "slice_of_data += 999 \n",
    "\n",
    "print(f'slice of data {data}')\n",
    "print(f'the original data is also updated {data}')"
   ]
  },
  {
   "cell_type": "code",
   "execution_count": 7,
   "metadata": {},
   "outputs": [
    {
     "name": "stdout",
     "output_type": "stream",
     "text": [
      "data1: [0 1 2 3 4 5 6 7 8 9]\n",
      "data2: [10 11 12 13 14 15 16 17 18 19]\n",
      "The square of each value in data1 [ 0  1  4  9 16 25 36 49 64 81]\n",
      "The summation of the the two arrays [10 12 14 16 18 20 22 24 26 28]\n",
      "The difference between the the two arrays [-10 -10 -10 -10 -10 -10 -10 -10 -10 -10]\n",
      "If we add 10 to each element in data1 we get [10 11 12 13 14 15 16 17 18 19]\n"
     ]
    }
   ],
   "source": [
    "data1 = np.arange(10)  #create a sequence of integers 0-9\n",
    "data2 = np.arange(10,20) #create a sequence of integers 10-19\n",
    "\n",
    "print(f'data1: {data1}')\n",
    "print(f'data2: {data2}')\n",
    "\n",
    "print(f'The square of each value in data1 {data1**2}') \n",
    "print(f'The summation of the the two arrays {data1 + data2}')\n",
    "print(f'The difference between the the two arrays {data1 - data2}')\n",
    "\n",
    "data1 += 10\n",
    "print(f'If we add 10 to each element in data1 we get {data1}')"
   ]
  },
  {
   "cell_type": "code",
   "execution_count": 8,
   "metadata": {},
   "outputs": [
    {
     "name": "stdout",
     "output_type": "stream",
     "text": [
      "(10000,)\n",
      "<class 'numpy.ndarray'>\n"
     ]
    }
   ],
   "source": [
    "data = np.random.randn(10000)  \n",
    "print(data.shape)\n",
    "print(type(data))"
   ]
  },
  {
   "cell_type": "code",
   "execution_count": 9,
   "metadata": {},
   "outputs": [
    {
     "name": "stdout",
     "output_type": "stream",
     "text": [
      "(0.014888317106039944, 0.9914977689951731, -2.322939713078127, 2.293120809807665)\n"
     ]
    }
   ],
   "source": [
    "def descriptives(data):\n",
    "    \"\"\"\n",
    "    Returns mean, stdev, and 1st and 99th \n",
    "    percentile of a 1D numpy.array\n",
    "    \n",
    "    Parameters:\n",
    "    -----------\n",
    "    data: numpy.ndarray \n",
    "        1D array containing data to analyse\n",
    "        \n",
    "    Returns:\n",
    "    --------\n",
    "        tuple with 4 items\n",
    "    \"\"\"\n",
    "    mean = data.mean()\n",
    "    std = data.std()\n",
    "    per_1st = np.percentile(data, 1) \n",
    "    per_99th = np.percentile(data, 99)\n",
    "    \n",
    "    return mean, std, per_1st, per_99th\n",
    "\n",
    "\n",
    "results = descriptives(data)\n",
    "print(results)"
   ]
  },
  {
   "cell_type": "code",
   "execution_count": 10,
   "metadata": {},
   "outputs": [
    {
     "name": "stdout",
     "output_type": "stream",
     "text": [
      "(10000,)\n",
      "<class 'numpy.ndarray'>\n",
      "[False False False ... False False False]\n"
     ]
    }
   ],
   "source": [
    "result = data >= 2.3\n",
    "\n",
    "print(result.shape)\n",
    "print(type(result))\n",
    "print(result)"
   ]
  },
  {
   "cell_type": "code",
   "execution_count": 11,
   "metadata": {},
   "outputs": [
    {
     "name": "stdout",
     "output_type": "stream",
     "text": [
      "0.0246 0.0236\n"
     ]
    }
   ],
   "source": [
    "def prob_great_than_or_equal_to(data, x):\n",
    "    '''\n",
    "    Return the proportion of the dataset that\n",
    "    is greater than or equal to x\n",
    "    \n",
    "    Parameters:\n",
    "    -----------\n",
    "    data: numpy.ndarray \n",
    "        Vector containing numeric data\n",
    "    x: float\n",
    "        Function returns proportion where data >=x\n",
    "        \n",
    "    Returns:\n",
    "    --------\n",
    "    float\n",
    "    '''\n",
    "    return (data >= x).sum()/data.shape[0]\n",
    "\n",
    "\n",
    "def prob_less_than_or_equal_to(data, x):\n",
    "    '''\n",
    "    Return the proportion of the dataset that\n",
    "    is less than or equal to x\n",
    "    \n",
    "    Keyword arguments\n",
    "    data -- a numpy.ndarray containing numeric data\n",
    "    x -- a numeric value. Function returns proportion where data <=x\n",
    "    '''\n",
    "    return (data <= x).sum()/data.shape[0]\n",
    "\n",
    "x1 = prob_great_than_or_equal_to(data, 1.96)\n",
    "x2 = prob_less_than_or_equal_to(data, -1.96)\n",
    "\n",
    "print(x1, x2)"
   ]
  },
  {
   "cell_type": "code",
   "execution_count": 12,
   "metadata": {},
   "outputs": [
    {
     "name": "stdout",
     "output_type": "stream",
     "text": [
      "                            OLS Regression Results                            \n",
      "==============================================================================\n",
      "Dep. Variable:                      y   R-squared:                       0.714\n",
      "Model:                            OLS   Adj. R-squared:                  0.710\n",
      "Method:                 Least Squares   F-statistic:                     194.6\n",
      "Date:                Thu, 11 Mar 2021   Prob (F-statistic):           6.80e-23\n",
      "Time:                        15:08:26   Log-Likelihood:                -945.02\n",
      "No. Observations:                  80   AIC:                             1894.\n",
      "Df Residuals:                      78   BIC:                             1899.\n",
      "Df Model:                           1                                         \n",
      "Covariance Type:            nonrobust                                         \n",
      "==============================================================================\n",
      "                 coef    std err          t      P>|t|      [0.025      0.975]\n",
      "------------------------------------------------------------------------------\n",
      "const      -1.633e+05      2e+04     -8.178      0.000   -2.03e+05   -1.24e+05\n",
      "x1            57.7282      4.138     13.950      0.000      49.489      65.967\n",
      "==============================================================================\n",
      "Omnibus:                       11.472   Durbin-Watson:                   0.888\n",
      "Prob(Omnibus):                  0.003   Jarque-Bera (JB):               16.361\n",
      "Skew:                           0.591   Prob(JB):                     0.000280\n",
      "Kurtosis:                       4.874   Cond. No.                     2.61e+04\n",
      "==============================================================================\n",
      "\n",
      "Warnings:\n",
      "[1] Standard Errors assume that the covariance matrix of the errors is correctly specified.\n",
      "[2] The condition number is large, 2.61e+04. This might indicate that there are\n",
      "strong multicollinearity or other numerical problems.\n"
     ]
    }
   ],
   "source": [
    "#OLS functionality is in statsmodels\n",
    "import statsmodels.api as sm  \n",
    "\n",
    "def load_dtoc_dataset():\n",
    "    '''\n",
    "    Loads the breach and dtoc data sets into memory\n",
    "    Returns a tuple of numpy.ndarrays representing\n",
    "    breach and dtoc dataset respectively.\n",
    "    '''    \n",
    "    #note we use skip_header because the dataset has column descriptors\n",
    "    dtoc = np.genfromtxt('./data/dtocs.csv', skip_header=1)  \n",
    "    breach = np.genfromtxt('./data/breach.csv', skip_header=1)\n",
    "    return breach, dtoc\n",
    "    \n",
    "    \n",
    "breach, dtoc = load_dtoc_dataset()\n",
    "\n",
    "#regression code\n",
    "dtoc = sm.add_constant(dtoc) # an intercept term to the model\n",
    "model = sm.OLS(breach, dtoc)\n",
    "results = model.fit()\n",
    "\n",
    "print(results.summary())"
   ]
  },
  {
   "cell_type": "code",
   "execution_count": 13,
   "metadata": {},
   "outputs": [
    {
     "name": "stdout",
     "output_type": "stream",
     "text": [
      "0 1 2 3 4 5 6 7 8 9 "
     ]
    }
   ],
   "source": [
    "data = np.arange(10)\n",
    "\n",
    "for x in data:\n",
    "    print(x, end= ' ')"
   ]
  },
  {
   "cell_type": "code",
   "execution_count": 14,
   "metadata": {},
   "outputs": [
    {
     "name": "stdout",
     "output_type": "stream",
     "text": [
      "0 1 2 3 4 5 6 7 8 9 "
     ]
    }
   ],
   "source": [
    "data = np.arange(10)\n",
    "\n",
    "for i in range(data.shape[0]):\n",
    "    print(data[i], end = ' ')"
   ]
  },
  {
   "cell_type": "code",
   "execution_count": 15,
   "metadata": {},
   "outputs": [
    {
     "name": "stdout",
     "output_type": "stream",
     "text": [
      "1000\n"
     ]
    }
   ],
   "source": [
    "def max_value(data):\n",
    "    '''\n",
    "    Loop over each element in array\n",
    "    and return the maximum value\n",
    "    \n",
    "    Keyword arguments:\n",
    "    data -- numpy.array containing numeric data\n",
    "    '''\n",
    "    max_value = 0\n",
    "    \n",
    "    for x in data:\n",
    "        max_value = max(x, max_value)\n",
    "    return max_value\n",
    "        \n",
    "data = np.array([100, 10, 10, 1000, 999, 1])\n",
    "print(max_value(data))"
   ]
  },
  {
   "cell_type": "code",
   "execution_count": 16,
   "metadata": {},
   "outputs": [
    {
     "name": "stdout",
     "output_type": "stream",
     "text": [
      "original data: [0 1 2 3 4 5 6 7 8 9]\n",
      "data with ceiling [0 1 2 3 4 5 5 5 5 5]\n"
     ]
    }
   ],
   "source": [
    "def ceiling(arr, upper_limit):\n",
    "    '''\n",
    "    Loop through all elements of a np.ndarray\n",
    "    and impose a max_value ceiling on the data.\n",
    "    \n",
    "    Keyword arguments:\n",
    "    arry - numeric np.ndarray to iterate\n",
    "    upper_limit - the numeric upper limit on values in arr\n",
    "    '''\n",
    "    for i in range(arr.shape[0]):\n",
    "        arr[i] = min(arr[i], upper_limit)\n",
    "        \n",
    "data = np.arange(10)\n",
    "\n",
    "print('original data: {0}'.format(data))\n",
    "\n",
    "ceiling(data, 5)\n",
    "\n",
    "print('data with ceiling {0}'.format(data))"
   ]
  },
  {
   "cell_type": "code",
   "execution_count": 17,
   "metadata": {},
   "outputs": [
    {
     "name": "stdout",
     "output_type": "stream",
     "text": [
      "original data: [0 1 2 3 4 5 6 7 8 9]\n",
      "data with ceiling [0 1 2 3 4 5 5 5 5 5]\n"
     ]
    }
   ],
   "source": [
    "def ceiling(to_test, upper_limit):\n",
    "    '''\n",
    "    Returing the minimum value by comparing to_test to upper_limit\n",
    "    \n",
    "    Parameters:\n",
    "    -----------\n",
    "    to_test: float\n",
    "        numeric value to test if breaches ceiling\n",
    "    \n",
    "    upper_limit: float\n",
    "        the numeric upper limit on to_test\n",
    "    '''\n",
    "    return min(to_test, upper_limit)\n",
    "\n",
    "# v_ceiling is a wrapper function that we call instead of ceiling\n",
    "v_ceiling = np.vectorize(ceiling)  \n",
    "\n",
    "data = np.arange(10)\n",
    "c_data = v_ceiling(data, 5)\n",
    "\n",
    "print(f'original data: {data}')\n",
    "print(f'data with ceiling {c_data}')"
   ]
  },
  {
   "cell_type": "code",
   "execution_count": 18,
   "metadata": {},
   "outputs": [
    {
     "name": "stdout",
     "output_type": "stream",
     "text": [
      "original data: [0 1 2 3 4 5 6 7 8 9]\n",
      "data with ceiling [0 1 2 3 4 5 5 5 5 5]\n"
     ]
    }
   ],
   "source": [
    "# here we vectorize min instead of our custom function\n",
    "v_ceiling = np.vectorize(min)  \n",
    "\n",
    "data = np.arange(10)\n",
    "c_data = v_ceiling(data, 5)\n",
    "\n",
    "print(f'original data: {data}')\n",
    "print(f'data with ceiling {c_data}')"
   ]
  },
  {
   "cell_type": "code",
   "execution_count": 19,
   "metadata": {},
   "outputs": [
    {
     "name": "stdout",
     "output_type": "stream",
     "text": [
      "(array([3, 4]),)\n"
     ]
    }
   ],
   "source": [
    "data = np.array([0, 1, 2, 500, 700])\n",
    "results = np.where(data > 2)\n",
    "\n",
    "print(results)\n"
   ]
  },
  {
   "cell_type": "code",
   "execution_count": 20,
   "metadata": {},
   "outputs": [
    {
     "name": "stdout",
     "output_type": "stream",
     "text": [
      "[  1 500 700]\n"
     ]
    }
   ],
   "source": [
    "data = np.array([0, 1, 2, 500, 700])\n",
    "indexes = [1, 3, 4]\n",
    "sliced_data = data[indexes]\n",
    "\n",
    "print(sliced_data)"
   ]
  },
  {
   "cell_type": "code",
   "execution_count": 21,
   "metadata": {},
   "outputs": [
    {
     "name": "stdout",
     "output_type": "stream",
     "text": [
      "[500 700]\n",
      "[  0   1   2 999 999]\n"
     ]
    }
   ],
   "source": [
    "data = np.array([0, 1, 2, 500, 700])\n",
    "sliced_data = data[np.where(data > 2)]\n",
    "\n",
    "print(sliced_data)\n",
    "\n",
    "data[np.where(data > 2)] = 999 \n",
    "print(data)\n"
   ]
  },
  {
   "cell_type": "code",
   "execution_count": 22,
   "metadata": {},
   "outputs": [
    {
     "name": "stdout",
     "output_type": "stream",
     "text": [
      "original data: [0 1 2 3 4 5 6 7 8 9]\n",
      "data with ceiling [0 1 2 3 4 5 5 5 5 5]\n"
     ]
    }
   ],
   "source": [
    "def ceiling(data, upper_limit):\n",
    "    '''\n",
    "    Returing the minimum value by comparing to_test to upper_limit\n",
    "    \n",
    "    Parameters:\n",
    "    -----------\n",
    "    to_test: float\n",
    "        numeric value to test if breaches ceiling\n",
    "    \n",
    "    upper_limit: float\n",
    "        the numeric upper limit on to_test\n",
    "    '''\n",
    "    data[np.where(data > upper_limit)] = upper_limit\n",
    "\n",
    "data = np.arange(10)\n",
    "\n",
    "print(f'original data: {data}')\n",
    "ceiling(data, 5)\n",
    "print(f'data with ceiling {data}')"
   ]
  },
  {
   "cell_type": "code",
   "execution_count": null,
   "metadata": {},
   "outputs": [],
   "source": []
  }
 ],
 "metadata": {
  "kernelspec": {
   "display_name": "Python 3",
   "language": "python",
   "name": "python3"
  },
  "language_info": {
   "codemirror_mode": {
    "name": "ipython",
    "version": 3
   },
   "file_extension": ".py",
   "mimetype": "text/x-python",
   "name": "python",
   "nbconvert_exporter": "python",
   "pygments_lexer": "ipython3",
   "version": "3.8.8"
  }
 },
 "nbformat": 4,
 "nbformat_minor": 4
}