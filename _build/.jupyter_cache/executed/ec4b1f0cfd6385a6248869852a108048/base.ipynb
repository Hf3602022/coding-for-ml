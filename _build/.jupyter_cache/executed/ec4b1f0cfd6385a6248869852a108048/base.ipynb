{
 "cells": [
  {
   "cell_type": "code",
   "execution_count": 1,
   "metadata": {},
   "outputs": [
    {
     "name": "stdout",
     "output_type": "stream",
     "text": [
      "hello world\n"
     ]
    }
   ],
   "source": [
    "print('hello world')"
   ]
  },
  {
   "cell_type": "code",
   "execution_count": 2,
   "metadata": {},
   "outputs": [
    {
     "name": "stdout",
     "output_type": "stream",
     "text": [
      "1 + 1 = 2!? and 2 + 2 = 4!?\n"
     ]
    }
   ],
   "source": [
    "print(f'1 + 1 = {1+1}!? and 2 + 2 = {2+2}!?')"
   ]
  },
  {
   "cell_type": "code",
   "execution_count": 3,
   "metadata": {},
   "outputs": [
    {
     "name": "stdout",
     "output_type": "stream",
     "text": [
      "The number 3.14159 given to 2 decimal places is 3.14\n"
     ]
    }
   ],
   "source": [
    "print(f'The number 3.14159 given to 2 decimal places is {3.14159:.2f}')"
   ]
  },
  {
   "cell_type": "code",
   "execution_count": 4,
   "metadata": {},
   "outputs": [
    {
     "name": "stdout",
     "output_type": "stream",
     "text": [
      "The number 3.14159 given to 3 decimal places is 3.142\n"
     ]
    }
   ],
   "source": [
    "print(f'The number 3.14159 given to 3 decimal places is {3.14159:.3f}')"
   ]
  },
  {
   "cell_type": "code",
   "execution_count": 5,
   "metadata": {},
   "outputs": [
    {
     "data": {
      "text/plain": [
       "2"
      ]
     },
     "execution_count": 5,
     "metadata": {},
     "output_type": "execute_result"
    }
   ],
   "source": [
    "1 + 1"
   ]
  },
  {
   "cell_type": "code",
   "execution_count": 6,
   "metadata": {},
   "outputs": [
    {
     "data": {
      "text/plain": [
       "0.5"
      ]
     },
     "execution_count": 6,
     "metadata": {},
     "output_type": "execute_result"
    }
   ],
   "source": [
    "1 / 2"
   ]
  },
  {
   "cell_type": "code",
   "execution_count": 7,
   "metadata": {},
   "outputs": [
    {
     "data": {
      "text/plain": [
       "1.6940298507462686"
      ]
     },
     "execution_count": 7,
     "metadata": {},
     "output_type": "execute_result"
    }
   ],
   "source": [
    "(1 + 2.3 * 4.5) / 6.7"
   ]
  },
  {
   "cell_type": "code",
   "execution_count": 8,
   "metadata": {},
   "outputs": [
    {
     "data": {
      "text/plain": [
       "9"
      ]
     },
     "execution_count": 8,
     "metadata": {},
     "output_type": "execute_result"
    }
   ],
   "source": [
    "3**2"
   ]
  },
  {
   "cell_type": "code",
   "execution_count": 9,
   "metadata": {},
   "outputs": [
    {
     "name": "stdout",
     "output_type": "stream",
     "text": [
      "Addition: 4\n",
      "Substraction: 3\n",
      "Multiplication: 10\n",
      "Division: 5.0\n",
      "Exponentiation: 9\n",
      "Modulo: 3\n"
     ]
    }
   ],
   "source": [
    "print(f'Addition: {2+2}')\n",
    "print(f'Substraction: {7-4}')\n",
    "print(f'Multiplication: {2*5}')\n",
    "print(f'Division: {10/2}')\n",
    "print(f'Exponentiation: {3**2}')\n",
    "print(f'Modulo: {15%4}')"
   ]
  },
  {
   "cell_type": "code",
   "execution_count": 10,
   "metadata": {},
   "outputs": [
    {
     "name": "stdout",
     "output_type": "stream",
     "text": [
      "1 + 1 = 2\n"
     ]
    }
   ],
   "source": [
    "1 + 1\n",
    "1 / 2\n",
    "print(f'1 + 1 = {1+1}')"
   ]
  },
  {
   "cell_type": "code",
   "execution_count": 11,
   "metadata": {},
   "outputs": [
    {
     "name": "stdout",
     "output_type": "stream",
     "text": [
      "30000\n",
      "The value of the variable called salary is 30000\n"
     ]
    }
   ],
   "source": [
    "salary = 30_000\n",
    "print(salary)\n",
    "print(f'The value of the variable called salary is {salary}')"
   ]
  },
  {
   "cell_type": "code",
   "execution_count": 12,
   "metadata": {},
   "outputs": [
    {
     "name": "stdout",
     "output_type": "stream",
     "text": [
      "1.2\n",
      "One point two\n"
     ]
    }
   ],
   "source": [
    "number = 1.2\n",
    "print(number)\n",
    "number = 'One point two'\n",
    "print(number)"
   ]
  },
  {
   "cell_type": "code",
   "execution_count": 13,
   "metadata": {},
   "outputs": [
    {
     "name": "stdout",
     "output_type": "stream",
     "text": [
      "24000.0\n"
     ]
    }
   ],
   "source": [
    "salary = 30000\n",
    "tax_rate = 0.2\n",
    "salary_after_tax = salary * (1 - tax_rate)\n",
    "\n",
    "print(salary_after_tax)"
   ]
  },
  {
   "cell_type": "code",
   "execution_count": 14,
   "metadata": {},
   "outputs": [
    {
     "name": "stdout",
     "output_type": "stream",
     "text": [
      "<class 'int'>\n",
      "<class 'float'>\n"
     ]
    }
   ],
   "source": [
    "salary = 30000\n",
    "tax_rate = 0.2\n",
    "salary_after_tax = salary * (1 - tax_rate)\n",
    "\n",
    "print(type(salary))\n",
    "print(type(salary_after_tax))"
   ]
  },
  {
   "cell_type": "code",
   "execution_count": 15,
   "metadata": {},
   "outputs": [
    {
     "name": "stdout",
     "output_type": "stream",
     "text": [
      "<class 'bool'>\n",
      "<class 'bool'>\n",
      "<class 'float'>\n",
      "<class 'int'>\n",
      "<class 'str'>\n"
     ]
    }
   ],
   "source": [
    "foo = True    # bool (Boolean)\n",
    "bar = False   # bool (Boolean)\n",
    "spam = 3.142  # float (floating point)\n",
    "eggs = 10000000 # int (integer)\n",
    "foobar = 'elderberrys' # str (string)\n",
    "\n",
    "print(type(foo))\n",
    "print(type(bar))\n",
    "print(type(spam))\n",
    "print(type(eggs))\n",
    "print(type(foobar))"
   ]
  },
  {
   "cell_type": "code",
   "execution_count": 16,
   "metadata": {},
   "outputs": [],
   "source": [
    "my_string = \"This is a double-quoted string\"\n",
    "my_string = 'This is a single-quoted string'"
   ]
  },
  {
   "cell_type": "code",
   "execution_count": 17,
   "metadata": {},
   "outputs": [
    {
     "name": "stdout",
     "output_type": "stream",
     "text": [
      "Jack Reacher said, 'Hope for the best, plan for the worst'\n"
     ]
    }
   ],
   "source": [
    "quote = \"Jack Reacher said, 'Hope for the best, plan for the worst'\"\n",
    "print(quote)"
   ]
  },
  {
   "cell_type": "code",
   "execution_count": 18,
   "metadata": {},
   "outputs": [
    {
     "name": "stdout",
     "output_type": "stream",
     "text": [
      "triple quotes let us split strings\n",
      "over mulitple lines\n"
     ]
    }
   ],
   "source": [
    "multi_line_string = '''triple quotes let us split strings\n",
    "over mulitple lines'''\n",
    "\n",
    "print(multi_line_string)"
   ]
  },
  {
   "cell_type": "code",
   "execution_count": 19,
   "metadata": {},
   "outputs": [
    {
     "name": "stdout",
     "output_type": "stream",
     "text": [
      "This line is not a comment, it is code.\n",
      "Python will ignore comments\n"
     ]
    }
   ],
   "source": [
    "# This an inline comment.\n",
    "print(\"This line is not a comment, it is code.\")\n",
    "\n",
    "print(\"Python will ignore comments\")  #comments can appear after code "
   ]
  },
  {
   "cell_type": "code",
   "execution_count": 20,
   "metadata": {},
   "outputs": [],
   "source": [
    "import math"
   ]
  },
  {
   "cell_type": "code",
   "execution_count": 21,
   "metadata": {},
   "outputs": [
    {
     "name": "stdout",
     "output_type": "stream",
     "text": [
      "pi: 3.141592653589793\n",
      "Euler's Constant: 2.718281828459045\n"
     ]
    }
   ],
   "source": [
    "print(f'pi: {math.pi}')\n",
    "print(f\"Euler's Constant: {math.e}\")"
   ]
  },
  {
   "cell_type": "code",
   "execution_count": 22,
   "metadata": {},
   "outputs": [
    {
     "name": "stdout",
     "output_type": "stream",
     "text": [
      "Cosine of pi: -1.0\n"
     ]
    }
   ],
   "source": [
    "print(f'Cosine of pi: {math.cos(math.pi)}')"
   ]
  },
  {
   "cell_type": "code",
   "execution_count": 23,
   "metadata": {},
   "outputs": [
    {
     "name": "stdout",
     "output_type": "stream",
     "text": [
      "Cosine of pi: -1.0\n"
     ]
    }
   ],
   "source": [
    "from math import pi, cos\n",
    "\n",
    "print(f'Cosine of pi: {format(cos(pi))}')"
   ]
  },
  {
   "cell_type": "code",
   "execution_count": 24,
   "metadata": {},
   "outputs": [],
   "source": [
    "def my_add(a, b):\n",
    "    \"\"\"\n",
    "    Returns the sum of two numeric values\n",
    "    \n",
    "    Parameters:\n",
    "    ----------\n",
    "    a: float\n",
    "        first number\n",
    "    b: float\n",
    "        second number\n",
    "    \n",
    "    Returns:\n",
    "    ------\n",
    "    float\n",
    "    \"\"\"\n",
    "    return a + b"
   ]
  },
  {
   "cell_type": "code",
   "execution_count": 25,
   "metadata": {},
   "outputs": [
    {
     "name": "stdout",
     "output_type": "stream",
     "text": [
      "Help on function my_add in module __main__:\n",
      "\n",
      "my_add(a, b)\n",
      "    Returns the sum of two numeric values\n",
      "    \n",
      "    Parameters:\n",
      "    ----------\n",
      "    a: float\n",
      "        first number\n",
      "    b: float\n",
      "        second number\n",
      "    \n",
      "    Returns:\n",
      "    ------\n",
      "    float\n",
      "\n"
     ]
    }
   ],
   "source": [
    "help(my_add)"
   ]
  },
  {
   "cell_type": "code",
   "execution_count": 26,
   "metadata": {},
   "outputs": [
    {
     "name": "stdout",
     "output_type": "stream",
     "text": [
      "2\n",
      "5.7\n"
     ]
    }
   ],
   "source": [
    "print(my_add(1, 1))\n",
    "print(my_add(1.2, 4.5))"
   ]
  },
  {
   "cell_type": "code",
   "execution_count": 27,
   "metadata": {},
   "outputs": [],
   "source": [
    "def pv(future_value, rate, n):\n",
    "    '''\n",
    "    Discount a value at defined rate n time periods into the future.\n",
    "    \n",
    "    Forumula:\n",
    "    PV = FV / (1 + r)^n\n",
    "    Where\n",
    "    FV = future value\n",
    "    r = the comparator (interest) rate\n",
    "    n = number of years in the future\n",
    "    \n",
    "    Parameters:\n",
    "    -----------\n",
    "    future value: float\n",
    "        the value to discount \n",
    "        \n",
    "    rate: float\n",
    "        the rate at which to do the discounting\n",
    "    \n",
    "    n: float\n",
    "        the number of time periods into the future \n",
    "        \n",
    "    Returns:\n",
    "    --------\n",
    "    float\n",
    "    '''\n",
    "    return future_value / (1 + rate)**n\n"
   ]
  },
  {
   "cell_type": "code",
   "execution_count": 28,
   "metadata": {},
   "outputs": [
    {
     "name": "stdout",
     "output_type": "stream",
     "text": [
      "Using an interest rate of 0.035, a payment of £2000.00 in 5 years time is worth £1683.95 today\n",
      "Using an interest rate of 0.01, a payment of £350.00 in 10 years time is worth £316.85 today\n"
     ]
    }
   ],
   "source": [
    "#Test case 1\n",
    "future_value = 2000\n",
    "rate = 0.035\n",
    "years = 5\n",
    "result = pv(future_value, rate, years)\n",
    "\n",
    "print(f'Using an interest rate of {rate}, a payment of £{future_value:.2f}'\n",
    "       + f' in {years} years time is worth £{result:.2f} today')\n",
    "\n",
    "#Test case 2\n",
    "future_value = 350\n",
    "rate = 0.01\n",
    "years = 10\n",
    "result = pv(future_value, rate, years)\n",
    "\n",
    "print(f'Using an interest rate of {rate}, a payment of £{future_value:.2f}'\n",
    "       + f' in {years} years time is worth £{result:.2f} today')"
   ]
  },
  {
   "cell_type": "code",
   "execution_count": 29,
   "metadata": {},
   "outputs": [
    {
     "name": "stdout",
     "output_type": "stream",
     "text": [
      "[0, 1, 2, 3]\n"
     ]
    }
   ],
   "source": [
    "foo = [0, 1, 2, 3]\n",
    "print(foo)"
   ]
  },
  {
   "cell_type": "code",
   "execution_count": 30,
   "metadata": {},
   "outputs": [
    {
     "name": "stdout",
     "output_type": "stream",
     "text": [
      "[0, 1.2, 'hello', [3, 4]]\n"
     ]
    }
   ],
   "source": [
    "bar = [0, 1.2, \"hello\", [3, 4]]\n",
    "print(bar)"
   ]
  },
  {
   "cell_type": "code",
   "execution_count": 31,
   "metadata": {},
   "outputs": [
    {
     "name": "stdout",
     "output_type": "stream",
     "text": [
      "4\n"
     ]
    }
   ],
   "source": [
    "print(len(foo))"
   ]
  },
  {
   "cell_type": "code",
   "execution_count": 32,
   "metadata": {},
   "outputs": [
    {
     "name": "stdout",
     "output_type": "stream",
     "text": [
      "0\n",
      "3\n",
      "1.2\n",
      "[3, 4]\n"
     ]
    }
   ],
   "source": [
    "print(foo[0])\n",
    "print(foo[3])\n",
    "print(bar[1])\n",
    "print(bar[3])"
   ]
  },
  {
   "cell_type": "code",
   "execution_count": 33,
   "metadata": {},
   "outputs": [
    {
     "name": "stdout",
     "output_type": "stream",
     "text": [
      "[0, 10, 2, 3]\n"
     ]
    }
   ],
   "source": [
    "foo[1] = 10\n",
    "print(foo)"
   ]
  },
  {
   "cell_type": "code",
   "execution_count": 34,
   "metadata": {},
   "outputs": [
    {
     "name": "stdout",
     "output_type": "stream",
     "text": [
      "[0, 10, 2, 3]\n",
      "[0, 10]\n",
      "[0, 10]\n",
      "[10, 2, 3]\n",
      "[0, 2]\n",
      "[0, 2]\n"
     ]
    }
   ],
   "source": [
    "print(foo)\n",
    "print(foo[0:2])\n",
    "print(foo[:2])\n",
    "print(foo[1:])\n",
    "print(foo[0:4:2])\n",
    "print(foo[::2])"
   ]
  },
  {
   "cell_type": "code",
   "execution_count": 35,
   "metadata": {},
   "outputs": [
    {
     "name": "stdout",
     "output_type": "stream",
     "text": [
      "3\n",
      "2\n",
      "[3, 2, 10]\n"
     ]
    }
   ],
   "source": [
    "print(foo[-1])\n",
    "print(foo[-2])\n",
    "print(foo[-1:0:-1])"
   ]
  },
  {
   "cell_type": "code",
   "execution_count": 36,
   "metadata": {},
   "outputs": [
    {
     "name": "stdout",
     "output_type": "stream",
     "text": [
      "1\n"
     ]
    }
   ],
   "source": [
    "print(foo.index(10))"
   ]
  },
  {
   "cell_type": "code",
   "execution_count": 37,
   "metadata": {},
   "outputs": [
    {
     "name": "stdout",
     "output_type": "stream",
     "text": [
      "True\n"
     ]
    }
   ],
   "source": [
    "print(10 in foo)"
   ]
  },
  {
   "cell_type": "code",
   "execution_count": 38,
   "metadata": {},
   "outputs": [
    {
     "name": "stdout",
     "output_type": "stream",
     "text": [
      "False\n"
     ]
    }
   ],
   "source": [
    "print(11 in foo)"
   ]
  },
  {
   "cell_type": "code",
   "execution_count": 39,
   "metadata": {},
   "outputs": [
    {
     "name": "stdout",
     "output_type": "stream",
     "text": [
      "[0, 10, 2, 3, 12]\n"
     ]
    }
   ],
   "source": [
    "foo.append(12)\n",
    "print(foo)"
   ]
  },
  {
   "cell_type": "code",
   "execution_count": 40,
   "metadata": {},
   "outputs": [
    {
     "name": "stdout",
     "output_type": "stream",
     "text": [
      "[0, 13, 10, 2, 3, 12]\n"
     ]
    }
   ],
   "source": [
    "foo.insert(1,13)\n",
    "print(foo)"
   ]
  },
  {
   "cell_type": "code",
   "execution_count": 41,
   "metadata": {},
   "outputs": [
    {
     "name": "stdout",
     "output_type": "stream",
     "text": [
      "[0, 13, 2, 3, 12]\n"
     ]
    }
   ],
   "source": [
    "del foo[2]\n",
    "print(foo)"
   ]
  },
  {
   "cell_type": "code",
   "execution_count": 42,
   "metadata": {},
   "outputs": [
    {
     "name": "stdout",
     "output_type": "stream",
     "text": [
      "[5, 7, 6, 4, 3, 2, 1]\n"
     ]
    }
   ],
   "source": [
    "unsorted = [5, 7, 6, 4, 3, 2, 1]\n",
    "print(unsorted)"
   ]
  },
  {
   "cell_type": "code",
   "execution_count": 43,
   "metadata": {},
   "outputs": [
    {
     "data": {
      "text/plain": [
       "'tom the spider'"
      ]
     },
     "execution_count": 43,
     "metadata": {},
     "output_type": "execute_result"
    }
   ],
   "source": [
    "def super_hero_name(firstname, super_surname):\n",
    "    return firstname + ' ' + super_surname\n",
    "\n",
    "super_hero_name(\"tom\", \"the spider\")"
   ]
  },
  {
   "cell_type": "code",
   "execution_count": 44,
   "metadata": {},
   "outputs": [
    {
     "data": {
      "text/plain": [
       "'tom ant-man'"
      ]
     },
     "execution_count": 44,
     "metadata": {},
     "output_type": "execute_result"
    }
   ],
   "source": [
    "super_hero_name(\"tom\", \"ant-man\")"
   ]
  }
 ],
 "metadata": {
  "kernelspec": {
   "display_name": "Python 3",
   "language": "python",
   "name": "python3"
  },
  "language_info": {
   "codemirror_mode": {
    "name": "ipython",
    "version": 3
   },
   "file_extension": ".py",
   "mimetype": "text/x-python",
   "name": "python",
   "nbconvert_exporter": "python",
   "pygments_lexer": "ipython3",
   "version": "3.8.8"
  }
 },
 "nbformat": 4,
 "nbformat_minor": 4
}