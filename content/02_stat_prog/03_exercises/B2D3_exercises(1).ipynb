{
 "cells": [
  {
   "cell_type": "code",
   "execution_count": 4,
   "metadata": {
    "ExecuteTime": {
     "end_time": "2018-10-14T18:10:36.914322Z",
     "start_time": "2018-10-14T18:10:36.911263Z"
    },
    "slideshow": {
     "slide_type": "skip"
    }
   },
   "outputs": [],
   "source": [
    "import pandas as pd\n",
    "import numpy as np\n",
    "import matplotlib.pyplot as plt"
   ]
  },
  {
   "cell_type": "markdown",
   "metadata": {
    "slideshow": {
     "slide_type": "slide"
    }
   },
   "source": [
    "# Practice"
   ]
  },
  {
   "cell_type": "markdown",
   "metadata": {
    "slideshow": {
     "slide_type": "subslide"
    }
   },
   "source": [
    "# Question 1\n",
    "\n",
    "Write a function `make_data(n)` that returns a Series of length `n` where:\n",
    "- the index is a DatetimeIndex containing dates after `2020-01-01`, with random day intervals greater than 1 day (i.e. the difference between two successive dates is a random number of days greater than 1 day)\n",
    "- the associated values are the cumulative sum of random numbers generated in the interval `[-1,1]`"
   ]
  },
  {
   "cell_type": "code",
   "execution_count": 131,
   "metadata": {
    "slideshow": {
     "slide_type": "subslide"
    }
   },
   "outputs": [],
   "source": [
    "def make_data(n):\n",
    "    # YOUR CODE HERE\n",
    "    raise NotImplementedError()"
   ]
  },
  {
   "cell_type": "markdown",
   "metadata": {
    "slideshow": {
     "slide_type": "skip"
    }
   },
   "source": [
    "## Test question 1\n",
    "\n",
    "Your code should not raise any error."
   ]
  },
  {
   "cell_type": "code",
   "execution_count": 250,
   "metadata": {
    "slideshow": {
     "slide_type": "skip"
    }
   },
   "outputs": [],
   "source": [
    "s = make_data(100)\n",
    "assert s.index.min() > pd.to_datetime('2020'), 'Dates should be after 2020'\n",
    "assert (s.index[1:] - s.index[:-1]).min() > pd.Timedelta(1,'D') , 'The difference should be greater than 1 day'\n",
    "assert (s.index[1:] - s.index[:-1]).std() != pd.Timedelta(0,'D'), 'The index should not be a regular data range'\n",
    "assert np.fabs((s - s.shift(1)).values[1:]).max() < 1 , 'Maximum consecutive value difference should be less than 1'"
   ]
  },
  {
   "cell_type": "markdown",
   "metadata": {
    "slideshow": {
     "slide_type": "skip"
    }
   },
   "source": [
    "## Solution question 1"
   ]
  },
  {
   "cell_type": "code",
   "execution_count": 249,
   "metadata": {
    "slideshow": {
     "slide_type": "skip"
    }
   },
   "outputs": [],
   "source": [
    "def make_data(n):\n",
    "    d = pd.Series(np.random.randint(10, size=n)+2).cumsum()\n",
    "    dates = pd.to_datetime('2020') + pd.to_timedelta(d, 'D')\n",
    "    s = pd.Series(np.random.rand(n)*2-1, index=dates).cumsum()\n",
    "    return s"
   ]
  },
  {
   "cell_type": "markdown",
   "metadata": {
    "slideshow": {
     "slide_type": "subslide"
    }
   },
   "source": [
    "# Question 2\n",
    "\n",
    "Write a function `fill_and_smooth(s, window, std)` that:\n",
    "- resamples the series in input to fill each missing day with the next available value\n",
    "- outputs the rolling centred mean over a gaussian weighted window with specified window size and specified standard deviation"
   ]
  },
  {
   "cell_type": "code",
   "execution_count": 128,
   "metadata": {
    "slideshow": {
     "slide_type": "subslide"
    }
   },
   "outputs": [],
   "source": [
    "def fill_and_smooth(s, window, std):\n",
    "    # YOUR CODE HERE\n",
    "    raise NotImplementedError()"
   ]
  },
  {
   "cell_type": "markdown",
   "metadata": {
    "slideshow": {
     "slide_type": "skip"
    }
   },
   "source": [
    "## Test question 2\n",
    "\n",
    "Your code should not raise any error."
   ]
  },
  {
   "cell_type": "code",
   "execution_count": 262,
   "metadata": {
    "scrolled": true,
    "slideshow": {
     "slide_type": "skip"
    }
   },
   "outputs": [],
   "source": [
    "idx = pd.date_range('2011-1-1','2012-1-1', freq='2D')\n",
    "s = pd.Series([1]*len(idx), index=idx)\n",
    "a = fill_and_smooth(s, window=3, std=1).values[1:-1]\n",
    "assert np.all(a == np.ones(len(a))), 'The function fill_and_smooth does not behave as expected'"
   ]
  },
  {
   "cell_type": "markdown",
   "metadata": {
    "slideshow": {
     "slide_type": "skip"
    }
   },
   "source": [
    "## Solution question 2"
   ]
  },
  {
   "cell_type": "code",
   "execution_count": 251,
   "metadata": {
    "slideshow": {
     "slide_type": "skip"
    }
   },
   "outputs": [],
   "source": [
    "def fill_and_smooth(s, window, std):\n",
    "    r = s.resample('D').mean().fillna(method = \"bfill\")\n",
    "    return r.rolling(window=window, center=True, win_type='gaussian').mean(std=std)"
   ]
  },
  {
   "cell_type": "markdown",
   "metadata": {
    "slideshow": {
     "slide_type": "subslide"
    }
   },
   "source": [
    "# Question 3\n",
    "\n",
    "Write a function `get_peaks(s)` that returns the dates corresponding to the peaks in the series (i.e. the local maxima).\n",
    "\n",
    "Write a function `plot_peaks(s, window, std)` that given a series, internally calls `fill_and_smooth(s, window, std)`, and `get_peaks()` and plots:\n",
    "1. the original series\n",
    "2. the smoothed version\n",
    "3. vertical lines in correspondence to the peaks"
   ]
  },
  {
   "cell_type": "markdown",
   "metadata": {
    "slideshow": {
     "slide_type": "subslide"
    }
   },
   "source": [
    "Finally execute:\n",
    "```\n",
    "s = make_data(200)\n",
    "plot_peaks(s, window=30, std=7)\n",
    "```"
   ]
  },
  {
   "cell_type": "code",
   "execution_count": 172,
   "metadata": {
    "slideshow": {
     "slide_type": "subslide"
    }
   },
   "outputs": [],
   "source": [
    "def get_peaks(s):\n",
    "    # YOUR CODE HERE\n",
    "    raise NotImplementedError()\n",
    "    \n",
    "def plot_peaks(s, window, std):\n",
    "    # YOUR CODE HERE\n",
    "    raise NotImplementedError()"
   ]
  },
  {
   "cell_type": "markdown",
   "metadata": {
    "slideshow": {
     "slide_type": "skip"
    }
   },
   "source": [
    "## Test question 3\n",
    "\n",
    "Your code should not raise any error."
   ]
  },
  {
   "cell_type": "code",
   "execution_count": 264,
   "metadata": {
    "slideshow": {
     "slide_type": "skip"
    }
   },
   "outputs": [],
   "source": [
    "s = pd.Series(-np.power(np.arange(100)-50,2))\n",
    "assert get_peaks(s).index.values[0] == 50, 'The function get_peaks does not behave as expected'"
   ]
  },
  {
   "cell_type": "markdown",
   "metadata": {
    "slideshow": {
     "slide_type": "skip"
    }
   },
   "source": [
    "## Solution question 3"
   ]
  },
  {
   "cell_type": "code",
   "execution_count": 263,
   "metadata": {
    "slideshow": {
     "slide_type": "skip"
    }
   },
   "outputs": [],
   "source": [
    "def get_peaks(s):\n",
    "    local_max = s[(s.shift(1) < s) & (s.shift(-1) < s)]\n",
    "    return local_max\n",
    "\n",
    "def plot_peaks(s, window, std):\n",
    "    s.plot()\n",
    "    m = fill_and_smooth(s, window=window, std=std)\n",
    "    m.plot()       \n",
    "    local_max = get_peaks(m)\n",
    "    for dat in local_max.index:\n",
    "        plt.axvline(dat, c='r')"
   ]
  }
 ],
 "metadata": {
  "celltoolbar": "Slideshow",
  "kernelspec": {
   "display_name": "Python 3",
   "language": "python",
   "name": "python3"
  },
  "language_info": {
   "codemirror_mode": {
    "name": "ipython",
    "version": 3
   },
   "file_extension": ".py",
   "mimetype": "text/x-python",
   "name": "python",
   "nbconvert_exporter": "python",
   "pygments_lexer": "ipython3",
   "version": "3.8.8"
  }
 },
 "nbformat": 4,
 "nbformat_minor": 4
}
