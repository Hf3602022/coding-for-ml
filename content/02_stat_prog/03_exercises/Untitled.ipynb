{
 "cells": [
  {
   "cell_type": "markdown",
   "id": "12a9df87-a4c5-4a3f-ad43-c869f6f3cd85",
   "metadata": {},
   "source": [
    "# Working with a `pandas.Dataframe`\n",
    "\n",
    "These exercises and drills aim to build your experience of using an `pandas.DataFrame`.    Try to work through them all without looking at the answers first.\n",
    "\n",
    "<div class=\"alert alert-block alert-info\"><b>Tip:</b> Undoutedly in practice you will work with more complex examples and data than those found here.  These exercises are a very gentle introduction to the syntax of `pandas`.  But don't worry we have some more complicated data wrangling examples coming up!</div>\n",
    "\n",
    "---\n",
    "\n",
    "**Remember for any code where you wish to use `pandas` you need to import it.  We will also import `numpy` to help us generate some synthetic data to use.**"
   ]
  },
  {
   "cell_type": "code",
   "execution_count": 2,
   "id": "dc8a6987-14c5-45f0-b130-af6a3a4e86f6",
   "metadata": {},
   "outputs": [],
   "source": [
    "import pandas as pd\n",
    "import numpy as np"
   ]
  },
  {
   "cell_type": "markdown",
   "id": "9326af92-65d9-47fd-8f18-df6f757aa1b6",
   "metadata": {},
   "source": [
    "## Exercise 1\n",
    "\n",
    "**Task:**\n",
    "* Create a `pandas.Series` named \"number\" with numbers from 1 to 10,000 inclusive.  \n",
    "* The datatype of the series should be `np.uint32`     \n",
    "* Check the length of the `Series`\n",
    "* View the head and tail of the series to quickly validate your code has worked. \n",
    "    "
   ]
  },
  {
   "cell_type": "code",
   "execution_count": null,
   "id": "ada5fda8-5b4d-4796-993a-79bb4738cd40",
   "metadata": {},
   "outputs": [],
   "source": [
    "# your code here ..."
   ]
  },
  {
   "cell_type": "code",
   "execution_count": 14,
   "id": "bcfdbb6f-0c98-4ddf-8b47-d4b9d5827e43",
   "metadata": {},
   "outputs": [
    {
     "data": {
      "text/plain": [
       "0    1\n",
       "1    2\n",
       "Name: number, dtype: uint32"
      ]
     },
     "execution_count": 14,
     "metadata": {},
     "output_type": "execute_result"
    }
   ],
   "source": [
    "# example solution\n",
    "column1 = pd.Series(np.arange(1, 10_000+1), name='number', \n",
    "                    dtype=np.uint32)\n",
    "column1.head(2)"
   ]
  },
  {
   "cell_type": "code",
   "execution_count": 15,
   "id": "a7810c72-102d-45ce-8611-13d4530cfcf3",
   "metadata": {},
   "outputs": [
    {
     "data": {
      "text/plain": [
       "9998     9999\n",
       "9999    10000\n",
       "Name: number, dtype: uint32"
      ]
     },
     "execution_count": 15,
     "metadata": {},
     "output_type": "execute_result"
    }
   ],
   "source": [
    "column1.tail(2)"
   ]
  },
  {
   "cell_type": "code",
   "execution_count": 10,
   "id": "1e17db4c-5961-4588-bcbb-4265941d1e4c",
   "metadata": {},
   "outputs": [
    {
     "data": {
      "text/plain": [
       "10000"
      ]
     },
     "execution_count": 10,
     "metadata": {},
     "output_type": "execute_result"
    }
   ],
   "source": [
    "len(column1)"
   ]
  },
  {
   "cell_type": "markdown",
   "id": "0e2ecd4a-b3a4-4005-afa9-a1e0f6dd8ac9",
   "metadata": {},
   "source": [
    "## Exercise 2"
   ]
  },
  {
   "cell_type": "markdown",
   "id": "add621ce-92e9-41cf-9e95-22e2c687c8e1",
   "metadata": {},
   "source": [
    "**Task**:\n",
    "* Create a `pandas.DataFrame` with 5 rows and 5 columns.  \n",
    "* The data contained in each columns should all be of type int64.\n",
    "* Columns should be titled \"col_1\", \"col_2\" ... \"col_5\"\n",
    "* Check the datatype, shape and column names using `.info()`\n",
    "* View the `DataFrame`\n",
    "* View only the first 2 rows in the `DataFrame`\n",
    "* Create a new variable `col_4` of type `pandas.Series` that only the data in `col_4`\n",
    "\n",
    "**Hints**:\n",
    "* Data and can take any valid int64 value.\n",
    "* One option is to generate a random matrix using a `numpy.random.Generator`"
   ]
  },
  {
   "cell_type": "code",
   "execution_count": null,
   "id": "ee5da19b-0d95-4ab7-9c20-a3a5f10624b2",
   "metadata": {},
   "outputs": [],
   "source": [
    "# your code here..."
   ]
  },
  {
   "cell_type": "code",
   "execution_count": 27,
   "id": "691e6dc0-f504-45a5-bcc3-bdbb53cbc4cb",
   "metadata": {},
   "outputs": [],
   "source": [
    "# example solution - data could be anything you want.\n",
    "rng = np.random.default_rng(42)\n",
    "matrix = rng.integers(0, 50_0000, size=(5,5))\n",
    "df = pd.DataFrame(matrix, columns=[f'col_{i}' for i in range(1, 6)])"
   ]
  },
  {
   "cell_type": "code",
   "execution_count": 28,
   "id": "5ddfd244-7cc4-4243-9c24-4dd5a41abaea",
   "metadata": {},
   "outputs": [
    {
     "name": "stdout",
     "output_type": "stream",
     "text": [
      "<class 'pandas.core.frame.DataFrame'>\n",
      "RangeIndex: 5 entries, 0 to 4\n",
      "Data columns (total 5 columns):\n",
      " #   Column  Non-Null Count  Dtype\n",
      "---  ------  --------------  -----\n",
      " 0   col_1   5 non-null      int64\n",
      " 1   col_2   5 non-null      int64\n",
      " 2   col_3   5 non-null      int64\n",
      " 3   col_4   5 non-null      int64\n",
      " 4   col_5   5 non-null      int64\n",
      "dtypes: int64(5)\n",
      "memory usage: 328.0 bytes\n"
     ]
    }
   ],
   "source": [
    "df.info()"
   ]
  },
  {
   "cell_type": "code",
   "execution_count": 31,
   "id": "c5203982-f10f-457a-9f79-7fef97f37667",
   "metadata": {},
   "outputs": [
    {
     "data": {
      "text/plain": [
       "(5, 5)"
      ]
     },
     "execution_count": 31,
     "metadata": {},
     "output_type": "execute_result"
    }
   ],
   "source": [
    "df.shape"
   ]
  },
  {
   "cell_type": "code",
   "execution_count": 30,
   "id": "93371e5f-4653-4311-8a0c-d584c196f77f",
   "metadata": {},
   "outputs": [
    {
     "data": {
      "text/html": [
       "<div>\n",
       "<style scoped>\n",
       "    .dataframe tbody tr th:only-of-type {\n",
       "        vertical-align: middle;\n",
       "    }\n",
       "\n",
       "    .dataframe tbody tr th {\n",
       "        vertical-align: top;\n",
       "    }\n",
       "\n",
       "    .dataframe thead th {\n",
       "        text-align: right;\n",
       "    }\n",
       "</style>\n",
       "<table border=\"1\" class=\"dataframe\">\n",
       "  <thead>\n",
       "    <tr style=\"text-align: right;\">\n",
       "      <th></th>\n",
       "      <th>col_1</th>\n",
       "      <th>col_2</th>\n",
       "      <th>col_3</th>\n",
       "      <th>col_4</th>\n",
       "      <th>col_5</th>\n",
       "    </tr>\n",
       "  </thead>\n",
       "  <tbody>\n",
       "    <tr>\n",
       "      <th>0</th>\n",
       "      <td>44625</td>\n",
       "      <td>386978</td>\n",
       "      <td>327285</td>\n",
       "      <td>219439</td>\n",
       "      <td>216507</td>\n",
       "    </tr>\n",
       "    <tr>\n",
       "      <th>1</th>\n",
       "      <td>429298</td>\n",
       "      <td>42972</td>\n",
       "      <td>348684</td>\n",
       "      <td>100734</td>\n",
       "      <td>47088</td>\n",
       "    </tr>\n",
       "    <tr>\n",
       "      <th>2</th>\n",
       "      <td>263239</td>\n",
       "      <td>487811</td>\n",
       "      <td>367876</td>\n",
       "      <td>380569</td>\n",
       "      <td>358738</td>\n",
       "    </tr>\n",
       "    <tr>\n",
       "      <th>3</th>\n",
       "      <td>393032</td>\n",
       "      <td>256613</td>\n",
       "      <td>64056</td>\n",
       "      <td>419874</td>\n",
       "      <td>225192</td>\n",
       "    </tr>\n",
       "    <tr>\n",
       "      <th>4</th>\n",
       "      <td>250175</td>\n",
       "      <td>185399</td>\n",
       "      <td>91274</td>\n",
       "      <td>463382</td>\n",
       "      <td>390783</td>\n",
       "    </tr>\n",
       "  </tbody>\n",
       "</table>\n",
       "</div>"
      ],
      "text/plain": [
       "    col_1   col_2   col_3   col_4   col_5\n",
       "0   44625  386978  327285  219439  216507\n",
       "1  429298   42972  348684  100734   47088\n",
       "2  263239  487811  367876  380569  358738\n",
       "3  393032  256613   64056  419874  225192\n",
       "4  250175  185399   91274  463382  390783"
      ]
     },
     "execution_count": 30,
     "metadata": {},
     "output_type": "execute_result"
    }
   ],
   "source": [
    "df"
   ]
  },
  {
   "cell_type": "code",
   "execution_count": 29,
   "id": "bb0bfae1-bb7f-4661-b7a6-066c6226153b",
   "metadata": {},
   "outputs": [
    {
     "data": {
      "text/html": [
       "<div>\n",
       "<style scoped>\n",
       "    .dataframe tbody tr th:only-of-type {\n",
       "        vertical-align: middle;\n",
       "    }\n",
       "\n",
       "    .dataframe tbody tr th {\n",
       "        vertical-align: top;\n",
       "    }\n",
       "\n",
       "    .dataframe thead th {\n",
       "        text-align: right;\n",
       "    }\n",
       "</style>\n",
       "<table border=\"1\" class=\"dataframe\">\n",
       "  <thead>\n",
       "    <tr style=\"text-align: right;\">\n",
       "      <th></th>\n",
       "      <th>col_1</th>\n",
       "      <th>col_2</th>\n",
       "      <th>col_3</th>\n",
       "      <th>col_4</th>\n",
       "      <th>col_5</th>\n",
       "    </tr>\n",
       "  </thead>\n",
       "  <tbody>\n",
       "    <tr>\n",
       "      <th>0</th>\n",
       "      <td>44625</td>\n",
       "      <td>386978</td>\n",
       "      <td>327285</td>\n",
       "      <td>219439</td>\n",
       "      <td>216507</td>\n",
       "    </tr>\n",
       "    <tr>\n",
       "      <th>1</th>\n",
       "      <td>429298</td>\n",
       "      <td>42972</td>\n",
       "      <td>348684</td>\n",
       "      <td>100734</td>\n",
       "      <td>47088</td>\n",
       "    </tr>\n",
       "  </tbody>\n",
       "</table>\n",
       "</div>"
      ],
      "text/plain": [
       "    col_1   col_2   col_3   col_4   col_5\n",
       "0   44625  386978  327285  219439  216507\n",
       "1  429298   42972  348684  100734   47088"
      ]
     },
     "execution_count": 29,
     "metadata": {},
     "output_type": "execute_result"
    }
   ],
   "source": [
    "df.head(2)"
   ]
  },
  {
   "cell_type": "code",
   "execution_count": 33,
   "id": "01be415e-5a00-4355-ad96-f247f860d712",
   "metadata": {},
   "outputs": [
    {
     "name": "stdout",
     "output_type": "stream",
     "text": [
      "<class 'pandas.core.series.Series'>\n",
      "0    219439\n",
      "1    100734\n",
      "2    380569\n",
      "3    419874\n",
      "4    463382\n",
      "Name: col_4, dtype: int64\n"
     ]
    }
   ],
   "source": [
    "col_4 = df['col_4']\n",
    "print(type(col_4))\n",
    "print(col_4)"
   ]
  },
  {
   "cell_type": "markdown",
   "id": "2bf531d7-2962-4f50-ad5d-24f0bc97fe70",
   "metadata": {},
   "source": [
    "# Exercise 3:\n",
    "\n"
   ]
  }
 ],
 "metadata": {
  "kernelspec": {
   "display_name": "Python 3 (ipykernel)",
   "language": "python",
   "name": "python3"
  },
  "language_info": {
   "codemirror_mode": {
    "name": "ipython",
    "version": 3
   },
   "file_extension": ".py",
   "mimetype": "text/x-python",
   "name": "python",
   "nbconvert_exporter": "python",
   "pygments_lexer": "ipython3",
   "version": "3.8.8"
  }
 },
 "nbformat": 4,
 "nbformat_minor": 5
}
