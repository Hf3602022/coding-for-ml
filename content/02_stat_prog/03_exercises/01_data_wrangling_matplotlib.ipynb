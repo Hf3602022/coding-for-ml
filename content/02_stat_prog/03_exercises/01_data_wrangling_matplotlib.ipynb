{
 "cells": [
  {
   "cell_type": "markdown",
   "id": "3d3b20e4-f07f-449f-b7d8-2da0d616caa2",
   "metadata": {},
   "source": [
    "# ED Data Wrangling Exercises\n",
    "\n",
    "Emergency departments around the world must deal with highly attendance numbers on a daily basis. The following exercises work with multiple ED datasets.  You will wrangle the dataset into a useful format using `pandas `and then visualise the time series using `matplotlib`.\n",
    "\n",
    "The data sets used in these exercises are synthetic, but have been generated to reflect real emergency department demand in the United Kingdom."
   ]
  },
  {
   "cell_type": "markdown",
   "id": "7e296c3f-02bb-4eb9-b7c7-11512e30469d",
   "metadata": {},
   "source": [
    "### Imports"
   ]
  },
  {
   "cell_type": "code",
   "execution_count": 1,
   "id": "1d3fb65f-e1e1-4ad9-b8a7-1e8835b6217b",
   "metadata": {},
   "outputs": [],
   "source": [
    "import pandas as pd\n",
    "import numpy as np\n",
    "import matplotlib.pyplot as plt"
   ]
  },
  {
   "cell_type": "markdown",
   "id": "16475600-0256-44b7-a8f6-65ab3a6a6685",
   "metadata": {},
   "source": [
    "## Datasets\n",
    "\n",
    "The dataset `syn_ts_ed_long.csv` contains data from 4 emergency departments in 2014.  The data are stored in **long** (sometimes called **tidy**) format.  You are provided with three columns: `date` (non unique date time formatted), `hosp` (int 1-4) and `attends` (int, daily number of attends at hosp $i$)\n",
    "\n",
    "The dataset `syn_ts_wide.csv` contains the same data in wide format.  Each row now represents a unique date and each hospital ED has its own column. \n",
    "\n"
   ]
  },
  {
   "cell_type": "markdown",
   "id": "6038fcf0-2388-497a-8342-1c93bb19c9b6",
   "metadata": {},
   "source": [
    "## Exercise 1\n",
    "\n",
    "**Task 1:**\n",
    "\n",
    "* Read the two datasets into a pandas dataframe and inspect the columns and data so that you understand the dataset description above.\n",
    "\n",
    "**Hints**:\n",
    "* The URL's for the datasets are provided below."
   ]
  },
  {
   "cell_type": "code",
   "execution_count": 2,
   "id": "c0e86cce-06e6-4a85-8a63-1525ef5622df",
   "metadata": {},
   "outputs": [],
   "source": [
    "# your code here ...\n",
    "\n",
    "LONG_URL = 'https://raw.githubusercontent.com/health-data-science-OR/' \\\n",
    "            + 'hpdm139-datasets/main/syn_ts_ed_long.csv'\n",
    "WIDE_URL = 'https://raw.githubusercontent.com/health-data-science-OR/' \\\n",
    "            + 'hpdm139-datasets/main/syn_ts_ed_wide.csv'"
   ]
  },
  {
   "cell_type": "markdown",
   "id": "6ebce693-e159-4ea3-810b-0f9311795eff",
   "metadata": {},
   "source": [
    "# Exercise 2:\n",
    "\n",
    "Assume you have only been provided with `syn_ts_ed_long.csv`.\n",
    "\n",
    "**Task:**\n",
    "* Convert the data into wide format.\n",
    "* the output of your code should a `pd.Dataframe` equivalent to `syn_ts_ed_wide.csv`\n",
    "* Make a decision about the appropraite data types for each of the series.  For example, by default the attendance column is an `int64`.  Is this sensible? What other type of integer could the hospital columns be stored as?  \n",
    "\n",
    "**Advanced Task:**\n",
    "* Your data wrangling code should make use of **chained commands** in `pandas`.\n",
    "\n",
    "**Hints**\n",
    "* There are various ways to complete this task.  You may want to make use of `pivot_table`.\n",
    "* One complication with a pivot is that you end up with a `MultiIndex` column for the hospital and number of attends. This is not always particularly clear for labelling. An option is to remove the Mulit-index during wrangling.  You could explore the of transposing the `pd.Dataframe` using `.T` and the `.reset_index()` to drop the index.\n",
    "* You may want to build up your code command by command to help debug as you go along.\n",
    "* Don't forget about data types.  \n",
    " "
   ]
  },
  {
   "cell_type": "code",
   "execution_count": 5,
   "id": "b7d217a0-eacf-42bc-ad1e-6bedf78f8de2",
   "metadata": {},
   "outputs": [],
   "source": [
    "# your code here ..."
   ]
  },
  {
   "cell_type": "markdown",
   "id": "dfef3606-cf06-407b-b98a-37d1e0f9ada3",
   "metadata": {},
   "source": [
    "## Exercise 3:\n",
    "\n",
    "Now assume that you have been provided with the data in `syn_ts_ed_wide.csv`\n",
    "\n",
    "**Task**:\n",
    "* Convert the dataset from wide format to long (tidy) format.\n",
    "\n",
    "**Advanced task**\n",
    "* Your data wrangling code should make use of **chained commands** in `pandas`.\n",
    "\n",
    "**Hints:**\n",
    "* Investigate the `pandas` function `wide_to_long()` or the function `melt()`"
   ]
  },
  {
   "cell_type": "code",
   "execution_count": 8,
   "id": "15de927b-82a3-45b1-88c2-a85f472387dc",
   "metadata": {},
   "outputs": [],
   "source": [
    "# your code here..."
   ]
  },
  {
   "cell_type": "markdown",
   "id": "b2ef0116-6ffc-40ee-9702-aa941d2601e3",
   "metadata": {},
   "source": [
    "## Exercise 4\n",
    "\n",
    "We will now move onto visualising the dataset using `matplotlib`\n",
    "\n",
    "**Task**:\n",
    "* Using the wide format data, create a line plot of the data for the ED located at hospital 1. \n",
    "* Label the y axis 'Attendances'\n",
    "* Label x axis 'Date'\n",
    "* Use a fontsize of 12\n",
    "* Provide a background grid for the plot.\n",
    "* Save the plot as a .png file with dpi of 300.\n",
    "\n",
    "**Hints**\n",
    "* Feel free to adapt the plot to improve its appearance using whatever `matplotlib` options you prefer.\n",
    "\n"
   ]
  },
  {
   "cell_type": "code",
   "execution_count": null,
   "id": "0e03f4cb-78dd-4d05-9443-783829757a90",
   "metadata": {},
   "outputs": [],
   "source": [
    "# your code here ..."
   ]
  },
  {
   "cell_type": "markdown",
   "id": "260825e0-e5f4-4672-b35d-43c6e4028d4c",
   "metadata": {},
   "source": [
    "## Exercise 5\n",
    "\n",
    "**Task**:\n",
    "* Create a grid of subplots with 1 column and 4 rows.  Each subplot should display one of the hospital ED's. \n",
    "* Label each subplot with the appropraite hospital.\n",
    "* Provide an overall figure y axis label of 'ED Attendances'\n",
    "* Give the figure and appropriate sizing\n",
    "\n",
    "**Hints:**\n",
    "* There are several ways to create a grid of subplots.  The easiest for this problem is to use the **factory** function `plt.subplots()`.  Refer back to the `matplotlib` sections in the book for help.\n",
    "* If you are using `matplotlib` version 3.4 or above you can use `fig.supylabel()` and `figsupxlabel()` to set an overall axis label.\n"
   ]
  },
  {
   "cell_type": "code",
   "execution_count": null,
   "id": "0df37b9f-afbe-41d6-8aee-f32536fe4d5c",
   "metadata": {},
   "outputs": [],
   "source": [
    "# your solution here ..."
   ]
  }
 ],
 "metadata": {
  "kernelspec": {
   "display_name": "Python 3 (ipykernel)",
   "language": "python",
   "name": "python3"
  },
  "language_info": {
   "codemirror_mode": {
    "name": "ipython",
    "version": 3
   },
   "file_extension": ".py",
   "mimetype": "text/x-python",
   "name": "python",
   "nbconvert_exporter": "python",
   "pygments_lexer": "ipython3",
   "version": "3.8.8"
  }
 },
 "nbformat": 4,
 "nbformat_minor": 5
}
