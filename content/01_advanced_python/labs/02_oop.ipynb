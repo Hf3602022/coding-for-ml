{
 "cells": [
  {
   "cell_type": "markdown",
   "id": "d133f748",
   "metadata": {},
   "source": [
    "# Object Orientated Programming\n",
    "\n",
    "Python is an **object orientated progamming language** that means that the "
   ]
  }
 ],
 "metadata": {
  "kernelspec": {
   "display_name": "Python 3",
   "language": "python",
   "name": "python3"
  },
  "language_info": {
   "codemirror_mode": {
    "name": "ipython",
    "version": 3
   },
   "file_extension": ".py",
   "mimetype": "text/x-python",
   "name": "python",
   "nbconvert_exporter": "python",
   "pygments_lexer": "ipython3",
   "version": "3.7.3"
  }
 },
 "nbformat": 4,
 "nbformat_minor": 5
}
