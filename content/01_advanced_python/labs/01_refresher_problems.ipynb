{
 "cells": [
  {
   "cell_type": "markdown",
   "id": "talented-radical",
   "metadata": {},
   "source": [
    "# Refresher problems\n",
    "\n",
    "The exercises in this lab are designed to refresh and in some cases challenge your python knowlege and problem solving skills.\n",
    "\n",
    "> **Note** that the solutions to these exercises are in standard cPython.  If you have knowledge of scientific python libraries such as numpy or scipy and are **confident** in using them to complete the exercises then that is fine.  However, don't feel you need to overcomplicate your code.  We will study scientific libraries later in the course.\n",
    "\n",
    "Even if you are confident in your basic python skills try to work through all of the questions.  \n",
    "\n",
    "**Some extra challenges relevant to data science and ML:**\n",
    "\n",
    "* Aim to produce efficient solutions to problems i.e. those that require a minimal amount of memory, computations and run time.\n",
    "* Time your solutions to identify if you have improved run time. \n",
    "* Keep your solutions readable.  Write good quality human readable code and give your functions PEP8 docstrings.\n",
    "* Test your problems with more than one data input - this can help identify weaknesses and errors in your code.\n",
    "* Add some defensive error checking and/or exception handling for function inputs.\n",
    "---"
   ]
  },
  {
   "cell_type": "markdown",
   "id": "early-layer",
   "metadata": {},
   "source": [
    "## Exercise 1\n",
    "\n",
    "Given five positive integers, find the minimum and maximum values that can be calculated by **summing exactly four of the five integers**. Print the respective minimum and maximum values.\n",
    "\n",
    "**Example:**\n",
    "\n",
    "```python\n",
    "arr = [9, 3, 5, 7, 1]\n",
    "```\n",
    "**output:**\n",
    "\n",
    "```\n",
    "16\n",
    "24\n",
    "```"
   ]
  },
  {
   "cell_type": "code",
   "execution_count": 12,
   "id": "congressional-result",
   "metadata": {},
   "outputs": [],
   "source": [
    "# your code here ...\n",
    "arr = [9, 3, 5, 7, 1]"
   ]
  },
  {
   "cell_type": "code",
   "execution_count": 10,
   "id": "conceptual-avatar",
   "metadata": {},
   "outputs": [],
   "source": [
    "# example solution\n",
    "def sum_smallest_n(arr, n=4):\n",
    "    '''\n",
    "    Return the sum of the smallest n of an array\n",
    "    \n",
    "    Params:\n",
    "    -------\n",
    "    arr: list\n",
    "        assumes list of numerical data \n",
    "    \n",
    "    n: int, optional (default=4)\n",
    "        Number of items to return \n",
    "        \n",
    "    Returns:\n",
    "    -------\n",
    "    int\n",
    "    '''\n",
    "    return sum(sorted(arr)[:n])\n",
    "\n",
    "def sum_largest_n(arr, n=4):\n",
    "    '''\n",
    "    Return the sum of the largest n of an array\n",
    "    \n",
    "    Params:\n",
    "    -------\n",
    "    arr: list\n",
    "        assumes list of numerical data \n",
    "    \n",
    "    n: int, optional (default=4)\n",
    "        Number of items to return \n",
    "        \n",
    "    Returns:\n",
    "    -------\n",
    "    int\n",
    "    '''\n",
    "    return sum(sorted(arr, reverse=True)[:n])"
   ]
  },
  {
   "cell_type": "code",
   "execution_count": 11,
   "id": "latest-phenomenon",
   "metadata": {},
   "outputs": [
    {
     "name": "stdout",
     "output_type": "stream",
     "text": [
      "16\n",
      "24\n"
     ]
    }
   ],
   "source": [
    "arr = [9, 3, 5, 7, 1]\n",
    "print(sum_smallest_n(arr))\n",
    "print(sum_largest_n(arr))"
   ]
  },
  {
   "cell_type": "markdown",
   "id": "outer-amendment",
   "metadata": {},
   "source": [
    "---\n",
    "## Exercise **n**:\n",
    "\n",
    "A string is said to be a special string if either of two conditions is met:\n",
    "\n",
    "* All of the characters are the same, e.g. aaa.\n",
    "* All characters except the middle one are the same, e.g. aadaa.\n",
    "\n",
    "A special substring is any substring of a string which meets one of those criteria. Given a string, determine how many special substrings can be formed from it. \n",
    "\n",
    "**Example**\n",
    "\n",
    "```python\n",
    "s = mnonopoo\n",
    "```\n",
    "\n",
    "s contains the following 12 special substrings: \n",
    "\n",
    "```python\n",
    "{'m', 'n', 'o', 'n', 'o', 'p', 'o', 'o', 'non', 'ono', 'opo', 'oo'}\n",
    "```\n",
    "\n",
    "**Test data**\n",
    "\n",
    "```python\n",
    "# answer = 7\n",
    "# {'a', 's', 'a', 's', 'd', 'asa', 'sas'}\n",
    "s = 'asasd'\n",
    "\n",
    "# answer = 10\n",
    "# {'a', 'b', 'c', 'b', 'a', 'b', 'a'. 'bcb', 'bab', 'aba'}\n",
    "s = 'abcbaba'\n",
    "\n",
    "# answer = 10\n",
    "# {'a', 'a', 'a', 'a', 'aa', 'aa', 'aa', 'aaa', 'aaa', 'aaaa'}\n",
    "s = 'aaaa'\n",
    "\n",
    "\n",
    "```\n",
    "\n",
    "\n"
   ]
  },
  {
   "cell_type": "code",
   "execution_count": 13,
   "id": "accessible-jimmy",
   "metadata": {},
   "outputs": [],
   "source": [
    "# your code here"
   ]
  },
  {
   "cell_type": "code",
   "execution_count": 17,
   "id": "several-lottery",
   "metadata": {},
   "outputs": [],
   "source": [
    "def compact_format(s):\n",
    "    '''\n",
    "    Converts a string into a compact format\n",
    "    \n",
    "    E.g.\n",
    "    \n",
    "    s = 'asasd'\n",
    "    compact = [['a', 1], ['s', 1], ['a', 1], ['s', 1], ['d', 1]]\n",
    "    \n",
    "    s = 'aaaa'\n",
    "    compact = [['a', 4]]\n",
    "    \n",
    "    '''\n",
    "    current_char = s[0]\n",
    "    count = 1\n",
    "    compact = []\n",
    "\n",
    "    for i in range(1, len(s)):\n",
    "        if current_char == s[i]:\n",
    "            count += 1\n",
    "        else:\n",
    "            compact.append([current_char, count])\n",
    "            current_char = s[i]\n",
    "            count = 1\n",
    "\n",
    "    #final letter\n",
    "    compact.append([current_char, count])\n",
    "    return compact"
   ]
  },
  {
   "cell_type": "code",
   "execution_count": null,
   "id": "tested-morning",
   "metadata": {},
   "outputs": [],
   "source": []
  },
  {
   "cell_type": "code",
   "execution_count": 16,
   "id": "individual-official",
   "metadata": {},
   "outputs": [
    {
     "data": {
      "text/plain": [
       "[['a', 4]]"
      ]
     },
     "execution_count": 16,
     "metadata": {},
     "output_type": "execute_result"
    }
   ],
   "source": [
    "s = 'aaaa'\n",
    "compact_format(s)"
   ]
  },
  {
   "cell_type": "code",
   "execution_count": null,
   "id": "tribal-target",
   "metadata": {},
   "outputs": [],
   "source": []
  }
 ],
 "metadata": {
  "kernelspec": {
   "display_name": "Python 3",
   "language": "python",
   "name": "python3"
  },
  "language_info": {
   "codemirror_mode": {
    "name": "ipython",
    "version": 3
   },
   "file_extension": ".py",
   "mimetype": "text/x-python",
   "name": "python",
   "nbconvert_exporter": "python",
   "pygments_lexer": "ipython3",
   "version": "3.8.8"
  }
 },
 "nbformat": 4,
 "nbformat_minor": 5
}
