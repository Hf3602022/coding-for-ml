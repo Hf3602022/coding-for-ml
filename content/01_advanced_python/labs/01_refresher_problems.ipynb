{
 "cells": [
  {
   "cell_type": "markdown",
   "id": "smart-spoke",
   "metadata": {},
   "source": [
    "# Refresher problems\n",
    "\n",
    "The exercises in this lab are designed to refresh and in some cases challenge your python knowlege and problem solving skills.\n",
    "\n",
    "> **Note** that the solutions to these exercises are in standard cPython.  If you have knowledge of scientific python libraries such as numpy or scipy and are **confident** in using them to complete the exercises then that is fine.  However, don't feel you need to overcomplicate your code.  We will study scientific libraries later in the course.\n",
    "\n",
    "Even if you are confident in your basic python skills try to work through all of the questions.  \n",
    "\n",
    "**Some extra challenges relevant to data science and ML:**\n",
    "\n",
    "* Aim to produce efficient solutions to problems i.e. those that require a minimal amount of memory, computations and run time.\n",
    "* Time your solutions to identify if you have improved run time. \n",
    "* Keep your solutions readable.  Write good quality human readable code and give your functions PEP8 docstrings.\n",
    "* Test your problems with more than one data input - this can help identify weaknesses and errors in your code.\n",
    "* Add some defensive error checking and/or exception handling for function inputs.\n",
    "---"
   ]
  },
  {
   "cell_type": "markdown",
   "id": "subject-consortium",
   "metadata": {},
   "source": [
    "## Imports"
   ]
  },
  {
   "cell_type": "code",
   "execution_count": 143,
   "id": "mysterious-confidence",
   "metadata": {},
   "outputs": [],
   "source": [
    "import io"
   ]
  },
  {
   "cell_type": "markdown",
   "id": "sensitive-there",
   "metadata": {},
   "source": [
    "## Exercise 1\n",
    "\n",
    "Given five positive integers, find the minimum and maximum values that can be calculated by **summing exactly four of the five integers**. Print the respective minimum and maximum values.\n",
    "\n",
    "**Example:**\n",
    "\n",
    "```python\n",
    "arr = [9, 3, 5, 7, 1]\n",
    "```\n",
    "**output:**\n",
    "\n",
    "```\n",
    "16\n",
    "24\n",
    "```"
   ]
  },
  {
   "cell_type": "code",
   "execution_count": 12,
   "id": "cosmetic-concert",
   "metadata": {},
   "outputs": [],
   "source": [
    "# your code here ...\n",
    "arr = [9, 3, 5, 7, 1]"
   ]
  },
  {
   "cell_type": "code",
   "execution_count": 10,
   "id": "swedish-copying",
   "metadata": {},
   "outputs": [],
   "source": [
    "# example solution\n",
    "def sum_smallest_n(arr, n=4):\n",
    "    '''\n",
    "    Return the sum of the smallest n of an array\n",
    "    \n",
    "    Params:\n",
    "    -------\n",
    "    arr: list\n",
    "        assumes list of numerical data \n",
    "    \n",
    "    n: int, optional (default=4)\n",
    "        Number of items to return \n",
    "        \n",
    "    Returns:\n",
    "    -------\n",
    "    int\n",
    "    '''\n",
    "    return sum(sorted(arr)[:n])\n",
    "\n",
    "def sum_largest_n(arr, n=4):\n",
    "    '''\n",
    "    Return the sum of the largest n of an array\n",
    "    \n",
    "    Params:\n",
    "    -------\n",
    "    arr: list\n",
    "        assumes list of numerical data \n",
    "    \n",
    "    n: int, optional (default=4)\n",
    "        Number of items to return \n",
    "        \n",
    "    Returns:\n",
    "    -------\n",
    "    int\n",
    "    '''\n",
    "    return sum(sorted(arr, reverse=True)[:n])"
   ]
  },
  {
   "cell_type": "code",
   "execution_count": 11,
   "id": "headed-diesel",
   "metadata": {},
   "outputs": [
    {
     "name": "stdout",
     "output_type": "stream",
     "text": [
      "16\n",
      "24\n"
     ]
    }
   ],
   "source": [
    "arr = [9, 3, 5, 7, 1]\n",
    "print(sum_smallest_n(arr))\n",
    "print(sum_largest_n(arr))"
   ]
  },
  {
   "cell_type": "markdown",
   "id": "regular-crazy",
   "metadata": {},
   "source": [
    "---\n",
    "## Exercise **n**:\n",
    "\n",
    "A string is said to be a special string if either of two conditions is met:\n",
    "\n",
    "* All of the characters are the same, e.g. aaa.\n",
    "* All characters except the middle one are the same, e.g. aadaa.\n",
    "\n",
    "A special substring is any substring of a string which meets one of those criteria. Given a string, determine how many special substrings can be formed from it. \n",
    "\n",
    "**Example**\n",
    "\n",
    "```python\n",
    "s = 'mnonopoo'\n",
    "```\n",
    "\n",
    "s contains the following 12 special substrings: \n",
    "\n",
    "```python\n",
    "{'m', 'n', 'o', 'n', 'o', 'p', 'o', 'o', 'non', 'ono', 'opo', 'oo'}\n",
    "```\n",
    "\n",
    "**Task:**\n",
    "\n",
    "* Write a function called `substr_count(s)` that accepts a `str` parameter `s` and calculates the number of instances of a special string within it.  \n",
    "* Use the example above and the test data below to test your function.\n",
    "* **Extra Challenge**: can you solve this problem efficiently with only one or two passes of s?\n",
    "\n",
    "**Test data**\n",
    "\n",
    "```python\n",
    "# expected answer = 7\n",
    "# {'a', 's', 'a', 's', 'd', 'asa', 'sas'}\n",
    "s = 'asasd'\n",
    "\n",
    "# expected answer = 10\n",
    "# {'a', 'b', 'c', 'b', 'a', 'b', 'a'. 'bcb', 'bab', 'aba'}\n",
    "s = 'abcbaba'\n",
    "\n",
    "# expected answer = 10\n",
    "# {'a', 'a', 'a', 'a', 'aa', 'aa', 'aa', 'aaa', 'aaa', 'aaaa'}\n",
    "s = 'aaaa'\n",
    "\n",
    "# expected answer = 393074\n",
    "# len(big_s) = 327308 (!)\n",
    "f = open(\"big_special_str.txt\", \"r\")\n",
    "big_s = f.read()\n",
    "```"
   ]
  },
  {
   "cell_type": "code",
   "execution_count": 13,
   "id": "raised-december",
   "metadata": {},
   "outputs": [],
   "source": [
    "# your code here"
   ]
  },
  {
   "cell_type": "code",
   "execution_count": 142,
   "id": "banner-arrow",
   "metadata": {},
   "outputs": [],
   "source": [
    "def compact_format(s):\n",
    "    '''\n",
    "    Converts a string into a compact list format \n",
    "    that includes the letter and an integer indicating\n",
    "    the number of times is appears consecutively before\n",
    "    a charactor change.\n",
    "    \n",
    "    Params:\n",
    "    ------\n",
    "    s: str\n",
    "        A string to convert\n",
    "        \n",
    "    Returns:\n",
    "    ------\n",
    "    list\n",
    "    \n",
    "    Example usage:\n",
    "    ------------\n",
    "    \n",
    "    ```python\n",
    "    >> s = 'asasd'\n",
    "    >> compact_format(s)\n",
    "    [['a', 1], ['s', 1], ['a', 1], ['s', 1], ['d', 1]]\n",
    "    \n",
    "    >> s = 'aaaa'\n",
    "    >> compact_format(s)\n",
    "   [['a', 4]]\n",
    "    ```\n",
    "    \n",
    "    '''\n",
    "    current_char = s[0]\n",
    "    count = 1\n",
    "    compact = []\n",
    "\n",
    "    for i in range(1, len(s)):\n",
    "        if current_char == s[i]:\n",
    "            count += 1\n",
    "        else:\n",
    "            compact.append([current_char, count])\n",
    "            current_char = s[i]\n",
    "            count = 1\n",
    "\n",
    "    #final letter\n",
    "    compact.append([current_char, count])\n",
    "    return compact"
   ]
  },
  {
   "cell_type": "code",
   "execution_count": 18,
   "id": "available-poster",
   "metadata": {},
   "outputs": [],
   "source": [
    "def pairwise_comparisons(n):\n",
    "    '''\n",
    "    The number of all pairwise combinations that can be performed.\n",
    "    '''\n",
    "    return int(((n*(n-1))/2))"
   ]
  },
  {
   "cell_type": "code",
   "execution_count": 151,
   "id": "paperback-circumstances",
   "metadata": {},
   "outputs": [],
   "source": [
    "def substr_count(s):\n",
    "    '''\n",
    "    Count the special substring instances in the string\n",
    "    \n",
    "    e.g. 'aaaa' = {'a', 'a', 'a', 'a', 'aa', 'aa', 'aa', 'aaa', 'aaa', 'aaaa'}\n",
    "    \n",
    "    function returns = 10\n",
    "    \n",
    "    e.g. 'abcbaba' = {'a', 'b', 'c', 'b', 'a', 'b', 'a'. 'bcb', 'bab', 'aba'}\n",
    "\n",
    "    function returns = 10\n",
    "    \n",
    "    Function performs a single pass of s and then a second pass of a smaller\n",
    "    compact representation.  Technically this could all be achieved in a single\n",
    "    pass.  This solution is slightly more readable at the loss of a bit of efficiency.\n",
    "    \n",
    "    Params:\n",
    "    -------\n",
    "    s: str\n",
    "        The string to parse.  \n",
    "    \n",
    "    Returns:\n",
    "    --------\n",
    "    int\n",
    "    \n",
    "    Example usage:\n",
    "    ------------\n",
    "    \n",
    "    ```python\n",
    "    >> s = 'aaaa'\n",
    "    >> substr_count(s)\n",
    "    10\n",
    "    ```\n",
    "    \n",
    "    '''\n",
    "    count = len(s)\n",
    "     \n",
    "    # pre-processing of string into compact format\n",
    "    cs = compact_format(s)\n",
    "\n",
    "    # loop comparison of s[1] to s[n-1]\n",
    "    for i in range(1, len(cs)-1):\n",
    "        \n",
    "        count += pairwise_comparisons(cs[i][1])\n",
    "        \n",
    "        #only 1 middle char + same char in head & tail\n",
    "        if cs[i][1] == 1 and cs[i-1][0] == cs[i+1][0] : \n",
    "            # e.g.1 cacc.  Therefore count + 1 (cac)\n",
    "            # e.g.2 cccacc  add 2 (ccacc and cac)\n",
    "            # e.g.3 ccccacc add 2 (ccacc and cac)\n",
    "            # this is the minimum of each of the two \n",
    "            count += min(cs[i-1][1], cs[i+1][1])\n",
    "            \n",
    "    # first and last missed in above loop\n",
    "    count += pairwise_comparisons(cs[0][1])\n",
    "    if(len(cs) > 1):\n",
    "        count += pairwise_comparisons(cs[len(cs)-1][1])\n",
    "        \n",
    "    return count"
   ]
  },
  {
   "cell_type": "code",
   "execution_count": 125,
   "id": "surface-brisbane",
   "metadata": {},
   "outputs": [
    {
     "data": {
      "text/plain": [
       "[['a', 1], ['s', 1], ['a', 1], ['s', 1], ['d', 1]]"
      ]
     },
     "execution_count": 125,
     "metadata": {},
     "output_type": "execute_result"
    }
   ],
   "source": [
    "# this is what compact format outputs\n",
    "s = 'asasd'\n",
    "compact_format(s)"
   ]
  },
  {
   "cell_type": "code",
   "execution_count": 152,
   "id": "detailed-intervention",
   "metadata": {},
   "outputs": [
    {
     "name": "stdout",
     "output_type": "stream",
     "text": [
      "[12, 7, 10, 10]\n",
      "[12, 7, 10, 10]\n"
     ]
    }
   ],
   "source": [
    "# test function\n",
    "test_data = ['mnonopoo', 'asasd', 'abcbaba', 'aaaa']\n",
    "expected = [12, 7, 10, 10]\n",
    "results = [substr_count(s) for s in test_data]\n",
    "\n",
    "print(expected)\n",
    "print(results)"
   ]
  },
  {
   "cell_type": "code",
   "execution_count": 153,
   "id": "critical-habitat",
   "metadata": {},
   "outputs": [
    {
     "data": {
      "text/plain": [
       "393074"
      ]
     },
     "execution_count": 153,
     "metadata": {},
     "output_type": "execute_result"
    }
   ],
   "source": [
    "f = open(\"big_special_str.txt\", \"r\")\n",
    "big_s = f.read()\n",
    "substr_count(big_s)"
   ]
  }
 ],
 "metadata": {
  "kernelspec": {
   "display_name": "Python 3",
   "language": "python",
   "name": "python3"
  },
  "language_info": {
   "codemirror_mode": {
    "name": "ipython",
    "version": 3
   },
   "file_extension": ".py",
   "mimetype": "text/x-python",
   "name": "python",
   "nbconvert_exporter": "python",
   "pygments_lexer": "ipython3",
   "version": "3.8.8"
  }
 },
 "nbformat": 4,
 "nbformat_minor": 5
}
