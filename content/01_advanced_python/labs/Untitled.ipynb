{
 "cells": [
  {
   "cell_type": "code",
   "execution_count": 1,
   "id": "leading-probe",
   "metadata": {},
   "outputs": [],
   "source": [
    "# Scientific coding"
   ]
  },
  {
   "cell_type": "markdown",
   "id": "ambient-eight",
   "metadata": {},
   "source": [
    "## Naive Approach\n",
    "\n",
    "Time complexity: $O(2^n)$"
   ]
  },
  {
   "cell_type": "code",
   "execution_count": 2,
   "id": "blank-colorado",
   "metadata": {},
   "outputs": [],
   "source": [
    "def fib(n):\n",
    "    '''\n",
    "    Calculates the fibinaci number for n\n",
    "    using recursion.\n",
    "    \n",
    "    Params:\n",
    "    ------\n",
    "    n: int\n",
    "        Assumes >= 1\n",
    "    \n",
    "    Returns:\n",
    "    -------\n",
    "    int\n",
    "    '''\n",
    "    if n < 2:\n",
    "        return 1\n",
    "    else:\n",
    "        return fib(n-1) + fib(n-2)"
   ]
  },
  {
   "cell_type": "code",
   "execution_count": 3,
   "id": "flying-charity",
   "metadata": {},
   "outputs": [
    {
     "name": "stdout",
     "output_type": "stream",
     "text": [
      "1:\t1\n",
      "2:\t2\n",
      "3:\t3\n",
      "4:\t5\n",
      "5:\t8\n",
      "6:\t13\n",
      "7:\t21\n",
      "8:\t34\n",
      "9:\t55\n",
      "complete\n",
      "CPU times: user 190 µs, sys: 78 µs, total: 268 µs\n",
      "Wall time: 208 µs\n"
     ]
    }
   ],
   "source": [
    "%%time\n",
    "MAX_N = 10\n",
    "\n",
    "for i in range(1, MAX_N):\n",
    "    print(f'{i}:\\t{fib(i)}')\n",
    "    \n",
    "print('complete')"
   ]
  },
  {
   "cell_type": "markdown",
   "id": "conscious-clock",
   "metadata": {},
   "source": [
    "## Memoization"
   ]
  },
  {
   "cell_type": "code",
   "execution_count": 4,
   "id": "christian-influence",
   "metadata": {},
   "outputs": [],
   "source": [
    "def cached(func):\n",
    "    '''\n",
    "    Momoization Decorator.  \n",
    "    Creates a cache (lookup) of the historical\n",
    "    calls to @func.\n",
    "    \n",
    "    Params:\n",
    "    ------\n",
    "    func: object\n",
    "        Python function to decorate\n",
    "        \n",
    "    Returns:\n",
    "    -------\n",
    "    function: cache decorator\n",
    "    '''\n",
    "    history = {}\n",
    "    def cache_decorator(*args):\n",
    "        try:\n",
    "            return history[args]\n",
    "        except KeyError:\n",
    "            val = func(*args)\n",
    "            history[args] = val\n",
    "            return val\n",
    "    return cache_decorator"
   ]
  },
  {
   "cell_type": "code",
   "execution_count": 5,
   "id": "collected-familiar",
   "metadata": {},
   "outputs": [],
   "source": [
    "@cached\n",
    "def fib2(n):\n",
    "    '''\n",
    "    Calculates the fibinaci number for n\n",
    "    using recursion.\n",
    "    \n",
    "    Params:\n",
    "    ------\n",
    "    n: int\n",
    "        Assumes >= 1\n",
    "    \n",
    "    Returns:\n",
    "    -------\n",
    "    int\n",
    "    '''\n",
    "    if n < 2:\n",
    "        return 1\n",
    "    else:\n",
    "        return fib2(n-1) + fib2(n-2)"
   ]
  },
  {
   "cell_type": "code",
   "execution_count": 6,
   "id": "considerable-imagination",
   "metadata": {},
   "outputs": [
    {
     "name": "stdout",
     "output_type": "stream",
     "text": [
      "1:\t1\n",
      "2:\t2\n",
      "3:\t3\n",
      "4:\t5\n",
      "5:\t8\n",
      "6:\t13\n",
      "7:\t21\n",
      "8:\t34\n",
      "9:\t55\n",
      "10:\t89\n",
      "11:\t144\n",
      "12:\t233\n",
      "13:\t377\n",
      "14:\t610\n",
      "15:\t987\n",
      "16:\t1597\n",
      "17:\t2584\n",
      "18:\t4181\n",
      "19:\t6765\n",
      "20:\t10946\n",
      "21:\t17711\n",
      "22:\t28657\n",
      "23:\t46368\n",
      "24:\t75025\n",
      "25:\t121393\n",
      "26:\t196418\n",
      "27:\t317811\n",
      "28:\t514229\n",
      "29:\t832040\n",
      "30:\t1346269\n",
      "31:\t2178309\n",
      "32:\t3524578\n",
      "33:\t5702887\n",
      "34:\t9227465\n",
      "35:\t14930352\n",
      "36:\t24157817\n",
      "37:\t39088169\n",
      "38:\t63245986\n",
      "39:\t102334155\n",
      "complete\n",
      "CPU times: user 1.15 ms, sys: 945 µs, total: 2.09 ms\n",
      "Wall time: 1.35 ms\n"
     ]
    }
   ],
   "source": [
    "%%time\n",
    "MAX_N = 40\n",
    "\n",
    "for i in range(1, MAX_N):\n",
    "    print(f'{i}:\\t{fib2(i)}')\n",
    "    \n",
    "print('complete')"
   ]
  },
  {
   "cell_type": "code",
   "execution_count": 7,
   "id": "pleased-emergency",
   "metadata": {},
   "outputs": [],
   "source": [
    "from functools import lru_cache"
   ]
  },
  {
   "cell_type": "markdown",
   "id": "hazardous-appeal",
   "metadata": {},
   "source": [
    "----\n",
    "\n",
    "## Example 2: Binary Knapsack Problem\n",
    "\n",
    "The knapsack problem is a problem in combinatorial optimization: Given a set of items, each with a weight and a value, determine the number of each item to include in a collection so that the total weight is less than or equal to a given limit and the total value is as large as possible.\n",
    "\n",
    "There are several ways to solve the knapsack problem.  We will first look at a naive approach and then how we can improve on the functions design.\n",
    "\n",
    "We will use a very simple knapsack problem so we don't have excessive run times!  Even though this is simple you will see that it is possible to **substantially** improve the design of the function with some basic ideas.\n",
    "\n",
    "```python\n",
    "values = (50,100,150,200)\n",
    "weights = (8,16,32,40)\n",
    "max_weight = 64\n",
    "```"
   ]
  },
  {
   "cell_type": "markdown",
   "id": "damaged-company",
   "metadata": {},
   "source": [
    "### Naive brute force enumeration\n",
    "\n",
    "A naive approach to solving this problem is to enumerate all possible combinations of items to include in the knapsack.  We then pick the combination with the largest value that does not exceed our weight constraint. \n",
    "\n",
    "This is a **binary** problem: an item is either included (1) or not included (0). An easy way to get all combinations of 0, 1 in a tuple or list of length `len(values)` is to use `itertools.product`.  In this case we need to iteate over 16 combinations."
   ]
  },
  {
   "cell_type": "code",
   "execution_count": 13,
   "id": "preliminary-means",
   "metadata": {},
   "outputs": [],
   "source": [
    "from itertools import product"
   ]
  },
  {
   "cell_type": "code",
   "execution_count": 21,
   "id": "fundamental-watershed",
   "metadata": {},
   "outputs": [
    {
     "data": {
      "text/plain": [
       "[(0, 0, 0, 0),\n",
       " (0, 0, 0, 1),\n",
       " (0, 0, 1, 0),\n",
       " (0, 0, 1, 1),\n",
       " (0, 1, 0, 0),\n",
       " (0, 1, 0, 1),\n",
       " (0, 1, 1, 0),\n",
       " (0, 1, 1, 1),\n",
       " (1, 0, 0, 0),\n",
       " (1, 0, 0, 1),\n",
       " (1, 0, 1, 0),\n",
       " (1, 0, 1, 1),\n",
       " (1, 1, 0, 0),\n",
       " (1, 1, 0, 1),\n",
       " (1, 1, 1, 0),\n",
       " (1, 1, 1, 1)]"
      ]
     },
     "execution_count": 21,
     "metadata": {},
     "output_type": "execute_result"
    }
   ],
   "source": [
    "combs = list(product([0, 1], repeat=4))\n",
    "combs"
   ]
  },
  {
   "cell_type": "code",
   "execution_count": 15,
   "id": "arabic-designation",
   "metadata": {},
   "outputs": [],
   "source": [
    "def knapsack_bruteforce(values, weights, max_weight):\n",
    "    '''\n",
    "    Enumerates all combinations of the knapsack packing options\n",
    "    \n",
    "    Params:\n",
    "    -------\n",
    "    values: float\n",
    "        The value of the item\n",
    "        \n",
    "    weights: float\n",
    "        the weight of the item\n",
    "        \n",
    "    max_weight: float\n",
    "        the maximum allowable weight for the knapsack\n",
    "        \n",
    "    Returns:\n",
    "    -------\n",
    "    dict: binary tuple: (value, weight)\n",
    "    '''\n",
    "    results_val = []\n",
    "    results_wt = []\n",
    "    results = {}\n",
    "\n",
    "    # all combinations of 0, 1 length 4\n",
    "    combs = list(product([0, 1], repeat=4))\n",
    "    \n",
    "    # loop through the different combinations\n",
    "    for option in combs:\n",
    "        total_value = 0.0\n",
    "        total_weight = 0.0\n",
    "        \n",
    "        # if the item is included then add in its weight, value\n",
    "        for value, weight, include in zip(val, wt, option):\n",
    "            if include == 1:\n",
    "                total_value += value\n",
    "                total_weight += weight\n",
    "        results[option] = (total_value, total_weight)\n",
    "        \n",
    "    return results"
   ]
  },
  {
   "cell_type": "code",
   "execution_count": 16,
   "id": "surgical-darkness",
   "metadata": {},
   "outputs": [
    {
     "data": {
      "text/plain": [
       "{(0, 0, 0, 0): (0.0, 0.0),\n",
       " (0, 0, 0, 1): (200.0, 40.0),\n",
       " (0, 0, 1, 0): (150.0, 32.0),\n",
       " (0, 0, 1, 1): (350.0, 72.0),\n",
       " (0, 1, 0, 0): (100.0, 16.0),\n",
       " (0, 1, 0, 1): (300.0, 56.0),\n",
       " (0, 1, 1, 0): (250.0, 48.0),\n",
       " (0, 1, 1, 1): (450.0, 88.0),\n",
       " (1, 0, 0, 0): (50.0, 8.0),\n",
       " (1, 0, 0, 1): (250.0, 48.0),\n",
       " (1, 0, 1, 0): (200.0, 40.0),\n",
       " (1, 0, 1, 1): (400.0, 80.0),\n",
       " (1, 1, 0, 0): (150.0, 24.0),\n",
       " (1, 1, 0, 1): (350.0, 64.0),\n",
       " (1, 1, 1, 0): (300.0, 56.0),\n",
       " (1, 1, 1, 1): (500.0, 96.0)}"
      ]
     },
     "execution_count": 16,
     "metadata": {},
     "output_type": "execute_result"
    }
   ],
   "source": [
    "val = (50, 100, 150, 200)\n",
    "wt = (8, 16, 32, 40)\n",
    "W = 64\n",
    "knapsack_bruteforce(val, wt, W)"
   ]
  },
  {
   "cell_type": "markdown",
   "id": "cheap-mountain",
   "metadata": {},
   "source": [
    "Let's have a look at the execution speed"
   ]
  },
  {
   "cell_type": "code",
   "execution_count": 17,
   "id": "advisory-setting",
   "metadata": {},
   "outputs": [
    {
     "name": "stdout",
     "output_type": "stream",
     "text": [
      "10.6 µs ± 131 ns per loop (mean ± std. dev. of 7 runs, 100000 loops each)\n"
     ]
    }
   ],
   "source": [
    "%timeit knapsack_bruteforce(val, wt, W)"
   ]
  },
  {
   "cell_type": "code",
   "execution_count": 18,
   "id": "alien-lewis",
   "metadata": {},
   "outputs": [],
   "source": [
    "def knapsack(n, weight_remaining, values, weights):\n",
    "    '''\n",
    "    Find the optimal value of the knapsack without \n",
    "    exceeding the weight limit.\n",
    "    \n",
    "    Recursive method.\n",
    "    Compares the value of the knapsack when the next \n",
    "    item is included versus when it is not included.\n",
    "    \n",
    "    Items are skipped if they exceed the weight limit.\n",
    "    \n",
    "    Params:\n",
    "    ------\n",
    "    n: int\n",
    "        The current item \n",
    "    \n",
    "    weight_remaining: int\n",
    "        The remaining weight in the knapsack\n",
    "        \n",
    "    values: tuple\n",
    "        The values of each item\n",
    "        \n",
    "    weights:\n",
    "        The weights of each item\n",
    "\n",
    "    Returns:\n",
    "    --------\n",
    "    int: the value of the knapsack\n",
    "    '''\n",
    "    if n < 0 or weight_remaining <= 0:\n",
    "        # base condition - all weight used up\n",
    "        return 0\n",
    "    \n",
    "    elif weights[n] > weight_remaining:\n",
    "        # skip the item as exceeds weight\n",
    "        return knapsack(n-1, weight_remaining, values, weights)\n",
    "    else:\n",
    "        # best value when not including the item\n",
    "        not_include = knapsack(n-1, weight_remaining, values, weights)\n",
    "        \n",
    "        # best alue when item is included\n",
    "        include = values[n] + knapsack(n-1, weight_remaining-weights[n], \n",
    "                                               values, weights)\n",
    "        # return the best of the options.\n",
    "        return max(not_include, include)"
   ]
  },
  {
   "cell_type": "code",
   "execution_count": 19,
   "id": "micro-andorra",
   "metadata": {},
   "outputs": [
    {
     "ename": "NameError",
     "evalue": "name 'knapsack2' is not defined",
     "output_type": "error",
     "traceback": [
      "\u001b[0;31m---------------------------------------------------------------------------\u001b[0m",
      "\u001b[0;31mNameError\u001b[0m                                 Traceback (most recent call last)",
      "\u001b[0;32m<ipython-input-19-ba3fa7e4ae8f>\u001b[0m in \u001b[0;36m<module>\u001b[0;34m\u001b[0m\n\u001b[1;32m      2\u001b[0m \u001b[0mwt\u001b[0m \u001b[0;34m=\u001b[0m \u001b[0;34m(\u001b[0m\u001b[0;36m8\u001b[0m\u001b[0;34m,\u001b[0m \u001b[0;36m16\u001b[0m\u001b[0;34m,\u001b[0m \u001b[0;36m32\u001b[0m\u001b[0;34m,\u001b[0m \u001b[0;36m40\u001b[0m\u001b[0;34m)\u001b[0m\u001b[0;34m\u001b[0m\u001b[0;34m\u001b[0m\u001b[0m\n\u001b[1;32m      3\u001b[0m \u001b[0mW\u001b[0m \u001b[0;34m=\u001b[0m \u001b[0;36m64\u001b[0m\u001b[0;34m\u001b[0m\u001b[0;34m\u001b[0m\u001b[0m\n\u001b[0;32m----> 4\u001b[0;31m \u001b[0mknapsack2\u001b[0m\u001b[0;34m(\u001b[0m\u001b[0mlen\u001b[0m\u001b[0;34m(\u001b[0m\u001b[0mval\u001b[0m\u001b[0;34m)\u001b[0m\u001b[0;34m-\u001b[0m\u001b[0;36m1\u001b[0m\u001b[0;34m,\u001b[0m \u001b[0mW\u001b[0m\u001b[0;34m,\u001b[0m \u001b[0mval\u001b[0m\u001b[0;34m,\u001b[0m \u001b[0mwt\u001b[0m\u001b[0;34m)\u001b[0m\u001b[0;34m\u001b[0m\u001b[0;34m\u001b[0m\u001b[0m\n\u001b[0m",
      "\u001b[0;31mNameError\u001b[0m: name 'knapsack2' is not defined"
     ]
    }
   ],
   "source": [
    "val = (50, 100, 150, 200)\n",
    "wt = (8, 16, 32, 40)\n",
    "W = 64\n",
    "knapsack2(len(val)-1, W, val, wt)"
   ]
  },
  {
   "cell_type": "code",
   "execution_count": null,
   "id": "considerable-wilderness",
   "metadata": {},
   "outputs": [],
   "source": [
    "# execution speed of recursive procedure - should be faster...\n",
    "%timeit knapsack2(len(val)-1, W, val, wt)"
   ]
  },
  {
   "cell_type": "code",
   "execution_count": null,
   "id": "expanded-creek",
   "metadata": {},
   "outputs": [],
   "source": [
    "@cached\n",
    "def knapsack(n, weight_remaining, values, weights):\n",
    "    '''\n",
    "    Find the optimal value of the knapsack without \n",
    "    exceeding the weight limit.\n",
    "    \n",
    "    Recursive method.\n",
    "    Compares the value of the knapsack when the next \n",
    "    item is included versus when it is not included.\n",
    "    \n",
    "    Items are skipped if they exceed the weight limit.\n",
    "    \n",
    "    Params:\n",
    "    ------\n",
    "    n: int\n",
    "        The current item \n",
    "    \n",
    "    weight_remaining: int\n",
    "        The remaining weight in the knapsack\n",
    "        \n",
    "    values: tuple\n",
    "        The values of each item\n",
    "        \n",
    "    weights:\n",
    "        The weights of each item\n",
    "\n",
    "    Returns:\n",
    "    --------\n",
    "    int: the value of the knapsack\n",
    "    '''\n",
    "    # base condition \n",
    "    if n < 0 or weight_remaining <= 0:\n",
    "        return 0\n",
    "    elif weights[n] > weight_remaining:\n",
    "        return knapsack(n-1, weight_remaining, values, weights)\n",
    "    else:\n",
    "        # total when not including the item\n",
    "        not_include = knapsack(n-1, weight_remaining, values, weights)\n",
    "        include = values[n] + knapsack(n-1, weight_remaining-weights[n], \n",
    "                                               values, weights)\n",
    "        return max(not_include, include)"
   ]
  },
  {
   "cell_type": "code",
   "execution_count": null,
   "id": "alone-subscription",
   "metadata": {},
   "outputs": [],
   "source": [
    "%timeit knapsack(len(val)-1, W, val, wt)"
   ]
  },
  {
   "cell_type": "code",
   "execution_count": null,
   "id": "south-honey",
   "metadata": {},
   "outputs": [],
   "source": []
  }
 ],
 "metadata": {
  "kernelspec": {
   "display_name": "Python 3",
   "language": "python",
   "name": "python3"
  },
  "language_info": {
   "codemirror_mode": {
    "name": "ipython",
    "version": 3
   },
   "file_extension": ".py",
   "mimetype": "text/x-python",
   "name": "python",
   "nbconvert_exporter": "python",
   "pygments_lexer": "ipython3",
   "version": "3.8.8"
  }
 },
 "nbformat": 4,
 "nbformat_minor": 5
}
