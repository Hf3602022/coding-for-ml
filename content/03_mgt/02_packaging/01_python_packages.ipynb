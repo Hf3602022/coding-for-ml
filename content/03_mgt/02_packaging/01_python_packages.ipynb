{
 "cells": [
  {
   "cell_type": "markdown",
   "id": "826f4579-fba6-4339-a11c-9d568b8e27a0",
   "metadata": {},
   "source": [
    "# Local python packages\n",
    "\n",
    "In my day job as a health data scientist, I've often found that for a given project it is useful to **package** up the project code into a reusable toolkit.  Packages open up a cleaner and more maintainable route to sharing code with collaborators, students and clients.  It also forces me to think about code/module design and testing more than just using a simple module. \n",
    "\n",
    "\n",
    "A local **python or module package** is in its essense a directory of modules that represents a python namespace.  In classic python text books, packages are often treated as an advanced topic.  I don't particularly agree with this classification. I will acknowledge that it is slightly more manual than other languages I have used, but note that it is less so than some others!  I think for the most part its best try it for yourself., make a few mistakes and take copious notes in order to avoid making those mistakes again in future projects. \n",
    "\n",
    "I've created local python packages to help me organise and reuse code in a variety of areas.  It is an eclectic mix - here are a few: \n",
    "\n",
    "* A toolkit that provides custom ensemble forecasting models for ambulance services\n",
    "* A time series toolkit to support the UK's NHS with the fundamental's of forecasting.\n",
    "* A meta-heuristic framework to support students learning about analysing logistic problems in health services\n",
    "* A package of reinforcement learning agents to solve stochastic multi-arm bandit problems\n",
    "* A framework for simulation based ranking and selection \n",
    "* A toolkit for pre-processing high frequency vital sign observations from critically ill children\n",
    "\n",
    "\n",
    "Sometimes a local package can be useful for providing a higher level, convenience, special case, or extended API for one or more existing data science packages (such as `sklearn`, `statsmodels`, `pandas`, or `matplotlib`). That is the use case we will explore here.  We will build a simple local package that provides a specialised interface for plotting health service time series. We won't make this an extensive package, but you will learn the tools we need to create future more comprehensive packages."
   ]
  },
  {
   "cell_type": "markdown",
   "id": "950bbd79-5bd8-42f8-9bb7-8f901d88ca9a",
   "metadata": {},
   "source": [
    "## A simple skeleton package\n",
    "\n",
    "The template below represents a very simple analysis package:\n",
    "\n",
    "```\n",
    "my_package_name\n",
    "├── __init__.py\n",
    "├── module_1.py\n",
    "├── module_2.py\n",
    "├── package_data\n",
    "│   ├── example_dataset_1.csv\n",
    "│   ├── example_dataset_2.csv\n",
    "```\n",
    "\n",
    "### The package name\n",
    "\n",
    "`my_package_name` is a directory and the name of your package.  Its the name that goes after `import` when you want to use it in your code.  Personally, I find choosing a meaningful and snappy name difficult! In fact, I might change my mind once or twice during its development.  Don't worry too much about this, but just be aware that the longer a package name is in place the more code you are likely to have to check and update after you change it!\n",
    "\n",
    "As an example, my code package for meta-heuristics is called `metapy`  it is a mash up of **meta**-heuristics and **py**thon.  (It perhaps isn't perfect!).  My package to support the NHS with the forecasting process is called `forecast-tools`.  This one went through a few iterations before I settled on it (I will space you the horrible names I chose before!).\n",
    "\n",
    "###  The `__init__.py` file\n",
    "\n",
    "The `__init__.py` file sits within the `my_package_name` directory.  The file let's the python interpretor know that `my_package_name` is a python package that can be imported.  The file **can** be completely empty if required.  However, at a minimum I would recommend including a version number and author.  For example:\n",
    "\n",
    "```python\n",
    "__version__ = '0.1.0'\n",
    "__author__ = 'Tom Monks'\n",
    "```\n",
    "\n",
    "#### Side bar: package versions\n",
    "\n",
    "\n",
    "The `__version__` attribute is really useful to you and helps you (or a collaborator) check the version or release number of the code you are using (as this will incrementally change over the lifetime of the package). `__version__` uses the format: \n",
    "\n",
    "```\n",
    "v<major>.<minor>.<patch>\n",
    "```\n",
    "When I first create a package it is conventional to build minor features incrementally up to a point where you have your first major release.  If we had v0.1.0 this would usually signifiy a very early version of the package with very limited functionality. \n",
    "\n",
    "When you are using and developing v0.2.0 of the package you might find a bug that you missed in v0.1.0.  You might want or need to solve that in a patch.  So you would have v0.1.1 of the code.  Note that no new functionality was added in v0.1.1 - it simply patched (fixed a bug in) existing functionalty.  \n",
    "\n",
    "Finally you might have a shiney first milestone version of the code available.  This would be your v1.0.0 \n",
    "\n",
    "> Sometimes it can take packages many years to get to this point.  For example, a favourite package of many health data scientist is `sklearn`.  At the time of writing in 2021 this is at version 0.24!\n",
    "\n",
    "### Sub-modules\n",
    "\n",
    "The two modules included in the skeleton example contain related python variables (constants), classes, and functions. In other words they contain the code that does all the work in your package. For example we might have a module `datasets` used for loading one or more example data sets included in the package and `plotting` that provides high level factory type functions for specialised `matplotlib` charts (e.g. regression diagnostics).  We import these namespaces as follows:\n",
    "\n",
    "```python\n",
    "import my_package_name.plotting\n",
    "import my_package_name.datasets\n",
    "```\n",
    "\n",
    "If we assume `plotting` contains a function called `plt_diagnostics()` we import it as follows\n",
    "\n",
    "```python\n",
    "from my_package_name.plotting import plt_diagostics\n",
    "```\n",
    "\n",
    "### Including a `package_data` dir\n",
    "\n",
    "It is sometimes helpful to include a sub directory within the package that contains a **small** dataset file (e.g. a Comma Seperated Value file; .csv).  This would include a real or synthetic dataset file that can be used in a tutorial for your package.  For health data science, I recommend synthetic data modelled (or based) on real data.  I also emphasise that the dataset should be small in order to avoid a package MBs (or sometimes GBs) in size.  \n",
    "\n",
    "If you include data within your project then you might also want to follow the package pattern below\n",
    "\n",
    "```\n",
    "my_package_name\n",
    "├── __init__.py\n",
    "├── module_1.py\n",
    "├── ...\n",
    "├── module_n.py\n",
    "├── datasets.py\n",
    "├── package_data\n",
    "│   ├── example_dataset_1.csv\n",
    "│   ├── example_dataset_2.csv\n",
    "```\n",
    "\n",
    "where `datasets` contains the functions needed to load the dataset from file and return it in a suitable format.  It's worth noting that major data science packages opt for this approach.  For example `statsmodels`"
   ]
  },
  {
   "cell_type": "code",
   "execution_count": 14,
   "id": "06bc6b98-0db5-43e5-87d7-7e664c735050",
   "metadata": {},
   "outputs": [
    {
     "data": {
      "text/plain": [
       "'1.19.2'"
      ]
     },
     "execution_count": 14,
     "metadata": {},
     "output_type": "execute_result"
    }
   ],
   "source": [
    "import statsmodels.api as sm\n",
    "\n",
    "# note that if provides a __version__\n",
    "sm.__version__"
   ]
  },
  {
   "cell_type": "code",
   "execution_count": 15,
   "id": "7d05bdcf-ecc0-4016-848a-ed786833bd73",
   "metadata": {},
   "outputs": [
    {
     "data": {
      "text/html": [
       "<div>\n",
       "<style scoped>\n",
       "    .dataframe tbody tr th:only-of-type {\n",
       "        vertical-align: middle;\n",
       "    }\n",
       "\n",
       "    .dataframe tbody tr th {\n",
       "        vertical-align: top;\n",
       "    }\n",
       "\n",
       "    .dataframe thead th {\n",
       "        text-align: right;\n",
       "    }\n",
       "</style>\n",
       "<table border=\"1\" class=\"dataframe\">\n",
       "  <thead>\n",
       "    <tr style=\"text-align: right;\">\n",
       "      <th></th>\n",
       "      <th>cancer</th>\n",
       "      <th>population</th>\n",
       "    </tr>\n",
       "  </thead>\n",
       "  <tbody>\n",
       "    <tr>\n",
       "      <th>0</th>\n",
       "      <td>1.0</td>\n",
       "      <td>445.0</td>\n",
       "    </tr>\n",
       "    <tr>\n",
       "      <th>1</th>\n",
       "      <td>0.0</td>\n",
       "      <td>559.0</td>\n",
       "    </tr>\n",
       "  </tbody>\n",
       "</table>\n",
       "</div>"
      ],
      "text/plain": [
       "   cancer  population\n",
       "0     1.0       445.0\n",
       "1     0.0       559.0"
      ]
     },
     "execution_count": 15,
     "metadata": {},
     "output_type": "execute_result"
    }
   ],
   "source": [
    "# load the breast cancer dataset as a pandas dataframe\n",
    "# a slight difference is that in sm each data set has its own sub module \n",
    "breast_cancer = sm.datasets.cancer.load_pandas()\n",
    "breast_cancer.data.head(2)"
   ]
  },
  {
   "cell_type": "markdown",
   "id": "764561fb-c2de-42af-bd1a-107cad6b81c9",
   "metadata": {},
   "source": [
    "### Where does a local package live?\n",
    "\n",
    "A local python package is effectively a sub-directory of code that needs to use it.  Here's an example.\n",
    "\n",
    "```\n",
    "analysis_notebook.ipynb\n",
    "cmdline_program.py\n",
    "my_package_name\n",
    "├── __init__.py\n",
    "├── module_1.py\n",
    "├── ...\n",
    "├── module_n.py\n",
    "├── datasets.py\n",
    "├── package_data\n",
    "│   ├── example_dataset_1.csv\n",
    "│   ├── example_dataset_2.csv\n",
    "```\n",
    "\n",
    "In this example, `analysis_notebook.ipynb` is a Jupyter notebook and `cmdline_program.py` is a python program run from the command line (e.g. `python3 cmdline_program.py`).  These files import and execute code from the `my_package_name` namespaces."
   ]
  },
  {
   "cell_type": "markdown",
   "id": "8e6e972a-88d5-467f-9b60-472d10523e90",
   "metadata": {},
   "source": [
    "## An example package\n",
    "\n",
    "Let's create a simple example package called `ts_emergency`.  Its purpose is to provide high level and convenient plotting functionality for emergency department time series data.  We will include some example data in `ed_ts_mth.csv` that we can use for plotting.\n",
    "\n",
    "```\n",
    "ts_emergency\n",
    "├── __init__.py\n",
    "├── plotting.py\n",
    "├── datasets.py\n",
    "├── data\n",
    "│   ├── ed_ts_mth.csv\n",
    "```"
   ]
  },
  {
   "cell_type": "code",
   "execution_count": 20,
   "id": "cd1dae47-32ac-4a0c-8160-f508bee43cdd",
   "metadata": {},
   "outputs": [],
   "source": [
    "import pandas as pd"
   ]
  },
  {
   "cell_type": "code",
   "execution_count": 9,
   "id": "37dc19e0-4929-45f8-97df-95f0232e2c65",
   "metadata": {},
   "outputs": [],
   "source": [
    "pd.read_csv()"
   ]
  },
  {
   "cell_type": "code",
   "execution_count": 10,
   "id": "e2ba9645-df15-42d3-9708-3cf3966c6e16",
   "metadata": {},
   "outputs": [
    {
     "data": {
      "text/plain": [
       "statsmodels.datasets.utils.Dataset"
      ]
     },
     "execution_count": 10,
     "metadata": {},
     "output_type": "execute_result"
    }
   ],
   "source": [
    "type(data)"
   ]
  },
  {
   "cell_type": "code",
   "execution_count": 11,
   "id": "63938185-f8a3-4cc3-ab14-b1062156f7da",
   "metadata": {},
   "outputs": [
    {
     "data": {
      "text/html": [
       "<div>\n",
       "<style scoped>\n",
       "    .dataframe tbody tr th:only-of-type {\n",
       "        vertical-align: middle;\n",
       "    }\n",
       "\n",
       "    .dataframe tbody tr th {\n",
       "        vertical-align: top;\n",
       "    }\n",
       "\n",
       "    .dataframe thead th {\n",
       "        text-align: right;\n",
       "    }\n",
       "</style>\n",
       "<table border=\"1\" class=\"dataframe\">\n",
       "  <thead>\n",
       "    <tr style=\"text-align: right;\">\n",
       "      <th></th>\n",
       "      <th>cancer</th>\n",
       "      <th>population</th>\n",
       "    </tr>\n",
       "  </thead>\n",
       "  <tbody>\n",
       "    <tr>\n",
       "      <th>0</th>\n",
       "      <td>1.0</td>\n",
       "      <td>445.0</td>\n",
       "    </tr>\n",
       "    <tr>\n",
       "      <th>1</th>\n",
       "      <td>0.0</td>\n",
       "      <td>559.0</td>\n",
       "    </tr>\n",
       "    <tr>\n",
       "      <th>2</th>\n",
       "      <td>3.0</td>\n",
       "      <td>677.0</td>\n",
       "    </tr>\n",
       "    <tr>\n",
       "      <th>3</th>\n",
       "      <td>4.0</td>\n",
       "      <td>681.0</td>\n",
       "    </tr>\n",
       "    <tr>\n",
       "      <th>4</th>\n",
       "      <td>3.0</td>\n",
       "      <td>746.0</td>\n",
       "    </tr>\n",
       "    <tr>\n",
       "      <th>...</th>\n",
       "      <td>...</td>\n",
       "      <td>...</td>\n",
       "    </tr>\n",
       "    <tr>\n",
       "      <th>296</th>\n",
       "      <td>250.0</td>\n",
       "      <td>62931.0</td>\n",
       "    </tr>\n",
       "    <tr>\n",
       "      <th>297</th>\n",
       "      <td>267.0</td>\n",
       "      <td>63476.0</td>\n",
       "    </tr>\n",
       "    <tr>\n",
       "      <th>298</th>\n",
       "      <td>244.0</td>\n",
       "      <td>66676.0</td>\n",
       "    </tr>\n",
       "    <tr>\n",
       "      <th>299</th>\n",
       "      <td>248.0</td>\n",
       "      <td>74005.0</td>\n",
       "    </tr>\n",
       "    <tr>\n",
       "      <th>300</th>\n",
       "      <td>360.0</td>\n",
       "      <td>88456.0</td>\n",
       "    </tr>\n",
       "  </tbody>\n",
       "</table>\n",
       "<p>301 rows × 2 columns</p>\n",
       "</div>"
      ],
      "text/plain": [
       "     cancer  population\n",
       "0       1.0       445.0\n",
       "1       0.0       559.0\n",
       "2       3.0       677.0\n",
       "3       4.0       681.0\n",
       "4       3.0       746.0\n",
       "..      ...         ...\n",
       "296   250.0     62931.0\n",
       "297   267.0     63476.0\n",
       "298   244.0     66676.0\n",
       "299   248.0     74005.0\n",
       "300   360.0     88456.0\n",
       "\n",
       "[301 rows x 2 columns]"
      ]
     },
     "execution_count": 11,
     "metadata": {},
     "output_type": "execute_result"
    }
   ],
   "source": [
    "data.data"
   ]
  },
  {
   "cell_type": "code",
   "execution_count": null,
   "id": "2d4c058d-6beb-44c4-9b8e-17a27612f3c0",
   "metadata": {},
   "outputs": [],
   "source": []
  }
 ],
 "metadata": {
  "kernelspec": {
   "display_name": "Python 3 (ipykernel)",
   "language": "python",
   "name": "python3"
  },
  "language_info": {
   "codemirror_mode": {
    "name": "ipython",
    "version": 3
   },
   "file_extension": ".py",
   "mimetype": "text/x-python",
   "name": "python",
   "nbconvert_exporter": "python",
   "pygments_lexer": "ipython3",
   "version": "3.8.8"
  }
 },
 "nbformat": 4,
 "nbformat_minor": 5
}
