{
 "cells": [
  {
   "cell_type": "markdown",
   "id": "826f4579-fba6-4339-a11c-9d568b8e27a0",
   "metadata": {},
   "source": [
    "# Local python packages\n",
    "\n",
    "In my day job as a health data scientist, I've often found that for a given project it is useful to **package** up the project code into a reusable toolkit.  I've also found that packages open up a cleaner and more maintainable route to sharing code with collaborators, students and clients.  It also forces me to think about code/module design and testing more than just using a simple module. \n",
    "\n",
    "\n",
    "A local **python or module package** is in its essense a directory of modules that represents a python namespace.  In classic python text books, packages are often treated as an advanced topic.  I don't particularly agree with this classification. I will acknowledge that it is slightly more manual than other languages I have used, but note that it is less so than some others!  I think for the most part its best try it for yourself., make a few mistakes and take copious notes in order to avoid making those mistakes again in future projects. \n",
    "\n",
    "I've created local python packages to help me organise and reuse code in a variety of areas.  It is an eclectic mix - here are a few: \n",
    "\n",
    "* A toolkit that provides custom ensemble forecasting models for ambulance services\n",
    "* A time series forecasting benchmark toolkit for the UK's NHS\n",
    "* A meta-heuristic framework to support students learning about analysing logistic problems in health services\n",
    "* A package of reinforcement learning agents to solve stochastic multi-arm bandit problems\n",
    "* A framework for simulation based ranking and selection \n",
    "* A toolkit for pre-processing high frequency vital sign observations from critically ill children"
   ]
  },
  {
   "cell_type": "code",
   "execution_count": null,
   "id": "95ecc1dc-56b7-4239-ab8b-27e131ea734f",
   "metadata": {},
   "outputs": [],
   "source": [
    "## Example 1: a skeleton package for visualising \n",
    "\n",
    "```\n",
    "my_package_name\n",
    "├── __init__.py\n",
    "├── main.py\n",
    "├── main.py\n",
    "```"
   ]
  },
  {
   "cell_type": "code",
   "execution_count": 2,
   "id": "dde288eb-043f-494b-b5c8-fbce955306c6",
   "metadata": {},
   "outputs": [],
   "source": [
    "import mpkg"
   ]
  },
  {
   "cell_type": "code",
   "execution_count": 4,
   "id": "795887f6-2ca1-42e8-a635-da578aec74cf",
   "metadata": {},
   "outputs": [
    {
     "ename": "NameError",
     "evalue": "name 'main' is not defined",
     "output_type": "error",
     "traceback": [
      "\u001b[0;31m---------------------------------------------------------------------------\u001b[0m",
      "\u001b[0;31mNameError\u001b[0m                                 Traceback (most recent call last)",
      "\u001b[0;32m<ipython-input-4-a7ee33751433>\u001b[0m in \u001b[0;36m<module>\u001b[0;34m\u001b[0m\n\u001b[0;32m----> 1\u001b[0;31m \u001b[0mmain\u001b[0m\u001b[0;34m.\u001b[0m\u001b[0mtest2\u001b[0m\u001b[0;34m(\u001b[0m\u001b[0;34m)\u001b[0m\u001b[0;34m\u001b[0m\u001b[0;34m\u001b[0m\u001b[0m\n\u001b[0m",
      "\u001b[0;31mNameError\u001b[0m: name 'main' is not defined"
     ]
    }
   ],
   "source": [
    "main.test2()"
   ]
  },
  {
   "cell_type": "code",
   "execution_count": null,
   "id": "cd1dae47-32ac-4a0c-8160-f508bee43cdd",
   "metadata": {},
   "outputs": [],
   "source": []
  }
 ],
 "metadata": {
  "kernelspec": {
   "display_name": "Python 3",
   "language": "python",
   "name": "python3"
  },
  "language_info": {
   "codemirror_mode": {
    "name": "ipython",
    "version": 3
   },
   "file_extension": ".py",
   "mimetype": "text/x-python",
   "name": "python",
   "nbconvert_exporter": "python",
   "pygments_lexer": "ipython3",
   "version": "3.8.8"
  }
 },
 "nbformat": 4,
 "nbformat_minor": 5
}
