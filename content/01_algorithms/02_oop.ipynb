{
 "cells": [
  {
   "cell_type": "markdown",
   "id": "communist-courage",
   "metadata": {},
   "source": [
    "# Designing using objects"
   ]
  },
  {
   "cell_type": "markdown",
   "id": "regulated-coral",
   "metadata": {},
   "source": [
    "> For a more detailed treatment of classes see Part IV of *Lutz. (2013). Learning Python. 5th Ed. O'Reilly.*\n",
    "\n",
    "To get the most out of python when coding algorithms and models it is essential that you understand the basics of python classes and object orientated programming (OOP).  **The key takeaways from this section are that class aid code reuse and design (although when used unwisely they can overcomplicate designs!)**. We will try and do this in a fun way so you can see the benefits.\n",
    "\n",
    "**In this section you will learn:**\n",
    "\n",
    "* How to instantiate multiple instances of a class.\n",
    "* How to declare a class and define a class constructor method.\n",
    "* What is meant by class attributes and methods.\n",
    "\n",
    "> It is worth noting that in python you don't have to use classes you can actually achieve everything with functions.  However, the abstraction benefits of OO are really important for the design and organisation of complex projects."
   ]
  }
 ],
 "metadata": {
  "kernelspec": {
   "display_name": "Python 3 (ipykernel)",
   "language": "python",
   "name": "python3"
  },
  "language_info": {
   "codemirror_mode": {
    "name": "ipython",
    "version": 3
   },
   "file_extension": ".py",
   "mimetype": "text/x-python",
   "name": "python",
   "nbconvert_exporter": "python",
   "pygments_lexer": "ipython3",
   "version": "3.8.8"
  }
 },
 "nbformat": 4,
 "nbformat_minor": 5
}
