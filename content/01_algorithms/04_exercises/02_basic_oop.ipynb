{
 "cells": [
  {
   "cell_type": "markdown",
   "id": "1a2d99d1-d3b8-49d3-84b1-31f2cd18fb94",
   "metadata": {},
   "source": [
    "# Basic Object Orientated Methods\n",
    "\n",
    "Follow these simple OOP exercises to practice and gain confidence in coding classes.  "
   ]
  },
  {
   "cell_type": "markdown",
   "id": "f1d0875f-887e-4aa8-bb53-d2906b2fc645",
   "metadata": {},
   "source": [
    "## Exercise 1\n",
    "\n",
    "**Task:**\n",
    "* Create a class called `Patient`.  \n",
    "* The class should contain a constructor that accepts the following parameters. The parameters should be stored in appropriately named attributes.\n",
    "    * patient_id: int\n",
    "    * age: int\n",
    "    * ward_id: int"
   ]
  },
  {
   "cell_type": "markdown",
   "id": "7ad049e0-b67a-4889-a607-8b80e4ee1cf8",
   "metadata": {},
   "source": [
    "**Hints**\n",
    "* Don't forget to include the `self` parameter!\n",
    "* Make sure you use correct case for the class name.  `Patient` follows PEP8 guidelines while `patient` does not!"
   ]
  },
  {
   "cell_type": "code",
   "execution_count": null,
   "id": "815df591-6ee2-4519-a953-ad0886a94eb9",
   "metadata": {},
   "outputs": [],
   "source": [
    "# your code here ..."
   ]
  },
  {
   "cell_type": "code",
   "execution_count": 1,
   "id": "8b67e665-f74d-4411-a705-e045c32b0e49",
   "metadata": {},
   "outputs": [],
   "source": [
    "# example solution\n",
    "class Patient:\n",
    "    def __init__(self, patient_id, age, ward_id):\n",
    "        self.id = patient_id\n",
    "        self.age = age\n",
    "        self.ward_id = ward_id"
   ]
  },
  {
   "cell_type": "markdown",
   "id": "87760e33-13b7-4407-baea-16db40bf7d98",
   "metadata": {},
   "source": [
    "## Exercise 2:\n",
    "\n",
    "**Task:**\n",
    "* Create a class called `Ward`\n",
    "* Code a constructor method.  \n",
    "    * It should accept `ward_id` (int) as parameter and assign it to an attribute\n",
    "    * It should create a new empty list attribute that will hold patients staying on the ward. \n",
    "* Create a method called `add_patient`.  It should accept a parameter called `patient` (that is a patient class).\n",
    "\n",
    "**Hints:**\n",
    "* Don't forget the `self` parameter in the method!\n",
    "* `Patient.Age` can be a random number or a constant, up to you!\n"
   ]
  },
  {
   "cell_type": "code",
   "execution_count": 5,
   "id": "3bbcf630-1304-4237-b89c-1a946e478c92",
   "metadata": {},
   "outputs": [],
   "source": [
    "class Ward:\n",
    "    def __init__(self, ward_id):\n",
    "        self.patients = []\n",
    "        \n",
    "    def add_patient(self, patient): \n",
    "        self.patients.append(patient)"
   ]
  },
  {
   "cell_type": "markdown",
   "id": "ef8ef481-4054-4e48-93bc-b02aaddfd275",
   "metadata": {},
   "source": [
    "## Exercise 3:\n",
    "\n",
    "**Task:**\n",
    "* Code a function that creates first creates a `Ward` object and then adds a user specified number of `Patient` instances via the `add_patient` function.\n",
    "* The function must return the ward object.\n",
    "* Test your function with 5 patients."
   ]
  },
  {
   "cell_type": "code",
   "execution_count": null,
   "id": "a96d632e-f112-4aae-8a56-461418eddadb",
   "metadata": {},
   "outputs": [],
   "source": [
    "# your code here ..."
   ]
  },
  {
   "cell_type": "code",
   "execution_count": 10,
   "id": "9c8f73f5-32c3-49f6-9efa-87b9b96f4962",
   "metadata": {},
   "outputs": [],
   "source": [
    "# example solution\n",
    "from random import randint\n",
    "\n",
    "def new_ward(ward_id, n_patients, age_range=(60,95)):\n",
    "    '''\n",
    "    Create a new ward with an id.\n",
    "    The ward will contain n_patients with random\n",
    "    age\n",
    "    \n",
    "    Params:\n",
    "    ------\n",
    "    ward_id: int \n",
    "        Unique id of ward\n",
    "        \n",
    "    n_patients: int\n",
    "        Number of patients on ward\n",
    "        \n",
    "    age_range: (int, int), optional (default=(60,95))\n",
    "        Age range for random allocation to patients.\n",
    "        \n",
    "    Returns:\n",
    "    -------\n",
    "    Ward\n",
    "    \n",
    "    '''\n",
    "    ward = Ward(ward_id)\n",
    "    \n",
    "    for i in range(n_patients):\n",
    "        to_add = Patient(i, randint(age_range[0], age_range[1]),\n",
    "                         ward_id)\n",
    "        ward.add_patient(to_add)\n",
    "    return ward"
   ]
  },
  {
   "cell_type": "code",
   "execution_count": 17,
   "id": "50fd4256-5a84-4517-8a6f-e029781ebbf9",
   "metadata": {},
   "outputs": [
    {
     "name": "stdout",
     "output_type": "stream",
     "text": [
      "5\n",
      "4\n",
      "82\n"
     ]
    }
   ],
   "source": [
    "WARD_ID = 1\n",
    "N_PATIENTS = 5\n",
    "\n",
    "ward = new_ward(WARD_ID, N_PATIENTS)\n",
    "\n",
    "# test\n",
    "print(len(ward.patients))\n",
    "print(ward.patients[4].id)\n",
    "print(ward.patients[4].age)"
   ]
  },
  {
   "cell_type": "code",
   "execution_count": null,
   "id": "45b3121d-89ed-4673-bab9-91de2fcc138a",
   "metadata": {},
   "outputs": [],
   "source": []
  }
 ],
 "metadata": {
  "kernelspec": {
   "display_name": "Python 3 (ipykernel)",
   "language": "python",
   "name": "python3"
  },
  "language_info": {
   "codemirror_mode": {
    "name": "ipython",
    "version": 3
   },
   "file_extension": ".py",
   "mimetype": "text/x-python",
   "name": "python",
   "nbconvert_exporter": "python",
   "pygments_lexer": "ipython3",
   "version": "3.8.8"
  }
 },
 "nbformat": 4,
 "nbformat_minor": 5
}
