{
 "cells": [
  {
   "cell_type": "markdown",
   "id": "concerned-excess",
   "metadata": {},
   "source": [
    "# Basic Object Orientated Methods\n",
    "\n",
    "Follow these simple OOP exercises to practice and gain confidence in coding classes.  "
   ]
  },
  {
   "cell_type": "markdown",
   "id": "listed-equilibrium",
   "metadata": {},
   "source": [
    "## Exercise 1\n",
    "\n",
    "**Task:**\n",
    "* Create a class called `Patient`.  \n",
    "* The class should contain a constructor that accepts the following parameters. The parameters should be stored in appropriately named attributes.\n",
    "    * patient_id: int\n",
    "    * age: int"
   ]
  },
  {
   "cell_type": "markdown",
   "id": "behind-choice",
   "metadata": {},
   "source": [
    "**Hints**\n",
    "* Don't forget to include the `self` parameter!\n",
    "* Make sure you use correct case for the class name.  `Patient` follows PEP8 guidelines while `patient` does not!"
   ]
  },
  {
   "cell_type": "code",
   "execution_count": null,
   "id": "valued-detroit",
   "metadata": {},
   "outputs": [],
   "source": [
    "# your code here ..."
   ]
  },
  {
   "cell_type": "markdown",
   "id": "upset-stanford",
   "metadata": {},
   "source": [
    "## Exercise 2:\n",
    "\n",
    "**Task:**\n",
    "* Create a class called `Ward`\n",
    "* Code a constructor method.  \n",
    "    * It should accept `ward_id` (int) as parameter and assign it to an attribute\n",
    "    * It should create a new empty list attribute that will hold patients staying on the ward. \n",
    "* Create a method called `add_patient`.  It should accept a parameter called `patient` (that is a patient class).\n",
    "* Create a method or property called `n_patients`.  It should return the number of patients on the ward.\n",
    "\n",
    "**Hints:**\n",
    "* Don't forget the `self` parameter in the method!\n",
    "* `Patient.Age` can be a random number or a constant, up to you!\n"
   ]
  },
  {
   "cell_type": "code",
   "execution_count": 21,
   "id": "offensive-devices",
   "metadata": {},
   "outputs": [],
   "source": [
    "# your code here ..."
   ]
  },
  {
   "cell_type": "markdown",
   "id": "widespread-dubai",
   "metadata": {},
   "source": [
    "## Exercise 3:\n",
    "\n",
    "**Task:**\n",
    "* Code a function that creates first creates a `Ward` object and then adds a user specified number of `Patient` instances via the `add_patient` function.\n",
    "* The function must return the ward object.\n",
    "* Test your function with 5 patients."
   ]
  },
  {
   "cell_type": "code",
   "execution_count": 9,
   "id": "threatened-great",
   "metadata": {},
   "outputs": [],
   "source": [
    "# your code here ..."
   ]
  },
  {
   "cell_type": "markdown",
   "id": "naughty-rugby",
   "metadata": {},
   "source": [
    "## Exercise 4:\n",
    "\n",
    "**Task:**\n",
    "* Now create a `Hospital` class\n",
    "* The class should allow the creation of new wards as well as adding a patient to a user specified ward.\n",
    "* The class must provide a `n_patients` method or property that returns the uptodate total of patients in the hospital.\n",
    "* Create some test data and create a `Hospital` object. Return the total number of patients in the hospital."
   ]
  },
  {
   "cell_type": "code",
   "execution_count": null,
   "id": "bored-injection",
   "metadata": {},
   "outputs": [],
   "source": [
    "# your code here ..."
   ]
  },
  {
   "cell_type": "markdown",
   "id": "neutral-friendship",
   "metadata": {},
   "source": [
    "## Exercise 5\n",
    "\n",
    "**Task:**\n",
    "\n",
    "Let's create a new type of patient specific to those with respiratory conditions.  \n",
    "\n",
    "The new class will also accept `patient_id` and `age`.  You will need to create two new parameters as well: `pack_yrs` and `fev1`. Fyi:\n",
    "\n",
    "* A pack year is defined as twenty cigarettes smoked everyday for one year \n",
    "* FEV1 stands for Forced Expiratory Volumne and is a percentage measured out of 100%.  Lower values are worse.\n",
    "\n",
    "\n",
    "Call the class `RespiratoryPatient`\n",
    "\n",
    "**Hints**:\n",
    "* You can solve this exercise by either using inheritance or composition.  Compositin is a bit harder (and more code), but its more flexible and safer in practice."
   ]
  },
  {
   "cell_type": "code",
   "execution_count": 38,
   "id": "returning-status",
   "metadata": {},
   "outputs": [],
   "source": [
    "# your code here ..."
   ]
  }
 ],
 "metadata": {
  "kernelspec": {
   "display_name": "Python 3",
   "language": "python",
   "name": "python3"
  },
  "language_info": {
   "codemirror_mode": {
    "name": "ipython",
    "version": 3
   },
   "file_extension": ".py",
   "mimetype": "text/x-python",
   "name": "python",
   "nbconvert_exporter": "python",
   "pygments_lexer": "ipython3",
   "version": "3.8.8"
  }
 },
 "nbformat": 4,
 "nbformat_minor": 5
}
