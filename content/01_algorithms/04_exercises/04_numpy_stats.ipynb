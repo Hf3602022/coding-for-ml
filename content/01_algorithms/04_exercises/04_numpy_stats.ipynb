{
 "cells": [
  {
   "cell_type": "markdown",
   "id": "88d83a5b-d0dc-4613-9a29-b93714d6d13b",
   "metadata": {},
   "source": [
    "# Statistical procedures in `numpy`\n",
    "\n",
    "The following exercises test some of your new `numpy` skills on some basic statistical problems.  In some cases there is more than one solution.  Feel free to experiment with different methods."
   ]
  },
  {
   "cell_type": "markdown",
   "id": "8cf809fb-293a-4590-9faf-2196e82676b1",
   "metadata": {},
   "source": [
    "## Imports"
   ]
  },
  {
   "cell_type": "code",
   "execution_count": 1,
   "id": "a6087f2d-560a-4990-9b39-6e8ad916c2e9",
   "metadata": {},
   "outputs": [],
   "source": [
    "import numpy as np\n",
    "\n",
    "# you will need requests and io to download the data \n",
    "# and load into a numpy array\n",
    "import requests\n",
    "import io"
   ]
  },
  {
   "cell_type": "markdown",
   "id": "c59b9512-54c1-4375-afb7-897fe10f96e4",
   "metadata": {},
   "source": [
    "## Exercise 1\n",
    "\n",
    "In this exercise, you will use `numpy` to generate a random variable following a standard normal distribution.  You will then use the statistical functions built into numpy to analyse the distribution of the variable.\n",
    "\n",
    "**Task**:\n",
    "* Take 10,000 samples from the standard normal distribution\n",
    "* Create a function called `basic_descriptives` that returns the mean, stdev, and 1st/99th percentiles of a numpy array parameter.\n",
    "* Call your function and printout the results.\n",
    "\n",
    "**Hints**:\n",
    "* You can assume the numpy array passed to the function contains float data or you could check and raise an exception.\n"
   ]
  },
  {
   "cell_type": "code",
   "execution_count": 2,
   "id": "33864505-a92a-482a-afb1-da56675ec7eb",
   "metadata": {},
   "outputs": [],
   "source": [
    "# your code here..."
   ]
  },
  {
   "cell_type": "markdown",
   "id": "09da9988-a9d5-4b56-acd8-27a6f64502b2",
   "metadata": {},
   "source": [
    "## Exercise 2\n",
    "\n",
    "Reuse the data generated in exercise 1.  You are going to analyse the tails of the distribution you generated.\n",
    "\n",
    "**Task:**\n",
    "* Select only the samples that have a value greater than or equal to +1.96 and less than or equal to -1.96\n",
    "* Determine the proportion of data that falls into these tails.\n",
    "* Are these proportions what you expect for the standard normal distribution?\n",
    "\n",
    "**Hints**:\n",
    "* You may want to create one or two general functions so that you can use to vary the cut-offs."
   ]
  },
  {
   "cell_type": "code",
   "execution_count": 3,
   "id": "9100fb79-0b9f-4f94-9c94-bc87c07316a1",
   "metadata": {},
   "outputs": [],
   "source": [
    "# your code here ..."
   ]
  },
  {
   "cell_type": "markdown",
   "id": "52614ef3-6d70-4cd8-898b-ec86e6b9aad0",
   "metadata": {},
   "source": [
    "## Exercise 3:\n",
    "    \n",
    "Assume you have the data \n",
    "\n",
    "```python\n",
    "data = [1, 2, 3, 4, 5, 6, 7, 8, 9, 10, 11]\n",
    "```        \n",
    "* The 20% Winsorized mean of `data` is calculated on a modified data set where the top and bottom 10% of values are replaced by the 10th and 90th percentiles.  \n",
    "* In this case the 10th percentile = 2 and the 90th = 10.  Therefore the winsorized dataset is:\n",
    "\n",
    "```python\n",
    "win_data = [2, 2, 3, 4, 5, 6, 7, 8, 9, 10, 10]\n",
    "\n",
    "win_mean = win_data.mean()\n",
    "```\n",
    "\n",
    "**Task:**\n",
    "* Write a function `winsorize(data, cut_off=0.1)`\n",
    "* The function must modify `data` (type `np.ndarray`) so that is it is winsorized.  \n",
    "* A cut_off = 0.1 specifies that the function uses the 10th and 90th percentiles as cut-offs\n",
    "\n",
    "**Hints:**\n",
    "\n",
    "* There are multiple ways to solve this problem\n",
    "    * You could use a `for` loop\n",
    "    * You could create a function that is vectorized using `np.vectorize()`\n",
    "    * You could use `np.where()` and fancy indexing"
   ]
  },
  {
   "cell_type": "code",
   "execution_count": 4,
   "id": "58e60b93-85ff-4b8f-a6db-23685e5ea29a",
   "metadata": {},
   "outputs": [],
   "source": [
    "# your code here ..."
   ]
  },
  {
   "cell_type": "markdown",
   "id": "a6616ca2-9bd4-4e5d-973a-fa1fcd8e7995",
   "metadata": {},
   "source": [
    "### Exercise 4: \n",
    "\n",
    "**Simple linear regression using data in `numpy` arrays**\n",
    "    \n",
    "In this example we will load two `numpy arrays from file and conduct a simple linear regression.  The method of Ordinary Least Squares is used to fit a linear model (think $y = \\beta_1 x + \\beta_0 + \\epsilon $ ) to some data stored in numpy arrays.\n",
    "\n",
    "We have two datasets:\n",
    "\n",
    "* `breach.csv`: monthly totals of people waiting FOUR or more hours in English emergency departments\n",
    "* `dtocs.csv`: monthly total of the number of people waiting to be discharged (leave) hospial and go home or transfer to another form of healthcare.  \n",
    "\n",
    "You are going to (VERY naively) assess the relationship between these two variables.  For the purposes of this exercise we are going to ignore that these two datasets are time-series data.\n",
    "\n",
    "The library you will use to conduct linear regression is `statsmodels.api`\n",
    "You will use the class `OLS` which accepts two keyword arguments: y and x\n",
    "\n",
    "Once you have conducted the analysis you will print the results summary.\n",
    "\n",
    "**Task**:\n",
    "* Import `statsmodels.api`\n",
    "* Load the dtoc and breaches datasets\n",
    "* Treating breaches as the dependent variable and dtocs as the independent variable perform the regression.\n",
    "* What is the $R^2$ of your (naive) model?\n",
    "\n",
    "**Hints:**\n",
    "* The columns of data in the two files have a header (the first line is a string).  You will need to remove that before you can create a numpy array.  Take a look at the options in `np.genfromtxt()`\n",
    "* Your model will need an **intercept**.  This is not automatically added in `statsmodels`.  To do this you need to call `statsmodels.api.add_constant(X)`.  There is a worked example in the statsmodels [documentation](https://www.statsmodels.org/stable/generated/statsmodels.regression.linear_model.OLS.html?highlight=ols#statsmodels.regression.linear_model.OLS). \n",
    "\n"
   ]
  },
  {
   "cell_type": "code",
   "execution_count": 5,
   "id": "db26c43f-3e37-4b7d-9be6-77a365d533db",
   "metadata": {},
   "outputs": [],
   "source": [
    "# statsmodels contains the OLS class you will use\n",
    "import statsmodels.api as sm\n",
    "\n",
    "RESPONSE_SUCCESS = 200\n",
    "DTOC_URL = 'https://raw.githubusercontent.com/health-data-science-OR/' \\\n",
    "                + 'hpdm139-datasets/main/dtocs.csv'\n",
    "BREACH_URL = 'https://raw.githubusercontent.com/health-data-science-OR/' \\\n",
    "                + 'hpdm139-datasets/main/breach.csv'\n",
    "\n",
    "def download_datasets(url):\n",
    "    '''\n",
    "    Downloads the dtoc and breaches datasets to your local machine\n",
    "    \n",
    "    '''\n",
    "    response = requests.get(DTOC_URL)\n",
    "    if response.status_code == RESPONSE_SUCCESS:\n",
    "        # write the file\n",
    "        with open(\"dtocs.csv\", \"wb\") as f:\n",
    "            f.write(response.content)\n",
    "            print('success: dtocs.csv downloaded.')\n",
    "    else:\n",
    "        print('connection error for dtocs')\n",
    "    \n",
    "    response = requests.get(BREACH_URL)\n",
    "    if response.status_code == RESPONSE_SUCCESS:\n",
    "        # write the file\n",
    "        with open(\"breach.csv\", \"wb\") as f:\n",
    "            f.write(response.content)\n",
    "            print('success: breach.csv downloaded.')\n",
    "    else:\n",
    "        print('connection error for dtocs')"
   ]
  },
  {
   "cell_type": "code",
   "execution_count": 6,
   "id": "165cb9eb-4230-4286-aa38-fbc83d0df2e0",
   "metadata": {},
   "outputs": [
    {
     "name": "stdout",
     "output_type": "stream",
     "text": [
      "success: dtocs.csv downloaded.\n",
      "success: breach.csv downloaded.\n"
     ]
    }
   ],
   "source": [
    "download_datasets(DTOC_URL)"
   ]
  },
  {
   "cell_type": "code",
   "execution_count": 7,
   "id": "3e07dca1-5686-42e3-8387-e718779174bd",
   "metadata": {},
   "outputs": [],
   "source": [
    "# your code here ..."
   ]
  },
  {
   "cell_type": "markdown",
   "id": "53f757da-2ebe-419d-912f-397b26fb0ada",
   "metadata": {},
   "source": [
    "## Exercise 5:\n",
    "\n",
    "**Preprocessing data to detrend a timeseries**\n",
    "\n",
    "In exercise 5, we conducted a simple linear regression to assess the relationship between two variables.  Our initial analysis is problematic because both variables are time series and contain autocorrelation and trend.  This means that we violate some of the assumptions of ordinary least squares regression and our estimates of the relationship are likely to be incorrect.\n",
    "\n",
    "In practice, we would pre-process the data in the `numpy` arrays before conducting the regression.  A simple way to do this is to take the first difference of the time series. If $Y_t$ represents the value of the time series at time $t$ then the first difference is equal to:\n",
    "\n",
    "$$Y_t = Y_{t+1} - Y_t$$ \n",
    "\n",
    "**Tip**:  If an array $a$ has length $n$ then an array of the first differences of $a$ is $n-1$\n",
    "\n",
    "**Task**:\n",
    "\n",
    "* Copy your solution code for exercise 4\n",
    "* Modify the code to take the first difference of the `breach` and `dtoc` arrays\n",
    "* Conduct the regression analysis using the first differences (detrended data)\n",
    "* Look at the new $R^2$.  Is there still strong evidence of a relationship?\n",
    "\n",
    "**Hints**:\n",
    "* If you have an array `data` then to take the first difference of the array using:\n",
    "\n",
    "```python\n",
    "differenced = np.diff(data)\n",
    "```"
   ]
  },
  {
   "cell_type": "code",
   "execution_count": 8,
   "id": "5feb2fd8-7611-4cf5-b6d5-f1c1df460493",
   "metadata": {},
   "outputs": [],
   "source": [
    "# your code here ..."
   ]
  }
 ],
 "metadata": {
  "kernelspec": {
   "display_name": "Python 3 (ipykernel)",
   "language": "python",
   "name": "python3"
  },
  "language_info": {
   "codemirror_mode": {
    "name": "ipython",
    "version": 3
   },
   "file_extension": ".py",
   "mimetype": "text/x-python",
   "name": "python",
   "nbconvert_exporter": "python",
   "pygments_lexer": "ipython3",
   "version": "3.8.8"
  }
 },
 "nbformat": 4,
 "nbformat_minor": 5
}
