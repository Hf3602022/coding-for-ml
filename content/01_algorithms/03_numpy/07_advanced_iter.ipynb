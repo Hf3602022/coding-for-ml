{
 "cells": [
  {
   "cell_type": "code",
   "execution_count": 3,
   "id": "e3650b93-d8bc-40fc-9740-c78e07617b0a",
   "metadata": {},
   "outputs": [],
   "source": [
    "import numpy as np"
   ]
  },
  {
   "cell_type": "markdown",
   "id": "a3fae3c4-a320-4328-99cc-69fffb471c12",
   "metadata": {},
   "source": [
    "# Advanced Array Iteration\n",
    "\n",
    "For most of the `numpy` code that I write in data science applications I make use of slicing, indexing and standard operations. However, occationally there is a need to use a `numpy` iteration function called `nditer`.  This might be useful in an instance where I need to iterate over each element of an 2, 3 or 4D array without including multiple for loops.  There is extensive documentation for this on the `numpy` docs.  Here we will consider some basic functionality that I have found useful in applied work.\n",
    "\n",
    "## A matrix example\n",
    "\n",
    "We will consider how to iterate over each element in a 2 dimensional array.  You obviously easily do this in standard python.  Here's a simple example:"
   ]
  },
  {
   "cell_type": "code",
   "execution_count": 166,
   "id": "807cb26b-1d55-45a0-ab39-9d4c8045a0b5",
   "metadata": {},
   "outputs": [
    {
     "name": "stdout",
     "output_type": "stream",
     "text": [
      "[[0 1 2]\n",
      " [3 4 5]]\n"
     ]
    }
   ],
   "source": [
    "a = np.arange(6).reshape(2, 3)\n",
    "print(a)"
   ]
  },
  {
   "cell_type": "markdown",
   "id": "9761376f-4d23-4115-9cd9-015539e211f8",
   "metadata": {},
   "source": [
    "A standard python implementation to iterate over all combinations is as follows.  Note the requirement of an inner loop."
   ]
  },
  {
   "cell_type": "code",
   "execution_count": 167,
   "id": "6d52334c-ff03-4956-993d-57865b8f3a94",
   "metadata": {},
   "outputs": [],
   "source": [
    "def standard_all_element_iteration(a, print_out=True):\n",
    "    for row in a:\n",
    "        for col in row:\n",
    "            if print_out: print(col, end= ' ')"
   ]
  },
  {
   "cell_type": "code",
   "execution_count": 168,
   "id": "9218afa6-9bdb-4525-97e9-85b6fa54c789",
   "metadata": {},
   "outputs": [
    {
     "name": "stdout",
     "output_type": "stream",
     "text": [
      "0 1 2 3 4 5 "
     ]
    }
   ],
   "source": [
    "standard_all_element_iteration(a)"
   ]
  },
  {
   "cell_type": "markdown",
   "id": "a3f023c9-7b22-41c2-93cd-201df8937cdb",
   "metadata": {},
   "source": [
    "When we need to iterate over all elements of an array then we can use nditer to eliminate the inner loop."
   ]
  },
  {
   "cell_type": "code",
   "execution_count": 169,
   "id": "6be1a102-5e0f-4842-b121-847bb8246e9c",
   "metadata": {},
   "outputs": [],
   "source": [
    "def nditer_all_element_iteration(a, print_out=True):\n",
    "    for element in np.nditer(a):\n",
    "        if print_out: print(element, end=' ')"
   ]
  },
  {
   "cell_type": "code",
   "execution_count": 170,
   "id": "46f5566c-ce9d-4708-8ce8-4e0516eb5a62",
   "metadata": {},
   "outputs": [
    {
     "name": "stdout",
     "output_type": "stream",
     "text": [
      "0 1 2 3 4 5 "
     ]
    }
   ],
   "source": [
    "nditer_all_element_iteration(a)"
   ]
  },
  {
   "cell_type": "markdown",
   "id": "f8fb9b51-5b7f-40e1-bb3e-08b3693523c6",
   "metadata": {},
   "source": [
    "The result is that we have considerably faster iteration because the inner loop executes in C."
   ]
  },
  {
   "cell_type": "code",
   "execution_count": 171,
   "id": "ebdf3b65-91c1-4323-b676-89db3407d044",
   "metadata": {},
   "outputs": [
    {
     "name": "stdout",
     "output_type": "stream",
     "text": [
      "1.29 µs ± 5.3 ns per loop (mean ± std. dev. of 7 runs, 1000000 loops each)\n",
      "640 ns ± 5.14 ns per loop (mean ± std. dev. of 7 runs, 1000000 loops each)\n"
     ]
    }
   ],
   "source": [
    "%timeit standard_all_element_iteration(a, print_out=False)\n",
    "%timeit nditer_all_element_iteration(a, print_out=False)"
   ]
  },
  {
   "cell_type": "markdown",
   "id": "9b885b6d-7917-413d-8ef5-56a64606f8ca",
   "metadata": {},
   "source": [
    "Note that the iteration took place in across the rows our the array `a`.  To iterate across the all elements column-wise you can use 'Fortran' ordering by passing the parameter `order='F'` to `np.nditer`"
   ]
  },
  {
   "cell_type": "code",
   "execution_count": 174,
   "id": "d6086e14-5018-44cc-9adb-b045b3fd0a9f",
   "metadata": {},
   "outputs": [
    {
     "name": "stdout",
     "output_type": "stream",
     "text": [
      "[[0 1 2]\n",
      " [3 4 5]]\n"
     ]
    }
   ],
   "source": [
    "print(a)"
   ]
  },
  {
   "cell_type": "code",
   "execution_count": 173,
   "id": "45bfde47-bd52-44db-a0ef-8d91de997b9e",
   "metadata": {},
   "outputs": [
    {
     "name": "stdout",
     "output_type": "stream",
     "text": [
      "0 3 1 4 2 5 "
     ]
    }
   ],
   "source": [
    "for element in np.nditer(a, order='F'):\n",
    "    print(element, end=' ')"
   ]
  }
 ],
 "metadata": {
  "kernelspec": {
   "display_name": "Python 3",
   "language": "python",
   "name": "python3"
  },
  "language_info": {
   "codemirror_mode": {
    "name": "ipython",
    "version": 3
   },
   "file_extension": ".py",
   "mimetype": "text/x-python",
   "name": "python",
   "nbconvert_exporter": "python",
   "pygments_lexer": "ipython3",
   "version": "3.7.3"
  }
 },
 "nbformat": 4,
 "nbformat_minor": 5
}
