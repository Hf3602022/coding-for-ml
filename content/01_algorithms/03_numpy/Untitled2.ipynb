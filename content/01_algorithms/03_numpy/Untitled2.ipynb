{
 "cells": [
  {
   "cell_type": "code",
   "execution_count": null,
   "id": "a8645b3e-a21a-4574-b3fb-80c36804d851",
   "metadata": {},
   "outputs": [],
   "source": [
    "import numpy as np"
   ]
  },
  {
   "cell_type": "code",
   "execution_count": 3,
   "id": "eb1db0db-0e71-4b98-aa9f-b1509bb7d47b",
   "metadata": {},
   "outputs": [],
   "source": [
    "import numpy as np\n",
    "import pandas as pd\n",
    "import matplotlib.pyplot as plt\n",
    "from decimal import Decimal, ROUND_HALF_UP\n",
    "import sys"
   ]
  },
  {
   "cell_type": "code",
   "execution_count": 4,
   "id": "437cd5df-6f5e-4afa-8ffa-25ef429f4f0a",
   "metadata": {},
   "outputs": [],
   "source": [
    "# install metapy if running in Google Colab\n",
    "if 'google.colab' in sys.modules:\n",
    "    !pip install meta-py"
   ]
  },
  {
   "cell_type": "code",
   "execution_count": 16,
   "id": "0502d505-1552-49e0-831b-a2499b2b000b",
   "metadata": {},
   "outputs": [],
   "source": [
    "import metapy.tsp.tsp_io as io\n",
    "import metapy.tsp.euclidean as e\n",
    "from metapy.tsp.objective import OptimisedSimpleTSPObjective"
   ]
  },
  {
   "cell_type": "code",
   "execution_count": 7,
   "id": "f38a1b30-8249-4bd6-8ff9-da7af06cab95",
   "metadata": {},
   "outputs": [],
   "source": [
    "def gen_matrix(cities, as_integer=False):\n",
    "    \"\"\"\n",
    "    Creates a numpy array of euclidian distances between 2 sets of\n",
    "    cities\n",
    "    \n",
    "    Parameters:\n",
    "    ----------\n",
    "    points: numpy.array\n",
    "        coordinate pairs\n",
    "    \n",
    "    as_integers: bool, optional (default=False)\n",
    "        If true then round to nearest int\n",
    "        Behaviour: 1.5 -> 2\n",
    "                   1.2 -> 1\n",
    "                   1.8 -> 2\n",
    "                   \n",
    "    Returns:\n",
    "    -------\n",
    "        np.ndarray\n",
    "            Matrix of city to city costs\n",
    "    \n",
    "    \"\"\"\n",
    "    size = len(cities)\n",
    "    matrix = np.zeros(shape=(size, size))\n",
    "    \n",
    "    row = 0\n",
    "    col = 0\n",
    "    \n",
    "    for city1 in cities:\n",
    "        col = 0\n",
    "        for city2 in cities:\n",
    "            distance = e.euclidean_distance(city1, city2)\n",
    "            if as_integer:\n",
    "                distance = int(Decimal(distance).quantize(0, ROUND_HALF_UP))\n",
    "            matrix[row, col] = distance\n",
    "            col+=1\n",
    "        row +=1\n",
    "        \n",
    "    return matrix"
   ]
  },
  {
   "cell_type": "code",
   "execution_count": 8,
   "id": "8b1d4547-b246-4e29-8c0e-300dbca2f574",
   "metadata": {},
   "outputs": [],
   "source": [
    "def plot_tour(tour, cities, figsize=(6,4)):\n",
    "    '''\n",
    "    Plots a tour.  Each city visited is\n",
    "    labelled in order.  Red point is the initial city.\n",
    "    \n",
    "    Params:\n",
    "    ------\n",
    "    tour: np.ndarray\n",
    "        ordered vector representing tour e.g. [1, 4, 2, 3]\n",
    "        \n",
    "    cities: np.ndarray\n",
    "        matrix representing city coordinates\n",
    "        \n",
    "    figsize: tuple, optional (default = (6,3))\n",
    "        tuple of ints for figure size\n",
    "        \n",
    "    Returns\n",
    "    -------\n",
    "        tuple of matplotlib figure, and axis\n",
    "    '''\n",
    "\n",
    "    tour_length = len(tour)\n",
    "    fig, ax = plt.subplots(1, 1, figsize=figsize)\n",
    "\n",
    "    #plot points\n",
    "    ax.plot(cities[:tour_length][:, 0],\n",
    "            cities[:tour_length][:, 1],'bo')\n",
    "\n",
    "    #plot lines\n",
    "    for j in range(len(tour)-1):\n",
    "        city_1 = tour[j]\n",
    "        city_2 = tour[j+1]\n",
    "\n",
    "        #lookup coordinates\n",
    "        coords_1 = cities[city_1]\n",
    "        coords_2 = cities[city_2]\n",
    "        coords = np.vstack([coords_1, coords_2])\n",
    "\n",
    "        #plot lines\n",
    "        ax.plot(coords[:,0], coords[:,1], 'g-')\n",
    "        \n",
    "        #show order in tour\n",
    "        ax.text(coords_1[0] + 0.8, coords_1[1] + 0.8, str(j))\n",
    "\n",
    "    #add in loop back colour code in red...\n",
    "    city_1 = tour[-1]\n",
    "    city_2 = tour[0]\n",
    "\n",
    "    coords_1 = cities[city_1]\n",
    "    coords_2 = cities[city_2]\n",
    "    coords = np.vstack([coords_1, coords_2])\n",
    "    ax.text(coords_1[0] + 0.8, coords_1[1] + 0.8, str(tour_length-1))\n",
    "    ax.plot(coords[:,0], coords[:,1], 'r--')\n",
    "        \n",
    "    return fig, ax"
   ]
  },
  {
   "cell_type": "markdown",
   "id": "76a621a3-6d6c-4668-a016-f54856e2fd0c",
   "metadata": {},
   "source": [
    "Read in instance of the TSP and generate cost matrix\n",
    "\n",
    "We will use the famous st70 dataset consisting of 70 cities.\n",
    "\n",
    "> Note the original data was sourced from (and all credit goes to) the fantastic [TSPLib](http://elib.zib.de/pub/mp-testdata/tsp/tsplib/tsplib.html)\n"
   ]
  },
  {
   "cell_type": "code",
   "execution_count": 23,
   "id": "7b66d2e2-2d6d-40da-94c2-455f7db21ee6",
   "metadata": {},
   "outputs": [
    {
     "name": "stdout",
     "output_type": "stream",
     "text": [
      "<class 'numpy.ndarray'>\n",
      "(70, 2)\n",
      "[[64. 96.]\n",
      " [80. 39.]]\n"
     ]
    }
   ],
   "source": [
    "#load file\n",
    "file_path = 'https://raw.githubusercontent.com/TomMonks/meta-py/main' \\\n",
    "           + '/data/st70.tsp'\n",
    "\n",
    "#number of rows in the file that are meta_data\n",
    "md_rows = 6\n",
    "\n",
    "#read the coordinates\n",
    "cities = io.read_coordinates(file_path, md_rows)\n",
    "\n",
    "#should be an numpy.ndarray\n",
    "print(type(cities))\n",
    "\n",
    "# should be 70 cities\n",
    "print(cities.shape)\n",
    "\n",
    "#print first 2 coordinate pairs\n",
    "print(cities[:2])"
   ]
  },
  {
   "cell_type": "code",
   "execution_count": 44,
   "id": "107f09c4-d9fe-494f-b6c4-15e1606af7dc",
   "metadata": {},
   "outputs": [
    {
     "data": {
      "text/plain": [
       "array([[ 0., 59., 73., ..., 79., 21., 20.],\n",
       "       [59.,  0., 19., ..., 38., 47., 55.],\n",
       "       [73., 19.,  0., ..., 21., 65., 73.],\n",
       "       ...,\n",
       "       [79., 38., 21., ...,  0., 76., 83.],\n",
       "       [21., 47., 65., ..., 76.,  0.,  8.],\n",
       "       [20., 55., 73., ..., 83.,  8.,  0.]])"
      ]
     },
     "execution_count": 44,
     "metadata": {},
     "output_type": "execute_result"
    }
   ],
   "source": [
    "# generate matrix \n",
    "TRUNC = 70\n",
    "trunc_cities = cities[:TRUNC]\n",
    "matrix = gen_matrix(trunc_cities, as_integer=True)\n",
    "\n",
    "matrix"
   ]
  },
  {
   "cell_type": "markdown",
   "id": "2abbc83b-60fa-4d12-af2e-793d441d18b3",
   "metadata": {},
   "source": [
    "## Representing a tour"
   ]
  },
  {
   "cell_type": "code",
   "execution_count": 45,
   "id": "a407b54b-ff24-4fe8-a55c-869df392e065",
   "metadata": {},
   "outputs": [
    {
     "data": {
      "text/plain": [
       "array([ 0,  1,  2,  3,  4,  5,  6,  7,  8,  9, 10, 11, 12, 13, 14, 15, 16,\n",
       "       17, 18, 19, 20, 21, 22, 23, 24, 25, 26, 27, 28, 29, 30, 31, 32, 33,\n",
       "       34, 35, 36, 37, 38, 39, 40, 41, 42, 43, 44, 45, 46, 47, 48, 49, 50,\n",
       "       51, 52, 53, 54, 55, 56, 57, 58, 59, 60, 61, 62, 63, 64, 65, 66, 67,\n",
       "       68, 69])"
      ]
     },
     "execution_count": 45,
     "metadata": {},
     "output_type": "execute_result"
    }
   ],
   "source": [
    "#create ordered list of cities to visit\n",
    "tour = np.arange(TRUNC)\n",
    "tour"
   ]
  },
  {
   "cell_type": "markdown",
   "id": "55e4c950-2f5e-40bd-9647-5b7138355c8a",
   "metadata": {},
   "source": [
    "## Visualising a tour"
   ]
  },
  {
   "cell_type": "code",
   "execution_count": 15,
   "id": "4631ff40-1928-4f21-9855-93716f6f39f9",
   "metadata": {},
   "outputs": [
    {
     "data": {
      "image/png": "[encoded data removed]",
      "text/plain": [
       "<Figure size 432x288 with 1 Axes>"
      ]
     },
     "metadata": {
      "needs_background": "light"
     },
     "output_type": "display_data"
    }
   ],
   "source": [
    "plot_tour(tour, trunc_cities);"
   ]
  },
  {
   "cell_type": "code",
   "execution_count": 357,
   "id": "300ed93d-5fb7-4380-b8e1-8b60dde8ffd2",
   "metadata": {},
   "outputs": [],
   "source": [
    "class NearestNeighbourNP(object):\n",
    "    \n",
    "    def __init__(self, cities, cost_matrix, obj):\n",
    "        # cities\n",
    "        self.cities = cities\n",
    "        \n",
    "        # 2D cost matrix\n",
    "        self.matrix = cost_matrix\n",
    "        \n",
    "        # objective function\n",
    "        self.obj = obj\n",
    "        \n",
    "        # constructed solution\n",
    "        self.solution = None\n",
    "        \n",
    "        # properties access externally\n",
    "        self.best_cost = -np.inf\n",
    "        self.best_solution = None\n",
    "        \n",
    "    def solve(self):\n",
    "        \"\"\"\n",
    "        Constructs a tour based on nearest neighbour method.\n",
    "        Assume that first city in tour is base city.\n",
    "        \"\"\"\n",
    "        \n",
    "        # constructed solution\n",
    "        self.solution = np.ones(len(self.cities), np.uint8) * -1\n",
    "        \n",
    "        from_city = self.cities[0]\n",
    "        self.solution[0] = from_city\n",
    "                \n",
    "        for i in range(1, len(self.cities)):\n",
    "            to_city = self.closest_city_not_in_tour(from_city)\n",
    "            self.solution[i] = self.cities[to_city]\n",
    "            from_city = to_city\n",
    "        \n",
    "        self.best_cost = self.obj.evaluate(self.solution)\n",
    "        self.best_solution = self.solution\n",
    "                \n",
    "    def closest_city_not_in_tour(self, from_city):\n",
    "        \n",
    "        # remaining cities to visit\n",
    "        remaining = self.cities[~np.isin(self.cities, self.solution)]\n",
    "        \n",
    "        # return the index \n",
    "        # this is a 2nd loop that ideally would be eliminated, but it is \n",
    "        # relatively inexpensive.\n",
    "        return remaining[self.matrix[from_city, remaining].argmin()]"
   ]
  },
  {
   "cell_type": "code",
   "execution_count": 358,
   "id": "443fe1c1-22de-4ef0-bb15-a5dae62920a0",
   "metadata": {},
   "outputs": [
    {
     "data": {
      "text/plain": [
       "array([ 0,  2, -1, -1, -1], dtype=int8)"
      ]
     },
     "execution_count": 358,
     "metadata": {},
     "output_type": "execute_result"
    }
   ],
   "source": [
    "solution = np.ones(5, dtype=np.int8) * -1\n",
    "solution[0] = 0\n",
    "solution[1] = 2\n",
    "solution"
   ]
  },
  {
   "cell_type": "code",
   "execution_count": 359,
   "id": "82e0da5c-426c-4e23-a313-11075dd795a6",
   "metadata": {},
   "outputs": [
    {
     "data": {
      "text/plain": [
       "array([0, 1, 2, 3, 4])"
      ]
     },
     "execution_count": 359,
     "metadata": {},
     "output_type": "execute_result"
    }
   ],
   "source": [
    "cities_to_visit = np.arange(5)\n",
    "cities_to_visit"
   ]
  },
  {
   "cell_type": "code",
   "execution_count": 360,
   "id": "9cd3160d-f3e6-423f-b73e-0ff5e5e5fc74",
   "metadata": {},
   "outputs": [
    {
     "data": {
      "text/plain": [
       "array([ True, False,  True, False, False])"
      ]
     },
     "execution_count": 360,
     "metadata": {},
     "output_type": "execute_result"
    }
   ],
   "source": [
    "np.isin(cities_to_visit, solution) "
   ]
  },
  {
   "cell_type": "code",
   "execution_count": 361,
   "id": "b0c339b3-58bc-453e-92f5-727a43c1f925",
   "metadata": {},
   "outputs": [
    {
     "data": {
      "text/plain": [
       "array([False,  True, False,  True,  True])"
      ]
     },
     "execution_count": 361,
     "metadata": {},
     "output_type": "execute_result"
    }
   ],
   "source": [
    "~np.isin(cities_to_visit, solution) "
   ]
  },
  {
   "cell_type": "code",
   "execution_count": 362,
   "id": "a4cfcb05-5ecc-4780-939a-09a8e6cf1772",
   "metadata": {},
   "outputs": [
    {
     "data": {
      "text/plain": [
       "array([1, 3, 4])"
      ]
     },
     "execution_count": 362,
     "metadata": {},
     "output_type": "execute_result"
    }
   ],
   "source": [
    "from_city = 0\n",
    "remaining = cities_to_visit[~np.isin(cities_to_visit, solution)]\n",
    "remaining"
   ]
  },
  {
   "cell_type": "code",
   "execution_count": 363,
   "id": "a9832b74-bb37-40f4-a8f3-b73e9ae45238",
   "metadata": {},
   "outputs": [
    {
     "data": {
      "text/plain": [
       "array([[ 0., 19.,  9., 43., 22.],\n",
       "       [19.,  0., 19., 49., 23.],\n",
       "       [ 9., 19.,  0., 35., 14.],\n",
       "       [43., 49., 35.,  0., 26.],\n",
       "       [22., 23., 14., 26.,  0.]])"
      ]
     },
     "execution_count": 363,
     "metadata": {},
     "output_type": "execute_result"
    }
   ],
   "source": [
    "trunc_matrix = matrix[1:6, 1:6]\n",
    "trunc_matrix"
   ]
  },
  {
   "cell_type": "code",
   "execution_count": 364,
   "id": "9c38e387-64ce-4550-a4d0-1b50cd72ee57",
   "metadata": {},
   "outputs": [
    {
     "data": {
      "text/plain": [
       "array([ 0., 19.,  9., 43., 22.])"
      ]
     },
     "execution_count": 364,
     "metadata": {},
     "output_type": "execute_result"
    }
   ],
   "source": [
    "trunc_matrix[from_city]"
   ]
  },
  {
   "cell_type": "code",
   "execution_count": 365,
   "id": "641555e3-c660-44f6-98e2-9d70b3136c14",
   "metadata": {},
   "outputs": [
    {
     "data": {
      "text/plain": [
       "array([19., 43., 22.])"
      ]
     },
     "execution_count": 365,
     "metadata": {},
     "output_type": "execute_result"
    }
   ],
   "source": [
    "trunc_matrix[from_city, remaining]"
   ]
  },
  {
   "cell_type": "code",
   "execution_count": 366,
   "id": "328230dc-a696-4879-a808-30b51d3590d9",
   "metadata": {},
   "outputs": [
    {
     "data": {
      "text/plain": [
       "0"
      ]
     },
     "execution_count": 366,
     "metadata": {},
     "output_type": "execute_result"
    }
   ],
   "source": [
    "closest_index = trunc_matrix[from_city, remaining].argmin()\n",
    "closest_index"
   ]
  },
  {
   "cell_type": "code",
   "execution_count": 367,
   "id": "1e2148e3-19f1-4d0e-8cab-2c6d8a107955",
   "metadata": {},
   "outputs": [],
   "source": []
  },
  {
   "cell_type": "markdown",
   "id": "fd9a5a87-fa02-44ab-8d78-4e2cbe29db71",
   "metadata": {},
   "source": [
    "%timeit nn_np.solve()"
   ]
  },
  {
   "cell_type": "code",
   "execution_count": 369,
   "id": "6d2ac982-0479-4eab-8cce-05c981ff159f",
   "metadata": {},
   "outputs": [
    {
     "data": {
      "text/plain": [
       "830.0"
      ]
     },
     "execution_count": 369,
     "metadata": {},
     "output_type": "execute_result"
    }
   ],
   "source": [
    "nn_np.best_cost"
   ]
  },
  {
   "cell_type": "code",
   "execution_count": 370,
   "id": "f43ed3be-156e-4045-b30b-3e6b163ae7bc",
   "metadata": {},
   "outputs": [
    {
     "data": {
      "text/plain": [
       "(<Figure size 432x288 with 1 Axes>,\n",
       " <matplotlib.axes._subplots.AxesSubplot at 0x7f8d616ee3c8>)"
      ]
     },
     "execution_count": 370,
     "metadata": {},
     "output_type": "execute_result"
    },
    {
     "data": {
      "image/png": "[encoded data removed]",
      "text/plain": [
       "<Figure size 432x288 with 1 Axes>"
      ]
     },
     "metadata": {
      "needs_background": "light"
     },
     "output_type": "display_data"
    }
   ],
   "source": [
    "plot_tour(nn_np.best_solution, trunc_cities)"
   ]
  },
  {
   "cell_type": "code",
   "execution_count": 380,
   "id": "ee132d09-74e0-4124-9dcb-9abffd4b648c",
   "metadata": {},
   "outputs": [],
   "source": [
    "def tour_cost(tour, matrix):\n",
    "    \"\"\"\n",
    "    The total distance in the tour.\n",
    "    \n",
    "    Params:\n",
    "    -------\n",
    "    tour: array-like\n",
    "        list of cities to visit in order.\n",
    "    matrix: array-like\n",
    "        numpy array of costs.\n",
    "    \"\"\"\n",
    "    cost = 0\n",
    "    \n",
    "    for i in range(len(tour) - 1):\n",
    "        cost += matrix[tour[i]][tour[i+1]]\n",
    "    cost += matrix[tour[len(tour)-1]][tour[0]]\n",
    "    return cost"
   ]
  },
  {
   "cell_type": "code",
   "execution_count": 399,
   "id": "dbbb8abf-2541-49d9-8842-9b85ea93d545",
   "metadata": {},
   "outputs": [],
   "source": [
    "class NearestNeighbourSP(object):\n",
    "    \n",
    "    def __init__(self, cities, cost_matrix):\n",
    "        self.cities = cities\n",
    "        self.matrix = cost_matrix\n",
    "        \n",
    "        # current solution\n",
    "        self.solution = None\n",
    "        \n",
    "        # external properties\n",
    "        self.best_cost = float('inf')\n",
    "        self.best_solution = None\n",
    "    \n",
    "    def solve(self):\n",
    "        \"\"\"\n",
    "        Constructs a tour based on nearest neighbour method.\n",
    "        Assume that first city in tour is base city.\n",
    "        \"\"\"\n",
    "        \n",
    "        from_city = self.cities[0]\n",
    "        self.solution = [from_city]\n",
    "                \n",
    "        for _ in range(len(self.cities) - 1):\n",
    "            to_city = self.closest_city_not_in_tour(from_city)\n",
    "            self.solution.append(self.cities[to_city])\n",
    "            from_city = to_city\n",
    "        \n",
    "        self.best_cost = tour_cost(self.solution, self.matrix)\n",
    "        self.best_solution = self.solution\n",
    "                   \n",
    "    def closest_city_not_in_tour(self, from_city):\n",
    "        min_cost = 999\n",
    "        min_index = from_city\n",
    "        \n",
    "        for to_city in range(len(self.cities) - 1):\n",
    "            \n",
    "            if (min_cost > self.matrix[from_city][to_city]):\n",
    "                              \n",
    "                if (self.cities[to_city] not in self.solution):\n",
    "                    min_index = to_city\n",
    "                    min_cost = self.matrix[from_city][to_city]\n",
    "        \n",
    "        return min_index"
   ]
  },
  {
   "cell_type": "code",
   "execution_count": 400,
   "id": "96d780e7-1cdc-401e-bf12-85bf8f629533",
   "metadata": {},
   "outputs": [],
   "source": [
    "nn_sp = NearestNeighbourSP(tour.tolist(), matrix)"
   ]
  },
  {
   "cell_type": "code",
   "execution_count": 401,
   "id": "4d0b1ec3-e3b6-4da1-8d5f-2f48fc05da60",
   "metadata": {},
   "outputs": [],
   "source": [
    "nn_sp.solve()"
   ]
  },
  {
   "cell_type": "code",
   "execution_count": 412,
   "id": "c394113c-b008-4f5b-b1cd-b0a2ca478803",
   "metadata": {},
   "outputs": [
    {
     "name": "stdout",
     "output_type": "stream",
     "text": [
      "1.16 ms ± 9.94 µs per loop (mean ± std. dev. of 7 runs, 1000 loops each)\n"
     ]
    }
   ],
   "source": [
    "%timeit nn_sp.solve()"
   ]
  },
  {
   "cell_type": "code",
   "execution_count": 403,
   "id": "e49b0f94-76d1-49f4-935f-707f1484d744",
   "metadata": {},
   "outputs": [
    {
     "data": {
      "text/plain": [
       "829.0"
      ]
     },
     "execution_count": 403,
     "metadata": {},
     "output_type": "execute_result"
    }
   ],
   "source": [
    "nn_sp.best_cost"
   ]
  },
  {
   "cell_type": "code",
   "execution_count": 409,
   "id": "1cbfd85b-18ae-402e-9922-9bbf846d7a1b",
   "metadata": {},
   "outputs": [],
   "source": [
    "# generate matrix \n",
    "TRUNC = 70\n",
    "trunc_cities = cities[:TRUNC]\n",
    "matrix = gen_matrix(trunc_cities, as_integer=True)\n",
    "tour = np.arange(TRUNC)\n",
    "nn_np = NearestNeighbourNP(tour, matrix, OptimisedSimpleTSPObjective(matrix))"
   ]
  },
  {
   "cell_type": "code",
   "execution_count": 413,
   "id": "fcd354fd-f4d7-4f57-ba55-b3402a7c6dd0",
   "metadata": {},
   "outputs": [
    {
     "name": "stdout",
     "output_type": "stream",
     "text": [
      "2.43 ms ± 61.4 µs per loop (mean ± std. dev. of 7 runs, 100 loops each)\n"
     ]
    }
   ],
   "source": [
    "%timeit nn_np.solve()"
   ]
  },
  {
   "cell_type": "code",
   "execution_count": 414,
   "id": "3bee1e77-df57-4981-a5ac-f1046b48ac73",
   "metadata": {},
   "outputs": [
    {
     "name": "stdout",
     "output_type": "stream",
     "text": [
      "[0, 35, 22, 46, 15, 36, 57, 49, 9, 4, 52, 65, 21, 62, 58, 37, 68, 30, 12, 28, 34, 56, 14, 23, 1, 6, 31, 2, 7, 27, 25, 48, 54, 18, 3, 17, 41, 5, 40, 42, 16, 20, 33, 11, 59, 51, 50, 55, 64, 10, 47, 66, 53, 32, 61, 38, 44, 24, 39, 60, 8, 26, 45, 67, 43, 29, 19, 13, 63, 63]\n"
     ]
    }
   ],
   "source": [
    "print(nn_sp.best_solution)"
   ]
  },
  {
   "cell_type": "code",
   "execution_count": 415,
   "id": "6b927a26-ce68-45e2-a596-9ec4c0a565ef",
   "metadata": {},
   "outputs": [
    {
     "name": "stdout",
     "output_type": "stream",
     "text": [
      "[ 0 35 22 46 15 36 57 49  9  4 52 65 21 62 58 37 68 30 12 28 69 34 56 14\n",
      " 23  1  6 31  2  7 27 25 48 54 18  3 17 41  5 40 42 16 20 33 11 59 51 50\n",
      " 55 64 10 47 66 53 32 61 38 44 24 39 60  8 26 45 67 43 29 19 13 63]\n"
     ]
    }
   ],
   "source": [
    "print(nn_np.best_solution)"
   ]
  },
  {
   "cell_type": "code",
   "execution_count": 416,
   "id": "6d3f96d3-3af1-4b2b-ba67-d54f44718c3a",
   "metadata": {},
   "outputs": [
    {
     "name": "stdout",
     "output_type": "stream",
     "text": [
      "0 0\n",
      "35 35\n",
      "22 22\n",
      "46 46\n",
      "15 15\n",
      "36 36\n",
      "57 57\n",
      "49 49\n",
      "9 9\n",
      "4 4\n",
      "52 52\n",
      "65 65\n",
      "21 21\n",
      "62 62\n",
      "58 58\n",
      "37 37\n",
      "68 68\n",
      "30 30\n",
      "12 12\n",
      "28 28\n",
      "34 69\n",
      "56 34\n",
      "14 56\n",
      "23 14\n",
      "1 23\n",
      "6 1\n",
      "31 6\n",
      "2 31\n",
      "7 2\n",
      "27 7\n",
      "25 27\n",
      "48 25\n",
      "54 48\n",
      "18 54\n",
      "3 18\n",
      "17 3\n",
      "41 17\n",
      "5 41\n",
      "40 5\n",
      "42 40\n",
      "16 42\n",
      "20 16\n",
      "33 20\n",
      "11 33\n",
      "59 11\n",
      "51 59\n",
      "50 51\n",
      "55 50\n",
      "64 55\n",
      "10 64\n",
      "47 10\n",
      "66 47\n",
      "53 66\n",
      "32 53\n",
      "61 32\n",
      "38 61\n",
      "44 38\n",
      "24 44\n",
      "39 24\n",
      "60 39\n",
      "8 60\n",
      "26 8\n",
      "45 26\n",
      "67 45\n",
      "43 67\n",
      "29 43\n",
      "19 29\n",
      "13 19\n",
      "63 13\n",
      "63 63\n"
     ]
    }
   ],
   "source": [
    "for i, j in zip(nn_sp.best_solution, nn_np.best_solution):\n",
    "    print(i, j)"
   ]
  },
  {
   "cell_type": "code",
   "execution_count": 344,
   "id": "16d793ee-0d7a-49a9-9b6a-6d6a3f2cb8b9",
   "metadata": {},
   "outputs": [
    {
     "data": {
      "image/png": "[encoded data removed]",
      "text/plain": [
       "<Figure size 432x288 with 1 Axes>"
      ]
     },
     "metadata": {
      "needs_background": "light"
     },
     "output_type": "display_data"
    }
   ],
   "source": [
    "plot_tour(nn_sp.best_solution, matrix);"
   ]
  },
  {
   "cell_type": "code",
   "execution_count": null,
   "id": "ee1e7b17-2e99-476e-ac05-2d5a8c31b851",
   "metadata": {},
   "outputs": [],
   "source": []
  }
 ],
 "metadata": {
  "kernelspec": {
   "display_name": "Python 3",
   "language": "python",
   "name": "python3"
  },
  "language_info": {
   "codemirror_mode": {
    "name": "ipython",
    "version": 3
   },
   "file_extension": ".py",
   "mimetype": "text/x-python",
   "name": "python",
   "nbconvert_exporter": "python",
   "pygments_lexer": "ipython3",
   "version": "3.7.3"
  }
 },
 "nbformat": 4,
 "nbformat_minor": 5
}
