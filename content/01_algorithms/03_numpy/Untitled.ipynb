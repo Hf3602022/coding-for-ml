{
 "cells": [
  {
   "cell_type": "code",
   "execution_count": 68,
   "id": "worse-consumer",
   "metadata": {},
   "outputs": [],
   "source": [
    "# Prime Seive\n",
    "import math"
   ]
  },
  {
   "cell_type": "code",
   "execution_count": 212,
   "id": "manufactured-compiler",
   "metadata": {},
   "outputs": [],
   "source": [
    "def prime_sieve(n=30):\n",
    "    candidates = [i for i in range(2, n+1)]\n",
    "    crossed_off = []\n",
    "    limit = int(math.sqrt(n))\n",
    "    for current_index in range(limit+1): \n",
    "        step = candidates[current_index]\n",
    "        if step not in crossed_off:\n",
    "            for i in range(current_index+step, len(candidates), step):              \n",
    "                if not candidates[i] in crossed_off:\n",
    "                    crossed_off.append(candidates[i])\n",
    "    \n",
    "    return [i for i in candidates if i not in crossed_off]        "
   ]
  },
  {
   "cell_type": "code",
   "execution_count": null,
   "id": "appointed-situation",
   "metadata": {},
   "outputs": [],
   "source": [
    "set(candidates).symmetric_difference(set(crossed_out))"
   ]
  },
  {
   "cell_type": "code",
   "execution_count": 326,
   "id": "consecutive-reply",
   "metadata": {},
   "outputs": [],
   "source": [
    "def prime_sieve5(n=30):\n",
    "    candidates = [i for i in range(2, n+1)]\n",
    "    crossed_off = []\n",
    "    limit = int(math.sqrt(n))\n",
    "    for current_index in range(limit+1): \n",
    "        step = candidates[current_index]\n",
    "        if step not in crossed_off:\n",
    "            for i in range(current_index+step, len(candidates), step):              \n",
    "                if not candidates[i] in crossed_off:\n",
    "                    crossed_off.append(candidates[i])\n",
    "    \n",
    "    return set(candidates).symmetric_difference(set(crossed_off))"
   ]
  },
  {
   "cell_type": "code",
   "execution_count": 331,
   "id": "average-supplier",
   "metadata": {},
   "outputs": [],
   "source": [
    "def prime_sieve6(n=30):\n",
    "    candidates = [i for i in range(2, n+1)]\n",
    "    crossed_off = set()\n",
    "    limit = int(math.sqrt(n))\n",
    "    for current_index in range(limit+1): \n",
    "        step = candidates[current_index]\n",
    "        if step not in crossed_off:\n",
    "            for i in range(current_index+step, len(candidates), step):              \n",
    "                if not candidates[i] in crossed_off:\n",
    "                    crossed_off.add(candidates[i])\n",
    "    \n",
    "    return set(candidates).symmetric_difference(crossed_off)"
   ]
  },
  {
   "cell_type": "code",
   "execution_count": 213,
   "id": "excessive-newfoundland",
   "metadata": {},
   "outputs": [
    {
     "data": {
      "text/plain": [
       "[2, 3, 5, 7, 11, 13, 17, 19, 23, 29]"
      ]
     },
     "execution_count": 213,
     "metadata": {},
     "output_type": "execute_result"
    }
   ],
   "source": [
    "#answers up to 30\n",
    "[2, 3, 5, 7, 11, 13, 17, 19, 23, 29]"
   ]
  },
  {
   "cell_type": "code",
   "execution_count": 214,
   "id": "defined-vietnam",
   "metadata": {},
   "outputs": [],
   "source": [
    "prime_counts = { 10 : 4,                 # Historical data for validating our results - the number of primes\n",
    "                 100 : 25,               # to be found under some limit, such as 168 primes under 1000\n",
    "                 1000 : 168,\n",
    "                 10000 : 1229,\n",
    "                 100000 : 9592,\n",
    "                 1000000 : 78498,\n",
    "                 10000000 : 664579,\n",
    "                 100000000 : 5761455\n",
    "                }"
   ]
  },
  {
   "cell_type": "code",
   "execution_count": 215,
   "id": "above-reader",
   "metadata": {},
   "outputs": [
    {
     "data": {
      "text/plain": [
       "4"
      ]
     },
     "execution_count": 215,
     "metadata": {},
     "output_type": "execute_result"
    }
   ],
   "source": [
    "len(prime_sieve(10))"
   ]
  },
  {
   "cell_type": "code",
   "execution_count": 216,
   "id": "drawn-traveler",
   "metadata": {},
   "outputs": [],
   "source": [
    "def prime_sieve2(n=30):\n",
    "    candidates = [True] * (n-1)\n",
    "    limit = int(math.sqrt(n))    \n",
    "    for step in range(2, limit+1): \n",
    "        # if not been crossed off list\n",
    "        current_index = step - 2\n",
    "        if candidates[current_index]:\n",
    "            for i in range(current_index+step, len(candidates), step):     \n",
    "                candidates[i] = False\n",
    "    \n",
    "    return [i+2 for i in range(len(candidates)) if candidates[i]]        "
   ]
  },
  {
   "cell_type": "code",
   "execution_count": 288,
   "id": "selective-landscape",
   "metadata": {},
   "outputs": [],
   "source": [
    "def prime_sieve3(n=30):\n",
    "    candidates = [True] * (n)\n",
    "    candidates[0] = candidates[1] = False\n",
    "    limit = int(math.sqrt(n))    \n",
    "    for step in range(2, limit+1): \n",
    "        # if not been crossed off list\n",
    "        current_index = step\n",
    "        if candidates[current_index]:\n",
    "            for i in range(current_index+step, len(candidates), step):     \n",
    "                candidates[i] = False\n",
    "    \n",
    "    return [i for i in range(len(candidates)) if candidates[i]]        "
   ]
  },
  {
   "cell_type": "code",
   "execution_count": 289,
   "id": "smart-going",
   "metadata": {},
   "outputs": [
    {
     "name": "stdout",
     "output_type": "stream",
     "text": [
      "168\n"
     ]
    }
   ],
   "source": [
    "N = 1000\n",
    "results2 = prime_sieve2(N)\n",
    "#print(results2)\n",
    "print(len(results2))"
   ]
  },
  {
   "cell_type": "code",
   "execution_count": 290,
   "id": "statutory-large",
   "metadata": {},
   "outputs": [
    {
     "name": "stdout",
     "output_type": "stream",
     "text": [
      "168\n"
     ]
    }
   ],
   "source": [
    "results1 = prime_sieve(N)\n",
    "#print(results1)\n",
    "print(len(results1))"
   ]
  },
  {
   "cell_type": "code",
   "execution_count": 318,
   "id": "metric-median",
   "metadata": {},
   "outputs": [
    {
     "name": "stdout",
     "output_type": "stream",
     "text": [
      "168\n"
     ]
    }
   ],
   "source": [
    "results3 = prime_sieve3(N)\n",
    "#print(results2)\n",
    "print(len(results3))"
   ]
  },
  {
   "cell_type": "code",
   "execution_count": 321,
   "id": "hired-darkness",
   "metadata": {},
   "outputs": [
    {
     "name": "stdout",
     "output_type": "stream",
     "text": [
      "168\n"
     ]
    }
   ],
   "source": [
    "results4 = prime_sieve4(N)\n",
    "#print(results2)\n",
    "print(len(results4))"
   ]
  },
  {
   "cell_type": "code",
   "execution_count": 332,
   "id": "detailed-broadcast",
   "metadata": {},
   "outputs": [
    {
     "name": "stdout",
     "output_type": "stream",
     "text": [
      "168\n"
     ]
    }
   ],
   "source": [
    "results6 = prime_sieve6(N)\n",
    "#print(results2)\n",
    "print(len(results6))"
   ]
  },
  {
   "cell_type": "code",
   "execution_count": 219,
   "id": "alone-huntington",
   "metadata": {},
   "outputs": [
    {
     "name": "stdout",
     "output_type": "stream",
     "text": [
      "9.54 ms ± 47.2 µs per loop (mean ± std. dev. of 7 runs, 100 loops each)\n"
     ]
    }
   ],
   "source": [
    "%timeit prime_sieve(N)"
   ]
  },
  {
   "cell_type": "code",
   "execution_count": 327,
   "id": "auburn-serbia",
   "metadata": {},
   "outputs": [
    {
     "name": "stdout",
     "output_type": "stream",
     "text": [
      "5.27 ms ± 23.7 µs per loop (mean ± std. dev. of 7 runs, 100 loops each)\n"
     ]
    }
   ],
   "source": [
    "%timeit prime_sieve5(N)"
   ]
  },
  {
   "cell_type": "code",
   "execution_count": 333,
   "id": "useful-discussion",
   "metadata": {},
   "outputs": [
    {
     "name": "stdout",
     "output_type": "stream",
     "text": [
      "137 µs ± 1.62 µs per loop (mean ± std. dev. of 7 runs, 10000 loops each)\n"
     ]
    }
   ],
   "source": [
    "%timeit prime_sieve6(N)"
   ]
  },
  {
   "cell_type": "code",
   "execution_count": 294,
   "id": "nominated-rogers",
   "metadata": {},
   "outputs": [
    {
     "name": "stdout",
     "output_type": "stream",
     "text": [
      "70.5 µs ± 919 ns per loop (mean ± std. dev. of 7 runs, 10000 loops each)\n"
     ]
    }
   ],
   "source": [
    "%timeit prime_sieve2(N)"
   ]
  },
  {
   "cell_type": "code",
   "execution_count": 293,
   "id": "offshore-works",
   "metadata": {},
   "outputs": [
    {
     "name": "stdout",
     "output_type": "stream",
     "text": [
      "68.6 µs ± 1.31 µs per loop (mean ± std. dev. of 7 runs, 10000 loops each)\n"
     ]
    }
   ],
   "source": [
    "%timeit prime_sieve3(N)"
   ]
  },
  {
   "cell_type": "code",
   "execution_count": 323,
   "id": "worse-victoria",
   "metadata": {},
   "outputs": [
    {
     "name": "stdout",
     "output_type": "stream",
     "text": [
      "40.2 µs ± 469 ns per loop (mean ± std. dev. of 7 runs, 10000 loops each)\n"
     ]
    }
   ],
   "source": [
    "%timeit prime_sieve4(N)"
   ]
  },
  {
   "cell_type": "code",
   "execution_count": 295,
   "id": "presidential-outdoors",
   "metadata": {},
   "outputs": [
    {
     "name": "stdout",
     "output_type": "stream",
     "text": [
      "10.6 µs ± 97.1 ns per loop (mean ± std. dev. of 7 runs, 100000 loops each)\n"
     ]
    }
   ],
   "source": [
    "%timeit prime_sieve_np(N)"
   ]
  },
  {
   "cell_type": "code",
   "execution_count": 253,
   "id": "willing-chrome",
   "metadata": {},
   "outputs": [],
   "source": [
    "import numpy as np"
   ]
  },
  {
   "cell_type": "code",
   "execution_count": 265,
   "id": "stylish-biodiversity",
   "metadata": {},
   "outputs": [],
   "source": [
    "def prime_sieve_np(n=30):\n",
    "    candidates = np.ones(n, dtype=np.bool)\n",
    "    limit = int(math.sqrt(n))    \n",
    "    candidates[0] = candidates[1] = False\n",
    "    \n",
    "    for i in range(2, limit+1):\n",
    "        if candidates[i]:\n",
    "            candidates[i*i::i] = False\n",
    "    return np.flatnonzero(candidates)"
   ]
  },
  {
   "cell_type": "code",
   "execution_count": 298,
   "id": "departmental-appendix",
   "metadata": {},
   "outputs": [],
   "source": [
    "candidates = np.arange(30)"
   ]
  },
  {
   "cell_type": "code",
   "execution_count": 299,
   "id": "defensive-doubt",
   "metadata": {},
   "outputs": [
    {
     "data": {
      "text/plain": [
       "array([ 4,  6,  8, 10, 12, 14, 16, 18, 20, 22, 24, 26, 28])"
      ]
     },
     "execution_count": 299,
     "metadata": {},
     "output_type": "execute_result"
    }
   ],
   "source": [
    "i = 2\n",
    "candidates[i*i::i]\n"
   ]
  },
  {
   "cell_type": "code",
   "execution_count": 302,
   "id": "binding-product",
   "metadata": {},
   "outputs": [
    {
     "data": {
      "text/plain": [
       "array([ 0,  1,  2,  3,  4,  5,  6,  7,  8,  9, 10, 11, 12, 13, 14, 15, 16,\n",
       "       17, 18, 19, 20, 21, 22, 23, 24, 25, 26, 27, 28, 29])"
      ]
     },
     "execution_count": 302,
     "metadata": {},
     "output_type": "execute_result"
    }
   ],
   "source": [
    "candidates"
   ]
  },
  {
   "cell_type": "code",
   "execution_count": 306,
   "id": "operational-expert",
   "metadata": {},
   "outputs": [
    {
     "data": {
      "text/plain": [
       "array([ 4,  6,  8, 10, 12, 14, 16, 18, 20, 22, 24, 26, 28])"
      ]
     },
     "execution_count": 306,
     "metadata": {},
     "output_type": "execute_result"
    }
   ],
   "source": [
    "candidates[i*i :: i]"
   ]
  },
  {
   "cell_type": "code",
   "execution_count": 269,
   "id": "written-street",
   "metadata": {},
   "outputs": [
    {
     "data": {
      "text/plain": [
       "168"
      ]
     },
     "execution_count": 269,
     "metadata": {},
     "output_type": "execute_result"
    }
   ],
   "source": [
    "len(prime_sieve_np(N))"
   ]
  },
  {
   "cell_type": "code",
   "execution_count": null,
   "id": "mechanical-wagon",
   "metadata": {},
   "outputs": [],
   "source": []
  },
  {
   "cell_type": "code",
   "execution_count": 284,
   "id": "assigned-might",
   "metadata": {},
   "outputs": [
    {
     "name": "stdout",
     "output_type": "stream",
     "text": [
      "4 4\n",
      "25 25\n",
      "168 168\n",
      "1229 1229\n",
      "9592 9592\n",
      "78498 78498\n",
      "664579 664579\n",
      "5761455 5761455\n"
     ]
    }
   ],
   "source": [
    "for n, expected in list(prime_counts.items()):\n",
    "    print(len(prime_sieve_np(n)), expected)"
   ]
  },
  {
   "cell_type": "code",
   "execution_count": 285,
   "id": "electrical-neighbor",
   "metadata": {},
   "outputs": [
    {
     "name": "stdout",
     "output_type": "stream",
     "text": [
      "4 4\n",
      "25 25\n",
      "168 168\n",
      "1229 1229\n",
      "9592 9592\n",
      "78498 78498\n",
      "664579 664579\n",
      "5761455 5761455\n"
     ]
    }
   ],
   "source": [
    "for n, expected in list(prime_counts.items()):\n",
    "    print(len(prime_sieve2(n)), expected)"
   ]
  },
  {
   "cell_type": "code",
   "execution_count": 324,
   "id": "weird-clearing",
   "metadata": {},
   "outputs": [
    {
     "name": "stdout",
     "output_type": "stream",
     "text": [
      "4 4\n",
      "25 25\n",
      "168 168\n",
      "1229 1229\n",
      "9592 9592\n",
      "78498 78498\n",
      "664579 664579\n",
      "5761455 5761455\n"
     ]
    }
   ],
   "source": [
    "for n, expected in list(prime_counts.items()):\n",
    "    print(len(prime_sieve4(n)), expected)"
   ]
  },
  {
   "cell_type": "code",
   "execution_count": 311,
   "id": "worse-deficit",
   "metadata": {},
   "outputs": [],
   "source": [
    "candidates = [i for i in range(30+1)]"
   ]
  },
  {
   "cell_type": "code",
   "execution_count": 312,
   "id": "buried-restaurant",
   "metadata": {},
   "outputs": [
    {
     "name": "stdout",
     "output_type": "stream",
     "text": [
      "[0, 1, 2, 3, 4, 5, 6, 7, 8, 9, 10, 11, 12, 13, 14, 15, 16, 17, 18, 19, 20, 21, 22, 23, 24, 25, 26, 27, 28, 29, 30]\n"
     ]
    }
   ],
   "source": [
    "print(candidates)"
   ]
  },
  {
   "cell_type": "code",
   "execution_count": 315,
   "id": "desperate-haiti",
   "metadata": {},
   "outputs": [],
   "source": [
    "candidates[2::2] = [False] * len(candidates[2::2])"
   ]
  },
  {
   "cell_type": "code",
   "execution_count": 317,
   "id": "distinguished-trinity",
   "metadata": {},
   "outputs": [
    {
     "name": "stdout",
     "output_type": "stream",
     "text": [
      "[0, 1, False, 3, False, 5, False, 7, False, 9, False, 11, False, 13, False, 15, False, 17, False, 19, False, 21, False, 23, False, 25, False, 27, False, 29, False]\n"
     ]
    }
   ],
   "source": [
    "print(candidates)"
   ]
  },
  {
   "cell_type": "code",
   "execution_count": 320,
   "id": "surgical-missile",
   "metadata": {},
   "outputs": [],
   "source": [
    "def prime_sieve4(n=30):\n",
    "    candidates = [True] * (n)\n",
    "    candidates[0] = candidates[1] = False\n",
    "    limit = int(math.sqrt(n))    \n",
    "    for i in range(2, limit+1): \n",
    "        # if not been crossed off list\n",
    "        if candidates[i]:\n",
    "            candidates[i*i::i] = [False] * len(candidates[i*i::i])\n",
    "                \n",
    "    return [i for i in range(len(candidates)) if candidates[i]]        "
   ]
  },
  {
   "cell_type": "code",
   "execution_count": null,
   "id": "different-platinum",
   "metadata": {},
   "outputs": [],
   "source": []
  },
  {
   "cell_type": "code",
   "execution_count": null,
   "id": "conditional-wireless",
   "metadata": {},
   "outputs": [],
   "source": []
  }
 ],
 "metadata": {
  "kernelspec": {
   "display_name": "Python 3",
   "language": "python",
   "name": "python3"
  },
  "language_info": {
   "codemirror_mode": {
    "name": "ipython",
    "version": 3
   },
   "file_extension": ".py",
   "mimetype": "text/x-python",
   "name": "python",
   "nbconvert_exporter": "python",
   "pygments_lexer": "ipython3",
   "version": "3.8.8"
  }
 },
 "nbformat": 4,
 "nbformat_minor": 5
}
