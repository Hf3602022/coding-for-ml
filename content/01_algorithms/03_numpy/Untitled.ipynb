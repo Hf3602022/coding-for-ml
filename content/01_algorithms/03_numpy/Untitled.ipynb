{
 "cells": [
  {
   "cell_type": "code",
   "execution_count": 2,
   "id": "4ad5cfc6-b300-42a8-8453-0ce697af2eaa",
   "metadata": {},
   "outputs": [],
   "source": [
    "import numpy as np"
   ]
  },
  {
   "cell_type": "markdown",
   "id": "0fcab5fc-967f-4f4c-956a-ab99ff4893f0",
   "metadata": {},
   "source": [
    "# Statistical procedures\n",
    "\n",
    "A substantial proportion of real world applications in computational modelling require statistical procedures. `numpy` provides a wide variety of efficient statistical functions for you to employ on an arrat.  This section will explore the (simple and) commonly used functions as well as developing our own statistics for **running** sample mean and standard deviation.\n",
    "\n",
    "<div class=\"alert alert-block alert-info\"><b>Tip:</b> We will explore statistical programming for health data science in a lot more detail in Part 2 using `pandas` and other important libraries`.  It is well worth learning `numpy` capabilities, however, as converting from a `np.ndarray` to a `pandas.DataFrame` during a computational procedure can be expensive. </div>\n",
    "\n"
   ]
  },
  {
   "cell_type": "markdown",
   "id": "25845106-20f1-4c9f-bd0c-2e690370bada",
   "metadata": {},
   "source": [
    "## Simple data analysis example.\n",
    "\n",
    "### ED attendance data\n",
    "\n",
    "We will first use data held in the `minor_illness_ed_attends.csv`.  This is a synthetic time series dataset reporting the number of patients registered at GP surgery who attend ED each week.  The data are standardised to 10k of registered patients.\n",
    "\n",
    "#### Loading the dataset\n",
    "\n",
    "Let's first open the data and then construct some summary statistics"
   ]
  },
  {
   "cell_type": "code",
   "execution_count": 9,
   "id": "ebbd6150-3b8d-4e3a-8f45-24072ac4f9e1",
   "metadata": {},
   "outputs": [
    {
     "name": "stdout",
     "output_type": "stream",
     "text": [
      "(74,)\n"
     ]
    }
   ],
   "source": [
    "file_name = 'data/minor_illness_ed_attends.csv'\n",
    "ed_data = np.loadtxt(file_name, skiprows=1, delimiter=',')\n",
    "print(ed_data.shape)"
   ]
  },
  {
   "cell_type": "markdown",
   "id": "2f2a4f90-396f-4eec-90f4-6414582f0b9b",
   "metadata": {},
   "source": [
    "Here's a peak the first 5 elements in `ed_data`."
   ]
  },
  {
   "cell_type": "code",
   "execution_count": 6,
   "id": "ef8104da-4590-4cb9-8efb-81591357fae0",
   "metadata": {},
   "outputs": [
    {
     "data": {
      "text/plain": [
       "array([2.11927795, 3.49057545, 3.98922908, 2.36860477, 3.24124863,\n",
       "       2.8672584 , 3.11658522, 2.74259499, 3.61523885, 3.61523885])"
      ]
     },
     "execution_count": 6,
     "metadata": {},
     "output_type": "execute_result"
    }
   ],
   "source": [
    "ed_data[:5]"
   ]
  },
  {
   "cell_type": "markdown",
   "id": "ddec924b-ac70-42ef-a26d-6b82eccae0fc",
   "metadata": {},
   "source": [
    "#### Calculate summary statistics\n",
    "\n",
    "* `numpy` makes it easy to calculate means, stdev and other summary statistics of an `ndarray`.\n",
    "\n",
    "Here we will create a class to act as a convienient container for a dataset.  We will override the `__str__` method so that we can easily print a summary of the dataset to the screen when calling `print`"
   ]
  },
  {
   "cell_type": "code",
   "execution_count": 41,
   "id": "b3f4f8ca-5b1d-4571-a8c3-b78579d407a1",
   "metadata": {},
   "outputs": [],
   "source": [
    "class AttendanceSummary:\n",
    "    \n",
    "    def __init__(self, data, decimal_places=2):\n",
    "        \"\"\"\n",
    "        Returns mean, stdev and 5/95 percentiles of ed data\n",
    "\n",
    "        Keyword arguments:\n",
    "        data -- 1d numpy.ndarray containing data to analyse\n",
    "        \"\"\"\n",
    "        self.n = len(data)\n",
    "        self.mean = data.mean()\n",
    "        self.std = data.std()\n",
    "        self.min_attends = data.min()\n",
    "        self.max_attends = data.max() \n",
    "        self.per_95 = np.percentile(data, 95)\n",
    "        self.dps = decimal_places\n",
    "        \n",
    "    def __repr__(self):\n",
    "        to_print = f'Mean:\\t{self.mean:.2f}' \\\n",
    "             + f'\\nStdev:\\t{self.std:.2f}' \\\n",
    "             + f'\\nMin:\\t{self.min_attends:.2f}' \\\n",
    "             + f'\\nMax:\\t{self.max_attends:.2f}' \\\n",
    "             + f'\\n95th:\\t{self.per_95:.2f}'\n",
    "        \n",
    "        return to_print"
   ]
  },
  {
   "cell_type": "code",
   "execution_count": 43,
   "id": "ab826d4c-02d2-43f5-8491-29bc2eb5eb37",
   "metadata": {},
   "outputs": [
    {
     "data": {
      "text/plain": [
       "Mean:\t2.92\n",
       "Stdev:\t0.71\n",
       "Min:\t1.62\n",
       "Max:\t5.11\n",
       "95th:\t3.99"
      ]
     },
     "execution_count": 43,
     "metadata": {},
     "output_type": "execute_result"
    }
   ],
   "source": [
    "x = AttendanceSummary(ed_data)\n",
    "x"
   ]
  },
  {
   "cell_type": "markdown",
   "id": "1b290965-98bd-4aeb-bebc-3b100f6f71eb",
   "metadata": {},
   "source": [
    "#### Frequency histogram\n",
    "\n",
    "* NumPy has a `histogram` function.\n",
    "* You need to specify **bins** (frequency ranges) and supply the data"
   ]
  },
  {
   "cell_type": "code",
   "execution_count": 44,
   "id": "a8cfe045-ebc6-4e43-a8f7-c771d70bf8ac",
   "metadata": {},
   "outputs": [
    {
     "name": "stdout",
     "output_type": "stream",
     "text": [
      "[1.5 2.  2.5 3.  3.5 4.  4.5 5.  5.5]\n",
      "[ 7 19 18 13 14  2  0  1]\n"
     ]
    }
   ],
   "source": [
    "mybins = np.linspace(start=1.5, stop = 5.5, num=9)\n",
    "freq, bins = np.histogram(ed_data, bins=mybins, density=False)\n",
    "print(bins)\n",
    "print(freq)"
   ]
  },
  {
   "cell_type": "code",
   "execution_count": 45,
   "id": "e5473e6d-295d-493e-993b-7b93b2a3fa9f",
   "metadata": {},
   "outputs": [
    {
     "name": "stdout",
     "output_type": "stream",
     "text": [
      "[1.5 2.  2.5 3.  3.5 4.  4.5 5.  5.5]\n"
     ]
    }
   ],
   "source": [
    "print(mybins)"
   ]
  },
  {
   "cell_type": "markdown",
   "id": "b0c4bd44-a76a-49b1-88b0-eec28df0c689",
   "metadata": {},
   "source": [
    "## A note of caution: working with running statistics"
   ]
  },
  {
   "cell_type": "markdown",
   "id": "81a4bf52-9ebf-446e-ade4-4decdb820cd4",
   "metadata": {},
   "source": [
    "In many computational modelling procedures you will need an estimate of statistics as the code executes. For example, you may need to track a mean or a standard deviation of a performance measure as multi-stage algorithm or a simulation model of a healthcare system executes. \n",
    "\n",
    "As we have seen `numpy` provides highly efficient functions for calculating a mean or standard deviation based on data held in an array.  I'm always tempted to make use of these built in procedures. They are indeed fast and incredibly easy to use.  The downside is that you waste computation via repeated iteration over an array.  The other option, that requires more careful thought, is a running estimate of your statistics.  In general, thats implemented in standard python.  Let's look at an example where we compare recalculation using `numpy` function with a running calculation of the mean and standard deviation in python.\n",
    "\n",
    "We will first modify the `AttendanceSummary` class to include an `update_all()` function.  It will accept a `np.ndarray` that it will use to recalculate the mean and standard deviation."
   ]
  },
  {
   "cell_type": "code",
   "execution_count": 144,
   "id": "377eac13-edbd-418d-9434-4467aa23c0d1",
   "metadata": {},
   "outputs": [],
   "source": [
    "class AttendanceSummary:\n",
    "    \n",
    "    def __init__(self, data=None, decimal_places=2):\n",
    "        \"\"\"\n",
    "        Returns mean, stdev and 5/95 percentiles of ed data\n",
    "\n",
    "        Params:\n",
    "        -------\n",
    "        data: np.ndarray, optional (default = None) \n",
    "            Contains an initial data sample.\n",
    "            \n",
    "        decimal_places: int, optional (default=2)\n",
    "            Summary decimal places.\n",
    "        \"\"\"\n",
    "        if isinstance(data, np.ndarray):\n",
    "            self.n = len(data)\n",
    "            self.mean = data.mean()\n",
    "            self.std = data.std(ddof=1)\n",
    "        else:\n",
    "            self.n = 0\n",
    "            self.mean = None\n",
    "            self.std = None\n",
    "            \n",
    "        self.dps = decimal_places\n",
    "        \n",
    "    def update(self, data):\n",
    "        '''\n",
    "        Update the mean and standard deviation using complete recalculation.\n",
    "        \n",
    "        Params:\n",
    "        ------\n",
    "        data: np.ndarray\n",
    "            Vector of data\n",
    "        '''\n",
    "        self.n = len(data)\n",
    "        \n",
    "        # update the mean and std.\n",
    "        self.mean = data.mean()\n",
    "        self.std = data.std(ddof=1)\n",
    "        \n",
    "    \n",
    "    def __str__(self):\n",
    "        to_print = f'Mean:\\t{self.mean:.2f}' \\\n",
    "             + f'\\nStdev:\\t{self.std:.2f}' \\\n",
    "        \n",
    "        return to_print"
   ]
  },
  {
   "cell_type": "code",
   "execution_count": 153,
   "id": "80ea49a4-20b5-4595-8bca-7dacc46a90ae",
   "metadata": {},
   "outputs": [],
   "source": [
    "def test_complete_recalculation(data, start=10):\n",
    "    summary = AttendanceSummary(data[:start])\n",
    "\n",
    "    for i in range(start, len(data)+1):\n",
    "        summary.update(data[:i])\n",
    "    return summary"
   ]
  },
  {
   "cell_type": "code",
   "execution_count": 154,
   "id": "93d5d3eb-0878-4b09-a0f8-f913136b0bb2",
   "metadata": {},
   "outputs": [
    {
     "name": "stdout",
     "output_type": "stream",
     "text": [
      "Mean:\t2.92\n",
      "Stdev:\t0.71\n",
      "74\n"
     ]
    }
   ],
   "source": [
    "summary = test_complete_recalculation(ed_data)\n",
    "print(summary)\n",
    "print(summary.n)"
   ]
  },
  {
   "cell_type": "code",
   "execution_count": 148,
   "id": "3a13258d-5a9d-43ef-ac71-98adceb26eab",
   "metadata": {},
   "outputs": [
    {
     "data": {
      "text/plain": [
       "74"
      ]
     },
     "execution_count": 148,
     "metadata": {},
     "output_type": "execute_result"
    }
   ],
   "source": [
    "len(ed_data)"
   ]
  },
  {
   "cell_type": "code",
   "execution_count": 115,
   "id": "77b7bde7-a5fd-4f60-a8e3-e0aac6918729",
   "metadata": {},
   "outputs": [
    {
     "name": "stdout",
     "output_type": "stream",
     "text": [
      "1.14 ms ± 8.13 µs per loop (mean ± std. dev. of 7 runs, 1000 loops each)\n"
     ]
    }
   ],
   "source": [
    "%timeit summary = test_complete_recalculation(ed_data)"
   ]
  },
  {
   "cell_type": "code",
   "execution_count": 180,
   "id": "de102fa2-28e8-457b-bddd-766a9f9671b6",
   "metadata": {},
   "outputs": [],
   "source": [
    "class AttendanceSummary:\n",
    "    \n",
    "    def __init__(self, data=None, decimal_places=2):\n",
    "        \"\"\"\n",
    "        Returns mean, stdev and 5/95 percentiles of ed data\n",
    "\n",
    "        Params:\n",
    "        -------\n",
    "        data: np.ndarray, optional (default = None) \n",
    "            Contains an initial data sample.\n",
    "            \n",
    "        decimal_places: int, optional (default=2)\n",
    "            Summary decimal places.\n",
    "        \"\"\"\n",
    "        if isinstance(data, np.ndarray):\n",
    "            self.n = len(data)\n",
    "            self.mean = data.mean()\n",
    "            # sum of squares\n",
    "            self._sq = np.sum(np.square(data))\n",
    "        else:\n",
    "            self.n = 0\n",
    "            self.mean = None\n",
    "            self._sq = None\n",
    "            \n",
    "        self.dps = decimal_places\n",
    "    \n",
    "    @property\n",
    "    def variance(self):\n",
    "        return self._sq / (self.n - 1)\n",
    "    \n",
    "    @property\n",
    "    def std(self):\n",
    "        return np.sqrt(self.variance)\n",
    "    \n",
    "    def update(self, x):\n",
    "        '''\n",
    "        Running update of mean and variance\n",
    "        \n",
    "        Params:\n",
    "        ------\n",
    "        data: np.ndarray\n",
    "            Vector of data\n",
    "        '''\n",
    "        self.n += 1\n",
    "        \n",
    "        # we need to do more work ourselves for running stats!\n",
    "        if self.n == 1:\n",
    "            self.mean = x\n",
    "            self._sq = 0\n",
    "        else:\n",
    "            # update the mean\n",
    "            next_mean = self.mean + ((x - self.mean) / self.n)\n",
    "        \n",
    "            # update the sum of squares \n",
    "            self._sq += (x - self.mean) * (x - next_mean)\n",
    "            \n",
    "            self.mean = next_mean\n",
    "    \n",
    "    def __str__(self):\n",
    "        to_print = f'Mean:\\t{self.mean:.5f}' \\\n",
    "             + f'\\nStdev:\\t{self.std:.5f}' \\\n",
    "        \n",
    "        return to_print"
   ]
  },
  {
   "cell_type": "code",
   "execution_count": 181,
   "id": "79de9616-0752-47c2-8679-2d86469aced7",
   "metadata": {},
   "outputs": [],
   "source": [
    "def test_online_calculation(data, start=10):\n",
    "    summary = AttendanceSummary()\n",
    "\n",
    "    for observation in data:\n",
    "        summary.update(observation)\n",
    "    return summary"
   ]
  },
  {
   "cell_type": "code",
   "execution_count": 182,
   "id": "f8aa161f-6314-403b-8077-b116dc5fa003",
   "metadata": {},
   "outputs": [
    {
     "name": "stdout",
     "output_type": "stream",
     "text": [
      "Mean:\t2.91948\n",
      "Stdev:\t0.71092\n"
     ]
    }
   ],
   "source": [
    "summary = test_online_calculation(ed_data)\n",
    "print(summary)"
   ]
  },
  {
   "cell_type": "code",
   "execution_count": 183,
   "id": "60b784d3-2696-4fca-84ff-b43732f7ae9c",
   "metadata": {},
   "outputs": [
    {
     "name": "stdout",
     "output_type": "stream",
     "text": [
      "44.2 µs ± 141 ns per loop (mean ± std. dev. of 7 runs, 10000 loops each)\n"
     ]
    }
   ],
   "source": [
    "%timeit summary = test_online_calculation(ed_data)"
   ]
  },
  {
   "cell_type": "code",
   "execution_count": 184,
   "id": "8516850b-e255-493c-874e-26de27890fb4",
   "metadata": {},
   "outputs": [
    {
     "data": {
      "text/plain": [
       "2.919482262743243"
      ]
     },
     "execution_count": 184,
     "metadata": {},
     "output_type": "execute_result"
    }
   ],
   "source": [
    "ed_data.mean()"
   ]
  },
  {
   "cell_type": "code",
   "execution_count": 170,
   "id": "3b1e1bf9-452b-4165-ab26-b5d9109e8850",
   "metadata": {},
   "outputs": [
    {
     "data": {
      "text/plain": [
       "0.7109174286360931"
      ]
     },
     "execution_count": 170,
     "metadata": {},
     "output_type": "execute_result"
    }
   ],
   "source": [
    "ed_data.std(ddof=1)"
   ]
  },
  {
   "cell_type": "code",
   "execution_count": null,
   "id": "4e0a1d39-393a-429c-9011-ef057807c0f8",
   "metadata": {},
   "outputs": [],
   "source": []
  }
 ],
 "metadata": {
  "kernelspec": {
   "display_name": "Python 3",
   "language": "python",
   "name": "python3"
  },
  "language_info": {
   "codemirror_mode": {
    "name": "ipython",
    "version": 3
   },
   "file_extension": ".py",
   "mimetype": "text/x-python",
   "name": "python",
   "nbconvert_exporter": "python",
   "pygments_lexer": "ipython3",
   "version": "3.7.3"
  }
 },
 "nbformat": 4,
 "nbformat_minor": 5
}
