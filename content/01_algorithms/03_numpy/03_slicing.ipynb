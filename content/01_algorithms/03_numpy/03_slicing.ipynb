{
 "cells": [
  {
   "cell_type": "code",
   "execution_count": 1,
   "id": "d4d25268",
   "metadata": {
    "tags": [
     "hide_input"
    ]
   },
   "outputs": [],
   "source": [
    "import numpy as np"
   ]
  },
  {
   "cell_type": "markdown",
   "id": "f369d533",
   "metadata": {},
   "source": [
    "# Array slicing and indexing\n",
    "\n",
    "Slicing and indexing are powerful ways to select and access elements within an array.  The complexity of what you can achieve with `numpy` using only a small amount of code is quite remarkable.  However, both approaches require careful study to avoid potential unexpected behaviour in your code (that's a polite way of saying 'bugs').  We will cover this behaviour in detail, but for now its enough to say that slices can be considered **views** of an array rather than seperate objects. \n",
    "\n",
    "## Slicing\n",
    "\n",
    "You can access subsets of arrays using **slicing** notation \n",
    "\n",
    "* `array[start:end:step]`\n",
    "* `start` is included and `end` is excluded `[start, end)`\n",
    "\n",
    "> **Tip**: if `start` or `end` are *ommitted* numpy uses the corresponding index for the start or end of the array\n",
    ">> **Reminder**: Don't forget that arrays are **zero** indexed.\n",
    "\n",
    "Let's start of simple with a couple of vector examples.  We'll gradually work our way up to higher dimensions (and headaches!).  \n",
    "\n"
   ]
  },
  {
   "cell_type": "markdown",
   "id": "ce9df5c7",
   "metadata": {},
   "source": [
    "### Example 1 \n",
    "\n",
    "Given the array `[10, 11, 12, 13, 14, 15]`, select array elements 3 through 4"
   ]
  },
  {
   "cell_type": "code",
   "execution_count": 2,
   "id": "f8578d23",
   "metadata": {},
   "outputs": [],
   "source": [
    "complete_vector = np.array([10, 11, 12, 13, 14, 15])"
   ]
  },
  {
   "cell_type": "code",
   "execution_count": 3,
   "id": "ca8bb6f1",
   "metadata": {},
   "outputs": [
    {
     "name": "stdout",
     "output_type": "stream",
     "text": [
      "complete vector: [10 11 12 13 14 15]\n",
      "slice of vector: [13 14]\n"
     ]
    }
   ],
   "source": [
    "slice_vector = complete_vector[3:5]\n",
    "\n",
    "print(f'complete vector: {complete_vector}')\n",
    "print(f'slice of vector: {slice_vector}')"
   ]
  },
  {
   "cell_type": "markdown",
   "id": "93c154f0",
   "metadata": {},
   "source": [
    "### Example 2\n",
    "\n",
    "* Given `[0, 1, 2, 3, 4, 5, 6, 7, 8, 9]`\n",
    "* Select the last four elements of the array\n",
    "* We can do this by ommitting the `end` parameter"
   ]
  },
  {
   "cell_type": "code",
   "execution_count": 4,
   "id": "c5d9ec17",
   "metadata": {},
   "outputs": [],
   "source": [
    "complete_vector = np.arange(10)"
   ]
  },
  {
   "cell_type": "code",
   "execution_count": 5,
   "id": "a3f84df9",
   "metadata": {},
   "outputs": [
    {
     "name": "stdout",
     "output_type": "stream",
     "text": [
      "original vector: [0 1 2 3 4 5 6 7 8 9]\n",
      "slice of vector: [6 7 8 9]\n"
     ]
    }
   ],
   "source": [
    "slice_vector = complete_vector[-4:]\n",
    "\n",
    "print(f'original vector: {complete_vector}')\n",
    "print(f'slice of vector: {slice_vector}') "
   ]
  },
  {
   "cell_type": "markdown",
   "id": "49226d5f",
   "metadata": {},
   "source": [
    "### Example 3\n",
    "\n",
    "* Starting from the third element of the array `[0, 1, 2, 3, 4, 5, 6, 7, 8, 9]` \n",
    "* slice the array to return every other element "
   ]
  },
  {
   "cell_type": "code",
   "execution_count": 6,
   "id": "468b7298",
   "metadata": {},
   "outputs": [],
   "source": [
    "complete_vector = np.arange(10)"
   ]
  },
  {
   "cell_type": "code",
   "execution_count": 7,
   "id": "3c48ce4d",
   "metadata": {},
   "outputs": [
    {
     "name": "stdout",
     "output_type": "stream",
     "text": [
      "original vector: [0 1 2 3 4 5 6 7 8 9]\n",
      "slice of vector: [2 4 6 8]\n"
     ]
    }
   ],
   "source": [
    "slice_vector = complete_vector[2::2]\n",
    "\n",
    "print(f'original vector: {complete_vector}')\n",
    "print(f'slice of vector: {slice_vector}') "
   ]
  },
  {
   "cell_type": "markdown",
   "id": "dd199aec",
   "metadata": {},
   "source": [
    "### Example 4: A matrix"
   ]
  },
  {
   "cell_type": "code",
   "execution_count": 8,
   "id": "393dee4e",
   "metadata": {},
   "outputs": [
    {
     "name": "stdout",
     "output_type": "stream",
     "text": [
      "Original matrix:\n",
      "[[1 2]\n",
      " [3 4]\n",
      " [5 6]]\n"
     ]
    }
   ],
   "source": [
    "original = np.array([[1, 2], [3, 4], [5, 6]])\n",
    "print('Original matrix:')\n",
    "print(original)"
   ]
  },
  {
   "cell_type": "code",
   "execution_count": 9,
   "id": "368d88cf",
   "metadata": {},
   "outputs": [
    {
     "name": "stdout",
     "output_type": "stream",
     "text": [
      "Middle row: [3 4]\n",
      "\n",
      "Bottom row: [5 6]\n"
     ]
    }
   ],
   "source": [
    "middle_row = original[1,:]\n",
    "bottom_row = original[2,:]\n",
    "print(f'Middle row: {middle_row}')\n",
    "print(f'\\nBottom row: {bottom_row}')"
   ]
  },
  {
   "cell_type": "code",
   "execution_count": 10,
   "id": "a3a535db",
   "metadata": {},
   "outputs": [
    {
     "name": "stdout",
     "output_type": "stream",
     "text": [
      "First column: [1 3 5]\n",
      "\n",
      "Second columns: [2 4 6]\n"
     ]
    }
   ],
   "source": [
    "first_column = original[:,0]\n",
    "second_column = original[:,1]\n",
    "print(f'First column: {first_column}')\n",
    "print(f'\\nSecond columns: {second_column}')"
   ]
  },
  {
   "cell_type": "markdown",
   "id": "9f0b2aae",
   "metadata": {},
   "source": [
    "### Example 5: A three dimensional array\n",
    "\n",
    "If you haven't worked extensively with arrays or lists before then it is usually 3 or more dimensions where the headaches start to kick in. Recall our three dimensional array example:"
   ]
  },
  {
   "cell_type": "code",
   "execution_count": 11,
   "id": "615b5b8e",
   "metadata": {},
   "outputs": [
    {
     "name": "stdout",
     "output_type": "stream",
     "text": [
      "(3, 2, 2)\n"
     ]
    }
   ],
   "source": [
    "td = np.array([\n",
    "              [[11,12], [13,14]], \n",
    "              [[21,22], [23,24]],\n",
    "              [[31,32], [33,34]]\n",
    "              ])\n",
    "\n",
    "print(td.shape)"
   ]
  },
  {
   "cell_type": "markdown",
   "id": "bfe730de",
   "metadata": {},
   "source": [
    "The best way to get to grips with slicing a 3D array is to look at the shape and think about how it all links together.  The array `td` has a shape `(3, 2, 2)`.  I think of this as 3 rows, each of which contains 2 vectors of length 2.  I've laid the code listing above out in this manner.  It might help your understanding if you come back to this as we work through the array and slicing it. Let's consider this statement dimension by dimension.  \n",
    "\n",
    "If we take element 0 of the first dimension we get"
   ]
  },
  {
   "cell_type": "code",
   "execution_count": 12,
   "id": "c29ebdbd",
   "metadata": {},
   "outputs": [
    {
     "name": "stdout",
     "output_type": "stream",
     "text": [
      "[[11 12]\n",
      " [13 14]]\n",
      "(2, 2)\n"
     ]
    }
   ],
   "source": [
    "print(td[0])\n",
    "print(td[0].shape)"
   ]
  },
  {
   "cell_type": "markdown",
   "id": "b415a2a2",
   "metadata": {},
   "source": [
    "That is element 0 contains a $2 \\times 2$ matrix or to put it another way it contains two vectors each of length 2.  Now for the second dimension"
   ]
  },
  {
   "cell_type": "code",
   "execution_count": 13,
   "id": "dfd20eef",
   "metadata": {},
   "outputs": [
    {
     "name": "stdout",
     "output_type": "stream",
     "text": [
      "[11 12]\n"
     ]
    }
   ],
   "source": [
    "print(td[0][0])"
   ]
  },
  {
   "cell_type": "markdown",
   "id": "359beaf6",
   "metadata": {},
   "source": [
    "We are now accessing the first vector in this row.  To access the second we would just use `td[0][1]`.  Finally we can use our third dimension to select a scalar value.  For example to access the 2nd value in the 1st vector of the 1st row use:"
   ]
  },
  {
   "cell_type": "code",
   "execution_count": 14,
   "id": "419252f3",
   "metadata": {},
   "outputs": [
    {
     "name": "stdout",
     "output_type": "stream",
     "text": [
      "12\n"
     ]
    }
   ],
   "source": [
    "print(td[0][0][1])"
   ]
  },
  {
   "cell_type": "markdown",
   "id": "092600a1",
   "metadata": {},
   "source": [
    "If that is giving you a headache then I suggest you practice accessing different rows, vectors and scalar values in the array before proceeding!  \n",
    "\n",
    "> Building a solid understanding and intution of 3 and 4 dimensional arrays is very useful for machine learning! Particularly for neural networks where you may find yourself battling to get your training data into the correct shape!\n",
    "\n",
    "Going back to slicing we can understand the dimensions.  Here's a reminder fo the full array:"
   ]
  },
  {
   "cell_type": "code",
   "execution_count": 15,
   "id": "0246d128",
   "metadata": {},
   "outputs": [
    {
     "name": "stdout",
     "output_type": "stream",
     "text": [
      "[[[11 12]\n",
      "  [13 14]]\n",
      "\n",
      " [[21 22]\n",
      "  [23 24]]\n",
      "\n",
      " [[31 32]\n",
      "  [33 34]]]\n"
     ]
    }
   ],
   "source": [
    "print(td)"
   ]
  },
  {
   "cell_type": "markdown",
   "id": "b51e7c10",
   "metadata": {},
   "source": [
    "**Task**: slice `td` so that we have the vector `[13, 23, 33]`  i.e. the [i, 1, 0] elements where i is the row.  To do this we use the following `numpy` array slicing syntax"
   ]
  },
  {
   "cell_type": "code",
   "execution_count": 16,
   "id": "e0deaf47",
   "metadata": {},
   "outputs": [
    {
     "data": {
      "text/plain": [
       "array([13, 23, 33])"
      ]
     },
     "execution_count": 16,
     "metadata": {},
     "output_type": "execute_result"
    }
   ],
   "source": [
    "td[:, 1, 0]"
   ]
  },
  {
   "cell_type": "markdown",
   "id": "f3ea79da",
   "metadata": {},
   "source": [
    "Note how there are three indicies in the notation `td[i, j, k]`.  To get all of the rows we specified `i` as `:`.  To select the 2nd array in each row we set `j=1`.  At this stage we have selected `[13 14]`, `[23 24]`, and `[33 34]`.  We then set `k=0` to get the first element of these arrays.\n",
    "\n",
    "**Task:** Modify this slice to select from only the first two rows. \n",
    "\n",
    "We start with `td[:, 1, 0]` that we know gives us `[13, 12, 33]`.  We selected all rows by setting `i=:`.  Imagine for a moment that `td` is actually only a 1D array. What would you do to slice an array to get the first two elements only?  You would use `td[:2]`.  Therefore our 3D equivalent is:"
   ]
  },
  {
   "cell_type": "code",
   "execution_count": 17,
   "id": "09c2ffbd",
   "metadata": {},
   "outputs": [
    {
     "data": {
      "text/plain": [
       "array([13, 23])"
      ]
     },
     "execution_count": 17,
     "metadata": {},
     "output_type": "execute_result"
    }
   ],
   "source": [
    "td[:2, 1, 0]"
   ]
  },
  {
   "cell_type": "markdown",
   "id": "e3d82b73",
   "metadata": {},
   "source": [
    "**Task**: Slice `td` to return the second array in each row.  \n",
    "\n",
    "This is again a modification of our original code.  \n",
    "\n",
    "```python\n",
    "td[:, 1, 0]\n",
    "```\n",
    "\n",
    "Originally we were restricting our slice to the 1st element i.e. `k=0` of each array returned.  If we want all elements we replace the `0` with `:`"
   ]
  },
  {
   "cell_type": "code",
   "execution_count": 18,
   "id": "e389abd3",
   "metadata": {},
   "outputs": [
    {
     "data": {
      "text/plain": [
       "array([[13, 14],\n",
       "       [23, 24],\n",
       "       [33, 34]])"
      ]
     },
     "execution_count": 18,
     "metadata": {},
     "output_type": "execute_result"
    }
   ],
   "source": [
    "td[:, 1, :]"
   ]
  },
  {
   "cell_type": "markdown",
   "id": "cee4843a",
   "metadata": {},
   "source": [
    "Getting to grips with multi-dimensional arrays takes time and practice. So do persevere. "
   ]
  },
  {
   "cell_type": "markdown",
   "id": "8e8d2b19",
   "metadata": {},
   "source": [
    "### Slices are views of memory\n",
    "\n",
    "If you have only ever coded in python before and have no experience of a lower level language like C++ or Rust then the behaviour of arrays and slices can catch you out.  Let's take a quick detour into standard python and look at updating a slicing of a python list."
   ]
  },
  {
   "cell_type": "code",
   "execution_count": 19,
   "id": "db837771",
   "metadata": {},
   "outputs": [
    {
     "name": "stdout",
     "output_type": "stream",
     "text": [
      "original list before slice update: [1, 2, 3, 4, 5]\n",
      "slice: [999, 3]\n",
      "original list: [1, 2, 3, 4, 5]\n"
     ]
    }
   ],
   "source": [
    "original_list = [1, 2, 3, 4, 5]\n",
    "print(f'original list before slice update: {original_list}')\n",
    "\n",
    "# slice and update the 1st element\n",
    "list_slice = original_list[1:3]\n",
    "list_slice[0] = 999\n",
    "print(f'slice: {list_slice}')\n",
    "print(f'original list: {original_list}')"
   ]
  },
  {
   "cell_type": "markdown",
   "id": "49a36562",
   "metadata": {},
   "source": [
    "Our standard python list slicing code created a copy of items at index 1 through 2. So when we updated `list_slice` it had no effect on `original_list`.  Now let's take a look at equivalent code in `numpy`"
   ]
  },
  {
   "cell_type": "code",
   "execution_count": 20,
   "id": "6289e0f8",
   "metadata": {},
   "outputs": [
    {
     "name": "stdout",
     "output_type": "stream",
     "text": [
      "original list before slice update: [1 2 3 4 5]\n",
      "slice: [999   3]\n",
      "original list: [  1 999   3   4   5]\n"
     ]
    }
   ],
   "source": [
    "original_array = np.array([1, 2, 3, 4, 5])\n",
    "print(f'original list before slice update: {original_array}')\n",
    "\n",
    "# slice and update the 1st element\n",
    "array_slice = original_array[1:3]\n",
    "array_slice[0] = 999\n",
    "print(f'slice: {array_slice}')\n",
    "print(f'original list: {original_array}')"
   ]
  },
  {
   "cell_type": "markdown",
   "id": "e1f70ad6",
   "metadata": {},
   "source": [
    "`numpy` arrays are efficient because `numpy` works with a known block of memory.  A list slice is a **view** of that memory.  When you update the slice you update the **original** data in the array.  If you are not careful this can lead to unexpected silent bugs in your code.  It is important to realise that this happens even when you pass an array or slice to a function."
   ]
  },
  {
   "cell_type": "code",
   "execution_count": 21,
   "id": "71bd52b4",
   "metadata": {},
   "outputs": [],
   "source": [
    "def zero_zero_to_seven(input_array):\n",
    "    input_array[0,0] = 7"
   ]
  },
  {
   "cell_type": "code",
   "execution_count": 22,
   "id": "35b81a4e",
   "metadata": {},
   "outputs": [
    {
     "name": "stdout",
     "output_type": "stream",
     "text": [
      "[[7. 1. 1. 1. 1.]\n",
      " [7. 1. 1. 1. 1.]\n",
      " [1. 1. 1. 1. 1.]\n",
      " [1. 1. 1. 7. 1.]\n",
      " [1. 1. 1. 1. 1.]]\n"
     ]
    }
   ],
   "source": [
    "test_array = np.ones((5,5))\n",
    "\n",
    "zero_zero_to_seven(test_array[1:2,:])\n",
    "zero_zero_to_seven(test_array[3:,3:])\n",
    "zero_zero_to_seven(test_array)\n",
    "\n",
    "print(test_array)"
   ]
  },
  {
   "cell_type": "markdown",
   "id": "dcd54baf",
   "metadata": {},
   "source": [
    "`numpy` behaves this way by design.  It means that passing a slice is not expensive (as no memory is copied). If you want to avoid this behaviour then you can **redefine** an array as follows:"
   ]
  },
  {
   "cell_type": "code",
   "execution_count": 23,
   "id": "abec12b4",
   "metadata": {},
   "outputs": [],
   "source": [
    "def array_times_seven(input_array):\n",
    "    # redefine the array\n",
    "    output_array = input_array * 7\n",
    "    return output_array"
   ]
  },
  {
   "cell_type": "code",
   "execution_count": 24,
   "id": "90b5f207",
   "metadata": {},
   "outputs": [
    {
     "name": "stdout",
     "output_type": "stream",
     "text": [
      "[[7. 7.]\n",
      " [7. 7.]]\n",
      "[[1. 1. 1. 1. 1.]\n",
      " [1. 1. 1. 1. 1.]\n",
      " [1. 1. 1. 1. 1.]\n",
      " [1. 1. 1. 1. 1.]\n",
      " [1. 1. 1. 1. 1.]]\n"
     ]
    }
   ],
   "source": [
    "test_array = np.ones((5, 5))\n",
    "new_array = array_times_seven(test_array[3:,3:])\n",
    "print(new_array)\n",
    "print(test_array)"
   ]
  },
  {
   "cell_type": "markdown",
   "id": "66e77849",
   "metadata": {},
   "source": [
    "In this case `new_array` is indeed a new memory allocation seperate from `test_array`."
   ]
  },
  {
   "cell_type": "markdown",
   "id": "36f19716",
   "metadata": {},
   "source": [
    "## Fancy and Boolean indexing \n",
    "\n",
    "Beyond slicing, two more powerful ways to return a elements of an `ndarry` are **fancy indexing** and **boolean indexing**.  \n",
    "\n",
    "### Fancy indexing\n",
    "\n",
    "Fancy indexing allows an array-like object (e.g. a list) to specify the elements of an array to slice.  For example, if we needed the 2nd, 4th and 7th elements of a vector:"
   ]
  },
  {
   "cell_type": "code",
   "execution_count": 25,
   "id": "196e8c36",
   "metadata": {},
   "outputs": [
    {
     "name": "stdout",
     "output_type": "stream",
     "text": [
      "original vector: [10  9  8  7  6  5  4  3  2  1]\n",
      "sub vector: [8 6 3]\n"
     ]
    }
   ],
   "source": [
    "complete_vector = np.arange(start=10, stop=0, step=-1)\n",
    "indexes = [2, 4, 7]\n",
    "sub_vector = complete_vector[indexes]\n",
    "\n",
    "print(f'original vector: {complete_vector}')\n",
    "print(f'sub vector: {sub_vector}')"
   ]
  },
  {
   "cell_type": "markdown",
   "id": "3c4675da",
   "metadata": {},
   "source": [
    "The way to think about fancy indexing for matricies (and higher order dimensions) is to as a set of arrays specifying the row and column coordinates of elements.  For example, given a $3 \\times 3$ matrix\n",
    "\n",
    "$ A = \\begin{bmatrix}\n",
    "0 & 1 & 2 \\\\ \n",
    "3 & 4 & 5 \\\\\n",
    "6 & 7 & 8 \\\\\n",
    "\\end{bmatrix} $\n",
    "\n",
    "array return the elements [0, 2], [1, 1] and [2, 2]\n",
    "\n",
    "Our expected answer is [2, 4, 8]"
   ]
  },
  {
   "cell_type": "code",
   "execution_count": 26,
   "id": "a5161a2b",
   "metadata": {},
   "outputs": [
    {
     "name": "stdout",
     "output_type": "stream",
     "text": [
      "original matrix: \n",
      "[[0 1 2]\n",
      " [3 4 5]\n",
      " [6 7 8]]\n",
      "sub matrix: \n",
      "[2 4 8]\n"
     ]
    }
   ],
   "source": [
    "complete_matrix = np.arange(9).reshape(-1, 3)\n",
    "\n",
    "row = [0, 1, 2]\n",
    "col = [2, 1, 2]\n",
    "\n",
    "sub_matrix = complete_matrix[row, col] \n",
    "\n",
    "print(f'original matrix: \\n{complete_matrix}')\n",
    "print(f'sub matrix: \\n{sub_matrix}')"
   ]
  },
  {
   "cell_type": "markdown",
   "id": "a41687e0-a1fb-4a5f-84e1-932b3a88e5c2",
   "metadata": {},
   "source": [
    "The coordinate approach can be mixed with other commands we have already seen. For example, the shorthand to index on all rows would use `:`"
   ]
  },
  {
   "cell_type": "code",
   "execution_count": 27,
   "id": "bfbe2ea0-2482-449a-b955-d0d54db059e4",
   "metadata": {},
   "outputs": [
    {
     "name": "stdout",
     "output_type": "stream",
     "text": [
      "original matrix: \n",
      "[[ 0  1  2  3  4]\n",
      " [ 5  6  7  8  9]\n",
      " [10 11 12 13 14]]\n",
      "\n",
      "sub matrix: \n",
      "[[ 0  1  2  4]\n",
      " [ 5  6  7  9]\n",
      " [10 11 12 14]]\n"
     ]
    }
   ],
   "source": [
    "complete_matrix = np.arange(15).reshape(-1, 5)\n",
    "\n",
    "# select the following columns\n",
    "cols = [0, 1, 2, 4]\n",
    "\n",
    "# no need for a list for all rows. Use : instead\n",
    "sub_matrix = complete_matrix[:, cols] \n",
    "\n",
    "print(f'original matrix: \\n{complete_matrix}')\n",
    "print(f'\\nsub matrix: \\n{sub_matrix}')"
   ]
  },
  {
   "cell_type": "markdown",
   "id": "9b228a75-4a7a-48bd-b852-79ce4e8b79bf",
   "metadata": {},
   "source": [
    "It noteworthy that the sub array returned by fancy indexing is its own array.  Unlike slices it is not a view of the original array"
   ]
  },
  {
   "cell_type": "code",
   "execution_count": 28,
   "id": "0595de78-b4e6-4c1e-aa19-23931cb76166",
   "metadata": {},
   "outputs": [
    {
     "name": "stdout",
     "output_type": "stream",
     "text": [
      "original matrix: \n",
      "[[ 0  1  2  3  4]\n",
      " [ 5  6  7  8  9]\n",
      " [10 11 12 13 14]]\n",
      "\n",
      "sub matrix: \n",
      "[[100 100 100 100]\n",
      " [100 100 100 100]\n",
      " [100 100 100 100]]\n"
     ]
    }
   ],
   "source": [
    "#set all elements to 100.\n",
    "sub_matrix[:] = 100\n",
    "print(f'original matrix: \\n{complete_matrix}')\n",
    "print(f'\\nsub matrix: \\n{sub_matrix}')"
   ]
  },
  {
   "cell_type": "markdown",
   "id": "2f6bac9f-4f49-4fe3-bcd2-426a668a6a03",
   "metadata": {},
   "source": [
    "### Boolean indexing\n",
    "\n",
    "In boolean indexing we provide a boolean mask for an array `a` of of length $l$.  The mask is a `list` or `ndarray` is also of length $l$ and contains only `True` or `False` elements.  The sub array returned only contains the elements from `a` that have a matching `True` in the mask array."
   ]
  },
  {
   "cell_type": "code",
   "execution_count": 29,
   "id": "e5ef25a8",
   "metadata": {},
   "outputs": [
    {
     "name": "stdout",
     "output_type": "stream",
     "text": [
      "original matrix: [0 1 2 3 4]\n",
      "sub vector: [3 4]\n"
     ]
    }
   ],
   "source": [
    "complete_vector = np.arange(5)\n",
    "mask = [False, False, False, True, True]\n",
    "sub_vector = complete_vector[mask]\n",
    "\n",
    "print(f'original matrix: {complete_vector}')\n",
    "print(f'sub vector: {sub_vector}')"
   ]
  },
  {
   "cell_type": "markdown",
   "id": "831552ef-9701-4b22-928b-20181ac8d7ea",
   "metadata": {},
   "source": [
    "We can generate an array of booleans using some conditional logic.  For example by checking which elements are greater than a threshold."
   ]
  },
  {
   "cell_type": "code",
   "execution_count": 30,
   "id": "2035560e-411c-46e1-bd19-00a55a72bae8",
   "metadata": {},
   "outputs": [
    {
     "data": {
      "text/plain": [
       "array([ True, False, False,  True,  True, False])"
      ]
     },
     "execution_count": 30,
     "metadata": {},
     "output_type": "execute_result"
    }
   ],
   "source": [
    "THRESHOLD = 90\n",
    "original_vector = np.array([99, 40, 55, 103, 92, 86])\n",
    "original_vector >= THRESHOLD"
   ]
  },
  {
   "cell_type": "markdown",
   "id": "3cc2dd4a-3886-4748-a56f-67998cdf9214",
   "metadata": {},
   "source": [
    "It it then just a case of selecting the elements using boolean array."
   ]
  },
  {
   "cell_type": "code",
   "execution_count": 31,
   "id": "0e4535c1-e67b-4d92-903b-2679b237b526",
   "metadata": {},
   "outputs": [
    {
     "data": {
      "text/plain": [
       "array([ 99, 103,  92])"
      ]
     },
     "execution_count": 31,
     "metadata": {},
     "output_type": "execute_result"
    }
   ],
   "source": [
    "mask = original_vector >= THRESHOLD\n",
    "original_vector[mask]"
   ]
  },
  {
   "cell_type": "markdown",
   "id": "3985c480-c56b-48c5-97f4-53fd75623354",
   "metadata": {},
   "source": [
    "More often I've found that I need to get the index of the elements that contain a value less than, greater than or equal to a threshold of some kind.  In `numpy` this can be achieved using `np.where`"
   ]
  },
  {
   "cell_type": "code",
   "execution_count": 32,
   "id": "9b799a4a-6c4e-440a-b6d2-f77602502f2a",
   "metadata": {},
   "outputs": [
    {
     "data": {
      "text/plain": [
       "(array([0, 3, 4]),)"
      ]
     },
     "execution_count": 32,
     "metadata": {},
     "output_type": "execute_result"
    }
   ],
   "source": [
    "np.where(original_vector >= THRESHOLD)"
   ]
  },
  {
   "cell_type": "markdown",
   "id": "493dd6a1-5621-4978-abc8-95ed4d76037b",
   "metadata": {},
   "source": [
    "## Summing up\n",
    "\n",
    "If you are aiming to get the maximum benefit from `numpy` then you will need to make extensive use of slicing and indexing.  These example's I've given here are the one that I've found most useful in my coding.  One takeaway you should pay particularly close attention to is that a slice is a **view** of an array.  Its the same data and updates to a slice are actually updating the original data.  Fancy and boolean indexing on the otherhand define a new array.  Data is copied and stored in a new location in memory. "
   ]
  }
 ],
 "metadata": {
  "kernelspec": {
   "display_name": "Python 3 (ipykernel)",
   "language": "python",
   "name": "python3"
  },
  "language_info": {
   "codemirror_mode": {
    "name": "ipython",
    "version": 3
   },
   "file_extension": ".py",
   "mimetype": "text/x-python",
   "name": "python",
   "nbconvert_exporter": "python",
   "pygments_lexer": "ipython3",
   "version": "3.8.8"
  }
 },
 "nbformat": 4,
 "nbformat_minor": 5
}
