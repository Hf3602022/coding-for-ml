{
 "cells": [
  {
   "cell_type": "code",
   "execution_count": 2,
   "id": "ee1a5c56",
   "metadata": {
    "tags": [
     "hide-input"
    ]
   },
   "outputs": [],
   "source": [
    "import numpy as np"
   ]
  },
  {
   "cell_type": "markdown",
   "id": "f7f2f94b",
   "metadata": {},
   "source": [
    "# Matricies\n",
    "\n",
    "Recall that a 1 dimentional array in `numpy` is a vector.  It is trivial to extend what we have learnt to n-dimsional arrays.  Let's start with a simple $2 \\times 2$ matrix $A$.\n",
    "\n",
    "$ A = \\begin{bmatrix}\n",
    "1 & 2\\\\\n",
    "3 & 4\n",
    "\\end{bmatrix}$\n",
    "\n",
    "To create the equivalent numpy 2D array:"
   ]
  },
  {
   "cell_type": "code",
   "execution_count": 9,
   "id": "d6d4546b",
   "metadata": {},
   "outputs": [
    {
     "name": "stdout",
     "output_type": "stream",
     "text": [
      "[[1 2]\n",
      " [3 4]]\n"
     ]
    }
   ],
   "source": [
    "a = np.array([[1, 2], [3, 4]])\n",
    "print(a)"
   ]
  },
  {
   "cell_type": "markdown",
   "id": "5ef35543",
   "metadata": {},
   "source": [
    "If we now inspect the `.shape` property of the array we see that the dimensions are represented in a tuple of length 2."
   ]
  },
  {
   "cell_type": "code",
   "execution_count": 11,
   "id": "4ef2524b",
   "metadata": {},
   "outputs": [
    {
     "name": "stdout",
     "output_type": "stream",
     "text": [
      "(2, 2)\n"
     ]
    }
   ],
   "source": [
    "print(a.shape)"
   ]
  },
  {
   "cell_type": "markdown",
   "id": "b39a1069",
   "metadata": {},
   "source": [
    "Note that `numpy` defauted to `int64` as the data type."
   ]
  },
  {
   "cell_type": "code",
   "execution_count": 12,
   "id": "492b03ac",
   "metadata": {},
   "outputs": [
    {
     "name": "stdout",
     "output_type": "stream",
     "text": [
      "int64\n"
     ]
    }
   ],
   "source": [
    "print(a.dtype)"
   ]
  },
  {
   "cell_type": "markdown",
   "id": "461ae6eb",
   "metadata": {},
   "source": [
    "To be more explicit about type we can specify it."
   ]
  },
  {
   "cell_type": "code",
   "execution_count": 6,
   "id": "d09cc95a",
   "metadata": {},
   "outputs": [
    {
     "name": "stdout",
     "output_type": "stream",
     "text": [
      "[[1 2]\n",
      " [3 4]]\n",
      "uint8\n"
     ]
    }
   ],
   "source": [
    "a = np.array([[1, 2], [3, 4]], dtype=np.uint8)\n",
    "print(a)\n",
    "print(a.dtype)"
   ]
  },
  {
   "cell_type": "markdown",
   "id": "4d953e3f",
   "metadata": {},
   "source": [
    "## Creating multi-dimensional arrays\n",
    "\n",
    "In essense creating a multi-dimensional array in `numpy` is no more complicated than for a vector.  Options are:\n",
    "* Providing the data explicitly\n",
    "* Reading a file (eg. csv)\n",
    "* Built-in functions\n",
    "    * `np.zeros`\n",
    "    * `np.ones`\n",
    "    * `np.full`\n",
    "    * `np.random`\n",
    "    \n",
    "We can also convert a vector into a matrix using the `.reshape` method.  Here we create a vector of length 20 and rehape it into a 4 x 5 matrix.\n",
    "\n",
    "> Note the use of the -1 in the reshape method.  Here we are telling `numpy` that to choose the correct number of rows for 5 columns of data.  Note this only works if there is no remainder!"
   ]
  },
  {
   "cell_type": "code",
   "execution_count": 20,
   "id": "7bf3e1f2",
   "metadata": {},
   "outputs": [
    {
     "name": "stdout",
     "output_type": "stream",
     "text": [
      "[ 0  1  2  3  4  5  6  7  8  9 10 11 12 13 14 15 16 17 18 19]\n"
     ]
    }
   ],
   "source": [
    "as_vec = np.arange(20)\n",
    "print(as_vec)"
   ]
  },
  {
   "cell_type": "code",
   "execution_count": 22,
   "id": "df2d5a24",
   "metadata": {},
   "outputs": [
    {
     "name": "stdout",
     "output_type": "stream",
     "text": [
      "[[ 0  1  2  3  4]\n",
      " [ 5  6  7  8  9]\n",
      " [10 11 12 13 14]\n",
      " [15 16 17 18 19]]\n",
      "(4, 5)\n"
     ]
    }
   ],
   "source": [
    "as_matrix = as_vec.reshape(-1, 5)\n",
    "print(as_matrix)\n",
    "print(as_matrix.shape)"
   ]
  },
  {
   "cell_type": "markdown",
   "id": "71648af0",
   "metadata": {},
   "source": [
    "### Providing the data explicitly\n",
    "\n",
    "This is what we have done before, converting a list of lists into an array. \n",
    "With three dimensions:"
   ]
  },
  {
   "cell_type": "code",
   "execution_count": 23,
   "id": "dbf6f619",
   "metadata": {},
   "outputs": [
    {
     "name": "stdout",
     "output_type": "stream",
     "text": [
      "[[[11 12]\n",
      "  [13 14]]\n",
      "\n",
      " [[21 22]\n",
      "  [23 24]]\n",
      "\n",
      " [[31 32]\n",
      "  [33 34]]]\n"
     ]
    }
   ],
   "source": [
    "td = np.array([\n",
    "              [[11,12], [13,14]],\n",
    "              [[21,22], [23,24]],\n",
    "              [[31,32], [33,34]]\n",
    "              ])\n",
    "\n",
    "print(td)"
   ]
  },
  {
   "cell_type": "code",
   "execution_count": null,
   "id": "69f0683e",
   "metadata": {},
   "outputs": [],
   "source": [
    "Access the data via index.  For example to access data in the first matrix, column 1 "
   ]
  },
  {
   "cell_type": "code",
   "execution_count": 24,
   "id": "9569cd33",
   "metadata": {},
   "outputs": [
    {
     "data": {
      "text/plain": [
       "14"
      ]
     },
     "execution_count": 24,
     "metadata": {},
     "output_type": "execute_result"
    }
   ],
   "source": [
    "td[0,1,1]"
   ]
  },
  {
   "cell_type": "code",
   "execution_count": null,
   "id": "e141a5c8",
   "metadata": {},
   "outputs": [],
   "source": []
  }
 ],
 "metadata": {
  "kernelspec": {
   "display_name": "Python 3",
   "language": "python",
   "name": "python3"
  },
  "language_info": {
   "codemirror_mode": {
    "name": "ipython",
    "version": 3
   },
   "file_extension": ".py",
   "mimetype": "text/x-python",
   "name": "python",
   "nbconvert_exporter": "python",
   "pygments_lexer": "ipython3",
   "version": "3.7.3"
  }
 },
 "nbformat": 4,
 "nbformat_minor": 5
}
