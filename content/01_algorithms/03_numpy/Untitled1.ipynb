{
 "cells": [
  {
   "cell_type": "code",
   "execution_count": 2,
   "id": "72f56dc7",
   "metadata": {
    "tags": [
     "hide-input"
    ]
   },
   "outputs": [],
   "source": [
    "import numpy as np"
   ]
  },
  {
   "cell_type": "markdown",
   "id": "a55f66d1",
   "metadata": {},
   "source": [
    "## Creating multi-dimensional arrays\n",
    "\n",
    "In essense creating a multi-dimensional array in `numpy` is no more complicated than for a vector.  Options are:\n",
    "* Providing the data explicitly\n",
    "* Reading a file (eg. csv)\n",
    "* Built-in functions\n",
    "    * `np.zeros`\n",
    "    * `np.ones`\n",
    "    * `np.full`\n",
    "    * `np.random`\n",
    "    \n",
    "We can also convert a vector into a matrix using the `.reshape` method.  Here we create a vector of length 20 and rehape it into a 4 x 5 matrix.\n",
    "\n",
    "> Note the use of the -1 in the reshape method.  Here we are telling `numpy` that to choose the correct number of rows for 5 columns of data.  Note this only works if there is no remainder!"
   ]
  },
  {
   "cell_type": "code",
   "execution_count": 20,
   "id": "6088e69a",
   "metadata": {},
   "outputs": [
    {
     "name": "stdout",
     "output_type": "stream",
     "text": [
      "[ 0  1  2  3  4  5  6  7  8  9 10 11 12 13 14 15 16 17 18 19]\n"
     ]
    }
   ],
   "source": [
    "as_vec = np.arange(20)\n",
    "print(as_vec)"
   ]
  },
  {
   "cell_type": "code",
   "execution_count": 22,
   "id": "3db66717",
   "metadata": {},
   "outputs": [
    {
     "name": "stdout",
     "output_type": "stream",
     "text": [
      "[[ 0  1  2  3  4]\n",
      " [ 5  6  7  8  9]\n",
      " [10 11 12 13 14]\n",
      " [15 16 17 18 19]]\n",
      "(4, 5)\n"
     ]
    }
   ],
   "source": [
    "as_matrix = as_vec.reshape(-1, 5)\n",
    "print(as_matrix)\n",
    "print(as_matrix.shape)"
   ]
  },
  {
   "cell_type": "markdown",
   "id": "b7e7771c",
   "metadata": {},
   "source": [
    "### Providing the data explicitly\n",
    "\n",
    "This is what we have done before, converting a list of lists into an array. \n",
    "With three dimensions:"
   ]
  },
  {
   "cell_type": "code",
   "execution_count": 23,
   "id": "7e1fa2af",
   "metadata": {},
   "outputs": [
    {
     "name": "stdout",
     "output_type": "stream",
     "text": [
      "[[[11 12]\n",
      "  [13 14]]\n",
      "\n",
      " [[21 22]\n",
      "  [23 24]]\n",
      "\n",
      " [[31 32]\n",
      "  [33 34]]]\n"
     ]
    }
   ],
   "source": [
    "td = np.array([\n",
    "              [[11,12], [13,14]],\n",
    "              [[21,22], [23,24]],\n",
    "              [[31,32], [33,34]]\n",
    "              ])\n",
    "\n",
    "print(td)"
   ]
  },
  {
   "cell_type": "code",
   "execution_count": null,
   "id": "c57f51c5",
   "metadata": {},
   "outputs": [],
   "source": [
    "Access the data via index.  For example to access data in the first matrix, column 1 "
   ]
  },
  {
   "cell_type": "code",
   "execution_count": 24,
   "id": "4412a700",
   "metadata": {},
   "outputs": [
    {
     "data": {
      "text/plain": [
       "14"
      ]
     },
     "execution_count": 24,
     "metadata": {},
     "output_type": "execute_result"
    }
   ],
   "source": [
    "td[0,1,1]"
   ]
  },
  {
   "cell_type": "code",
   "execution_count": 1,
   "id": "12323a40",
   "metadata": {},
   "outputs": [],
   "source": []
  },
  {
   "cell_type": "code",
   "execution_count": 2,
   "id": "ace1445f",
   "metadata": {},
   "outputs": [
    {
     "ename": "NameError",
     "evalue": "name 'np' is not defined",
     "output_type": "error",
     "traceback": [
      "\u001b[0;31m---------------------------------------------------------------------------\u001b[0m",
      "\u001b[0;31mNameError\u001b[0m                                 Traceback (most recent call last)",
      "\u001b[0;32m<ipython-input-2-fd796c4d95ef>\u001b[0m in \u001b[0;36m<module>\u001b[0;34m\u001b[0m\n\u001b[0;32m----> 1\u001b[0;31m \u001b[0mtest_array\u001b[0m \u001b[0;34m=\u001b[0m \u001b[0mnp\u001b[0m\u001b[0;34m.\u001b[0m\u001b[0mones\u001b[0m\u001b[0;34m(\u001b[0m\u001b[0;34m(\u001b[0m\u001b[0;36m5\u001b[0m\u001b[0;34m,\u001b[0m\u001b[0;36m5\u001b[0m\u001b[0;34m)\u001b[0m\u001b[0;34m)\u001b[0m\u001b[0;34m\u001b[0m\u001b[0;34m\u001b[0m\u001b[0m\n\u001b[0m\u001b[1;32m      2\u001b[0m \u001b[0;34m\u001b[0m\u001b[0m\n\u001b[1;32m      3\u001b[0m \u001b[0mzero_zero_to_seven\u001b[0m\u001b[0;34m(\u001b[0m\u001b[0mtest_array\u001b[0m\u001b[0;34m[\u001b[0m\u001b[0;36m1\u001b[0m\u001b[0;34m:\u001b[0m\u001b[0;36m2\u001b[0m\u001b[0;34m,\u001b[0m\u001b[0;34m:\u001b[0m\u001b[0;34m]\u001b[0m\u001b[0;34m)\u001b[0m\u001b[0;34m\u001b[0m\u001b[0;34m\u001b[0m\u001b[0m\n\u001b[1;32m      4\u001b[0m \u001b[0;34m\u001b[0m\u001b[0m\n\u001b[1;32m      5\u001b[0m \u001b[0mzero_zero_to_seven\u001b[0m\u001b[0;34m(\u001b[0m\u001b[0mtest_array\u001b[0m\u001b[0;34m[\u001b[0m\u001b[0;36m3\u001b[0m\u001b[0;34m:\u001b[0m\u001b[0;34m,\u001b[0m\u001b[0;36m3\u001b[0m\u001b[0;34m:\u001b[0m\u001b[0;34m]\u001b[0m\u001b[0;34m)\u001b[0m\u001b[0;34m\u001b[0m\u001b[0;34m\u001b[0m\u001b[0m\n",
      "\u001b[0;31mNameError\u001b[0m: name 'np' is not defined"
     ]
    }
   ],
   "source": [
    "test_array = np.ones((5,5))\n",
    "\n",
    "zero_zero_to_seven(test_array[1:2,:])\n",
    "\n",
    "zero_zero_to_seven(test_array[3:,3:])\n",
    "\n",
    "zero_zero_to_seven(test_array)\n",
    "\n",
    "test_array"
   ]
  },
  {
   "cell_type": "code",
   "execution_count": null,
   "id": "ed84fcad",
   "metadata": {},
   "outputs": [],
   "source": []
  }
 ],
 "metadata": {
  "kernelspec": {
   "display_name": "Python 3",
   "language": "python",
   "name": "python3"
  },
  "language_info": {
   "codemirror_mode": {
    "name": "ipython",
    "version": 3
   },
   "file_extension": ".py",
   "mimetype": "text/x-python",
   "name": "python",
   "nbconvert_exporter": "python",
   "pygments_lexer": "ipython3",
   "version": "3.7.3"
  }
 },
 "nbformat": 4,
 "nbformat_minor": 5
}
