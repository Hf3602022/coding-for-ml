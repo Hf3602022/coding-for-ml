{
 "cells": [
  {
   "cell_type": "code",
   "execution_count": 4,
   "id": "lovely-wildlife",
   "metadata": {},
   "outputs": [],
   "source": [
    "import math"
   ]
  },
  {
   "cell_type": "code",
   "execution_count": 242,
   "id": "cellular-match",
   "metadata": {},
   "outputs": [],
   "source": [
    "def trial_and_error(n):\n",
    "    primes = []\n",
    "    for i in range(2, n+1):\n",
    "        found = False\n",
    "        for j in range(2, i):\n",
    "            found = False\n",
    "            if i % j == 0:\n",
    "                found = True\n",
    "                break\n",
    "        if not found:\n",
    "            primes.append(i)\n",
    "    return primes"
   ]
  },
  {
   "cell_type": "code",
   "execution_count": 243,
   "id": "imperial-blackberry",
   "metadata": {},
   "outputs": [
    {
     "data": {
      "text/plain": [
       "[2, 3, 5, 7]"
      ]
     },
     "execution_count": 243,
     "metadata": {},
     "output_type": "execute_result"
    }
   ],
   "source": [
    "trial_and_error(10)"
   ]
  },
  {
   "cell_type": "markdown",
   "id": "connected-vertical",
   "metadata": {},
   "source": [
    "# Algorithm and code design matters\n",
    "\n",
    "As your experience in data science grows I have no doubt that one lesson your will repeatedly learn is the importance of a good algorithm.  A good algorithm can turn a seven day model run time into 4 hours (and a 14 day run time due to finding a mistake in the first run into an 8 hour run). A related lesson is that how you design your code to implement an algorithm also matters.  Indeed the decisions you make in implementation can also have an order of magnitude impact on run time.  In this section we will explore a simple problem - computing (small) prime numbers and how the choice of algorithm and its implementation can affect run time.\n",
    "\n",
    "## Prime numbers\n",
    "\n",
    "A prime number is an integer greater than 1 that is not a product of two smaller integer values. I.e it can only be divided by itself and one.  As an example, 2 is a prime number, but 4 is not.\n",
    "\n",
    "## The first $n$ prime numbers\n",
    "\n",
    "A naive implementation of an algorithm to find the first $n$ prime numbers is **trial division** where each number between 2 and $n$ (actually you only need to go to $\\sqrt{n}$) is checked for primality.  This works, but it computationally demanding even for small $n$.\n",
    "\n",
    "> We won't implement this here as its just too painfully slow!\n",
    "\n",
    "## A more efficient algorithm: The Sieve of Eratosthenes\n",
    "\n",
    "A more efficient algorithm design, at least for relatively smally $n$ (e.g. < 1 million), is the **Sieve of Eratosthenes**.  It works as follows:\n",
    "\n",
    "Consider the primes up to 10. First write out a list of number 2 to 10. Here we'll represent this as a python list called `candidates`.  As we work out which numbers are not primes we will cross (sieve) them out. For simplicity of illustration we will store those in a list called `crossed_out` \n",
    "\n",
    "```python\n",
    "candidates = [2, 3, 4, 5, 6, 7, 8, 9, 10]\n",
    "crossed_out = []\n",
    "```\n",
    "The first candidate number in the list is 2. The Sieve of Eratosthenes algorithm crosses out every 2nd number in the list after 2 by counting up from 2 in increments of 2: \n",
    "\n",
    "```python\n",
    "candidates = [2, 3, 4, 5, 6, 7, 8, 9, 10]\n",
    "crossed_out = [4, 6, 8, 10]\n",
    "```\n",
    "The next number in `candidates` after 2 **that has not been crossed out** is 3. We now cross out every 3rd number in the list by counting up from 3 increments of 3.  \n",
    "\n",
    "```python\n",
    "candidates = [2, 3, 4, 5, 6, 7, 8, 9, 10]\n",
    "crossed_out = [4, 6, 8, 10, 9]\n",
    "```\n",
    "\n",
    "This is the basic process that is repeated in each iteration of the Sieve of Eratosthenes.  What might not be obvious is that we do not need to traverse every item in `candidates`, but instead only iterate up to the $\\sqrt{n}$.  At the end of the algorithm the numbers that have not been crossed out are the prime numbers between 2 and $n$  \n",
    "\n",
    "```python\n",
    "primes = [i for i in candidates if i not in crossed_off]  \n",
    "```\n",
    "\n",
    "Let's implement the sieve in standard python.  Our first implementation will be fairly naive. We will look at its inefficiencies and think through how we can improve on them.  We'll need some test data first.  The dict `n_primes` holds the number of primes up to a value of n increasing by a factor of 10 each time.  For example, there are 25 primes numbers in the first 100 natural numbers."
   ]
  },
  {
   "cell_type": "code",
   "execution_count": 11,
   "id": "crude-choice",
   "metadata": {},
   "outputs": [],
   "source": [
    "n_primes = {10 : 4,                 \n",
    "            100 : 25,               \n",
    "            1000 : 168,\n",
    "            10000 : 1229,\n",
    "            100000 : 9592,\n",
    "            1000000 : 78498,\n",
    "            10000000 : 664579}"
   ]
  },
  {
   "cell_type": "markdown",
   "id": "drawn-transcript",
   "metadata": {},
   "source": [
    "## Implementation 1.\n",
    "\n",
    "The function below `prime_sieve` is a naive implementation of this algorithm.  It makes use of two list data structures that we used above when working through the sieve's logic. \n",
    "* `candidates`: a simple sequence of numbers 0 to `n`; \n",
    "* `crossed_out` a list of numbers sieved.  \n",
    "\n",
    "Although a naive implementation its not a bad first draft of a function: its readable and works. \n",
    "\n",
    "The implementation and test below provides expected results and for it takes around 10ms (at least on my machine) to compute all the prime numbers up to 1000.  "
   ]
  },
  {
   "cell_type": "code",
   "execution_count": 201,
   "id": "excessive-member",
   "metadata": {},
   "outputs": [],
   "source": [
    "def prime_sieve(n):\n",
    "    '''\n",
    "    Compute the prime numbers between 1 and n.\n",
    "    Naive implementation of the Sieve of Eratosthenes.\n",
    "    \n",
    "    Parameters:\n",
    "    ----------\n",
    "    n: int\n",
    "        The upper limit\n",
    "    \n",
    "    Returns:\n",
    "    -------\n",
    "    list\n",
    "        a list of primes\n",
    "    '''\n",
    "    # a list of candidate numbers to sieve\n",
    "    candidates = [i for i in range(n + 1)]\n",
    "    # a list of numbered eliminated from consideration\n",
    "    crossed_out = [0, 1]\n",
    "    # maximum iterations required\n",
    "    limit = int(math.sqrt(n)) + 1\n",
    "    \n",
    "    for i in range(2, limit):\n",
    "         for j in range(i+i, n+1, i):              \n",
    "                if not candidates[j] in crossed_out:\n",
    "                    crossed_out.append(candidates[j])\n",
    "    \n",
    "    return [i for i in candidates if i not in crossed_out]   "
   ]
  },
  {
   "cell_type": "code",
   "execution_count": 202,
   "id": "healthy-bedroom",
   "metadata": {},
   "outputs": [
    {
     "data": {
      "text/plain": [
       "[2, 3, 5, 7]"
      ]
     },
     "execution_count": 202,
     "metadata": {},
     "output_type": "execute_result"
    }
   ],
   "source": [
    "prime_sieve(10)"
   ]
  },
  {
   "cell_type": "code",
   "execution_count": 203,
   "id": "catholic-tiffany",
   "metadata": {},
   "outputs": [
    {
     "name": "stdout",
     "output_type": "stream",
     "text": [
      "True\n",
      "True\n"
     ]
    }
   ],
   "source": [
    "print(len(prime_sieve(100)) == n_primes[100])\n",
    "print(len(prime_sieve(1_000)) == n_primes[1_000])"
   ]
  },
  {
   "cell_type": "code",
   "execution_count": 204,
   "id": "legislative-potential",
   "metadata": {},
   "outputs": [
    {
     "name": "stdout",
     "output_type": "stream",
     "text": [
      "13.2 ms ± 67.5 µs per loop (mean ± std. dev. of 7 runs, 100 loops each)\n"
     ]
    }
   ],
   "source": [
    "%timeit (prime_sieve(1_000))"
   ]
  },
  {
   "cell_type": "markdown",
   "id": "liable-object",
   "metadata": {},
   "source": [
    "## One data structure instead of two.\n",
    "\n",
    "An inefficiency with our code is that we compute the prime numbers using two data structures.  This wastes memory, but also means we need to check if a values already exists in `crossed_out` twice.  The second check is needed to make sure we aren't needlessly appending an already crossed out prime number.  \n",
    "\n",
    "The function `prime_sieve2` delivers the same results as `prime_sieve`, but more efficiently.  The primary source of this saving is by designing our code so that we required only one `list`."
   ]
  },
  {
   "cell_type": "code",
   "execution_count": 190,
   "id": "pretty-stretch",
   "metadata": {},
   "outputs": [],
   "source": [
    "def prime_sieve2(n):\n",
    "    # We will use boolean's here instead of ints\n",
    "    candidates = [True] * (n + 1)\n",
    "    candidates[0] = candidates[1] = False\n",
    "    limit = int(math.sqrt(n)) + 1    \n",
    "    \n",
    "    for i in range(2, limit): \n",
    "        if candidates[i]:\n",
    "            candidates[i+i::i] = [False] * ((n - i) // i)\n",
    "            \n",
    "    return [i for i in range(n+1) if candidates[i]]        "
   ]
  },
  {
   "cell_type": "code",
   "execution_count": 164,
   "id": "efficient-zoning",
   "metadata": {},
   "outputs": [
    {
     "name": "stdout",
     "output_type": "stream",
     "text": [
      "False\n",
      "False\n"
     ]
    }
   ],
   "source": [
    "# print(len(prime_sieve2(100)) == n_primes[100])\n",
    "print(len(prime_sieve2(1000)) == n_primes[1000])"
   ]
  },
  {
   "cell_type": "code",
   "execution_count": 174,
   "id": "prompt-organization",
   "metadata": {},
   "outputs": [
    {
     "name": "stdout",
     "output_type": "stream",
     "text": [
      "36.7 µs ± 282 ns per loop (mean ± std. dev. of 7 runs, 10000 loops each)\n"
     ]
    }
   ],
   "source": [
    "%timeit prime_sieve2(1000)"
   ]
  },
  {
   "cell_type": "markdown",
   "id": "patent-vacation",
   "metadata": {},
   "source": [
    "## Does the time saving matter?\n",
    "\n",
    "You should see a substantial reduction in computational overhead of `prime_sieve2`.  We are now finding the primes under 1000 in microseconds (µs) as opposed milliseconds in our naive implementation (1 µs = 1000ms!). \n",
    "\n",
    "Some of you might be thinking \"*both procedures give the same results and execution takes under a second. So does this type of optimisation matter?*\" To answer that question let's compute primes under 10,000.  You should now see a much bigger difference with our naive function returning in around a second while `prime_sieve2` is still in µs (on my machine still below half a millsecond).\n",
    "\n",
    "> When first writing this section I first tested `prime_sieve` with `n=1_000_000`. Needless to say, I quickly decided to use an example of 10,000 instead!   When you fancy a cup of tea or coffee set `n=1_000_000` and come back after your break to see an enourmous difference in performance!"
   ]
  },
  {
   "cell_type": "code",
   "execution_count": 120,
   "id": "elegant-james",
   "metadata": {},
   "outputs": [
    {
     "name": "stdout",
     "output_type": "stream",
     "text": [
      "1.09 s ± 17.8 ms per loop (mean ± std. dev. of 7 runs, 1 loop each)\n"
     ]
    }
   ],
   "source": [
    "TEN_THOUSAND = 10_000\n",
    "%timeit len(prime_sieve(TEN_THOUSAND))"
   ]
  },
  {
   "cell_type": "code",
   "execution_count": 175,
   "id": "north-rubber",
   "metadata": {},
   "outputs": [
    {
     "name": "stdout",
     "output_type": "stream",
     "text": [
      "355 µs ± 1.5 µs per loop (mean ± std. dev. of 7 runs, 1000 loops each)\n"
     ]
    }
   ],
   "source": [
    "%timeit prime_sieve2(TEN_THOUSAND)"
   ]
  },
  {
   "cell_type": "markdown",
   "id": "surprising-myrtle",
   "metadata": {},
   "source": [
    "## Taking a look at the redesign\n",
    "\n",
    "The redesigned implementation only has single list `candidates`: its contains only `bool` values.  In python that won't make much, if any, difference to memory usage, as `bool` is really a special type of int.  But its a nice simplification as we the index of the list item gives us our factor.  This modification provides our biggest speed up.  Each time we 'cross out' a number e.g. `i` we simply set `candidate[i] = False`. (We don't bother checking as we are not appending to a second list). At the end of the function any items that are still `True` are the primes.\n",
    "\n",
    "> Don't believe me about `int` and `bool`?  Try executing `(True + 4)`.\n",
    "\n",
    "The second change might be considered a 'micro optimisation'. I.e. list slicing in favour of an inner `for` loop.\n",
    "\n",
    "```python\n",
    "candidates[i+i::i] = [False] * ((n - i) // i)\n",
    "```\n",
    "\n",
    "Here we start at the current index + one factor ahead e.g. if `i=2` then we start at index `i+i=4` and select items in steps of `i=2` all the way to the end `candidates[i+i::i]` (Note we could also have used `candidates[i+i:n+1:i]`).  In general, a slice will be faster than looping over the list.  Here's a simpler example of list slicing with a step:\n"
   ]
  },
  {
   "cell_type": "code",
   "execution_count": 151,
   "id": "great-section",
   "metadata": {},
   "outputs": [
    {
     "data": {
      "text/plain": [
       "[4, 6, 8, 10, 12, 14, 16, 18, 20, 22, 24, 26, 28, 30]"
      ]
     },
     "execution_count": 151,
     "metadata": {},
     "output_type": "execute_result"
    }
   ],
   "source": [
    "list_to_slice = [i for i in range(31)]\n",
    "list_to_slice[4:len(list_to_slice):2]"
   ]
  },
  {
   "cell_type": "markdown",
   "id": "usual-manufacturer",
   "metadata": {},
   "source": [
    "## Do micro-optimisations matter?\n",
    "\n",
    "In short micro-optimisations of your python code matter less than an efficient design.  I.e. 'trial and error' versus a 'prime sieve' or multiple versus single data structures (at least in this example) is more important than a for loop versus a list slice.  The difference is that the former gave us an order of magnitude speed up while the latter helped, but to a much smaller extent.\n",
    "\n",
    "Another example of a **micro-optimisation** (at least in standard python) relates to the type of data structure used.  `prime_sieve2` made use of a list of boolean values.  Let's have a look at its size in memory in bytes."
   ]
  },
  {
   "cell_type": "code",
   "execution_count": 230,
   "id": "numerical-carrier",
   "metadata": {},
   "outputs": [
    {
     "data": {
      "text/plain": [
       "136"
      ]
     },
     "execution_count": 230,
     "metadata": {},
     "output_type": "execute_result"
    }
   ],
   "source": [
    "import sys\n",
    "candidates_bool = [True] * (10)\n",
    "sys.getsizeof(candidates_bool)"
   ]
  },
  {
   "cell_type": "markdown",
   "id": "proved-complement",
   "metadata": {},
   "source": [
    "As we only effectively track 0's (False) and 1's (True) there is an option to shrink the memory requirement substantially by using a python `bytearray`."
   ]
  },
  {
   "cell_type": "code",
   "execution_count": 236,
   "id": "miniature-symposium",
   "metadata": {},
   "outputs": [
    {
     "name": "stdout",
     "output_type": "stream",
     "text": [
      "bytearray(b'\\x01\\x01\\x01\\x01\\x01\\x01\\x01\\x01\\x01\\x01')\n",
      "67\n"
     ]
    }
   ],
   "source": [
    "candidates_bytes =  bytearray(b\"\\x01\") * 10\n",
    "print(candidates_bytes)\n",
    "print(sys.getsizeof(candidates_bytes))"
   ]
  },
  {
   "cell_type": "markdown",
   "id": "respiratory-unknown",
   "metadata": {},
   "source": [
    "That approximately halves memory usage.  That's a nice feature.  `prime_sieve3` updates our sieve to use a `byte_array`.  We will also compare its performance to `prime_sieve2`"
   ]
  },
  {
   "cell_type": "code",
   "execution_count": 221,
   "id": "refined-guide",
   "metadata": {},
   "outputs": [],
   "source": [
    "def prime_sieve3(n):\n",
    "    # bytearray here instead of bools to reduce memory overhead.\n",
    "    candidates = bytearray(b\"\\x01\") * (n + 1)\n",
    "    # 0 and 1's instead of False and True\n",
    "    candidates[0] = 0\n",
    "    candidates[1] = 0\n",
    "    limit = int(math.sqrt(n)) + 1    \n",
    "    \n",
    "    for i in range(2, limit): \n",
    "        if candidates[i]:\n",
    "            candidates[i+i::i] = [0] * ((n - i) // i)\n",
    "            \n",
    "    return [i for i in range(n+1) if candidates[i]]      "
   ]
  },
  {
   "cell_type": "code",
   "execution_count": 234,
   "id": "timely-iceland",
   "metadata": {},
   "outputs": [
    {
     "name": "stdout",
     "output_type": "stream",
     "text": [
      "433 µs ± 4.04 µs per loop (mean ± std. dev. of 7 runs, 1000 loops each)\n"
     ]
    }
   ],
   "source": [
    "%timeit prime_sieve3(TEN_THOUSAND)"
   ]
  },
  {
   "cell_type": "markdown",
   "id": "personal-hospital",
   "metadata": {},
   "source": [
    "Well that's a bit of a surprise.  Our memory efficient `prime_sieve3` is **slightly** slower on average than `prime_sieve2`.  But, and its a big BUT, that's only for the first 10,000 natural numbers.  When we compute larger primes the pattern reverses. For example, `prime_sieve3` is faster to compute the primes up to 10 million.  This performance gap widens as we compute larger and larger primes.  So for very small primes this 'optimisation' doesn't help, but it may help for larger primes (large is of course relative).   "
   ]
  },
  {
   "cell_type": "code",
   "execution_count": 237,
   "id": "willing-helen",
   "metadata": {},
   "outputs": [
    {
     "name": "stdout",
     "output_type": "stream",
     "text": [
      "560 ms ± 6.22 ms per loop (mean ± std. dev. of 7 runs, 1 loop each)\n",
      "467 ms ± 2.54 ms per loop (mean ± std. dev. of 7 runs, 1 loop each)\n"
     ]
    }
   ],
   "source": [
    "TEN_MILLION = 10_000_000\n",
    "%timeit prime_sieve2(TEN_MILLION)\n",
    "%timeit prime_sieve3(TEN_MILLION)"
   ]
  },
  {
   "cell_type": "markdown",
   "id": "damaged-mining",
   "metadata": {},
   "source": [
    "## What else might you do?\n",
    "\n",
    "We chose a particular algorithm to improve on trial and error in the computation of primes.  So the big questions are\n",
    "\n",
    "\n",
    "* are there other algorithms and options that might reduce runtime?   \n",
    "* is this good performance good enough or a problem for our study?\n",
    "* are we missing any obvious big ticket design changes?\n",
    "\n",
    "There are in fact other algorithms which are more efficient at computing larger primes than our sieve, but our sieve is reasonably good for the small primes we have computed.  Could we make further improvements in its basic design? Yes we can.  For instance.  We know that all even numbers above two cannot be primes.  We therefore don't even need to consider these in our algorithm.  This not only reduces computation, but we can also half the size of our data structure (you might try this an exercise).\n",
    "\n",
    "Another option that we will explore in a later section is `numpy`.  This provides some very fast optimised data structures and procedures that we will compare to standard python."
   ]
  },
  {
   "cell_type": "markdown",
   "id": "suffering-employer",
   "metadata": {},
   "source": [
    "## Summing up\n",
    "\n",
    "We've seen that a good algorithm makes a huge difference to what is feasible to compute.  A trial and error approach to computing primes prevented us from even finding relatively small prime numbers in a reasonable time frame.  The **Sieve of Eratosthenes** made the unfeasible suddenly feasible.  We've also seen that the design of code can also effect execution time by an order of magnitude.  But not all optimisations will have a huge impact on performance and some optimisation may scale with our problem size.  "
   ]
  }
 ],
 "metadata": {
  "kernelspec": {
   "display_name": "Python 3",
   "language": "python",
   "name": "python3"
  },
  "language_info": {
   "codemirror_mode": {
    "name": "ipython",
    "version": 3
   },
   "file_extension": ".py",
   "mimetype": "text/x-python",
   "name": "python",
   "nbconvert_exporter": "python",
   "pygments_lexer": "ipython3",
   "version": "3.8.8"
  }
 },
 "nbformat": 4,
 "nbformat_minor": 5
}
