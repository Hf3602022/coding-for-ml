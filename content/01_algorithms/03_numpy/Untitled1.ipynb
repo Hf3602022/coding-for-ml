{
 "cells": [
  {
   "cell_type": "code",
   "execution_count": 21,
   "id": "stock-teens",
   "metadata": {},
   "outputs": [],
   "source": [
    "import math"
   ]
  },
  {
   "cell_type": "markdown",
   "id": "numerous-ocean",
   "metadata": {},
   "source": [
    "# Code design matters\n",
    "\n",
    "## Prime numbers\n",
    "\n",
    "A prime number is an integer greater than 1 that is not a product of two smaller integer values. I.e it can only be divided by itself and one.  As an example, 2 is a prime number, but 4 is not.\n",
    "\n",
    "## The first $n$ prime numbers\n",
    "\n",
    "A naive implementation of an algorithm to find the first $n$ prime numbers is **trial division** where each number between 2 and $n$ (actually you only need to go to $\\sqrt{n}$) is checked for primality.  This works, but it computationally demanding even for small $n$.\n",
    "\n",
    "> We won't implement this here as its just too painfully slow!\n",
    "\n",
    "A more efficient algorithm design, at least for $n$ < 1 million, is the **Sieve of Eratosthenes**.  It works as follows:\n",
    "\n",
    "Consider the primes up to 10. First write out a list of number 2 to 10. Here we'll represent this as a python list called `candidates`.  As we work out which numbers are not primes we will cross (sieve) them out. For simplicity of illustration we will store those in a list called `crossed_out` \n",
    "\n",
    "```python\n",
    "candidates = [2, 3, 4, 5, 6, 7, 8, 9, 10]\n",
    "crossed_out = []\n",
    "```\n",
    "The first candidate number in the list is 2. The Sieve of Eratosthenes algorithm crosses out every 2nd number in the list after 2 by counting up from 2 in increments of 2: \n",
    "\n",
    "```python\n",
    "candidates = [2, 3, 4, 5, 6, 7, 8, 9, 10]\n",
    "crossed_out = [4, 6, 8, 10]\n",
    "```\n",
    "The next number in `candidates` after 2 **that has not been crossed out** is 3. We now cross out every 3rd number in the list by counting up from 3 increments of 3.  \n",
    "\n",
    "```python\n",
    "candidates = [2, 3, 4, 5, 6, 7, 8, 9, 10]\n",
    "crossed_out = [4, 6, 8, 10, 9]\n",
    "```\n",
    "\n",
    "This is the basic process that is repeated in each iteration of the Sieve of Eratosthenes.  What might not be obvious is that we do not need to traverse every item in `candidates`, but instead only iterate up to the $\\sqrt{n}$.  At the end of the algorithm the numbers that have not been crossed out are the prime numbers between 2 and $n$  \n",
    "\n",
    "```python\n",
    "primes = [i for i in candidates if i not in crossed_off]  \n",
    "```"
   ]
  },
  {
   "cell_type": "code",
   "execution_count": 30,
   "id": "mineral-final",
   "metadata": {},
   "outputs": [],
   "source": [
    "def prime_sieve(n):\n",
    "    '''\n",
    "    Compute the prime numbers between 1 and n.\n",
    "    Naive implementation of the Sieve of Eratosthenes.\n",
    "    \n",
    "    Parameters:\n",
    "    ----------\n",
    "    n: int\n",
    "        The upper limit\n",
    "    \n",
    "    Returns:\n",
    "    -------\n",
    "    list\n",
    "        a list of primes\n",
    "    '''\n",
    "    # a list of candidate numbers to sieve\n",
    "    candidates = [i for i in range(n+1)]\n",
    "    # a list of numbered eliminated from consideration\n",
    "    crossed_out = []\n",
    "    # maximum iterations required\n",
    "    limit = int(math.sqrt(n)) + 1\n",
    "    \n",
    "    for factor in range(2, limit): \n",
    "        step = candidates[factor]\n",
    "        if factor*factor not in crossed_out:\n",
    "            for i in range(factor+factor, len(candidates), factor):              \n",
    "                if not candidates[i] in crossed_out:\n",
    "                    crossed_out.append(candidates[i])\n",
    "    \n",
    "    return [i for i in candidates if i not in crossed_out]   "
   ]
  },
  {
   "cell_type": "code",
   "execution_count": 35,
   "id": "personalized-workplace",
   "metadata": {},
   "outputs": [],
   "source": [
    "def prime_sieve(n=30):\n",
    "    candidates = [i for i in range(2, n+1)]\n",
    "    crossed_out = []\n",
    "    limit = int(math.sqrt(n)) + 1\n",
    "    for current_index in range(limit): \n",
    "        step = candidates[current_index]\n",
    "        if step not in crossed_out:\n",
    "            for i in range(current_index+step, len(candidates), step):              \n",
    "                if not candidates[i] in crossed_out:\n",
    "                    crossed_out.append(candidates[i])\n",
    "    \n",
    "    return [i for i in candidates if i not in crossed_out]        "
   ]
  },
  {
   "cell_type": "code",
   "execution_count": 42,
   "id": "fresh-praise",
   "metadata": {},
   "outputs": [
    {
     "data": {
      "text/plain": [
       "[6, 8, 10]"
      ]
     },
     "execution_count": 42,
     "metadata": {},
     "output_type": "execute_result"
    }
   ],
   "source": [
    "i = 2\n",
    "crossed_off = []\n",
    "crossed_off += candidates[i*i::i]\n",
    "crossed_off"
   ]
  },
  {
   "cell_type": "code",
   "execution_count": 48,
   "id": "impaired-inside",
   "metadata": {},
   "outputs": [
    {
     "data": {
      "text/plain": [
       "[2, 3, 4, 5, 6, 7, 8, 9, 10]"
      ]
     },
     "execution_count": 48,
     "metadata": {},
     "output_type": "execute_result"
    }
   ],
   "source": [
    "candidates"
   ]
  },
  {
   "cell_type": "code",
   "execution_count": 43,
   "id": "heard-shell",
   "metadata": {},
   "outputs": [
    {
     "data": {
      "text/plain": [
       "[6, 8, 10]"
      ]
     },
     "execution_count": 43,
     "metadata": {},
     "output_type": "execute_result"
    }
   ],
   "source": [
    "i = 3\n",
    "crossed_off += candidates[i*i::i]\n",
    "crossed_off"
   ]
  },
  {
   "cell_type": "code",
   "execution_count": 36,
   "id": "attempted-forty",
   "metadata": {},
   "outputs": [
    {
     "data": {
      "text/plain": [
       "[2, 3, 5, 7]"
      ]
     },
     "execution_count": 36,
     "metadata": {},
     "output_type": "execute_result"
    }
   ],
   "source": [
    "prime_sieve(10)"
   ]
  },
  {
   "cell_type": "code",
   "execution_count": 1,
   "id": "accurate-skiing",
   "metadata": {},
   "outputs": [],
   "source": [
    "candidates = [2, 3, 4, 5, 6, 7, 8, 9, 10]\n",
    "crossed_out = [4, 6, 8, 10, 9]\n"
   ]
  },
  {
   "cell_type": "code",
   "execution_count": 13,
   "id": "ecological-syndicate",
   "metadata": {},
   "outputs": [
    {
     "name": "stdout",
     "output_type": "stream",
     "text": [
      "530 ns ± 4.13 ns per loop (mean ± std. dev. of 7 runs, 1000000 loops each)\n"
     ]
    }
   ],
   "source": [
    "%timeit set(candidates).symmetric_difference(set(crossed_out))"
   ]
  },
  {
   "cell_type": "code",
   "execution_count": 14,
   "id": "secret-peeing",
   "metadata": {},
   "outputs": [
    {
     "name": "stdout",
     "output_type": "stream",
     "text": [
      "546 ns ± 4.3 ns per loop (mean ± std. dev. of 7 runs, 1000000 loops each)\n"
     ]
    }
   ],
   "source": [
    "%timeit [i for i in candidates if i not in crossed_out]"
   ]
  },
  {
   "cell_type": "code",
   "execution_count": null,
   "id": "mighty-harrison",
   "metadata": {},
   "outputs": [],
   "source": []
  }
 ],
 "metadata": {
  "kernelspec": {
   "display_name": "Python 3",
   "language": "python",
   "name": "python3"
  },
  "language_info": {
   "codemirror_mode": {
    "name": "ipython",
    "version": 3
   },
   "file_extension": ".py",
   "mimetype": "text/x-python",
   "name": "python",
   "nbconvert_exporter": "python",
   "pygments_lexer": "ipython3",
   "version": "3.8.8"
  }
 },
 "nbformat": 4,
 "nbformat_minor": 5
}
