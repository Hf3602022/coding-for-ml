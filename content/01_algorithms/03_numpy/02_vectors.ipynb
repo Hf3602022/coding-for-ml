{
 "cells": [
  {
   "cell_type": "code",
   "execution_count": 1,
   "id": "2d1bc11f",
   "metadata": {
    "tags": [
     "hide-input"
    ]
   },
   "outputs": [],
   "source": [
    "import numpy as np"
   ]
  },
  {
   "cell_type": "markdown",
   "id": "f0d55dac",
   "metadata": {},
   "source": [
    "# Vectors\n",
    "\n",
    "You can think of a `numpy.ndarray` as n-dimentional (or multi-dimentional) array or if you are more mathematically inclined as **vector** or **matrix**.\n",
    "\n",
    "A vector is simply a 1-dimensional array. In `numpy` there are multiple ways to create one. \n",
    "\n",
    "### Static creation\n",
    "\n",
    "To practice using `numpy.ndarray` you can create one using hard coded values.  The example below first creates an array using two parameters: a list of (float values) and expcitly declaring its data type as `np.float`. We can review the dimensions of the array using `.shape`.  This returns a tuple.  In this case (3,) that tells us it has 1 dimension of length 3."
   ]
  },
  {
   "cell_type": "code",
   "execution_count": 2,
   "id": "60d3b561",
   "metadata": {},
   "outputs": [
    {
     "name": "stdout",
     "output_type": "stream",
     "text": [
      "[88.9 45.6 20.4]\n",
      "float64\n",
      "(3,)\n",
      "3\n"
     ]
    }
   ],
   "source": [
    "my_arr = np.array([88.9, 45.6, 20.4], dtype=np.float)\n",
    "print(my_arr)\n",
    "print(my_arr.dtype)\n",
    "print(my_arr.shape)\n",
    "print(len(my_arr))"
   ]
  },
  {
   "cell_type": "markdown",
   "id": "46c595db",
   "metadata": {},
   "source": [
    "Note that the object passed to `np.array()` is a `list`.   In general to cast from a `list` to an `ndarray` us simple."
   ]
  },
  {
   "cell_type": "code",
   "execution_count": 3,
   "id": "58e95038",
   "metadata": {},
   "outputs": [
    {
     "name": "stdout",
     "output_type": "stream",
     "text": [
      "[88.9 45.6 20.4]\n"
     ]
    }
   ],
   "source": [
    "lst = [88.9, 45.6, 20.4]\n",
    "arr = np.array(lst)\n",
    "print(arr)"
   ]
  },
  {
   "cell_type": "markdown",
   "id": "37294df5",
   "metadata": {},
   "source": [
    "```{tip} \n",
    "In general its unlikely that you will do much hard coding of array values in real data science.  I've occationally use it to help debug code; although I normally defer to `np.arange` that we will see next.\n",
    "```"
   ]
  },
  {
   "cell_type": "markdown",
   "id": "d90bef34",
   "metadata": {},
   "source": [
    "## Dynamic creation \n",
    "\n",
    "Sequences of numbers can be created using `np.arange`.  This is particularly useful when testing code.  The parameters work in a similar manner to `range` i.e. **start, stop, step**."
   ]
  },
  {
   "cell_type": "code",
   "execution_count": 4,
   "id": "271b9b5d",
   "metadata": {},
   "outputs": [
    {
     "name": "stdout",
     "output_type": "stream",
     "text": [
      "[0 1 2 3 4 5 6 7 8 9]\n"
     ]
    }
   ],
   "source": [
    "my_arr = np.arange(10)\n",
    "print(my_arr)"
   ]
  },
  {
   "cell_type": "code",
   "execution_count": 5,
   "id": "2cfbde8a",
   "metadata": {},
   "outputs": [
    {
     "name": "stdout",
     "output_type": "stream",
     "text": [
      "[5 6 7 8 9]\n"
     ]
    }
   ],
   "source": [
    "my_arr = np.arange(5, 10)\n",
    "print(my_arr)"
   ]
  },
  {
   "cell_type": "markdown",
   "id": "06d7103f",
   "metadata": {},
   "source": [
    "A use case I often encounter is the need to create an array of a fixed size that is empty.  There are a number of ways to do this.  Using `np.empty` will just allocate memory and you will get whatever is already there.  For example:"
   ]
  },
  {
   "cell_type": "code",
   "execution_count": 6,
   "id": "eff72389",
   "metadata": {},
   "outputs": [
    {
     "name": "stdout",
     "output_type": "stream",
     "text": [
      "[    140213135924304      94680141902272 8935168059250146378\n",
      " 1801466249495215106 7206740487905110784 1802983571648944387\n",
      " 4324410033333868288 8935880547483283712]\n"
     ]
    }
   ],
   "source": [
    "my_arr = np.empty(shape=8, dtype=np.int64)\n",
    "print(my_arr)"
   ]
  },
  {
   "cell_type": "markdown",
   "id": "108d1ebc",
   "metadata": {},
   "source": [
    "I occationally find 'empty' arrays confusing - particularly when debugging code, as it can reuse previously allocated memory that contains values used early in the algorithm or model I'm running.  I find it easier (and less confusing) to create an array and fill it with a fixed known value.  There are some easy efficient ways to do this as well.  \n",
    "\n",
    "Assume you need to create a vector of length 5 and it will hold positive numbers in the range -127 to 127 (signed 8 bit integers). "
   ]
  },
  {
   "cell_type": "code",
   "execution_count": 7,
   "id": "2bce8412",
   "metadata": {},
   "outputs": [],
   "source": [
    "zeros = np.zeros(shape=5, dtype=np.int8)\n",
    "ones = np.ones(shape=5, dtype=np.int8)\n",
    "neg_ones = -np.ones(shape=5, dtype=np.int8)\n",
    "neg_fives = np.full(shape=5, fill_value=-5, dtype=np.int8)"
   ]
  },
  {
   "cell_type": "code",
   "execution_count": 8,
   "id": "45c188e7",
   "metadata": {},
   "outputs": [
    {
     "name": "stdout",
     "output_type": "stream",
     "text": [
      "[0 0 0 0 0]\n",
      "[1 1 1 1 1]\n",
      "[-1 -1 -1 -1 -1]\n",
      "[-5 -5 -5 -5 -5]\n"
     ]
    }
   ],
   "source": [
    "print(zeros)\n",
    "print(ones)\n",
    "print(neg_ones)\n",
    "print(neg_fives)"
   ]
  },
  {
   "cell_type": "markdown",
   "id": "11218341",
   "metadata": {},
   "source": [
    "## Loading data from file\n",
    "\n",
    "In many health data science applications, data will be held in an external file e.g a Comma Seperated Files (where data fields are delimited by a comma).  `numpy` has a several built in functions for loading this data.  If you data contain no missing values the `loadtxt` is very simple.  \n",
    "\n",
    "The file `minor_illness_ed_attends.csv` contains the rate of attendance per 10,000 of population. The first row is a head and will be skipped on read in."
   ]
  },
  {
   "cell_type": "code",
   "execution_count": 9,
   "id": "f6162759",
   "metadata": {},
   "outputs": [],
   "source": [
    "file_name = 'data/minor_illness_ed_attends.csv'\n",
    "ed_data = np.loadtxt(file_name, skiprows=1, delimiter=',')"
   ]
  },
  {
   "cell_type": "code",
   "execution_count": 10,
   "id": "1dd79379",
   "metadata": {},
   "outputs": [
    {
     "data": {
      "text/plain": [
       "(74,)"
      ]
     },
     "execution_count": 10,
     "metadata": {},
     "output_type": "execute_result"
    }
   ],
   "source": [
    "ed_data.shape"
   ]
  },
  {
   "cell_type": "markdown",
   "id": "e3c894fa",
   "metadata": {},
   "source": [
    "There are 74 elements in our vector.  The first 10 are."
   ]
  },
  {
   "cell_type": "code",
   "execution_count": 11,
   "id": "04e6b168",
   "metadata": {},
   "outputs": [
    {
     "data": {
      "text/plain": [
       "array([2.11927795, 3.49057545, 3.98922908, 2.36860477, 3.24124863,\n",
       "       2.8672584 , 3.11658522, 2.74259499, 3.61523885, 3.61523885])"
      ]
     },
     "execution_count": 11,
     "metadata": {},
     "output_type": "execute_result"
    }
   ],
   "source": [
    "ed_data[:10]"
   ]
  },
  {
   "cell_type": "markdown",
   "id": "780832b6",
   "metadata": {},
   "source": [
    "> ### saving arrays to file\n",
    "\n",
    "> I once set a piece of university MSc coursework where students were required to save the contents of an array to file.  Shortly afterwards, I recieved a pretty extensive telling off from a student as \"*I hadn't taught them how to save arrays and a 'friend' had spent several hours attempting the task*\".  I felt about 5 inches tall after this and to avoid future pain for learners I now reveal the method I had inadvertently kept secret from my class.  I believe this book is perhaps the only place in the universe where it is documented.\n",
    "\n",
    "```python\n",
    "np.savetxt('my_array.csv', ed_data)\n",
    "```"
   ]
  }
 ],
 "metadata": {
  "kernelspec": {
   "display_name": "Python 3",
   "language": "python",
   "name": "python3"
  },
  "language_info": {
   "codemirror_mode": {
    "name": "ipython",
    "version": 3
   },
   "file_extension": ".py",
   "mimetype": "text/x-python",
   "name": "python",
   "nbconvert_exporter": "python",
   "pygments_lexer": "ipython3",
   "version": "3.7.3"
  }
 },
 "nbformat": 4,
 "nbformat_minor": 5
}
