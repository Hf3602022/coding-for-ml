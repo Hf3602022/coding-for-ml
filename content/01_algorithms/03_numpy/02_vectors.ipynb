{
 "cells": [
  {
   "cell_type": "code",
   "execution_count": 1,
   "id": "fb5e70b9",
   "metadata": {
    "tags": [
     "hide-input"
    ]
   },
   "outputs": [],
   "source": [
    "import numpy as np"
   ]
  },
  {
   "cell_type": "markdown",
   "id": "9a1012cf",
   "metadata": {},
   "source": [
    "# Vectors and matricies\n",
    "\n",
    "You can think of a `numpy.ndarray` as n-dimentional (or multi-dimentional) array or if you are more mathematically inclined as **vector** or **matrix**.\n",
    "\n",
    "A vector is simply a 1-dimensional array. In `numpy` there are multiple ways to create one. \n",
    "\n",
    "### Static creation\n",
    "\n",
    "To practice using `numpy.ndarray` you can create one using hard coded values.  The example below first creates an array using two parameters: a list of (float values) and expcitly declaring its data type as `np.float64`. We can review the dimensions of the array using `.shape`.  This returns a tuple.  In this case (3,) that tells us it has 1 dimension of length 3."
   ]
  },
  {
   "cell_type": "code",
   "execution_count": 2,
   "id": "93065b95",
   "metadata": {},
   "outputs": [
    {
     "name": "stdout",
     "output_type": "stream",
     "text": [
      "[88.9 45.6 20.4]\n",
      "float64\n",
      "(3,)\n",
      "3\n"
     ]
    }
   ],
   "source": [
    "my_arr = np.array([88.9, 45.6, 20.4], dtype=np.float64)\n",
    "print(my_arr)\n",
    "print(my_arr.dtype)\n",
    "print(my_arr.shape)\n",
    "print(len(my_arr))"
   ]
  },
  {
   "cell_type": "markdown",
   "id": "e1d04c3d",
   "metadata": {},
   "source": [
    "Note that the object passed to `np.array()` is a `list`.   In general to cast from a `list` to an `ndarray` us simple."
   ]
  },
  {
   "cell_type": "code",
   "execution_count": 3,
   "id": "0f233c84",
   "metadata": {},
   "outputs": [
    {
     "name": "stdout",
     "output_type": "stream",
     "text": [
      "[88.9 45.6 20.4]\n"
     ]
    }
   ],
   "source": [
    "lst = [88.9, 45.6, 20.4]\n",
    "arr = np.array(lst)\n",
    "print(arr)"
   ]
  },
  {
   "cell_type": "markdown",
   "id": "f177d668",
   "metadata": {},
   "source": [
    "```{tip} \n",
    "In general its unlikely that you will do much hard coding of array values in real data science.  I've occationally use it to help debug code; although I normally defer to `np.arange` that we will see next.\n",
    "```"
   ]
  },
  {
   "cell_type": "markdown",
   "id": "7e4ebc2b",
   "metadata": {},
   "source": [
    "## Dynamic creation \n",
    "\n",
    "Sequences of numbers can be created using `np.arange`.  This is particularly useful when testing code.  The parameters work in a similar manner to `range` i.e. **start, stop, step**."
   ]
  },
  {
   "cell_type": "code",
   "execution_count": 4,
   "id": "fabc7119",
   "metadata": {},
   "outputs": [
    {
     "name": "stdout",
     "output_type": "stream",
     "text": [
      "[0 1 2 3 4 5 6 7 8 9]\n"
     ]
    }
   ],
   "source": [
    "my_arr = np.arange(10)\n",
    "print(my_arr)"
   ]
  },
  {
   "cell_type": "code",
   "execution_count": 5,
   "id": "fe34926b",
   "metadata": {},
   "outputs": [
    {
     "name": "stdout",
     "output_type": "stream",
     "text": [
      "[5 6 7 8 9]\n"
     ]
    }
   ],
   "source": [
    "my_arr = np.arange(5, 10)\n",
    "print(my_arr)"
   ]
  },
  {
   "cell_type": "markdown",
   "id": "07a4b6a3",
   "metadata": {},
   "source": [
    "A use case I often encounter is the need to create an array of a fixed size that is empty.  There are a number of ways to do this.  Using `np.empty` will just allocate memory and you will get whatever is already there.  For example:"
   ]
  },
  {
   "cell_type": "code",
   "execution_count": 6,
   "id": "636a4de0",
   "metadata": {},
   "outputs": [
    {
     "name": "stdout",
     "output_type": "stream",
     "text": [
      "[     140419899542592       94636582418192       94636576010160\n",
      "      140419899542576      140419795699824      140419795727552\n",
      " -2301443869655676957      140419879893104]\n"
     ]
    }
   ],
   "source": [
    "my_arr = np.empty(shape=8, dtype=np.int64)\n",
    "print(my_arr)"
   ]
  },
  {
   "cell_type": "markdown",
   "id": "e4a9b22b",
   "metadata": {},
   "source": [
    "I occationally find 'empty' arrays confusing - particularly when debugging code, as it can reuse previously allocated memory that contains values used early in the algorithm or model I'm running.  I find it easier (and less confusing) to create an array and fill it with a fixed known value.  There are some easy efficient ways to do this as well.  \n",
    "\n",
    "Assume you need to create a vector of length 5 and it will hold positive numbers in the range -127 to 127 (signed 8 bit integers). "
   ]
  },
  {
   "cell_type": "code",
   "execution_count": 7,
   "id": "1eb21a37",
   "metadata": {},
   "outputs": [],
   "source": [
    "zeros = np.zeros(shape=5, dtype=np.int8)\n",
    "ones = np.ones(shape=5, dtype=np.int8)\n",
    "neg_ones = -np.ones(shape=5, dtype=np.int8)\n",
    "neg_fives = np.full(shape=5, fill_value=-5, dtype=np.int8)"
   ]
  },
  {
   "cell_type": "code",
   "execution_count": 8,
   "id": "00df4696",
   "metadata": {},
   "outputs": [
    {
     "name": "stdout",
     "output_type": "stream",
     "text": [
      "[0 0 0 0 0]\n",
      "[1 1 1 1 1]\n",
      "[-1 -1 -1 -1 -1]\n",
      "[-5 -5 -5 -5 -5]\n"
     ]
    }
   ],
   "source": [
    "print(zeros)\n",
    "print(ones)\n",
    "print(neg_ones)\n",
    "print(neg_fives)"
   ]
  },
  {
   "cell_type": "markdown",
   "id": "cc1d2c2b",
   "metadata": {},
   "source": [
    "## Loading data from file\n",
    "\n",
    "In many health data science applications, data will be held in an external file e.g a Comma Seperated Files (where data fields are delimited by a comma).  `numpy` has a several built in functions for loading this data.  If you data contain no missing values the `loadtxt` is very simple.  \n",
    "\n",
    "The file `minor_illness_ed_attends.csv` contains the rate of attendance per 10,000 of population. The first row is a head and will be skipped on read in."
   ]
  },
  {
   "cell_type": "code",
   "execution_count": 9,
   "id": "1f1143eb",
   "metadata": {},
   "outputs": [],
   "source": [
    "file_name = 'data/minor_illness_ed_attends.csv'\n",
    "ed_data = np.loadtxt(file_name, skiprows=1, delimiter=',')"
   ]
  },
  {
   "cell_type": "code",
   "execution_count": 10,
   "id": "27aeb016",
   "metadata": {},
   "outputs": [
    {
     "data": {
      "text/plain": [
       "(74,)"
      ]
     },
     "execution_count": 10,
     "metadata": {},
     "output_type": "execute_result"
    }
   ],
   "source": [
    "ed_data.shape"
   ]
  },
  {
   "cell_type": "markdown",
   "id": "2c6a0d14",
   "metadata": {},
   "source": [
    "There are 74 elements in our vector.  The first 10 are."
   ]
  },
  {
   "cell_type": "code",
   "execution_count": 11,
   "id": "10a7cf17",
   "metadata": {},
   "outputs": [
    {
     "data": {
      "text/plain": [
       "array([2.11927795, 3.49057545, 3.98922908, 2.36860477, 3.24124863,\n",
       "       2.8672584 , 3.11658522, 2.74259499, 3.61523885, 3.61523885])"
      ]
     },
     "execution_count": 11,
     "metadata": {},
     "output_type": "execute_result"
    }
   ],
   "source": [
    "ed_data[:10]"
   ]
  },
  {
   "cell_type": "markdown",
   "id": "f15a218c",
   "metadata": {},
   "source": [
    "> ### saving arrays to file\n",
    "\n",
    "> I once set a piece of university MSc coursework where students were required to save the contents of an array to file.  Shortly afterwards, I recieved a pretty extensive telling off from a student as \"*I hadn't taught them how to save arrays and a 'friend' had spent several hours attempting the task*\".  I felt about 5 inches tall after this and to avoid future pain for learners I now reveal the method I had inadvertently kept secret from my class.  I believe this book is perhaps the only place in the universe where it is documented.\n",
    "\n",
    "```python\n",
    "np.savetxt('my_array.csv', ed_data)\n",
    "```"
   ]
  },
  {
   "cell_type": "markdown",
   "id": "3f6079f1",
   "metadata": {},
   "source": [
    "## Matricies\n",
    "\n",
    "Recall that a 1 dimentional array in `numpy` is a vector.  It is trivial to extend what we have learnt to a 2D matrix.  Let's start with a simple $2 \\times 2$ matrix $A$.\n",
    "\n",
    "$ A = \\begin{bmatrix}\n",
    "1 & 2\\\\\n",
    "3 & 4\n",
    "\\end{bmatrix}$\n",
    "\n",
    "To create the equivalent numpy 2D array:"
   ]
  },
  {
   "cell_type": "code",
   "execution_count": 12,
   "id": "e0bb8091",
   "metadata": {},
   "outputs": [
    {
     "name": "stdout",
     "output_type": "stream",
     "text": [
      "[[1 2]\n",
      " [3 4]]\n"
     ]
    }
   ],
   "source": [
    "a = np.array([[1, 2], [3, 4]])\n",
    "print(a)"
   ]
  },
  {
   "cell_type": "markdown",
   "id": "d223d60d",
   "metadata": {},
   "source": [
    "If we now inspect the `.shape` property of the array we see that the dimensions are represented in a tuple of length 2."
   ]
  },
  {
   "cell_type": "code",
   "execution_count": 13,
   "id": "b8154ff0",
   "metadata": {},
   "outputs": [
    {
     "name": "stdout",
     "output_type": "stream",
     "text": [
      "(2, 2)\n"
     ]
    }
   ],
   "source": [
    "print(a.shape)"
   ]
  },
  {
   "cell_type": "markdown",
   "id": "4f9efc9c",
   "metadata": {},
   "source": [
    "Note that `numpy` defauted to `int64` as the data type."
   ]
  },
  {
   "cell_type": "markdown",
   "id": "59203957",
   "metadata": {},
   "source": [
    "To be more explicit about type we can specify it."
   ]
  },
  {
   "cell_type": "code",
   "execution_count": 14,
   "id": "f6f2500c",
   "metadata": {},
   "outputs": [
    {
     "name": "stdout",
     "output_type": "stream",
     "text": [
      "uint8\n"
     ]
    }
   ],
   "source": [
    "a = np.array([[1, 2], [3, 4]], dtype=np.uint8)\n",
    "print(a.dtype)"
   ]
  },
  {
   "cell_type": "markdown",
   "id": "6bb4b371",
   "metadata": {},
   "source": [
    "To access the element $ij$ in a 2D matrix use `array[i, j]` notation.  For example, the element `i=1`, `j=1` contains the value 4. \n",
    "\n",
    "> The main thing to remember here is that like other collection types in python arrays are zero indexed.  So the `a[0, 0]` would return 1 in our example. "
   ]
  },
  {
   "cell_type": "code",
   "execution_count": 15,
   "id": "f1b9a714",
   "metadata": {},
   "outputs": [
    {
     "data": {
      "text/plain": [
       "4"
      ]
     },
     "execution_count": 15,
     "metadata": {},
     "output_type": "execute_result"
    }
   ],
   "source": [
    "a[1, 1]"
   ]
  },
  {
   "cell_type": "markdown",
   "id": "f8db4635",
   "metadata": {},
   "source": [
    "The next section will explore how you can slice arrays and use advanced boolean and fancy indexing."
   ]
  }
 ],
 "metadata": {
  "kernelspec": {
   "display_name": "Python 3 (ipykernel)",
   "language": "python",
   "name": "python3"
  },
  "language_info": {
   "codemirror_mode": {
    "name": "ipython",
    "version": 3
   },
   "file_extension": ".py",
   "mimetype": "text/x-python",
   "name": "python",
   "nbconvert_exporter": "python",
   "pygments_lexer": "ipython3",
   "version": "3.8.8"
  }
 },
 "nbformat": 4,
 "nbformat_minor": 5
}
