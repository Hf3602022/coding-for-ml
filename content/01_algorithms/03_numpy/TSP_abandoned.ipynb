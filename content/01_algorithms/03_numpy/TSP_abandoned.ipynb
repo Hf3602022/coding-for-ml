{
 "cells": [
  {
   "cell_type": "code",
   "execution_count": null,
   "id": "a8645b3e-a21a-4574-b3fb-80c36804d851",
   "metadata": {},
   "outputs": [],
   "source": [
    "import numpy as np"
   ]
  },
  {
   "cell_type": "markdown",
   "id": "3b365eb8-3ece-43d6-a959-04e16997fb5f",
   "metadata": {},
   "source": [
    "# Case study: Greedy Algorithm for the TSP\n",
    "\n",
    "The Travelling Salesman Problem (TSP) is a famous problem in combinatorial optimisation that is NP-hard. In the TSP an imaginary sales person is given a set of cities to visit.  The objective is to find the shortest (lowest cost) tour so that each city is visited only once and returns to the origin city at the end.\n",
    "\n",
    "The TSP has been studied extensively in mathematics, computer science and operations research.  Here we will build a well known greedy approach to forming a tour called the neighest neighbour tour construction algorithm.  Given a starting city we move to the next closest city.  We continue to move to the nearest city to our current location until all cities have been visited.  We then return to the origin city.  In the case of ties we will go to the citiy with the smallest index.\n",
    "\n",
    "> Note that we will work with Symmetric TSP where the distance from city x to y is the same as from y to x.\n",
    "\n",
    "## Read in instance of the TSP and generate cost matrix\n",
    "\n",
    "We will work with an instance of the TSP containing 150 cities to visit.  The data are stored in a file on GitHub that is made up of 6 lines of metadata and then 2d coordinate pairs for each city.  To save ourselves some work we will read in the data and calculate the euclidean distance between all points we will use of the functions included in the package [`meta-py`](https://pypi.org/project/meta-py/).  \n",
    "\n",
    "> Note the data were sourced from (and all credit goes to) the fantastic [TSPLib](http://elib.zib.de/pub/mp-testdata/tsp/tsplib/tsplib.html)"
   ]
  },
  {
   "cell_type": "code",
   "execution_count": 546,
   "id": "eb1db0db-0e71-4b98-aa9f-b1509bb7d47b",
   "metadata": {},
   "outputs": [],
   "source": [
    "import matplotlib.pyplot as plt\n",
    "import time\n",
    "import sys"
   ]
  },
  {
   "cell_type": "code",
   "execution_count": 505,
   "id": "437cd5df-6f5e-4afa-8ffa-25ef429f4f0a",
   "metadata": {},
   "outputs": [],
   "source": [
    "# install metapy if running in Google Colab\n",
    "if 'google.colab' in sys.modules:\n",
    "    !pip install meta-py"
   ]
  },
  {
   "cell_type": "code",
   "execution_count": 506,
   "id": "0502d505-1552-49e0-831b-a2499b2b000b",
   "metadata": {},
   "outputs": [],
   "source": [
    "import metapy.tsp.tsp_io as io\n",
    "import metapy.tsp.euclidean as e"
   ]
  },
  {
   "cell_type": "code",
   "execution_count": 509,
   "id": "163f6014-d121-4eeb-bd5b-8eed9779b120",
   "metadata": {},
   "outputs": [
    {
     "name": "stdout",
     "output_type": "stream",
     "text": [
      "<class 'numpy.ndarray'>\n",
      "(150, 2)\n",
      "[[ 37.43935167 541.20906994]\n",
      " [612.17595086 494.31668774]]\n"
     ]
    }
   ],
   "source": [
    "#load file\n",
    "file_path = 'https://raw.githubusercontent.com/TomMonks/meta-py/main' \\\n",
    "           + '/data/ch150.tsp'\n",
    "\n",
    "#number of rows in the file that are meta_data\n",
    "md_rows = 6\n",
    "\n",
    "#read the coordinates\n",
    "cities = io.read_coordinates(file_path, md_rows)\n",
    "\n",
    "#should be an numpy.ndarray\n",
    "print(type(cities))\n",
    "\n",
    "# should be 70 cities\n",
    "print(cities.shape)\n",
    "\n",
    "#print first 2 coordinate pairs\n",
    "print(cities[:2])"
   ]
  },
  {
   "cell_type": "markdown",
   "id": "1b3bc308-b1f9-4048-a823-37403a938843",
   "metadata": {},
   "source": [
    "To generate a matrix containing the distance between methods we can use the `meta-py` function `gen_matrix`.  We will also truncate all distances to integers for simplicity.  Here is what a matrix would look like for the first 10 cities only."
   ]
  },
  {
   "cell_type": "code",
   "execution_count": 517,
   "id": "ca2f0cee-b8cd-4640-8bb6-cfe893b1358c",
   "metadata": {},
   "outputs": [
    {
     "name": "stdout",
     "output_type": "stream",
     "text": [
      "[[  0. 577. 188. 410. 139. 657.  76. 110. 631. 168.]\n",
      " [577.   0. 591. 666. 489.  82. 501. 471.  69. 525.]\n",
      " [188. 591.   0. 222. 298. 662. 191. 184. 630.  68.]\n",
      " [410. 666. 222.   0. 508. 720. 402. 384. 684. 257.]\n",
      " [139. 489. 298. 508.   0. 571. 107. 127. 550. 251.]\n",
      " [657.  82. 662. 720. 571.   0. 580. 550.  37. 597.]\n",
      " [ 76. 501. 191. 402. 107. 580.   0.  38. 555. 145.]\n",
      " [110. 471. 184. 384. 127. 550.  38.   0. 523. 128.]\n",
      " [631.  69. 630. 684. 550.  37. 555. 523.   0. 566.]\n",
      " [168. 525.  68. 257. 251. 597. 145. 128. 566.   0.]]\n"
     ]
    }
   ],
   "source": [
    "# generate matrix (we will truncate)\n",
    "TRUNC = 10\n",
    "\n",
    "# full matrix\n",
    "matrix = e.gen_matrix(cities, as_integer=True)\n",
    "\n",
    "trunc_cities = cities[:TRUNC]\n",
    "trunc_matrix = e.gen_matrix(trunc_cities, as_integer=True)\n",
    "\n",
    "print(trunc_matrix)"
   ]
  },
  {
   "cell_type": "markdown",
   "id": "5453129f-929c-4abb-bc9e-abfb9cf00f92",
   "metadata": {},
   "source": [
    "# Representing a tour\n",
    "\n",
    "There are multiple ways to represent a tour for the TSP.  My preference is a vector of integers where each integer represents a citiy index in the cost matrix.  We don't need to represent the loop back to the origin, but we need to remember to add it in when calculating the cost of a tour. For example:"
   ]
  },
  {
   "cell_type": "code",
   "execution_count": 513,
   "id": "5921a8a7-6893-40eb-a3ca-fd16f0c8d758",
   "metadata": {},
   "outputs": [
    {
     "data": {
      "text/plain": [
       "array([0, 1, 2, 3, 4, 5, 6, 7, 8, 9])"
      ]
     },
     "execution_count": 513,
     "metadata": {},
     "output_type": "execute_result"
    }
   ],
   "source": [
    "tour = np.arange(TRUNC)\n",
    "tour"
   ]
  },
  {
   "cell_type": "markdown",
   "id": "1546d679-5478-4c4d-bfa1-ee8c54951749",
   "metadata": {},
   "source": [
    "## Plotting a tour\n",
    "\n",
    "To help visualise a tour I've included the function `plot_tour` below.  Its make use of a package called `matplotlib` that we will look at in detail in a later section."
   ]
  },
  {
   "cell_type": "code",
   "execution_count": 514,
   "id": "8b1d4547-b246-4e29-8c0e-300dbca2f574",
   "metadata": {},
   "outputs": [],
   "source": [
    "def plot_tour(tour, cities, figsize=(6,4)):\n",
    "    '''\n",
    "    Plots a tour.  Each city visited is\n",
    "    labelled in order.  Red point is the initial city.\n",
    "    \n",
    "    Params:\n",
    "    ------\n",
    "    tour: np.ndarray\n",
    "        ordered vector representing tour e.g. [1, 4, 2, 3]\n",
    "        \n",
    "    cities: np.ndarray\n",
    "        matrix representing city coordinates\n",
    "        \n",
    "    figsize: tuple, optional (default = (6,3))\n",
    "        tuple of ints for figure size\n",
    "        \n",
    "    Returns\n",
    "    -------\n",
    "        tuple of matplotlib figure, and axis\n",
    "    '''\n",
    "\n",
    "    tour_length = len(tour)\n",
    "    fig, ax = plt.subplots(1, 1, figsize=figsize)\n",
    "\n",
    "    #plot points\n",
    "    ax.plot(cities[:tour_length][:, 0],\n",
    "            cities[:tour_length][:, 1],'bo')\n",
    "\n",
    "    #plot lines\n",
    "    for j in range(len(tour)-1):\n",
    "        city_1 = tour[j]\n",
    "        city_2 = tour[j+1]\n",
    "\n",
    "        #lookup coordinates\n",
    "        coords_1 = cities[city_1]\n",
    "        coords_2 = cities[city_2]\n",
    "        coords = np.vstack([coords_1, coords_2])\n",
    "\n",
    "        #plot lines\n",
    "        ax.plot(coords[:,0], coords[:,1], 'g-')\n",
    "        \n",
    "        #show order in tour\n",
    "        ax.text(coords_1[0] + 0.8, coords_1[1] + 0.8, str(j))\n",
    "\n",
    "    #add in loop back colour code in red...\n",
    "    city_1 = tour[-1]\n",
    "    city_2 = tour[0]\n",
    "\n",
    "    coords_1 = cities[city_1]\n",
    "    coords_2 = cities[city_2]\n",
    "    coords = np.vstack([coords_1, coords_2])\n",
    "    ax.text(coords_1[0] + 0.8, coords_1[1] + 0.8, str(tour_length-1))\n",
    "    ax.plot(coords[:,0], coords[:,1], 'r--')\n",
    "        \n",
    "    return fig, ax"
   ]
  },
  {
   "cell_type": "code",
   "execution_count": 515,
   "id": "7b66d2e2-2d6d-40da-94c2-455f7db21ee6",
   "metadata": {},
   "outputs": [
    {
     "data": {
      "text/plain": [
       "(<Figure size 432x288 with 1 Axes>,\n",
       " <matplotlib.axes._subplots.AxesSubplot at 0x7f8d61141780>)"
      ]
     },
     "execution_count": 515,
     "metadata": {},
     "output_type": "execute_result"
    },
    {
     "data": {
      "image/png": "[encoded data removed]",
      "text/plain": [
       "<Figure size 432x288 with 1 Axes>"
      ]
     },
     "metadata": {
      "needs_background": "light"
     },
     "output_type": "display_data"
    }
   ],
   "source": [
    "plot_tour(tour, trunc_cities)"
   ]
  },
  {
   "cell_type": "markdown",
   "id": "3a74ef96-0ae4-4af5-9386-17f624047ab2",
   "metadata": {},
   "source": [
    "## Standard python implementation\n",
    "\n",
    "We will start with a implementation of the Neighest Neighbour Algorithm in standard python only.  I've created this as a class called `NearestNeighbourSP`.\n",
    "\n",
    "The class is parameterised with a list of cities\n"
   ]
  },
  {
   "cell_type": "code",
   "execution_count": null,
   "id": "d8480b62-7174-4cb5-8611-866a9bafa0bf",
   "metadata": {},
   "outputs": [],
   "source": [
    "class NearestNeighbourSP:\n",
    "    '''\n",
    "    Nearest Neighbour Algorithm for the TSP implemented in standard Python.\n",
    "    '''\n",
    "    def __init__(self, tour, cost_matrix):\n",
    "        '''\n",
    "        Constructor method\n",
    "        \n",
    "        Params:\n",
    "        ------\n",
    "        tour: list\n",
    "            A list of city indexes\n",
    "            \n",
    "        cost_matrix: \n",
    "            A\n",
    "        '''\n",
    "        self.cities = tour\n",
    "        self.matrix = cost_matrix\n",
    "        \n",
    "        # current solution\n",
    "        self.solution = None\n",
    "        \n",
    "        # external properties\n",
    "        self.best_cost = float('inf')\n",
    "        self.best_solution = None\n",
    "    \n",
    "    def solve(self):\n",
    "        \"\"\"\n",
    "        Constructs a tour based on nearest neighbour method.\n",
    "        Assume that first city in tour is base city.\n",
    "        \"\"\"\n",
    "        \n",
    "        from_city = self.cities[0]\n",
    "        self.solution = [from_city]\n",
    "                \n",
    "        for _ in range(len(self.cities) - 1):\n",
    "            to_city = self.closest_city_not_in_tour(from_city)\n",
    "            self.solution.append(self.cities[to_city])\n",
    "            from_city = to_city\n",
    "        \n",
    "        self.best_cost = tour_cost(self.solution, self.matrix)\n",
    "        self.best_solution = self.solution\n",
    "                   \n",
    "    def closest_city_not_in_tour(self, from_city):\n",
    "        min_cost = float('inf')\n",
    "        min_index = from_city\n",
    "        \n",
    "        for to_city in range(len(self.cities)):\n",
    "            \n",
    "            if (min_cost > self.matrix[from_city][to_city]):\n",
    "                              \n",
    "                if (self.cities[to_city] not in self.solution):\n",
    "                    min_index = to_city\n",
    "                    min_cost = self.matrix[from_city][to_city]\n",
    "        \n",
    "        return min_index"
   ]
  },
  {
   "cell_type": "code",
   "execution_count": 535,
   "id": "170d00ae-6fab-4249-8fc6-8a3a0fdd54ce",
   "metadata": {},
   "outputs": [],
   "source": [
    "def tour_cost(tour, matrix):\n",
    "    \"\"\"\n",
    "    The total distance in the tour.\n",
    "    \n",
    "    Params:\n",
    "    -------\n",
    "    tour: array-like\n",
    "        list of cities to visit in order.\n",
    "    matrix: array-like\n",
    "        numpy array of costs.\n",
    "    \"\"\"\n",
    "    cost = 0\n",
    "    \n",
    "    for i in range(len(tour) - 1):\n",
    "        cost += matrix[tour[i]][tour[i+1]]\n",
    "    cost += matrix[tour[len(tour)-1]][tour[0]]\n",
    "    return cost"
   ]
  },
  {
   "cell_type": "code",
   "execution_count": 536,
   "id": "11439e34-a5f3-43c9-af81-71ca5da89266",
   "metadata": {},
   "outputs": [
    {
     "data": {
      "text/plain": [
       "8191.0"
      ]
     },
     "execution_count": 536,
     "metadata": {},
     "output_type": "execute_result"
    }
   ],
   "source": [
    "tour = np.arange(len(cities))\n",
    "nn_sp = NearestNeighbourSP(tour.tolist(), matrix.tolist())\n",
    "nn_sp.solve()\n",
    "nn_sp.best_cost"
   ]
  },
  {
   "cell_type": "code",
   "execution_count": 534,
   "id": "cb7e520d-479e-4945-b002-0a7cdf4eda14",
   "metadata": {},
   "outputs": [
    {
     "name": "stdout",
     "output_type": "stream",
     "text": [
      "2.89 ms ± 9.65 µs per loop (mean ± std. dev. of 7 runs, 100 loops each)\n"
     ]
    }
   ],
   "source": [
    "%timeit nn_sp.solve()"
   ]
  },
  {
   "cell_type": "code",
   "execution_count": 472,
   "id": "300ed93d-5fb7-4380-b8e1-8b60dde8ffd2",
   "metadata": {},
   "outputs": [],
   "source": [
    "class NearestNeighbourNP(object):\n",
    "    \n",
    "    def __init__(self, cities, cost_matrix, obj):\n",
    "        # cities\n",
    "        self.cities = cities\n",
    "        \n",
    "        # 2D cost matrix\n",
    "        self.matrix = cost_matrix\n",
    "        \n",
    "        # objective function\n",
    "        self.obj = obj\n",
    "        \n",
    "        # constructed solution\n",
    "        self.solution = None\n",
    "        \n",
    "        # properties access externally\n",
    "        self.best_cost = -np.inf\n",
    "        self.best_solution = None\n",
    "        \n",
    "    def solve(self):\n",
    "        \"\"\"\n",
    "        Constructs a tour based on nearest neighbour method.\n",
    "        Assume that first city in tour is base city.\n",
    "        \"\"\"\n",
    "        \n",
    "        # constructed solution\n",
    "        self.solution = np.ones(len(self.cities), np.uint8) * -1\n",
    "        \n",
    "        from_city = self.cities[0]\n",
    "        self.solution[0] = from_city\n",
    "                \n",
    "        for i in range(1, len(self.cities)):\n",
    "            to_city = self.closest_city_not_in_tour(from_city)\n",
    "            self.solution[i] = self.cities[to_city]\n",
    "            from_city = to_city\n",
    "        \n",
    "        self.best_cost = self.obj.evaluate(self.solution)\n",
    "        self.best_solution = self.solution\n",
    "                \n",
    "    def closest_city_not_in_tour(self, from_city):\n",
    "        \n",
    "        # remaining cities to visit\n",
    "        remaining = self.cities[~np.isin(self.cities, self.solution)]\n",
    "        \n",
    "        # return the index \n",
    "        # this is a 2nd loop that ideally would be eliminated\n",
    "        return remaining[self.matrix[from_city, remaining].argmin()]"
   ]
  },
  {
   "cell_type": "code",
   "execution_count": 484,
   "id": "ee132d09-74e0-4124-9dcb-9abffd4b648c",
   "metadata": {},
   "outputs": [],
   "source": []
  },
  {
   "cell_type": "code",
   "execution_count": 486,
   "id": "96d780e7-1cdc-401e-bf12-85bf8f629533",
   "metadata": {},
   "outputs": [],
   "source": [
    "nn_sp = NearestNeighbourSP(tour.tolist(), matrix)"
   ]
  },
  {
   "cell_type": "code",
   "execution_count": 487,
   "id": "4d0b1ec3-e3b6-4da1-8d5f-2f48fc05da60",
   "metadata": {},
   "outputs": [],
   "source": [
    "nn_sp.solve()"
   ]
  },
  {
   "cell_type": "code",
   "execution_count": 539,
   "id": "c394113c-b008-4f5b-b1cd-b0a2ca478803",
   "metadata": {},
   "outputs": [
    {
     "name": "stdout",
     "output_type": "stream",
     "text": [
      "2.6 ms ± 41.7 µs per loop (mean ± std. dev. of 7 runs, 100 loops each)\n"
     ]
    }
   ],
   "source": [
    "%timeit nn_np.solve()"
   ]
  },
  {
   "cell_type": "code",
   "execution_count": 489,
   "id": "e49b0f94-76d1-49f4-935f-707f1484d744",
   "metadata": {},
   "outputs": [
    {
     "data": {
      "text/plain": [
       "8191.0"
      ]
     },
     "execution_count": 489,
     "metadata": {},
     "output_type": "execute_result"
    }
   ],
   "source": [
    "nn_sp.best_cost"
   ]
  },
  {
   "cell_type": "code",
   "execution_count": 490,
   "id": "1cbfd85b-18ae-402e-9922-9bbf846d7a1b",
   "metadata": {},
   "outputs": [],
   "source": [
    "# generate matrix \n",
    "TRUNC = 70\n",
    "trunc_cities = cities[:TRUNC]\n",
    "matrix = gen_matrix(trunc_cities, as_integer=True)\n",
    "tour = np.arange(TRUNC)\n",
    "nn_np = NearestNeighbourNP(tour, matrix, OptimisedSimpleTSPObjective(matrix))"
   ]
  },
  {
   "cell_type": "code",
   "execution_count": 491,
   "id": "fcd354fd-f4d7-4f57-ba55-b3402a7c6dd0",
   "metadata": {},
   "outputs": [
    {
     "name": "stdout",
     "output_type": "stream",
     "text": [
      "2.58 ms ± 15.3 µs per loop (mean ± std. dev. of 7 runs, 100 loops each)\n"
     ]
    }
   ],
   "source": [
    "%timeit nn_np.solve()"
   ]
  },
  {
   "cell_type": "code",
   "execution_count": 492,
   "id": "3bee1e77-df57-4981-a5ac-f1046b48ac73",
   "metadata": {},
   "outputs": [
    {
     "name": "stdout",
     "output_type": "stream",
     "text": [
      "[0, 97, 102, 33, 86, 75, 72, 47, 62, 29, 83, 6, 7, 88, 95, 34, 92, 125, 32, 104, 110, 15, 58, 78, 120, 87, 93, 9, 112, 2, 61, 148, 124, 21, 103, 3, 44, 70, 43, 114, 149, 20, 77, 14, 132, 76, 121, 13, 79, 71, 48, 146, 143, 128, 26, 30, 144, 111, 135, 63, 105, 12, 73, 122, 116, 56, 38, 40, 100, 115, 11, 23, 117, 52, 39, 138, 119, 46, 109, 80, 28, 85, 134, 69, 107, 101, 113, 98, 18, 1, 36, 8, 27, 5, 41, 19, 24, 140, 57, 54, 49, 136, 131, 64, 84, 141, 17, 74, 25, 145, 55, 82, 89, 45, 137, 133, 53, 91, 51, 123, 96, 99, 142, 4, 106, 94, 81, 130, 31, 22, 37, 66, 42, 108, 50, 126, 68, 35, 60, 10, 147, 129, 59, 65, 16, 139, 90, 118, 67, 127]\n"
     ]
    }
   ],
   "source": [
    "print(nn_sp.best_solution)"
   ]
  },
  {
   "cell_type": "code",
   "execution_count": 493,
   "id": "47d2190c-f221-4a25-a2bd-4b166cd0d4c3",
   "metadata": {},
   "outputs": [
    {
     "data": {
      "text/plain": [
       "5376.0"
      ]
     },
     "execution_count": 493,
     "metadata": {},
     "output_type": "execute_result"
    }
   ],
   "source": [
    "nn_np.best_cost"
   ]
  },
  {
   "cell_type": "code",
   "execution_count": 444,
   "id": "6b927a26-ce68-45e2-a596-9ec4c0a565ef",
   "metadata": {},
   "outputs": [
    {
     "name": "stdout",
     "output_type": "stream",
     "text": [
      "70\n"
     ]
    }
   ],
   "source": [
    "print(len(nn_np.best_solution))"
   ]
  },
  {
   "cell_type": "code",
   "execution_count": 452,
   "id": "80835c92-0ce3-42c8-ac0a-8fe413f320c7",
   "metadata": {},
   "outputs": [
    {
     "data": {
      "text/plain": [
       "array([69], dtype=int16)"
      ]
     },
     "execution_count": 452,
     "metadata": {},
     "output_type": "execute_result"
    }
   ],
   "source": [
    "nn_np.best_solution[~np.isin(nn_np.best_solution, nn_sp.best_solution)]"
   ]
  },
  {
   "cell_type": "code",
   "execution_count": 423,
   "id": "c5ad0598-21a0-424d-9778-2a5249bbdee8",
   "metadata": {},
   "outputs": [
    {
     "data": {
      "image/png": "[encoded data removed]",
      "text/plain": [
       "<Figure size 432x288 with 1 Axes>"
      ]
     },
     "metadata": {
      "needs_background": "light"
     },
     "output_type": "display_data"
    }
   ],
   "source": [
    "plot_tour(nn_sp.best_solution, cities);"
   ]
  },
  {
   "cell_type": "code",
   "execution_count": 424,
   "id": "2bb81b41-94ee-4985-ac27-2d40014bd084",
   "metadata": {},
   "outputs": [
    {
     "data": {
      "image/png": "[encoded data removed]",
      "text/plain": [
       "<Figure size 432x288 with 1 Axes>"
      ]
     },
     "metadata": {
      "needs_background": "light"
     },
     "output_type": "display_data"
    }
   ],
   "source": [
    "plot_tour(nn_np.best_solution, cities);"
   ]
  },
  {
   "cell_type": "code",
   "execution_count": 459,
   "id": "6d3f96d3-3af1-4b2b-ba67-d54f44718c3a",
   "metadata": {},
   "outputs": [
    {
     "name": "stdout",
     "output_type": "stream",
     "text": [
      "0 0\n",
      "35 35\n",
      "22 22\n",
      "46 46\n",
      "15 15\n",
      "36 36\n",
      "57 57\n",
      "49 49\n",
      "9 9\n",
      "4 4\n",
      "52 52\n",
      "65 65\n",
      "21 21\n",
      "62 62\n",
      "58 58\n",
      "37 37\n",
      "68 68\n",
      "30 30\n",
      "12 12\n",
      "28 28\n",
      "69 69\n",
      "34 34\n",
      "56 56\n",
      "14 14\n",
      "23 23\n",
      "1 1\n",
      "6 6\n",
      "31 31\n",
      "2 2\n",
      "7 7\n",
      "27 27\n",
      "25 25\n",
      "48 48\n",
      "54 54\n",
      "18 18\n",
      "3 3\n",
      "17 17\n",
      "41 41\n",
      "5 5\n",
      "40 40\n",
      "42 42\n",
      "16 16\n",
      "20 20\n",
      "33 33\n",
      "11 11\n",
      "59 59\n",
      "51 51\n",
      "50 50\n",
      "55 55\n",
      "64 64\n",
      "10 10\n",
      "47 47\n",
      "66 66\n",
      "53 53\n",
      "32 32\n",
      "61 61\n",
      "38 38\n",
      "44 44\n",
      "24 24\n",
      "39 39\n",
      "60 60\n",
      "8 8\n",
      "26 26\n",
      "45 45\n",
      "67 67\n",
      "43 43\n",
      "29 29\n",
      "19 19\n",
      "13 13\n",
      "63 63\n"
     ]
    }
   ],
   "source": [
    "for i, j in zip(nn_sp.best_solution, nn_np.best_solution):\n",
    "    print(i, j)"
   ]
  },
  {
   "cell_type": "code",
   "execution_count": 344,
   "id": "16d793ee-0d7a-49a9-9b6a-6d6a3f2cb8b9",
   "metadata": {},
   "outputs": [
    {
     "data": {
      "image/png": "[encoded data removed]",
      "text/plain": [
       "<Figure size 432x288 with 1 Axes>"
      ]
     },
     "metadata": {
      "needs_background": "light"
     },
     "output_type": "display_data"
    }
   ],
   "source": [
    "plot_tour(nn_sp.best_solution, matrix);"
   ]
  },
  {
   "cell_type": "code",
   "execution_count": 542,
   "id": "ee1e7b17-2e99-476e-ac05-2d5a8c31b851",
   "metadata": {},
   "outputs": [],
   "source": [
    "class HillClimber:\n",
    "    '''\n",
    "    Simple first improvement hill climbing algorithm\n",
    "    \n",
    "    '''\n",
    "    def __init__(self, objective, init_solution, tweaker, maximisation=True,\n",
    "                 time_limit=None):\n",
    "        '''\n",
    "        Constructor\n",
    "        \n",
    "        Params:\n",
    "        ------\n",
    "        objective:object\n",
    "            optimisation target\n",
    "        \n",
    "        init_solution: np.ndarray\n",
    "            numpy representation of solution\n",
    "            \n",
    "        tweaker: object\n",
    "            tweak operation for hill climber\n",
    "            \n",
    "        maximisation: bool, optional (default=True)\n",
    "            Is this a max or min optimisation?\n",
    "            \n",
    "        time_limit: float, optional (default=None)\n",
    "            If set to float hill climbing termates when time limit is reached.\n",
    "        '''\n",
    "        self._objective = objective\n",
    "        \n",
    "        if maximisation:\n",
    "            self._negate = 1.0\n",
    "        else:\n",
    "            self._negate = -1.0\n",
    "        \n",
    "        self.set_init_solution(init_solution)\n",
    "        self._tweaker = tweaker\n",
    "        \n",
    "        #hill climbing time limit\n",
    "        if time_limit is None:\n",
    "            self._time_limit = np.Inf\n",
    "        else:\n",
    "            self._time_limit = time_limit\n",
    " \n",
    "    def set_init_solution(self, solution):  \n",
    "        self.solution = solution\n",
    "        self.best_solutions = [solution]\n",
    "        self.best_cost = self._objective.evaluate(solution) * self._negate \n",
    "               \n",
    "    def solve(self):\n",
    "        '''\n",
    "        Run first improvement hill climbing\n",
    "        \n",
    "        Returns:\n",
    "        --------\n",
    "        None\n",
    "        '''\n",
    "        improvement = True\n",
    "        start = time.time()\n",
    "        \n",
    "        while improvement and ((time.time() - start) < self._time_limit):\n",
    "            improvement = False\n",
    "            \n",
    "            for city1 in range(1, len(self.solution) - 1):\n",
    "                #print(\"city1: {0}\".format(city1))\n",
    "                for city2 in range(city1 + 1, len(self.solution) - 1):\n",
    "                    #print(\"city2: {0}\".format(city2))\n",
    "                    \n",
    "                    self._tweaker.tweak(tour=self.solution, start_index=city1, \n",
    "                                        end_index=city2)\n",
    "\n",
    "                    neighbour_cost = \\\n",
    "                        self._objective.evaluate(self.solution) * self._negate\n",
    "\n",
    "                    if (neighbour_cost > self.best_cost):\n",
    "                        self.best_cost = neighbour_cost\n",
    "                        self.best_solutions = [self.solution]\n",
    "                        improvement = True\n",
    "                    else:\n",
    "                        self._tweaker.tweak(self.solution, city1, city2)\n",
    "        \n",
    "\n",
    "\n",
    "\n",
    "class TweakTwoOpt(object):\n",
    "    '''\n",
    "    Perform a 2-Opt swap for a tour (reverse a section of the route)\n",
    "    '''\n",
    "    def __init__(self, random_seed=None):\n",
    "        '''\n",
    "        Constructor method\n",
    "        \n",
    "        Params:\n",
    "        ------\n",
    "        random_seed: int, optional (default=None)\n",
    "            control sampling in the algorithm.  By default is set\n",
    "            to None i.e. random init.\n",
    "        '''\n",
    "        self.rng = np.random.default_rng(random_seed)\n",
    "    \n",
    "    def tweak(self, tour, start_index, end_index):\n",
    "        '''\n",
    "        Perform a 2-Opt swap for a tour (reverse a section of the route)\n",
    "        \n",
    "        Params:\n",
    "        ------\n",
    "        tour - np.ndarray\n",
    "            vector representing tour\n",
    "            \n",
    "        start_index: int\n",
    "            Index of first city in section of tour to reverse\n",
    "            \n",
    "        end_index: int\n",
    "            Index of second city in section of tour to reverse\n",
    "            \n",
    "        \n",
    "        '''\n",
    "        self.reverse_section(tour, start_index, end_index)\n",
    "\n",
    "    def reverse_section(self, tour, start, end):\n",
    "        \"\"\"\n",
    "        Reverse a slice of the @tour elements between\n",
    "        @start and @end. Note Operation happens in place.\n",
    "        Params:\n",
    "        --------\n",
    "        tour - np.array, \n",
    "            vector representing a solution\n",
    "            \n",
    "        start - int, \n",
    "            start index of sublist (inclusive)\n",
    "            \n",
    "        end - int, \n",
    "            end index of sublist (inclusive)\n",
    "        \"\"\"\n",
    "        tour[start:end] = tour[start:end][::-1]"
   ]
  },
  {
   "cell_type": "code",
   "execution_count": 559,
   "id": "886cebbf-53cc-48aa-9d2d-4d42449d2679",
   "metadata": {},
   "outputs": [],
   "source": [
    "tour = tour[:10]\n",
    "\n",
    "climber1 = HillClimber(OptimisedSimpleTSPObjective(matrix), tour, \n",
    "                       TweakTwoOpt(), maximisation=False)"
   ]
  },
  {
   "cell_type": "code",
   "execution_count": 560,
   "id": "2d5e8600-aae9-45cb-860e-f3cd8f1ecee4",
   "metadata": {},
   "outputs": [
    {
     "name": "stdout",
     "output_type": "stream",
     "text": [
      "city1: 1\n",
      "city2: 2\n",
      "city2: 3\n",
      "city2: 4\n",
      "city2: 5\n",
      "city2: 6\n",
      "city2: 7\n",
      "city2: 8\n",
      "city1: 2\n",
      "city2: 3\n",
      "city2: 4\n",
      "city2: 5\n",
      "city2: 6\n",
      "city2: 7\n",
      "city2: 8\n",
      "city1: 3\n",
      "city2: 4\n",
      "city2: 5\n",
      "city2: 6\n",
      "city2: 7\n",
      "city2: 8\n",
      "city1: 4\n",
      "city2: 5\n",
      "city2: 6\n",
      "city2: 7\n",
      "city2: 8\n",
      "city1: 5\n",
      "city2: 6\n",
      "city2: 7\n",
      "city2: 8\n",
      "city1: 6\n",
      "city2: 7\n",
      "city2: 8\n",
      "city1: 7\n",
      "city2: 8\n",
      "city1: 8\n"
     ]
    }
   ],
   "source": [
    "climber1.solve()"
   ]
  },
  {
   "cell_type": "code",
   "execution_count": 565,
   "id": "d16d8712-40ee-4dda-8522-c396f6743506",
   "metadata": {},
   "outputs": [],
   "source": [
    "class HillClimber:\n",
    "    '''\n",
    "    Simple first improvement hill climbing algorithm\n",
    "    \n",
    "    '''\n",
    "    def __init__(self, objective, init_solution, tweaker, maximisation=True,\n",
    "                 time_limit=None):\n",
    "        '''\n",
    "        Constructor\n",
    "        \n",
    "        Params:\n",
    "        ------\n",
    "        objective:object\n",
    "            optimisation target\n",
    "        \n",
    "        init_solution: np.ndarray\n",
    "            numpy representation of solution\n",
    "            \n",
    "        tweaker: object\n",
    "            tweak operation for hill climber\n",
    "            \n",
    "        maximisation: bool, optional (default=True)\n",
    "            Is this a max or min optimisation?\n",
    "            \n",
    "        time_limit: float, optional (default=None)\n",
    "            If set to float hill climbing termates when time limit is reached.\n",
    "        '''\n",
    "        self._objective = objective\n",
    "        \n",
    "        if maximisation:\n",
    "            self._negate = 1.0\n",
    "        else:\n",
    "            self._negate = -1.0\n",
    "        \n",
    "        self.set_init_solution(init_solution)\n",
    "        self._tweaker = tweaker\n",
    "        \n",
    "        #hill climbing time limit\n",
    "        if time_limit is None:\n",
    "            self._time_limit = np.Inf\n",
    "        else:\n",
    "            self._time_limit = time_limit\n",
    " \n",
    "    def set_init_solution(self, solution):  \n",
    "        self.solution = solution\n",
    "        self.best_solutions = [solution]\n",
    "        self.best_cost = self._objective.evaluate(solution) * self._negate \n",
    "               \n",
    "    def solve(self):\n",
    "        '''\n",
    "        Run first improvement hill climbing\n",
    "        \n",
    "        Returns:\n",
    "        --------\n",
    "        None\n",
    "        '''\n",
    "        improvement = True\n",
    "        start = time.time()\n",
    "        \n",
    "        while improvement and ((time.time() - start) < self._time_limit):\n",
    "            improvement = False\n",
    "            \n",
    "            for city1 in range(1, len(self.solution) - 1):\n",
    "                \n",
    "                print(\"city1: {0}\".format(city1))\n",
    "                for city2 in range(city1 + 1, len(self.solution) - 1):\n",
    "                    print(\"city2: {0}\".format(city2))\n",
    "                    \n",
    "                    self._tweaker.tweak(tour=self.solution, start_index=city1, \n",
    "                                        end_index=city2)\n",
    "\n",
    "                    neighbour_cost = \\\n",
    "                        self._objective.evaluate(self.solution) * self._negate\n",
    "\n",
    "                    if (neighbour_cost > self.best_cost):\n",
    "                        self.best_cost = neighbour_cost\n",
    "                        self.best_solutions = [self.solution]\n",
    "                        improvement = True\n",
    "                    else:\n",
    "                        self._tweaker.tweak(self.solution, city1, city2)"
   ]
  },
  {
   "cell_type": "code",
   "execution_count": 564,
   "id": "f5b468b1-10c9-4362-9508-5ceaa51dc107",
   "metadata": {},
   "outputs": [
    {
     "data": {
      "text/plain": [
       "array([1, 2, 3, 4, 5, 6, 7, 8, 9])"
      ]
     },
     "execution_count": 564,
     "metadata": {},
     "output_type": "execute_result"
    }
   ],
   "source": [
    "tour = np.arange(10)\n",
    "tour[1:]"
   ]
  },
  {
   "cell_type": "code",
   "execution_count": null,
   "id": "cb98e73d-84c5-4dd7-9125-ca1d3fc684ff",
   "metadata": {},
   "outputs": [],
   "source": []
  }
 ],
 "metadata": {
  "kernelspec": {
   "display_name": "Python 3",
   "language": "python",
   "name": "python3"
  },
  "language_info": {
   "codemirror_mode": {
    "name": "ipython",
    "version": 3
   },
   "file_extension": ".py",
   "mimetype": "text/x-python",
   "name": "python",
   "nbconvert_exporter": "python",
   "pygments_lexer": "ipython3",
   "version": "3.7.3"
  }
 },
 "nbformat": 4,
 "nbformat_minor": 5
}
