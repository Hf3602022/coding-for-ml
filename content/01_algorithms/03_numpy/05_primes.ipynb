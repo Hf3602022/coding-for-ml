{
 "cells": [
  {
   "cell_type": "code",
   "execution_count": 1,
   "id": "fa5f5039",
   "metadata": {},
   "outputs": [],
   "source": [
    "import numpy as np\n",
    "import math"
   ]
  },
  {
   "cell_type": "markdown",
   "id": "c2383391",
   "metadata": {},
   "source": [
    "# Revisting prime sieve\n",
    "\n",
    "This chapter opened by exploring the importance of good algorithm and code design.  We spent a fair bit of time redesigning and micro-optimising a function in standard python that implemented a prime sieve.  For large n, for example greater than 10 million, the function `prime_sieve_best` was our fastest option."
   ]
  },
  {
   "cell_type": "code",
   "execution_count": 2,
   "id": "4701d291",
   "metadata": {},
   "outputs": [],
   "source": [
    "def prime_sieve_best(n):\n",
    "    '''\n",
    "    Our fastest prime sieve in standard python\n",
    "    Fastest for large n e.g. > 10m.\n",
    "    '''\n",
    "    candidates = bytearray(b\"\\x01\") * (n + 1)\n",
    "    candidates[0] = 0\n",
    "    candidates[1] = 0\n",
    "    limit = int(math.sqrt(n)) + 1    \n",
    "    \n",
    "    for i in range(2, limit): \n",
    "        if candidates[i]:\n",
    "            candidates[i+i::i] = [0] * ((n - i) // i)\n",
    "            \n",
    "    return [i for i in range(n+1) if candidates[i]]      "
   ]
  },
  {
   "cell_type": "markdown",
   "id": "8db9962d",
   "metadata": {},
   "source": [
    "The function `prime_sieve_np` again reimplements the algorithm, but this time using `numpy` optimised arrays and functions."
   ]
  },
  {
   "cell_type": "code",
   "execution_count": 3,
   "id": "9b7f8ca1",
   "metadata": {},
   "outputs": [],
   "source": [
    "def prime_sieve_np(n):\n",
    "    '''\n",
    "    Prime sieve reimplemented in NumPy.\n",
    "    '''\n",
    "    candidates = np.ones(n, dtype=bool)\n",
    "    limit = int(np.sqrt(n)) + 1\n",
    "    candidates[0:2] = False\n",
    "    \n",
    "    for i in range(2, limit):\n",
    "        if candidates[i]:\n",
    "            candidates[i+i::i] = False\n",
    "    return np.flatnonzero(candidates)"
   ]
  },
  {
   "cell_type": "markdown",
   "id": "0de33146",
   "metadata": {},
   "source": [
    "You should see a reasonable speed up, for free, using `numpy`.  Let's compare it for an even larger n."
   ]
  },
  {
   "cell_type": "code",
   "execution_count": 4,
   "id": "26f992bb",
   "metadata": {},
   "outputs": [
    {
     "name": "stdout",
     "output_type": "stream",
     "text": [
      "11.4 s ± 601 ms per loop (mean ± std. dev. of 7 runs, 1 loop each)\n"
     ]
    }
   ],
   "source": [
    "HUNDRED_MILLION = 100_000_000\n",
    "%timeit len(prime_sieve_best(HUNDRED_MILLION))"
   ]
  },
  {
   "cell_type": "code",
   "execution_count": 5,
   "id": "e03a3a94",
   "metadata": {},
   "outputs": [
    {
     "name": "stdout",
     "output_type": "stream",
     "text": [
      "1.21 s ± 42.5 ms per loop (mean ± std. dev. of 7 runs, 1 loop each)\n"
     ]
    }
   ],
   "source": [
    "%timeit len(prime_sieve_np(HUNDRED_MILLION))"
   ]
  },
  {
   "cell_type": "markdown",
   "id": "4e3472dc",
   "metadata": {},
   "source": [
    "That's should provide around a factor of 10 speed up.  On my machine runtime dropped from around 1 seconds on average to 1.1 seconds on average.\n",
    "\n",
    "This is also a nice example where, in my opinion, the numpy code is more readable than the standard python.  This is partly because `numpy` broadcasting means we can the elements in a slice cleanly. i.e.\n",
    "\n",
    "```python\n",
    "candidates[i+i::i] = False\n",
    "```\n",
    "verus standard python\n",
    "\n",
    "```python\n",
    "candidates[i+i::i] = [0] * ((n - i) // i)\n",
    "```"
   ]
  }
 ],
 "metadata": {
  "kernelspec": {
   "display_name": "Python 3",
   "language": "python",
   "name": "python3"
  },
  "language_info": {
   "codemirror_mode": {
    "name": "ipython",
    "version": 3
   },
   "file_extension": ".py",
   "mimetype": "text/x-python",
   "name": "python",
   "nbconvert_exporter": "python",
   "pygments_lexer": "ipython3",
   "version": "3.8.8"
  }
 },
 "nbformat": 4,
 "nbformat_minor": 5
}
