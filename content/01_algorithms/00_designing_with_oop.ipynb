{
 "cells": [
  {
   "cell_type": "markdown",
   "id": "retired-dictionary",
   "metadata": {},
   "source": [
    "# Designing scientific code using objects"
   ]
  },
  {
   "cell_type": "markdown",
   "id": "expensive-police",
   "metadata": {},
   "source": [
    "## lorum ipsum"
   ]
  },
  {
   "cell_type": "code",
   "execution_count": null,
   "id": "unexpected-presence",
   "metadata": {},
   "outputs": [],
   "source": []
  }
 ],
 "metadata": {
  "kernelspec": {
   "display_name": "Python 3",
   "language": "python",
   "name": "python3"
  },
  "language_info": {
   "codemirror_mode": {
    "name": "ipython",
    "version": 3
   },
   "file_extension": ".py",
   "mimetype": "text/x-python",
   "name": "python",
   "nbconvert_exporter": "python",
   "pygments_lexer": "ipython3",
   "version": "3.8.8"
  }
 },
 "nbformat": 4,
 "nbformat_minor": 5
}
