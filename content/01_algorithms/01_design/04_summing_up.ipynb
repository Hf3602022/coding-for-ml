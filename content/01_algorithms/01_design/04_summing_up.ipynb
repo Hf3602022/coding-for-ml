{
 "cells": [
  {
   "cell_type": "markdown",
   "id": "b7d58aef",
   "metadata": {},
   "source": [
    "# Summing up\n",
    "\n",
    "## What else might you do?\n",
    "\n",
    "We chose a particular algorithm to improve on trial and error in the computation of primes.  So the big questions are:\n",
    "\n",
    "* are there other algorithms and options that might reduce runtime?   \n",
    "* is this good performance good enough or a problem for our study?\n",
    "* are we missing any obvious big ticket design changes?\n",
    "\n",
    "There are in fact other algorithms which are more efficient at computing larger primes than our sieve, but our sieve is reasonably good for the small primes we have computed.  Could we make further improvements in its basic design? Yes we can.  For instance, we know that all even numbers above two cannot be primes.  We therefore don't even need to consider these in our algorithm.  This not only reduces computation, but we can also half the size of our data structure (you might try this an exercise).\n",
    "\n",
    "Another option that we will explore in a later section is `numpy`.  This provides some very fast optimised data structures and procedures that we will compare to standard python."
   ]
  },
  {
   "cell_type": "markdown",
   "id": "79ab5782",
   "metadata": {},
   "source": [
    "## Conclusions\n",
    "\n",
    "We've seen that a good algorithm makes a huge difference to what is feasible to compute.  A trial and error approach to computing primes prevented us from even finding relatively small prime numbers in a reasonable time frame.  The **Sieve of Eratosthenes** made the unfeasible suddenly feasible.  We've also seen that the design of code can also affect execution time by an order of magnitude.  But not all optimisations will have a huge impact on performance and some optimisation may scale with our problem size.  "
   ]
  }
 ],
 "metadata": {
  "kernelspec": {
   "display_name": "Python 3 (ipykernel)",
   "language": "python",
   "name": "python3"
  },
  "language_info": {
   "codemirror_mode": {
    "name": "ipython",
    "version": 3
   },
   "file_extension": ".py",
   "mimetype": "text/x-python",
   "name": "python",
   "nbconvert_exporter": "python",
   "pygments_lexer": "ipython3",
   "version": "3.8.8"
  }
 },
 "nbformat": 4,
 "nbformat_minor": 5
}
