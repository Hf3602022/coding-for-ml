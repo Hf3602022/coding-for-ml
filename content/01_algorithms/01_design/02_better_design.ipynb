{
 "cells": [
  {
   "cell_type": "markdown",
   "id": "a2a39ee9",
   "metadata": {},
   "source": [
    "# Improving the prime sieve code\n",
    "\n",
    "An inefficiency with our code is that we compute the prime numbers using two data structures.  This wastes memory, but also means we need to check if a values already exists in `crossed_out` twice.  The second check is needed to make sure we aren't needlessly appending an already crossed out prime number.  \n",
    "\n",
    "The function `prime_sieve2` delivers the same results as `prime_sieve`, but more efficiently.  The primary source of this saving is by designing our code so that we required only one `list`."
   ]
  },
  {
   "cell_type": "code",
   "execution_count": 1,
   "id": "44f005ac",
   "metadata": {
    "tags": [
     "hide-input"
    ]
   },
   "outputs": [],
   "source": [
    "# imports and test cases\n",
    "import math\n",
    "\n",
    "n_primes = {10 : 4,                 \n",
    "            100 : 25,               \n",
    "            1000 : 168,\n",
    "            10000 : 1229,\n",
    "            100000 : 9592,\n",
    "            1000000 : 78498,\n",
    "            10000000 : 664579}"
   ]
  },
  {
   "cell_type": "code",
   "execution_count": 2,
   "id": "3198c2af",
   "metadata": {},
   "outputs": [],
   "source": [
    "def prime_sieve2(n):\n",
    "    # We will use boolean's here instead of ints\n",
    "    candidates = [True] * (n + 1)\n",
    "    candidates[0] = candidates[1] = False\n",
    "    limit = int(math.sqrt(n)) + 1    \n",
    "    \n",
    "    for i in range(2, limit): \n",
    "        if candidates[i]:\n",
    "            candidates[i+i::i] = [False] * ((n - i) // i)\n",
    "            \n",
    "    return [i for i in range(n+1) if candidates[i]]        "
   ]
  },
  {
   "cell_type": "code",
   "execution_count": 3,
   "id": "92d7c5eb",
   "metadata": {},
   "outputs": [
    {
     "name": "stdout",
     "output_type": "stream",
     "text": [
      "True\n",
      "True\n"
     ]
    }
   ],
   "source": [
    "print(len(prime_sieve2(100)) == n_primes[100])\n",
    "print(len(prime_sieve2(1000)) == n_primes[1000])"
   ]
  },
  {
   "cell_type": "code",
   "execution_count": 4,
   "id": "96fc3c69",
   "metadata": {},
   "outputs": [
    {
     "name": "stdout",
     "output_type": "stream",
     "text": [
      "64 µs ± 1.01 µs per loop (mean ± std. dev. of 7 runs, 10000 loops each)\n"
     ]
    }
   ],
   "source": [
    "%timeit prime_sieve2(1000)"
   ]
  },
  {
   "cell_type": "markdown",
   "id": "d75b93f2",
   "metadata": {},
   "source": [
    "## Does the time saving matter?\n",
    "\n",
    "You should see a substantial reduction in computational overhead of `prime_sieve2`.  We are now finding the primes under 1000 in microseconds (µs) as opposed milliseconds in our naive implementation (1 µs = 1000ms!). \n",
    "\n",
    "Some of you might be thinking \"*both procedures give the same results and execution takes under a second. So does this type of optimisation matter?*\" To answer that question let's compute primes under 10,000.  You should now see a much bigger difference with our naive function returning in around a second while `prime_sieve2` is still in µs (on my machine still below half a millsecond).\n",
    "\n",
    "> When first writing this section I first tested `prime_sieve` with `n=1_000_000`. Needless to say, I quickly decided to use an example of 10,000 instead!   When you fancy a cup of tea or coffee set `n=1_000_000` and come back after your break to see an enourmous difference in performance!"
   ]
  },
  {
   "cell_type": "code",
   "execution_count": 5,
   "id": "514dcce7",
   "metadata": {
    "tags": [
     "hide-input"
    ]
   },
   "outputs": [],
   "source": [
    "# original function\n",
    "def prime_sieve(n):\n",
    "    '''\n",
    "    Compute the prime numbers between 1 and n.\n",
    "    Naive implementation of the Sieve of Eratosthenes.\n",
    "    \n",
    "    Parameters:\n",
    "    ----------\n",
    "    n: int\n",
    "        The upper limit\n",
    "    \n",
    "    Returns:\n",
    "    -------\n",
    "    list\n",
    "        a list of primes\n",
    "    '''\n",
    "    # a list of candidate numbers to sieve\n",
    "    candidates = [i for i in range(n + 1)]\n",
    "    # a list of numbered eliminated from consideration\n",
    "    crossed_out = [0, 1]\n",
    "    # maximum iterations required\n",
    "    limit = int(math.sqrt(n)) + 1\n",
    "    \n",
    "    for i in range(2, limit):\n",
    "         for j in range(i+i, n+1, i):              \n",
    "                if not candidates[j] in crossed_out:\n",
    "                    crossed_out.append(candidates[j])\n",
    "    \n",
    "    return [i for i in candidates if i not in crossed_out]   "
   ]
  },
  {
   "cell_type": "code",
   "execution_count": 8,
   "id": "98737849",
   "metadata": {},
   "outputs": [
    {
     "name": "stdout",
     "output_type": "stream",
     "text": [
      "2.62 s ± 46.9 ms per loop (mean ± std. dev. of 7 runs, 1 loop each)\n"
     ]
    }
   ],
   "source": [
    "TEN_THOUSAND = 10_000\n",
    "%timeit len(prime_sieve(TEN_THOUSAND))"
   ]
  },
  {
   "cell_type": "code",
   "execution_count": 9,
   "id": "c8b02a9d",
   "metadata": {},
   "outputs": [
    {
     "name": "stdout",
     "output_type": "stream",
     "text": [
      "609 µs ± 11.3 µs per loop (mean ± std. dev. of 7 runs, 1000 loops each)\n"
     ]
    }
   ],
   "source": [
    "%timeit len(prime_sieve2(TEN_THOUSAND))"
   ]
  },
  {
   "cell_type": "markdown",
   "id": "48ad8d0e",
   "metadata": {},
   "source": [
    "## Taking a look at the redesign\n",
    "\n",
    "The redesigned implementation only has single list `candidates`: its contains only `bool` values.  In python that won't make much, if any, difference to memory usage, as `bool` is really a special type of int.  But its a nice simplification as we the index of the list item gives us our factor.  This modification provides our biggest speed up.  Each time we 'cross out' a number e.g. `i` we simply set `candidate[i] = False`. (We don't bother checking as we are not appending to a second list). At the end of the function any items that are still `True` are the primes.\n",
    "\n",
    "> Don't believe me about `int` and `bool`?  Try executing `(True + 4)`.\n",
    "\n",
    "The second change might be considered a 'micro optimisation'. I.e. list slicing in favour of an inner `for` loop.\n",
    "\n",
    "```python\n",
    "candidates[i+i::i] = [False] * ((n - i) // i)\n",
    "```\n",
    "\n",
    "Here we start at the current index + one factor ahead e.g. if `i=2` then we start at index `i+i=4` and select items in steps of `i=2` all the way to the end `candidates[i+i::i]` (Note we could also have used `candidates[i+i:n+1:i]`).  In general, a slice will be faster than looping over the list.  Here's a simpler example of list slicing with a step:"
   ]
  },
  {
   "cell_type": "code",
   "execution_count": 7,
   "id": "9b401b4f",
   "metadata": {},
   "outputs": [
    {
     "data": {
      "text/plain": [
       "[4, 6, 8, 10, 12, 14, 16, 18, 20, 22, 24, 26, 28, 30]"
      ]
     },
     "execution_count": 7,
     "metadata": {},
     "output_type": "execute_result"
    }
   ],
   "source": [
    "list_to_slice = [i for i in range(31)]\n",
    "list_to_slice[4:len(list_to_slice):2]"
   ]
  }
 ],
 "metadata": {
  "kernelspec": {
   "display_name": "Python 3",
   "language": "python",
   "name": "python3"
  },
  "language_info": {
   "codemirror_mode": {
    "name": "ipython",
    "version": 3
   },
   "file_extension": ".py",
   "mimetype": "text/x-python",
   "name": "python",
   "nbconvert_exporter": "python",
   "pygments_lexer": "ipython3",
   "version": "3.7.3"
  }
 },
 "nbformat": 4,
 "nbformat_minor": 5
}
