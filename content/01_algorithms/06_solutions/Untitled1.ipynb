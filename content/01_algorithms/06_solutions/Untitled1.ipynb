{
 "cells": [
  {
   "cell_type": "markdown",
   "id": "88d83a5b-d0dc-4613-9a29-b93714d6d13b",
   "metadata": {},
   "source": [
    "# `numpy`\n",
    "\n",
    "The following exercises test some of your new `numpy` skills.  In some cases there is more than one solution.  Feel free to experiment with different methods."
   ]
  },
  {
   "cell_type": "markdown",
   "id": "8cf809fb-293a-4590-9faf-2196e82676b1",
   "metadata": {},
   "source": [
    "## Imports"
   ]
  },
  {
   "cell_type": "code",
   "execution_count": 4,
   "id": "a6087f2d-560a-4990-9b39-6e8ad916c2e9",
   "metadata": {},
   "outputs": [],
   "source": [
    "import numpy as np"
   ]
  },
  {
   "cell_type": "markdown",
   "id": "c59b9512-54c1-4375-afb7-897fe10f96e4",
   "metadata": {},
   "source": [
    "## Exercise 1\n",
    "\n",
    "In this exercise, you will use `numpy` to generate a random variable following a standard normal distribution.  You will then use the statistical functions built into numpy to analyse the distribution of the variable.\n",
    "\n",
    "**Task**:\n",
    "* Take 10,000 samples from the standard normal distribution\n",
    "* Create a function called `basic_descriptives` that returns the mean, stdev, and 1st/99th percentiles of a numpy array parameter.\n",
    "* Call your function and printout the results.\n",
    "\n",
    "**Hints**:\n",
    "* You can assume the numpy array passed to the function contains float data or you could check and raise an exception.\n"
   ]
  },
  {
   "cell_type": "code",
   "execution_count": null,
   "id": "33864505-a92a-482a-afb1-da56675ec7eb",
   "metadata": {},
   "outputs": [],
   "source": [
    "# your code here..."
   ]
  },
  {
   "cell_type": "code",
   "execution_count": 10,
   "id": "99af2492-b97d-46f4-88cf-beb2f0556dd7",
   "metadata": {},
   "outputs": [
    {
     "name": "stdout",
     "output_type": "stream",
     "text": [
      "<class 'numpy.ndarray'>\n",
      "(10000,)\n"
     ]
    }
   ],
   "source": [
    "# example solution\n",
    "\n",
    "SAMPLE_SIZE = 10_000\n",
    "\n",
    "# create a random number generator\n",
    "rng = np.random.default_rng(42)\n",
    "\n",
    "# generate numpy array of size SAMPLE_SIZE using standard normal\n",
    "samples = rng.normal(size=SAMPLE_SIZE)\n",
    "print(type(samples))\n",
    "print(samples.shape)"
   ]
  },
  {
   "cell_type": "code",
   "execution_count": 13,
   "id": "84ea38f3-157a-4008-9ad4-97402b0b068d",
   "metadata": {},
   "outputs": [
    {
     "name": "stdout",
     "output_type": "stream",
     "text": [
      "(-0.01024987541401165, 1.006285768537041, -2.3738111979173713, 2.3558409670159173)\n"
     ]
    }
   ],
   "source": [
    "def basic_descriptives(data):\n",
    "    \"\"\"\n",
    "    Returns mean, stdev, and 1st and 99th percentile of a 1D numpy.ndarray\n",
    "    \n",
    "    Assumes `data` is numpy array of floats.\n",
    "    \n",
    "    Parameters:\n",
    "    ------------\n",
    "    data: numpy.ndarray \n",
    "        numeric data to analyse\n",
    "        \n",
    "    Returns:\n",
    "    --------\n",
    "    (float, float, float, float)\n",
    "    \"\"\"\n",
    "    mean = data.mean()\n",
    "    std = data.std()\n",
    "    per_1st = np.percentile(data, 1) \n",
    "    per_99th = np.percentile(data, 99)\n",
    "    \n",
    "    return mean, std, per_1st, per_99th\n",
    "\n",
    "\n",
    "results = basic_descriptives(samples)\n",
    "print(results)"
   ]
  },
  {
   "cell_type": "markdown",
   "id": "09da9988-a9d5-4b56-acd8-27a6f64502b2",
   "metadata": {},
   "source": [
    "## Exercise 2\n",
    "\n",
    "Reuse the data generated in exercise 1.  You are going to analyse the tails of the distribution you generated.\n",
    "\n",
    "**Task:**\n",
    "* Select only the samples that have a value greater than or equal to +1.96 and less than or equal to -1.96\n",
    "* Determine the proportion of data that falls into these tails.\n",
    "* Are these proportions what you expect for the standard normal distribution?\n",
    "\n",
    "**Hints**:\n",
    "* You may want to create one or two general functions so that you can use to vary the cut-offs."
   ]
  },
  {
   "cell_type": "code",
   "execution_count": null,
   "id": "9100fb79-0b9f-4f94-9c94-bc87c07316a1",
   "metadata": {},
   "outputs": [],
   "source": [
    "# your code here ..."
   ]
  },
  {
   "cell_type": "markdown",
   "id": "b5e49bb5-8832-49fa-879b-659f90b374e2",
   "metadata": {},
   "source": [
    "**Example solution:**\n",
    "\n",
    "It is very simple to work with `numpy` arrays containing numeric data. For example if we wanted to find all of our samples that are greater than or equal to +1.96 we use:\n",
    "    "
   ]
  },
  {
   "cell_type": "code",
   "execution_count": 22,
   "id": "4ea9595c-26bf-4c14-ae90-fde8e835b52d",
   "metadata": {},
   "outputs": [
    {
     "name": "stdout",
     "output_type": "stream",
     "text": [
      "(10000,)\n",
      "<class 'numpy.ndarray'>\n",
      "[False False False ... False False False]\n"
     ]
    }
   ],
   "source": [
    "# result is a array of bools\n",
    "result = samples >= 1.96\n",
    "\n",
    "print(result.shape)\n",
    "print(type(result))\n",
    "print(result)"
   ]
  },
  {
   "cell_type": "markdown",
   "id": "95b7a9f8-85f6-4563-b8c4-b6d2dfe41535",
   "metadata": {},
   "source": [
    "The code returns a new numpy.ndarray that contains boolean (True/False) values. The value at array index i is True if the corresponding value at index i in array data is >= 2.3 and False otherwise. If we had used a python List we would have needed to loop through all of list items and perform the check ourselves.\n",
    "\n",
    "Let's create some generalised functions to return the probabilities that a value is greater or less than a user specified value in our data set.\n",
    "\n",
    "To do that we need to know that\n",
    "\n",
    "```python\n",
    "False == 0\n",
    "True == 1\n",
    "```\n",
    "\n",
    "Therefore we can take the sum of our boolean array to find out how many array elements are greater or less than a user specified values. i.e."
   ]
  },
  {
   "cell_type": "code",
   "execution_count": 23,
   "id": "bf3aa795-3c13-4d3a-93f1-78313006ffe1",
   "metadata": {},
   "outputs": [
    {
     "data": {
      "text/plain": [
       "257"
      ]
     },
     "execution_count": 23,
     "metadata": {},
     "output_type": "execute_result"
    }
   ],
   "source": [
    "(samples >= 1.96).sum()"
   ]
  },
  {
   "cell_type": "code",
   "execution_count": 24,
   "id": "da56de66-c3cb-4772-b822-7295380ff054",
   "metadata": {},
   "outputs": [
    {
     "name": "stdout",
     "output_type": "stream",
     "text": [
      "0.0257 0.0257\n",
      "0.9486\n"
     ]
    }
   ],
   "source": [
    "def prob_great_than_or_equal_to(data, x):\n",
    "    '''\n",
    "    Return the proportion of the dataset that is greater than or equal to x\n",
    "    \n",
    "    Parameters:\n",
    "    -----------\n",
    "    data: numpy.ndarray \n",
    "        numeric data to analyse\n",
    "    x: float\n",
    "        Lower cut-off. \n",
    "        \n",
    "    Returns:\n",
    "    --------\n",
    "    float\n",
    "    '''\n",
    "    return (data >= x).sum()/data.shape[0]\n",
    "\n",
    "\n",
    "def prob_less_than_or_equal_to(data, x):\n",
    "    '''\n",
    "    Return the proportion of the dataset that is less than or equal to x\n",
    "    \n",
    "    Parameters:\n",
    "    -----------\n",
    "    data: numpy.ndarray \n",
    "        numeric data to analyse\n",
    "    x: float\n",
    "        Upper cut-off. \n",
    "        \n",
    "    Returns:\n",
    "    --------\n",
    "    float\n",
    "    '''\n",
    "    return (data <= x).sum()/data.shape[0]\n",
    "\n",
    "p1 = prob_great_than_or_equal_to(samples, 1.96)\n",
    "p2 = prob_less_than_or_equal_to(samples, -1.96)\n",
    "\n",
    "print(p1, p2)\n",
    "print(1 - (p1+p2))\n"
   ]
  },
  {
   "cell_type": "markdown",
   "id": "6831e251-dd73-40d2-8eb9-94d790675dd0",
   "metadata": {},
   "source": [
    "Our test of these functions shows use that around 95% of data lie between points -1.96 and +1.96 (which again we would expect with the standard normal)."
   ]
  },
  {
   "cell_type": "code",
   "execution_count": null,
   "id": "55290135-0132-41e7-92b1-16ad94ca58d9",
   "metadata": {},
   "outputs": [],
   "source": []
  }
 ],
 "metadata": {
  "kernelspec": {
   "display_name": "Python 3 (ipykernel)",
   "language": "python",
   "name": "python3"
  },
  "language_info": {
   "codemirror_mode": {
    "name": "ipython",
    "version": 3
   },
   "file_extension": ".py",
   "mimetype": "text/x-python",
   "name": "python",
   "nbconvert_exporter": "python",
   "pygments_lexer": "ipython3",
   "version": "3.8.8"
  }
 },
 "nbformat": 4,
 "nbformat_minor": 5
}
