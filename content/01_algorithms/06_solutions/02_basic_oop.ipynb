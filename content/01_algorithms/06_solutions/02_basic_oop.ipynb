{
 "cells": [
  {
   "cell_type": "markdown",
   "id": "adopted-giant",
   "metadata": {},
   "source": [
    "# Basic Object Orientated Methods\n",
    "\n",
    "Follow these simple OOP exercises to practice and gain confidence in coding classes.  "
   ]
  },
  {
   "cell_type": "markdown",
   "id": "absent-finder",
   "metadata": {},
   "source": [
    "## Exercise 1\n",
    "\n",
    "**Task:**\n",
    "* Create a class called `Patient`.  \n",
    "* The class should contain a constructor that accepts the following parameters. The parameters should be stored in appropriately named attributes.\n",
    "    * patient_id: int\n",
    "    * age: int"
   ]
  },
  {
   "cell_type": "markdown",
   "id": "pressing-married",
   "metadata": {},
   "source": [
    "**Hints**\n",
    "* Don't forget to include the `self` parameter!\n",
    "* Make sure you use correct case for the class name.  `Patient` follows PEP8 guidelines while `patient` does not!"
   ]
  },
  {
   "cell_type": "code",
   "execution_count": 1,
   "id": "existing-distributor",
   "metadata": {},
   "outputs": [],
   "source": [
    "# your code here ..."
   ]
  },
  {
   "cell_type": "code",
   "execution_count": 2,
   "id": "senior-gather",
   "metadata": {},
   "outputs": [],
   "source": [
    "# example solution\n",
    "class Patient:\n",
    "    def __init__(self, patient_id, age):\n",
    "        self.id = patient_id\n",
    "        self.age = age"
   ]
  },
  {
   "cell_type": "markdown",
   "id": "spiritual-initial",
   "metadata": {},
   "source": [
    "## Exercise 2:\n",
    "\n",
    "**Task:**\n",
    "* Create a class called `Ward`\n",
    "* Code a constructor method.  \n",
    "    * It should accept `ward_id` (int) as parameter and assign it to an attribute\n",
    "    * It should create a new empty list attribute that will hold patients staying on the ward. \n",
    "* Create a method called `add_patient`.  It should accept a parameter called `patient` (that is a patient class).\n",
    "* Create a method or property called `n_patients`.  It should return the number of patients on the ward.\n",
    "\n",
    "**Hints:**\n",
    "* Don't forget the `self` parameter in the method!\n",
    "* `Patient.Age` can be a random number or a constant, up to you!\n"
   ]
  },
  {
   "cell_type": "code",
   "execution_count": 3,
   "id": "least-constitution",
   "metadata": {},
   "outputs": [],
   "source": [
    "class Ward:\n",
    "    def __init__(self, ward_id):\n",
    "        self.patients = []\n",
    "        \n",
    "    def add_patient(self, patient): \n",
    "        self.patients.append(patient)\n",
    "    \n",
    "    @property\n",
    "    def n_patients(self):\n",
    "        '''\n",
    "        Number of the patients...\n",
    "        '''\n",
    "        return len(self.patients)"
   ]
  },
  {
   "cell_type": "markdown",
   "id": "vocal-heating",
   "metadata": {},
   "source": [
    "## Exercise 3:\n",
    "\n",
    "**Task:**\n",
    "* Code a function that creates first creates a `Ward` object and then adds a user specified number of `Patient` instances via the `add_patient` function.\n",
    "* The function must return the ward object.\n",
    "* Test your function with 5 patients."
   ]
  },
  {
   "cell_type": "code",
   "execution_count": 4,
   "id": "owned-trigger",
   "metadata": {},
   "outputs": [],
   "source": [
    "# your code here ..."
   ]
  },
  {
   "cell_type": "code",
   "execution_count": 5,
   "id": "recognized-surrey",
   "metadata": {},
   "outputs": [],
   "source": [
    "# example solution\n",
    "from random import randint\n",
    "\n",
    "def new_ward(ward_id, n_patients, age_range=(60,95)):\n",
    "    '''\n",
    "    Create a new ward with an id.\n",
    "    The ward will contain n_patients with random\n",
    "    age\n",
    "    \n",
    "    Params:\n",
    "    ------\n",
    "    ward_id: int \n",
    "        Unique id of ward\n",
    "        \n",
    "    n_patients: int\n",
    "        Number of patients on ward\n",
    "        \n",
    "    age_range: (int, int), optional (default=(60,95))\n",
    "        Age range for random allocation to patients.\n",
    "        \n",
    "    Returns:\n",
    "    -------\n",
    "    Ward\n",
    "    \n",
    "    '''\n",
    "    ward = Ward(ward_id)\n",
    "    \n",
    "    for i in range(n_patients):\n",
    "        to_add = Patient(i, randint(age_range[0], age_range[1]))\n",
    "        ward.add_patient(to_add)\n",
    "    return ward"
   ]
  },
  {
   "cell_type": "code",
   "execution_count": 6,
   "id": "criminal-charter",
   "metadata": {},
   "outputs": [
    {
     "name": "stdout",
     "output_type": "stream",
     "text": [
      "5\n",
      "4\n",
      "73\n"
     ]
    }
   ],
   "source": [
    "WARD_ID = 1\n",
    "N_PATIENTS = 5\n",
    "\n",
    "ward = new_ward(WARD_ID, N_PATIENTS)\n",
    "\n",
    "# test\n",
    "print(len(ward.patients))\n",
    "print(ward.patients[4].id)\n",
    "print(ward.patients[4].age)"
   ]
  },
  {
   "cell_type": "markdown",
   "id": "vocational-graphics",
   "metadata": {},
   "source": [
    "## Exercise 4:\n",
    "\n",
    "**Task:**\n",
    "* Now create a `Hospital` class\n",
    "* The class should allow the creation of new wards as well as adding a patient to a user specified ward.\n",
    "* The class must provide a `n_patients` method or property that returns the uptodate total of patients in the hospital.\n",
    "* Create some test data and create a `Hospital` object. Return the total number of patients in the hospital."
   ]
  },
  {
   "cell_type": "code",
   "execution_count": 7,
   "id": "severe-boost",
   "metadata": {},
   "outputs": [],
   "source": [
    "# your code here ..."
   ]
  },
  {
   "cell_type": "code",
   "execution_count": 8,
   "id": "honest-packet",
   "metadata": {},
   "outputs": [],
   "source": [
    "class Hospital:\n",
    "    '''\n",
    "    Encapsulates a hosptial made up of wards...\n",
    "    '''\n",
    "    def __init__(self, n_patients, age_ranges):\n",
    "        self.wards = [new_ward(i, n_patients[i], age_ranges[i]) \n",
    "                               for i in range(len(n_patients))]\n",
    "    \n",
    "    def add_patient(self, ward_id, patient):\n",
    "        self.wards[ward_id].add_patient(patient)\n",
    "        \n",
    "    def add_ward(self, n_patients=0, age_range=(60, 95)):\n",
    "        to_add = new_ward(len(self.wards), n_patients, age_range)\n",
    "        self.wards.append(to_add)\n",
    "    \n",
    "    @property\n",
    "    def n_patients(self):\n",
    "        return sum([ward.n_patients for ward in self.wards])\n",
    "    \n",
    "    @property\n",
    "    def n_wards(self):\n",
    "        return len(self.wards)"
   ]
  },
  {
   "cell_type": "code",
   "execution_count": 9,
   "id": "second-canvas",
   "metadata": {},
   "outputs": [
    {
     "data": {
      "text/plain": [
       "44"
      ]
     },
     "execution_count": 9,
     "metadata": {},
     "output_type": "execute_result"
    }
   ],
   "source": [
    "# age ranges\n",
    "DEFAULT_RANGE = (60, 95)\n",
    "YOUNG_ADULTS = (18,25)\n",
    "DAY_CASES = (18, 88)\n",
    "\n",
    "# parameters\n",
    "n_patients= [5, 10, 8, 6, 15]\n",
    "age_ranges = [DEFAULT_RANGE, DEFAULT_RANGE, DEFAULT_RANGE, YOUNG_ADULTS, \n",
    "              DAY_CASES]\n",
    "\n",
    "\n",
    "# init hospital\n",
    "hosp = Hospital(n_patients, age_ranges)\n",
    "\n",
    "# test\n",
    "hosp.n_patients"
   ]
  },
  {
   "cell_type": "markdown",
   "id": "automatic-macedonia",
   "metadata": {},
   "source": [
    "## Exercise 5\n",
    "\n",
    "**Task:**\n",
    "\n",
    "Let's create a new type of patient specific to those with respiratory conditions.  \n",
    "\n",
    "The new class will also accept `patient_id` and `age`.  You will need to create two new parameters as well: `pack_yrs` and `fev1`. Fyi:\n",
    "\n",
    "* A pack year is defined as twenty cigarettes smoked everyday for one year \n",
    "* FEV1 stands for Forced Expiratory Volumne and is a percentage measured out of 100%.  Lower values are worse.\n",
    "\n",
    "\n",
    "Call the class `RespiratoryPatient`"
   ]
  },
  {
   "cell_type": "code",
   "execution_count": 10,
   "id": "heated-proposition",
   "metadata": {},
   "outputs": [],
   "source": [
    "# example solution via inheritance\n",
    "class RespiratoryPatient(Patient):\n",
    "    def __init__(self, patient_id, age, pack_yrs, fev1):\n",
    "        super().__init__(patient_id, age)\n",
    "        self.pack_yrs = pack_yrs\n",
    "        self.fev1 = fev1"
   ]
  },
  {
   "cell_type": "code",
   "execution_count": 11,
   "id": "experienced-recycling",
   "metadata": {},
   "outputs": [
    {
     "name": "stdout",
     "output_type": "stream",
     "text": [
      "1\n",
      "25\n",
      "80.0\n"
     ]
    }
   ],
   "source": [
    "# test\n",
    "resp_patient = RespiratoryPatient(1, 25, 10, 80.0)\n",
    "print(resp_patient.id)\n",
    "print(resp_patient.age)\n",
    "print(resp_patient.fev1)"
   ]
  },
  {
   "cell_type": "code",
   "execution_count": 12,
   "id": "ahead-mexico",
   "metadata": {},
   "outputs": [],
   "source": [
    "# example solution via object composition\n",
    "\n",
    "class RespiratoryPatient:\n",
    "    def __init__(self, patient, pack_yrs, fev1):\n",
    "        self.patient = patient\n",
    "        self.pack_yrs = pack_yrs\n",
    "        self.fev1 = fev1\n",
    "    \n",
    "    @property\n",
    "    def id(self):\n",
    "        return self.patient.id\n",
    "    \n",
    "    @property\n",
    "    def age(self):\n",
    "        return self.patient.age"
   ]
  },
  {
   "cell_type": "code",
   "execution_count": 13,
   "id": "sustainable-house",
   "metadata": {},
   "outputs": [
    {
     "name": "stdout",
     "output_type": "stream",
     "text": [
      "1\n",
      "25\n",
      "80.0\n"
     ]
    }
   ],
   "source": [
    "# test composition...\n",
    "patient = Patient(1, 25)\n",
    "resp_patient = RespiratoryPatient(patient, 10, 80.0)\n",
    "print(resp_patient.id)\n",
    "print(resp_patient.age)\n",
    "print(resp_patient.fev1)"
   ]
  }
 ],
 "metadata": {
  "kernelspec": {
   "display_name": "Python 3 (ipykernel)",
   "language": "python",
   "name": "python3"
  },
  "language_info": {
   "codemirror_mode": {
    "name": "ipython",
    "version": 3
   },
   "file_extension": ".py",
   "mimetype": "text/x-python",
   "name": "python",
   "nbconvert_exporter": "python",
   "pygments_lexer": "ipython3",
   "version": "3.8.8"
  }
 },
 "nbformat": 4,
 "nbformat_minor": 5
}
