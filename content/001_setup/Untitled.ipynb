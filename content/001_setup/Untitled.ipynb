{
 "cells": [
  {
   "cell_type": "markdown",
   "id": "fb54ccc4-e555-414a-95b1-2f65f30718eb",
   "metadata": {},
   "source": [
    "# Python Prerequisites\n",
    "\n",
    "This book isn't intended to teach basic python or use of python Integrated Development Environments such as pycharm, or visual studeo code.  There are many excellent books you can purchase (or borrow from a good library), and free courses on YouTube that you can make use of to get you started.  If you are an absolute beginner you can also investigate some [online preparatory material](https://health-data-science-or.github.io/basic-python/content/front_page.html) I provide for the MSC in Health Data Science at Exeter, but this it no intended to be exhaustive, and you would be daft to not investigate the plethora of material available for free online."
   ]
  },
  {
   "cell_type": "markdown",
   "id": "8e42771b-b0b3-4b7a-9afa-02f75dae0f8f",
   "metadata": {},
   "source": [
    "## List comprehensions\n",
    "\n",
    "I use list comprehensions extensively throughoput the book.  Its essential that you understand how these work. List comprehensions are a compact alternative to for loops. They work specifically with Python Lists.\n",
    "\n",
    "### Example 1 - double the numbers\n",
    "\n",
    "If we take the following for loop that doubles the numbers in `foo`"
   ]
  },
  {
   "cell_type": "code",
   "execution_count": 2,
   "id": "dc0af372-c715-4bce-b576-8f907fd0285a",
   "metadata": {},
   "outputs": [
    {
     "name": "stdout",
     "output_type": "stream",
     "text": [
      "[2, 4, 6, 8]\n"
     ]
    }
   ],
   "source": [
    "foo = [1, 2, 3, 4]\n",
    "\n",
    "# `bar` is the list we will fill.\n",
    "bar = []\n",
    "\n",
    "# loop through all values in foo and append to bar\n",
    "for x in foo:\n",
    "    bar.append(x * 2)\n",
    "    \n",
    "print(bar)"
   ]
  },
  {
   "cell_type": "markdown",
   "id": "d4bd9430-3eec-4a28-8c0d-b38d87192e53",
   "metadata": {},
   "source": [
    "The list comprehension that produces the same results is"
   ]
  },
  {
   "cell_type": "code",
   "execution_count": 3,
   "id": "60a4453f-bd00-458e-ac7f-e617c5b66b3c",
   "metadata": {},
   "outputs": [
    {
     "name": "stdout",
     "output_type": "stream",
     "text": [
      "[2, 4, 6, 8]\n"
     ]
    }
   ],
   "source": [
    "foo = [1, 2, 3, 4]\n",
    "bar = [x * 2 for x in foo]\n",
    "print(bar)"
   ]
  },
  {
   "cell_type": "markdown",
   "id": "703bd02e-b895-4393-87c1-95225f93a4be",
   "metadata": {},
   "source": [
    "Looking at this in more detail we can see that as in the first `foo` is a pre-populated list.\n",
    "\n",
    "Instead of of a standard `for` loop the variable`bar` is assigned a value using a simple list notation.  This is essentially a list with a `for` loop inside of it.  The generic notation is:\n",
    "\n",
    "```\n",
    "my_list = [<operation on x> for x in foo] \n",
    "```\n",
    "\n",
    "We don't need to call the current item `x`.  That is just an arbitray choice for the name of the variable.  We could for example use `i`, `a` or whatever a more desriptive name if you feel is appropriate.\n",
    "\n",
    "Note how compact the list comprehension code is relative to the for loop.  Its less code and we didn't need to declare `bar` as an empty list in advance.\n",
    "\n",
    "The other thing to say is that `foo` doesn't need to be a list.  We could use any iterable object.  For example a `range`.  We could modify the original example to:"
   ]
  },
  {
   "cell_type": "code",
   "execution_count": 13,
   "id": "c4b1bfca-6487-4e3d-b3a1-9eb6e8b0ac3d",
   "metadata": {},
   "outputs": [
    {
     "name": "stdout",
     "output_type": "stream",
     "text": [
      "[2, 4, 6, 8]\n"
     ]
    }
   ],
   "source": [
    "# `bar` is the list we will fill.\n",
    "bar = []\n",
    "\n",
    "# loop through all values in the range 1 to 4\n",
    "for x in range(1, 5):\n",
    "    bar.append(x * 2)\n",
    "    \n",
    "print(bar)"
   ]
  },
  {
   "cell_type": "markdown",
   "id": "e49158a6-f969-484b-ad8f-08e4c6d341b8",
   "metadata": {},
   "source": [
    "The equivalent list comprehension is:"
   ]
  },
  {
   "cell_type": "code",
   "execution_count": 14,
   "id": "e0df9cb6-ab13-491f-8ed9-c0fb72acc4c1",
   "metadata": {},
   "outputs": [
    {
     "name": "stdout",
     "output_type": "stream",
     "text": [
      "[2, 4, 6, 8]\n"
     ]
    }
   ],
   "source": [
    "bar = [x * 2 for x in range(1, 5)]\n",
    "print(bar)"
   ]
  },
  {
   "cell_type": "markdown",
   "id": "900ac463-0e96-4dc8-bd3f-76a5cbf5763c",
   "metadata": {},
   "source": [
    "I find list comprehensions like the above very readable and good for mathematics."
   ]
  },
  {
   "cell_type": "markdown",
   "id": "924ca376-279f-4710-931c-6e8f3cf1ef7d",
   "metadata": {},
   "source": [
    "### Example 2 - convert celsius to fahrenheit\n",
    "\n",
    "The **operation** we used above was specified inside list comprehension.  If we had a more complex task, for example converting celsius to fahrenheit we could call a function from within the comprehension.  Let's try that out.  Here is our function:"
   ]
  },
  {
   "cell_type": "code",
   "execution_count": 4,
   "id": "b56bd0ab-dab8-4b8a-b2ce-c525195fd218",
   "metadata": {},
   "outputs": [],
   "source": [
    "def convert_celsius_to_fahrenheit(deg_celsius):\n",
    "    \"\"\"\n",
    "    Convert degress celsius to fahrenheit\n",
    "    Returns float value - temp in fahrenheit\n",
    "    \n",
    "    Parameters:\n",
    "    -----------\n",
    "        def_celcius -- temp in degrees celsius\n",
    "    \"\"\"\n",
    "    return (9/5) * deg_celsius + 32"
   ]
  },
  {
   "cell_type": "code",
   "execution_count": 5,
   "id": "c237f2a2-0f8a-4f4a-ba6e-1ff5108a56dd",
   "metadata": {},
   "outputs": [],
   "source": [
    "# list of temps in degree celsius to convert to fahrenheit\n",
    "celsius = [39.2, 36.5, 37.3, 41.0]"
   ]
  },
  {
   "cell_type": "markdown",
   "id": "c76f53ae-2e7d-4557-a86b-019c5c713156",
   "metadata": {},
   "source": [
    "We call the function list so:"
   ]
  },
  {
   "cell_type": "code",
   "execution_count": 7,
   "id": "58a50448-26ea-4a6f-b8e8-88b63c989a9b",
   "metadata": {},
   "outputs": [
    {
     "name": "stdout",
     "output_type": "stream",
     "text": [
      "102.56\n"
     ]
    }
   ],
   "source": [
    "converted = convert_celsius_to_fahrenheit(celsius[0])\n",
    "print(converted)"
   ]
  },
  {
   "cell_type": "markdown",
   "id": "885a6ded-16d0-45b7-a191-fc8096085f41",
   "metadata": {},
   "source": [
    "If we wanted to convert all our data from celsius to fahrenheit we could use a standard for loop as following: "
   ]
  },
  {
   "cell_type": "code",
   "execution_count": 8,
   "id": "8341ea2c-8802-44bd-9f21-79e66e17f94f",
   "metadata": {},
   "outputs": [
    {
     "name": "stdout",
     "output_type": "stream",
     "text": [
      "using standard for loop: [102.56, 97.7, 99.14, 105.8]\n"
     ]
    }
   ],
   "source": [
    "fahrenheit = []\n",
    "for x in celsius:\n",
    "    fahrenheit.append(convert_celsius_to_fahrenheit(x))\n",
    "\n",
    "        \n",
    "print(f'using standard for loop: {fahrenheit}')"
   ]
  },
  {
   "cell_type": "markdown",
   "id": "8752684d-a402-4c2c-a15e-7318d35d955b",
   "metadata": {},
   "source": [
    "But equally we can create more compact code using list comprehension syntax"
   ]
  },
  {
   "cell_type": "code",
   "execution_count": 9,
   "id": "31f08b87-9555-4f0d-97f1-1909f6a59bf5",
   "metadata": {},
   "outputs": [
    {
     "name": "stdout",
     "output_type": "stream",
     "text": [
      "using list comprehension: [102.56, 97.7, 99.14, 105.8]\n"
     ]
    }
   ],
   "source": [
    "fahrenheit = [convert_celsius_to_fahrenheit(x) for x in celsius]\n",
    "print(f'using list comprehension: {fahrenheit}')"
   ]
  },
  {
   "cell_type": "markdown",
   "id": "da97a295-61ae-4c75-baca-59b42f331374",
   "metadata": {},
   "source": [
    "This is effectively the same pattern as in our double the numbers example.  We just replaced `x * 2` with `convert_celsius_to_fahrenheit(x)`"
   ]
  },
  {
   "cell_type": "markdown",
   "id": "797ef62f-052b-43af-a2d7-b18526f6c4ce",
   "metadata": {},
   "source": [
    "### Example 3 - Using if statements within a list comprehension\n",
    "\n",
    "You can extend list comprehensions to include if statement.  This limits what is used in the loop.  I often use this as a simple approach to filter a small list.  A common bit of code I use is filtering file types.\n",
    "\n",
    "This example filters a list of file names to the python files only.  First here is the standard `for` loop example. Note the inclusion of the `if` conditional to identify the python files."
   ]
  },
  {
   "cell_type": "code",
   "execution_count": 10,
   "id": "e41dc40a-e93d-4ebf-8cb6-721dc4ce2034",
   "metadata": {},
   "outputs": [
    {
     "name": "stdout",
     "output_type": "stream",
     "text": [
      "using standard for loop: ['test.py', 'fun_module.py']\n"
     ]
    }
   ],
   "source": [
    "unfiltered_files = ['test.py', 'names.csv', 'fun_module.py', 'prog.config']\n",
    "\n",
    "python_files = []\n",
    "\n",
    "# filter the files using a standard for loop \n",
    "for file in unfiltered_files:\n",
    "    if file[-2:] == 'py':\n",
    "        python_files.append(file)\n",
    "        \n",
    "print('using standard for loop: {}'.format(python_files))"
   ]
  },
  {
   "cell_type": "markdown",
   "id": "dae3aefa-15cb-4c7a-8954-5a7f43cdadb6",
   "metadata": {},
   "source": [
    "The list comprehension code if far more compact.  We simpy add the `if` statement onto the end of the syntax. I.e."
   ]
  },
  {
   "cell_type": "code",
   "execution_count": 11,
   "id": "fad14545-002e-4b0f-98d0-21f371bc3093",
   "metadata": {},
   "outputs": [
    {
     "name": "stdout",
     "output_type": "stream",
     "text": [
      "using list comprehension ['test.py', 'fun_module.py']\n"
     ]
    }
   ],
   "source": [
    "python_files = [file for file in unfiltered_files if file[-2:] == 'py']\n",
    "print(f'using list comprehension {python_files}')"
   ]
  },
  {
   "cell_type": "markdown",
   "id": "ca53ec61-add0-4129-81b2-54740451b744",
   "metadata": {},
   "source": [
    "### Example 5 - List comprehension to create a list of lists\n",
    "\n",
    "Its likely at some point that you will need a list of lists.  List comprehension syntax here is very flexible and will allow you to do create these lists, but its a bit harder to follow in my opinion.  This is equivalent to a nested for loop.  Here is some standard code to create one:"
   ]
  },
  {
   "cell_type": "code",
   "execution_count": 17,
   "id": "6a564e82-ae5b-4094-a9c9-20e47e85af48",
   "metadata": {},
   "outputs": [
    {
     "name": "stdout",
     "output_type": "stream",
     "text": [
      "[[0, 0, 0], [0, 1, 2], [0, 2, 4], [0, 3, 6], [0, 4, 8]]\n"
     ]
    }
   ],
   "source": [
    "list_of_lists = []\n",
    "\n",
    "# outer loop: controls how many items are in the outer list\n",
    "for i in range(5):\n",
    "    # on each iter we create a new sublist to nest\n",
    "    sub_list = []\n",
    "    # inner loop: controls how many items are in the sub list.\n",
    "    for j in range(3):\n",
    "        # arbitrary operation for the example\n",
    "        sub_list.append(i * j)\n",
    "    # we append the sunlist to the list of lists.\n",
    "    list_of_lists.append(sub_list)\n",
    "\n",
    "print(list_of_lists)"
   ]
  },
  {
   "cell_type": "markdown",
   "id": "2c1ddb66-f061-46b2-b477-176a67f12f81",
   "metadata": {},
   "source": [
    "a list comprehension reduces 6 lines of code to 1!"
   ]
  },
  {
   "cell_type": "code",
   "execution_count": 19,
   "id": "bb1648ec-2dc0-4c1e-aeec-f2efcc78c55e",
   "metadata": {},
   "outputs": [
    {
     "name": "stdout",
     "output_type": "stream",
     "text": [
      "[[0, 0, 0], [0, 1, 2], [0, 2, 4], [0, 3, 6], [0, 4, 8]]\n"
     ]
    }
   ],
   "source": [
    "list_of_lists = [[i * j for j in range(3)] for i in range(5)]\n",
    "print(list_of_lists)"
   ]
  },
  {
   "cell_type": "markdown",
   "id": "c4e3d1d8-2dc5-4574-aae8-42853c8dcee3",
   "metadata": {},
   "source": [
    "Although the reduction in code is nice.  It is less readable at first glance.  Let's break it down.  \n",
    "\n",
    "The first thing to note is that we have an inner and outer list comprehension just list the nested `for` loops. Let's simplify to see it:\n",
    "\n",
    "```python\n",
    "[[<inner comprehension>] for i in range(5)]\n",
    "```\n",
    "\n",
    "When we look at the code list this it doesn't seem so bad does it?  Its just the same as examples 1 and 2.  But we replace the mathematical operation or function call with another list comprehension.  Just like function calls we can use `i` (our current variable in the loop) in the the inner list comprehension.  i.e.\n",
    "\n",
    "```python\n",
    "[i * j for j in range(3)]\n",
    "```\n",
    "\n",
    "Here `j` varies, but i remains constant. When we put these two together we get the list of lists."
   ]
  },
  {
   "cell_type": "markdown",
   "id": "ff2de976-981f-4539-a337-cb9c61e59940",
   "metadata": {},
   "source": [
    "### Example 6: Iterate over all items in a list of lists\n",
    "\n",
    "This time we will start with a list of lists.  How do we iterate over all items in the list?\n",
    "\n",
    "As an example use this list\n",
    "\n",
    "```python\n",
    "[[8, 2, 1], [9, 1, 2], [4, 5, 100]]\n",
    "```\n"
   ]
  },
  {
   "cell_type": "code",
   "execution_count": 28,
   "id": "c40354b4-a602-4139-862b-2fab07ceead3",
   "metadata": {},
   "outputs": [
    {
     "name": "stdout",
     "output_type": "stream",
     "text": [
      "[8, 2, 1, 9, 1, 2, 4, 5, 100]\n"
     ]
    }
   ],
   "source": [
    "list_of_lists = [[8, 2, 1], [9, 1, 2], [4, 5, 100]]\n",
    "\n",
    "flat_list = []\n",
    "for sublist in list_of_lists:\n",
    "    for item in sublist:\n",
    "        flat_list.append(item)\n",
    "\n",
    "print(flat_list)\n"
   ]
  },
  {
   "cell_type": "markdown",
   "id": "9cca8429-d7c7-4f2b-b45a-7b1c7f0b73ce",
   "metadata": {},
   "source": [
    "The code above iterates through each item in turn e.g. 8, 2, 1, 9 ... 100.  At the end of the snippet we have produces a flat list (1 dimension).  But we need not have created a list we could have called a function or performed some processing inline.  \n",
    "\n",
    "To create a flat list with list comprehension syntax we can use the following code:"
   ]
  },
  {
   "cell_type": "code",
   "execution_count": 29,
   "id": "6c2174fa-5459-4b82-a52d-8a7fb920619c",
   "metadata": {},
   "outputs": [
    {
     "name": "stdout",
     "output_type": "stream",
     "text": [
      "[8, 2, 1, 9, 1, 2, 4, 5, 100]\n"
     ]
    }
   ],
   "source": [
    "list_of_lists = [[8, 2, 1], [9, 1, 2], [4, 5, 100]]\n",
    "\n",
    "\n",
    "flat_list = [item for sublist in list_of_lists for item in sublist]\n",
    "print(flat_list)"
   ]
  },
  {
   "cell_type": "markdown",
   "id": "4d900a7c-65c5-4f0d-92c0-e47bf840db61",
   "metadata": {},
   "source": [
    "I've used the same variable names as the `for` loop code. I.e. `sublist` and `item`. I think that makes the comparison of the code easier.\n",
    "\n",
    "You can think of the nested comprehension in two parts. This is the same as the standard for `loop` i.e. outerloop then inner loop."
   ]
  },
  {
   "cell_type": "markdown",
   "id": "003b6ee8-12b7-416a-a04c-547beec8800a",
   "metadata": {},
   "source": [
    "## Dictionarys\n",
    "\n",
    "Most programming languages have a form of dictionary.  They consist of key and item pairs.  The key - typically, a `str` allows quick lookup of the item: for example, a `list` or `int`.  In python a dictionary is refered to as a `dict`.  The basic syntax to declare one statically is as follows:"
   ]
  },
  {
   "cell_type": "code",
   "execution_count": 2,
   "id": "5d06023c-5083-4da2-a54d-ae3f06e92358",
   "metadata": {},
   "outputs": [],
   "source": [
    "foo = {'bar':10, 'spam':'eggs', 10:'knights'}"
   ]
  },
  {
   "cell_type": "markdown",
   "id": "ae32fcc3-79c5-4ec8-893a-cb5b2b50b95e",
   "metadata": {},
   "source": [
    "A few things to notice: \n",
    "\n",
    "* A `dict` uses `{}` \n",
    "* Key and item pairs are separated by a semi colon\n",
    "* The data type of the keys and items do not need to be consistent.  It can be any type you require.\n",
    "\n",
    "> My recommendation is that you keep the data type for the **key** consistent. This simplification avoids silly mistakes.  Flexibility isn't always your friend! \n",
    "\n",
    "We access the items in the dict by using their keys\n"
   ]
  },
  {
   "cell_type": "code",
   "execution_count": 5,
   "id": "3ac43ea9-a05d-4fa4-9d4f-2b3213dd74ef",
   "metadata": {},
   "outputs": [
    {
     "name": "stdout",
     "output_type": "stream",
     "text": [
      "eggs\n"
     ]
    }
   ],
   "source": [
    "print(foo['spam'])"
   ]
  },
  {
   "cell_type": "code",
   "execution_count": 6,
   "id": "8a1b3d5c-6188-4d94-952d-03ce5737b10a",
   "metadata": {},
   "outputs": [
    {
     "name": "stdout",
     "output_type": "stream",
     "text": [
      "10\n"
     ]
    }
   ],
   "source": [
    "print(foo['bar'])"
   ]
  },
  {
   "cell_type": "code",
   "execution_count": 8,
   "id": "469e7050-2ded-4dbd-9572-3acf19637e38",
   "metadata": {},
   "outputs": [
    {
     "name": "stdout",
     "output_type": "stream",
     "text": [
      "knights\n"
     ]
    }
   ],
   "source": [
    "print(foo[10])"
   ]
  },
  {
   "cell_type": "code",
   "execution_count": null,
   "id": "c0e9b265-a7d7-4637-a48f-d4e64fb6097e",
   "metadata": {},
   "outputs": [],
   "source": []
  }
 ],
 "metadata": {
  "kernelspec": {
   "display_name": "Python 3 (ipykernel)",
   "language": "python",
   "name": "python3"
  },
  "language_info": {
   "codemirror_mode": {
    "name": "ipython",
    "version": 3
   },
   "file_extension": ".py",
   "mimetype": "text/x-python",
   "name": "python",
   "nbconvert_exporter": "python",
   "pygments_lexer": "ipython3",
   "version": "3.8.12"
  }
 },
 "nbformat": 4,
 "nbformat_minor": 5
}
