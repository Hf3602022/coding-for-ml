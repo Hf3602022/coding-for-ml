{
 "cells": [
  {
   "cell_type": "markdown",
   "id": "fb54ccc4-e555-414a-95b1-2f65f30718eb",
   "metadata": {},
   "source": [
    "# Python Prerequisites\n",
    "\n",
    "This book isn't intended to teach basic python or use of python Integrated Development Environments such as pycharm, or visual studeo code.  There are many excellent books you can purchase (or borrow from a good library), and free courses on YouTube that you can make use of to get you started.  If you are an absolute beginner you can also investigate some [online preparatory material](https://health-data-science-or.github.io/basic-python/content/front_page.html) I provide for the MSC in Health Data Science at Exeter, but this it no intended to be exhaustive, and you would be daft to not investigate the plethora of material available for free online."
   ]
  },
  {
   "cell_type": "markdown",
   "id": "8e42771b-b0b3-4b7a-9afa-02f75dae0f8f",
   "metadata": {},
   "source": []
  },
  {
   "cell_type": "code",
   "execution_count": 2,
   "id": "dc0af372-c715-4bce-b576-8f907fd0285a",
   "metadata": {},
   "outputs": [
    {
     "name": "stdout",
     "output_type": "stream",
     "text": [
      "[2, 4, 6, 8]\n"
     ]
    }
   ],
   "source": []
  },
  {
   "cell_type": "markdown",
   "id": "d4bd9430-3eec-4a28-8c0d-b38d87192e53",
   "metadata": {},
   "source": []
  },
  {
   "cell_type": "markdown",
   "id": "797ef62f-052b-43af-a2d7-b18526f6c4ce",
   "metadata": {},
   "source": [
    "### Example 3 - Using if statements within a list comprehension\n",
    "\n",
    "You can extend list comprehensions to include if statement.  This limits what is used in the loop.  I often use this as a simple approach to filter a small list.  A common bit of code I use is filtering file types.\n",
    "\n",
    "This example filters a list of file names to the python files only.  First here is the standard `for` loop example. Note the inclusion of the `if` conditional to identify the python files."
   ]
  },
  {
   "cell_type": "code",
   "execution_count": 10,
   "id": "e41dc40a-e93d-4ebf-8cb6-721dc4ce2034",
   "metadata": {},
   "outputs": [
    {
     "name": "stdout",
     "output_type": "stream",
     "text": [
      "using standard for loop: ['test.py', 'fun_module.py']\n"
     ]
    }
   ],
   "source": [
    "unfiltered_files = ['test.py', 'names.csv', 'fun_module.py', 'prog.config']\n",
    "\n",
    "python_files = []\n",
    "\n",
    "# filter the files using a standard for loop \n",
    "for file in unfiltered_files:\n",
    "    if file[-2:] == 'py':\n",
    "        python_files.append(file)\n",
    "        \n",
    "print('using standard for loop: {}'.format(python_files))"
   ]
  },
  {
   "cell_type": "markdown",
   "id": "dae3aefa-15cb-4c7a-8954-5a7f43cdadb6",
   "metadata": {},
   "source": [
    "The list comprehension code if far more compact.  We simpy add the `if` statement onto the end of the syntax. I.e."
   ]
  },
  {
   "cell_type": "code",
   "execution_count": 11,
   "id": "fad14545-002e-4b0f-98d0-21f371bc3093",
   "metadata": {},
   "outputs": [
    {
     "name": "stdout",
     "output_type": "stream",
     "text": [
      "using list comprehension ['test.py', 'fun_module.py']\n"
     ]
    }
   ],
   "source": [
    "python_files = [file for file in unfiltered_files if file[-2:] == 'py']\n",
    "print(f'using list comprehension {python_files}')"
   ]
  },
  {
   "cell_type": "markdown",
   "id": "ca53ec61-add0-4129-81b2-54740451b744",
   "metadata": {},
   "source": [
    "### Example 5 - List comprehension to create a list of lists\n",
    "\n",
    "Its likely at some point that you will need a list of lists.  List comprehension syntax here is very flexible and will allow you to do create these lists, but its a bit harder to follow in my opinion.  This is equivalent to a nested for loop.  Here is some standard code to create one:"
   ]
  },
  {
   "cell_type": "code",
   "execution_count": 17,
   "id": "6a564e82-ae5b-4094-a9c9-20e47e85af48",
   "metadata": {},
   "outputs": [
    {
     "name": "stdout",
     "output_type": "stream",
     "text": [
      "[[0, 0, 0], [0, 1, 2], [0, 2, 4], [0, 3, 6], [0, 4, 8]]\n"
     ]
    }
   ],
   "source": [
    "list_of_lists = []\n",
    "\n",
    "# outer loop: controls how many items are in the outer list\n",
    "for i in range(5):\n",
    "    # on each iter we create a new sublist to nest\n",
    "    sub_list = []\n",
    "    # inner loop: controls how many items are in the sub list.\n",
    "    for j in range(3):\n",
    "        # arbitrary operation for the example\n",
    "        sub_list.append(i * j)\n",
    "    # we append the sunlist to the list of lists.\n",
    "    list_of_lists.append(sub_list)\n",
    "\n",
    "print(list_of_lists)"
   ]
  },
  {
   "cell_type": "markdown",
   "id": "2c1ddb66-f061-46b2-b477-176a67f12f81",
   "metadata": {},
   "source": [
    "a list comprehension reduces 6 lines of code to 1!"
   ]
  },
  {
   "cell_type": "code",
   "execution_count": 19,
   "id": "bb1648ec-2dc0-4c1e-aeec-f2efcc78c55e",
   "metadata": {},
   "outputs": [
    {
     "name": "stdout",
     "output_type": "stream",
     "text": [
      "[[0, 0, 0], [0, 1, 2], [0, 2, 4], [0, 3, 6], [0, 4, 8]]\n"
     ]
    }
   ],
   "source": [
    "list_of_lists = [[i * j for j in range(3)] for i in range(5)]\n",
    "print(list_of_lists)"
   ]
  },
  {
   "cell_type": "markdown",
   "id": "c4e3d1d8-2dc5-4574-aae8-42853c8dcee3",
   "metadata": {},
   "source": [
    "Although the reduction in code is nice.  It is less readable at first glance.  Let's break it down.  \n",
    "\n",
    "The first thing to note is that we have an inner and outer list comprehension just list the nested `for` loops. Let's simplify to see it:\n",
    "\n",
    "```python\n",
    "[[<inner comprehension>] for i in range(5)]\n",
    "```\n",
    "\n",
    "When we look at the code list this it doesn't seem so bad does it?  Its just the same as examples 1 and 2.  But we replace the mathematical operation or function call with another list comprehension.  Just like function calls we can use `i` (our current variable in the loop) in the the inner list comprehension.  i.e.\n",
    "\n",
    "```python\n",
    "[i * j for j in range(3)]\n",
    "```\n",
    "\n",
    "Here `j` varies, but i remains constant. When we put these two together we get the list of lists."
   ]
  },
  {
   "cell_type": "markdown",
   "id": "ff2de976-981f-4539-a337-cb9c61e59940",
   "metadata": {},
   "source": [
    "### Example 6: Iterate over all items in a list of lists\n",
    "\n",
    "This time we will start with a list of lists.  How do we iterate over all items in the list?\n",
    "\n",
    "As an example use this list\n",
    "\n",
    "```python\n",
    "[[8, 2, 1], [9, 1, 2], [4, 5, 100]]\n",
    "```\n"
   ]
  },
  {
   "cell_type": "code",
   "execution_count": 28,
   "id": "c40354b4-a602-4139-862b-2fab07ceead3",
   "metadata": {},
   "outputs": [
    {
     "name": "stdout",
     "output_type": "stream",
     "text": [
      "[8, 2, 1, 9, 1, 2, 4, 5, 100]\n"
     ]
    }
   ],
   "source": [
    "list_of_lists = [[8, 2, 1], [9, 1, 2], [4, 5, 100]]\n",
    "\n",
    "flat_list = []\n",
    "for sublist in list_of_lists:\n",
    "    for item in sublist:\n",
    "        flat_list.append(item)\n",
    "\n",
    "print(flat_list)\n"
   ]
  },
  {
   "cell_type": "markdown",
   "id": "9cca8429-d7c7-4f2b-b45a-7b1c7f0b73ce",
   "metadata": {},
   "source": [
    "The code above iterates through each item in turn e.g. 8, 2, 1, 9 ... 100.  At the end of the snippet we have produces a flat list (1 dimension).  But we need not have created a list we could have called a function or performed some processing inline.  \n",
    "\n",
    "To create a flat list with list comprehension syntax we can use the following code:"
   ]
  },
  {
   "cell_type": "code",
   "execution_count": 29,
   "id": "6c2174fa-5459-4b82-a52d-8a7fb920619c",
   "metadata": {},
   "outputs": [
    {
     "name": "stdout",
     "output_type": "stream",
     "text": [
      "[8, 2, 1, 9, 1, 2, 4, 5, 100]\n"
     ]
    }
   ],
   "source": [
    "list_of_lists = [[8, 2, 1], [9, 1, 2], [4, 5, 100]]\n",
    "\n",
    "\n",
    "flat_list = [item for sublist in list_of_lists for item in sublist]\n",
    "print(flat_list)"
   ]
  },
  {
   "cell_type": "markdown",
   "id": "4d900a7c-65c5-4f0d-92c0-e47bf840db61",
   "metadata": {},
   "source": [
    "I've used the same variable names as the `for` loop code. I.e. `sublist` and `item`. I think that makes the comparison of the code easier.\n",
    "\n",
    "You can think of the nested comprehension in two parts. This is the same as the standard for `loop` i.e. outerloop then inner loop."
   ]
  },
  {
   "cell_type": "markdown",
   "id": "003b6ee8-12b7-416a-a04c-547beec8800a",
   "metadata": {},
   "source": [
    "## Dictionarys\n",
    "\n",
    "Most programming languages have a form of dictionary.  They consist of key and item pairs.  The key - typically, a `str` allows quick lookup of the item: for example, a `list` or `int`.  In python a dictionary is refered to as a `dict`.  The basic syntax to declare one statically is as follows:"
   ]
  },
  {
   "cell_type": "code",
   "execution_count": 2,
   "id": "5d06023c-5083-4da2-a54d-ae3f06e92358",
   "metadata": {},
   "outputs": [],
   "source": [
    "foo = {'bar':10, 'spam':'eggs', 10:'knights'}"
   ]
  },
  {
   "cell_type": "markdown",
   "id": "ae32fcc3-79c5-4ec8-893a-cb5b2b50b95e",
   "metadata": {},
   "source": [
    "A few things to notice: \n",
    "\n",
    "* A `dict` uses `{}` \n",
    "* Key and item pairs are separated by a semi colon\n",
    "* The data type of the keys and items do not need to be consistent.  It can be any type you require.\n",
    "\n",
    "> My recommendation is that you keep the data type for the **key** consistent. This simplification avoids silly mistakes.  Flexibility isn't always your friend! \n",
    "\n",
    "We access the items in the dict by using their keys\n"
   ]
  },
  {
   "cell_type": "code",
   "execution_count": 5,
   "id": "3ac43ea9-a05d-4fa4-9d4f-2b3213dd74ef",
   "metadata": {},
   "outputs": [
    {
     "name": "stdout",
     "output_type": "stream",
     "text": [
      "eggs\n"
     ]
    }
   ],
   "source": [
    "print(foo['spam'])"
   ]
  },
  {
   "cell_type": "code",
   "execution_count": 6,
   "id": "8a1b3d5c-6188-4d94-952d-03ce5737b10a",
   "metadata": {},
   "outputs": [
    {
     "name": "stdout",
     "output_type": "stream",
     "text": [
      "10\n"
     ]
    }
   ],
   "source": [
    "print(foo['bar'])"
   ]
  },
  {
   "cell_type": "code",
   "execution_count": 8,
   "id": "469e7050-2ded-4dbd-9572-3acf19637e38",
   "metadata": {},
   "outputs": [
    {
     "name": "stdout",
     "output_type": "stream",
     "text": [
      "knights\n"
     ]
    }
   ],
   "source": [
    "print(foo[10])"
   ]
  },
  {
   "cell_type": "markdown",
   "id": "39246155-f986-41a5-a13d-0fcbd0417182",
   "metadata": {},
   "source": [
    "### Creating an empty dict and adding key:items\n",
    "\n",
    "This is an easy operation. First we simply create a `dict` with no key item pairs and assign to a variable."
   ]
  },
  {
   "cell_type": "code",
   "execution_count": 18,
   "id": "f90dd74a-b198-4364-9908-ca68ad07e5c1",
   "metadata": {},
   "outputs": [
    {
     "name": "stdout",
     "output_type": "stream",
     "text": [
      "{'bar': 'spam', 'eggs': 10.0}\n",
      "<class 'dict'>\n"
     ]
    }
   ],
   "source": [
    "print(foo)\n",
    "print(type(foo))"
   ]
  },
  {
   "cell_type": "markdown",
   "id": "b82968a0-1094-4b66-9ac5-bb8ce3f0fccf",
   "metadata": {},
   "source": [
    "To add an item we use a simple syntax where we specify the key between `[]` and assign the item value"
   ]
  },
  {
   "cell_type": "code",
   "execution_count": 24,
   "id": "26e0c640-132c-416f-a599-9dcf7c1820dc",
   "metadata": {},
   "outputs": [
    {
     "name": "stdout",
     "output_type": "stream",
     "text": [
      "{'bar': 'spam', 'eggs': 10.0}\n"
     ]
    }
   ],
   "source": [
    "foo = {}\n",
    "foo['bar'] = 'spam'\n",
    "foo['eggs'] = 10.0\n",
    "print(foo)"
   ]
  },
  {
   "cell_type": "markdown",
   "id": "eaf6880a-d859-4efd-8718-0fed7a9f96b1",
   "metadata": {},
   "source": [
    "### Checking for the existance of a key"
   ]
  },
  {
   "cell_type": "markdown",
   "id": "47b3c59e-c582-4dc5-b5c6-10bf996248fc",
   "metadata": {},
   "source": [
    "Keys must be exist in a `dict` to be referenced  You will raise an exception if you try reference a key that is not present.  If you want to check if a key exists you can use the following syntax:\n"
   ]
  },
  {
   "cell_type": "code",
   "execution_count": 28,
   "id": "320b3bc9-32d3-48da-bc63-dc17b2740ed1",
   "metadata": {},
   "outputs": [
    {
     "name": "stdout",
     "output_type": "stream",
     "text": [
      "eggs\n"
     ]
    }
   ],
   "source": [
    "foo = {}\n",
    "foo['spam'] = 'eggs'\n",
    "\n",
    "if 'spam' in foo:\n",
    "    print(foo['spam'])\n",
    "else:\n",
    "    print('oh dear there is no spam')"
   ]
  },
  {
   "cell_type": "markdown",
   "id": "c9529c19-9a83-4baa-b5cf-26c59f990fd7",
   "metadata": {},
   "source": [
    "### Dictionary comprehensions\n",
    "\n",
    "If needed you can also create a `dict` using a dictionary comprehension e.g."
   ]
  },
  {
   "cell_type": "code",
   "execution_count": 2,
   "id": "b7b194e6-a8d4-41c8-9a63-6d0bdaa459d0",
   "metadata": {},
   "outputs": [
    {
     "name": "stdout",
     "output_type": "stream",
     "text": [
      "{'bar': 10, 'spam': 'eggs', 'nee': 'knights'}\n",
      "10\n"
     ]
    }
   ],
   "source": [
    "keys = ['bar', 'spam', 'nee']\n",
    "items = [10, 'eggs', 'knights']\n",
    "\n",
    "foo = {key:item for key, item in zip(keys, items)}\n",
    "print(foo)\n",
    "print(foo['bar'])"
   ]
  },
  {
   "cell_type": "markdown",
   "id": "a6c0fc88-b078-4157-a898-af497e682b6a",
   "metadata": {},
   "source": [
    "### Nested dictionaries\n",
    "\n",
    "Sometimes it can be useful to have a nested dictionary.  A good example of when this is useful is when creating a `pandas` `Dataframe`.  You can think of a nested dictionary as having a table like structure.  Here's a simple example:"
   ]
  },
  {
   "cell_type": "code",
   "execution_count": 4,
   "id": "5991376b-12ca-47d4-aadf-2e1d098c505c",
   "metadata": {},
   "outputs": [],
   "source": [
    "bands_dict = {'band': {0: 'pantera', 1: 'metallica', 2: 'megadeth', 3: 'anthrax'},\n",
    "              'n_albums': {0: 9, 1: 10, 2: 15, 3: 11},\n",
    "              'yr_formed': {0: 1981, 1: 1981, 2: 1983, 3: 1981},\n",
    "              'active': {0: False, 1: True, 2: True, 3: True}}"
   ]
  },
  {
   "cell_type": "markdown",
   "id": "7c5fac1c-9c06-41ce-98a9-95938c1cedfd",
   "metadata": {},
   "source": [
    "The variable `bands_dict` is just a simple `dict`.  However, each key can be though of as a column name in a table.  Each item contains the row data.  For example to find the data in row 0 of the bands column we use:"
   ]
  },
  {
   "cell_type": "code",
   "execution_count": 9,
   "id": "1cd61ef3-f1a6-4380-990a-04461427579b",
   "metadata": {},
   "outputs": [
    {
     "data": {
      "text/plain": [
       "'pantera'"
      ]
     },
     "execution_count": 9,
     "metadata": {},
     "output_type": "execute_result"
    }
   ],
   "source": [
    "bands_dict['band'][0]"
   ]
  },
  {
   "cell_type": "markdown",
   "id": "b5555f1c-ca5f-4b03-89cf-fffb15c772ae",
   "metadata": {},
   "source": [
    "Or if you want all data in a column you simple use the key:"
   ]
  },
  {
   "cell_type": "code",
   "execution_count": 7,
   "id": "ada882a7-52d8-4cee-aaa7-5cbd5f768c6a",
   "metadata": {},
   "outputs": [
    {
     "data": {
      "text/plain": [
       "{0: 1981, 1: 1981, 2: 1983, 3: 1981}"
      ]
     },
     "execution_count": 7,
     "metadata": {},
     "output_type": "execute_result"
    }
   ],
   "source": [
    "bands_dict['yr_formed']"
   ]
  },
  {
   "cell_type": "markdown",
   "id": "fa7d5e1c-1fde-48ca-9db7-dc5b583c3966",
   "metadata": {},
   "source": [
    "Again this data structure might be useful to create if you are collecting data during the run of a model of algorithm."
   ]
  }
 ],
 "metadata": {
  "kernelspec": {
   "display_name": "Python 3 (ipykernel)",
   "language": "python",
   "name": "python3"
  },
  "language_info": {
   "codemirror_mode": {
    "name": "ipython",
    "version": 3
   },
   "file_extension": ".py",
   "mimetype": "text/x-python",
   "name": "python",
   "nbconvert_exporter": "python",
   "pygments_lexer": "ipython3",
   "version": "3.8.12"
  }
 },
 "nbformat": 4,
 "nbformat_minor": 5
}
