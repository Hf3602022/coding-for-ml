{
 "cells": [
  {
   "cell_type": "markdown",
   "id": "fb54ccc4-e555-414a-95b1-2f65f30718eb",
   "metadata": {},
   "source": [
    "# Python Prerequisites\n",
    "\n",
    "This book isn't intended to teach basic python or use of python Integrated Development Environments such as pycharm, or visual studeo code.  There are many excellent books you can purchase (or borrow from a good library), and free courses on YouTube that you can make use of to get you started.  If you are an absolute beginner you can also investigate some [online preparatory material](https://health-data-science-or.github.io/basic-python/content/front_page.html) I provide for the MSC in Health Data Science at Exeter, but this it no intended to be exhaustive, and you would be daft to not investigate the plethora of material available for free online."
   ]
  }
 ],
 "metadata": {
  "kernelspec": {
   "display_name": "Python 3 (ipykernel)",
   "language": "python",
   "name": "python3"
  },
  "language_info": {
   "codemirror_mode": {
    "name": "ipython",
    "version": 3
   },
   "file_extension": ".py",
   "mimetype": "text/x-python",
   "name": "python",
   "nbconvert_exporter": "python",
   "pygments_lexer": "ipython3",
   "version": "3.8.12"
  }
 },
 "nbformat": 4,
 "nbformat_minor": 5
}
